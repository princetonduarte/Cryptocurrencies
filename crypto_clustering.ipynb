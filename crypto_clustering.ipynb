{
 "cells": [
  {
   "cell_type": "markdown",
   "metadata": {},
   "source": [
    "# Clustering Crypto"
   ]
  },
  {
   "cell_type": "code",
   "execution_count": 49,
   "metadata": {},
   "outputs": [],
   "source": [
    "# Initial imports\n",
    "import pandas as pd\n",
    "import numpy as np\n",
    "import hvplot.pandas\n",
    "from pathlib import Path\n",
    "import plotly.express as px\n",
    "from sklearn.preprocessing import StandardScaler, MinMaxScaler\n",
    "from sklearn.decomposition import PCA\n",
    "from sklearn.cluster import KMeans\n",
    "import matplotlib.pyplot as plt\n"
   ]
  },
  {
   "cell_type": "markdown",
   "metadata": {},
   "source": [
    "### Deliverable 1: Preprocessing the Data for PCA"
   ]
  },
  {
   "cell_type": "code",
   "execution_count": 50,
   "metadata": {},
   "outputs": [
    {
     "data": {
      "text/html": [
       "<div>\n",
       "<style scoped>\n",
       "    .dataframe tbody tr th:only-of-type {\n",
       "        vertical-align: middle;\n",
       "    }\n",
       "\n",
       "    .dataframe tbody tr th {\n",
       "        vertical-align: top;\n",
       "    }\n",
       "\n",
       "    .dataframe thead th {\n",
       "        text-align: right;\n",
       "    }\n",
       "</style>\n",
       "<table border=\"1\" class=\"dataframe\">\n",
       "  <thead>\n",
       "    <tr style=\"text-align: right;\">\n",
       "      <th></th>\n",
       "      <th>CoinName</th>\n",
       "      <th>Algorithm</th>\n",
       "      <th>IsTrading</th>\n",
       "      <th>ProofType</th>\n",
       "      <th>TotalCoinsMined</th>\n",
       "      <th>TotalCoinSupply</th>\n",
       "    </tr>\n",
       "  </thead>\n",
       "  <tbody>\n",
       "    <tr>\n",
       "      <th>42</th>\n",
       "      <td>42 Coin</td>\n",
       "      <td>Scrypt</td>\n",
       "      <td>True</td>\n",
       "      <td>PoW/PoS</td>\n",
       "      <td>4.199995e+01</td>\n",
       "      <td>42</td>\n",
       "    </tr>\n",
       "    <tr>\n",
       "      <th>365</th>\n",
       "      <td>365Coin</td>\n",
       "      <td>X11</td>\n",
       "      <td>True</td>\n",
       "      <td>PoW/PoS</td>\n",
       "      <td>NaN</td>\n",
       "      <td>2300000000</td>\n",
       "    </tr>\n",
       "    <tr>\n",
       "      <th>404</th>\n",
       "      <td>404Coin</td>\n",
       "      <td>Scrypt</td>\n",
       "      <td>True</td>\n",
       "      <td>PoW/PoS</td>\n",
       "      <td>1.055185e+09</td>\n",
       "      <td>532000000</td>\n",
       "    </tr>\n",
       "    <tr>\n",
       "      <th>611</th>\n",
       "      <td>SixEleven</td>\n",
       "      <td>SHA-256</td>\n",
       "      <td>True</td>\n",
       "      <td>PoW</td>\n",
       "      <td>NaN</td>\n",
       "      <td>611000</td>\n",
       "    </tr>\n",
       "    <tr>\n",
       "      <th>808</th>\n",
       "      <td>808</td>\n",
       "      <td>SHA-256</td>\n",
       "      <td>True</td>\n",
       "      <td>PoW/PoS</td>\n",
       "      <td>0.000000e+00</td>\n",
       "      <td>0</td>\n",
       "    </tr>\n",
       "    <tr>\n",
       "      <th>1337</th>\n",
       "      <td>EliteCoin</td>\n",
       "      <td>X13</td>\n",
       "      <td>True</td>\n",
       "      <td>PoW/PoS</td>\n",
       "      <td>2.927942e+10</td>\n",
       "      <td>314159265359</td>\n",
       "    </tr>\n",
       "    <tr>\n",
       "      <th>2015</th>\n",
       "      <td>2015 coin</td>\n",
       "      <td>X11</td>\n",
       "      <td>True</td>\n",
       "      <td>PoW/PoS</td>\n",
       "      <td>NaN</td>\n",
       "      <td>0</td>\n",
       "    </tr>\n",
       "    <tr>\n",
       "      <th>BTC</th>\n",
       "      <td>Bitcoin</td>\n",
       "      <td>SHA-256</td>\n",
       "      <td>True</td>\n",
       "      <td>PoW</td>\n",
       "      <td>1.792718e+07</td>\n",
       "      <td>21000000</td>\n",
       "    </tr>\n",
       "    <tr>\n",
       "      <th>ETH</th>\n",
       "      <td>Ethereum</td>\n",
       "      <td>Ethash</td>\n",
       "      <td>True</td>\n",
       "      <td>PoW</td>\n",
       "      <td>1.076842e+08</td>\n",
       "      <td>0</td>\n",
       "    </tr>\n",
       "    <tr>\n",
       "      <th>LTC</th>\n",
       "      <td>Litecoin</td>\n",
       "      <td>Scrypt</td>\n",
       "      <td>True</td>\n",
       "      <td>PoW</td>\n",
       "      <td>6.303924e+07</td>\n",
       "      <td>84000000</td>\n",
       "    </tr>\n",
       "  </tbody>\n",
       "</table>\n",
       "</div>"
      ],
      "text/plain": [
       "       CoinName Algorithm  IsTrading ProofType  TotalCoinsMined  \\\n",
       "42      42 Coin    Scrypt       True   PoW/PoS     4.199995e+01   \n",
       "365     365Coin       X11       True   PoW/PoS              NaN   \n",
       "404     404Coin    Scrypt       True   PoW/PoS     1.055185e+09   \n",
       "611   SixEleven   SHA-256       True       PoW              NaN   \n",
       "808         808   SHA-256       True   PoW/PoS     0.000000e+00   \n",
       "1337  EliteCoin       X13       True   PoW/PoS     2.927942e+10   \n",
       "2015  2015 coin       X11       True   PoW/PoS              NaN   \n",
       "BTC     Bitcoin   SHA-256       True       PoW     1.792718e+07   \n",
       "ETH    Ethereum    Ethash       True       PoW     1.076842e+08   \n",
       "LTC    Litecoin    Scrypt       True       PoW     6.303924e+07   \n",
       "\n",
       "     TotalCoinSupply  \n",
       "42                42  \n",
       "365       2300000000  \n",
       "404        532000000  \n",
       "611           611000  \n",
       "808                0  \n",
       "1337    314159265359  \n",
       "2015               0  \n",
       "BTC         21000000  \n",
       "ETH                0  \n",
       "LTC         84000000  "
      ]
     },
     "execution_count": 50,
     "metadata": {},
     "output_type": "execute_result"
    }
   ],
   "source": [
    "# Load the crypto_data.csv dataset.\n",
    "file = Path('crypto_data.csv')\n",
    "crypto_df = pd.read_csv(file).set_index('Unnamed: 0')\n",
    "crypto_df.index.name = None\n",
    "crypto_df.head(10)"
   ]
  },
  {
   "cell_type": "code",
   "execution_count": 51,
   "metadata": {},
   "outputs": [
    {
     "name": "stdout",
     "output_type": "stream",
     "text": [
      "(1144, 6)\n"
     ]
    },
    {
     "data": {
      "text/html": [
       "<div>\n",
       "<style scoped>\n",
       "    .dataframe tbody tr th:only-of-type {\n",
       "        vertical-align: middle;\n",
       "    }\n",
       "\n",
       "    .dataframe tbody tr th {\n",
       "        vertical-align: top;\n",
       "    }\n",
       "\n",
       "    .dataframe thead th {\n",
       "        text-align: right;\n",
       "    }\n",
       "</style>\n",
       "<table border=\"1\" class=\"dataframe\">\n",
       "  <thead>\n",
       "    <tr style=\"text-align: right;\">\n",
       "      <th></th>\n",
       "      <th>CoinName</th>\n",
       "      <th>Algorithm</th>\n",
       "      <th>IsTrading</th>\n",
       "      <th>ProofType</th>\n",
       "      <th>TotalCoinsMined</th>\n",
       "      <th>TotalCoinSupply</th>\n",
       "    </tr>\n",
       "  </thead>\n",
       "  <tbody>\n",
       "    <tr>\n",
       "      <th>42</th>\n",
       "      <td>42 Coin</td>\n",
       "      <td>Scrypt</td>\n",
       "      <td>True</td>\n",
       "      <td>PoW/PoS</td>\n",
       "      <td>4.199995e+01</td>\n",
       "      <td>42</td>\n",
       "    </tr>\n",
       "    <tr>\n",
       "      <th>365</th>\n",
       "      <td>365Coin</td>\n",
       "      <td>X11</td>\n",
       "      <td>True</td>\n",
       "      <td>PoW/PoS</td>\n",
       "      <td>NaN</td>\n",
       "      <td>2300000000</td>\n",
       "    </tr>\n",
       "    <tr>\n",
       "      <th>404</th>\n",
       "      <td>404Coin</td>\n",
       "      <td>Scrypt</td>\n",
       "      <td>True</td>\n",
       "      <td>PoW/PoS</td>\n",
       "      <td>1.055185e+09</td>\n",
       "      <td>532000000</td>\n",
       "    </tr>\n",
       "    <tr>\n",
       "      <th>611</th>\n",
       "      <td>SixEleven</td>\n",
       "      <td>SHA-256</td>\n",
       "      <td>True</td>\n",
       "      <td>PoW</td>\n",
       "      <td>NaN</td>\n",
       "      <td>611000</td>\n",
       "    </tr>\n",
       "    <tr>\n",
       "      <th>808</th>\n",
       "      <td>808</td>\n",
       "      <td>SHA-256</td>\n",
       "      <td>True</td>\n",
       "      <td>PoW/PoS</td>\n",
       "      <td>0.000000e+00</td>\n",
       "      <td>0</td>\n",
       "    </tr>\n",
       "    <tr>\n",
       "      <th>1337</th>\n",
       "      <td>EliteCoin</td>\n",
       "      <td>X13</td>\n",
       "      <td>True</td>\n",
       "      <td>PoW/PoS</td>\n",
       "      <td>2.927942e+10</td>\n",
       "      <td>314159265359</td>\n",
       "    </tr>\n",
       "    <tr>\n",
       "      <th>2015</th>\n",
       "      <td>2015 coin</td>\n",
       "      <td>X11</td>\n",
       "      <td>True</td>\n",
       "      <td>PoW/PoS</td>\n",
       "      <td>NaN</td>\n",
       "      <td>0</td>\n",
       "    </tr>\n",
       "    <tr>\n",
       "      <th>BTC</th>\n",
       "      <td>Bitcoin</td>\n",
       "      <td>SHA-256</td>\n",
       "      <td>True</td>\n",
       "      <td>PoW</td>\n",
       "      <td>1.792718e+07</td>\n",
       "      <td>21000000</td>\n",
       "    </tr>\n",
       "    <tr>\n",
       "      <th>ETH</th>\n",
       "      <td>Ethereum</td>\n",
       "      <td>Ethash</td>\n",
       "      <td>True</td>\n",
       "      <td>PoW</td>\n",
       "      <td>1.076842e+08</td>\n",
       "      <td>0</td>\n",
       "    </tr>\n",
       "    <tr>\n",
       "      <th>LTC</th>\n",
       "      <td>Litecoin</td>\n",
       "      <td>Scrypt</td>\n",
       "      <td>True</td>\n",
       "      <td>PoW</td>\n",
       "      <td>6.303924e+07</td>\n",
       "      <td>84000000</td>\n",
       "    </tr>\n",
       "  </tbody>\n",
       "</table>\n",
       "</div>"
      ],
      "text/plain": [
       "       CoinName Algorithm  IsTrading ProofType  TotalCoinsMined  \\\n",
       "42      42 Coin    Scrypt       True   PoW/PoS     4.199995e+01   \n",
       "365     365Coin       X11       True   PoW/PoS              NaN   \n",
       "404     404Coin    Scrypt       True   PoW/PoS     1.055185e+09   \n",
       "611   SixEleven   SHA-256       True       PoW              NaN   \n",
       "808         808   SHA-256       True   PoW/PoS     0.000000e+00   \n",
       "1337  EliteCoin       X13       True   PoW/PoS     2.927942e+10   \n",
       "2015  2015 coin       X11       True   PoW/PoS              NaN   \n",
       "BTC     Bitcoin   SHA-256       True       PoW     1.792718e+07   \n",
       "ETH    Ethereum    Ethash       True       PoW     1.076842e+08   \n",
       "LTC    Litecoin    Scrypt       True       PoW     6.303924e+07   \n",
       "\n",
       "     TotalCoinSupply  \n",
       "42                42  \n",
       "365       2300000000  \n",
       "404        532000000  \n",
       "611           611000  \n",
       "808                0  \n",
       "1337    314159265359  \n",
       "2015               0  \n",
       "BTC         21000000  \n",
       "ETH                0  \n",
       "LTC         84000000  "
      ]
     },
     "execution_count": 51,
     "metadata": {},
     "output_type": "execute_result"
    }
   ],
   "source": [
    "# Keep all the cryptocurrencies that are being traded.\n",
    "crypto_df = crypto_df[crypto_df['IsTrading']==True]\n",
    "print(crypto_df.shape)\n",
    "crypto_df.head(10)"
   ]
  },
  {
   "cell_type": "code",
   "execution_count": 52,
   "metadata": {},
   "outputs": [
    {
     "name": "stdout",
     "output_type": "stream",
     "text": [
      "(1144, 5)\n"
     ]
    },
    {
     "data": {
      "text/html": [
       "<div>\n",
       "<style scoped>\n",
       "    .dataframe tbody tr th:only-of-type {\n",
       "        vertical-align: middle;\n",
       "    }\n",
       "\n",
       "    .dataframe tbody tr th {\n",
       "        vertical-align: top;\n",
       "    }\n",
       "\n",
       "    .dataframe thead th {\n",
       "        text-align: right;\n",
       "    }\n",
       "</style>\n",
       "<table border=\"1\" class=\"dataframe\">\n",
       "  <thead>\n",
       "    <tr style=\"text-align: right;\">\n",
       "      <th></th>\n",
       "      <th>CoinName</th>\n",
       "      <th>Algorithm</th>\n",
       "      <th>ProofType</th>\n",
       "      <th>TotalCoinsMined</th>\n",
       "      <th>TotalCoinSupply</th>\n",
       "    </tr>\n",
       "  </thead>\n",
       "  <tbody>\n",
       "    <tr>\n",
       "      <th>42</th>\n",
       "      <td>42 Coin</td>\n",
       "      <td>Scrypt</td>\n",
       "      <td>PoW/PoS</td>\n",
       "      <td>4.199995e+01</td>\n",
       "      <td>42</td>\n",
       "    </tr>\n",
       "    <tr>\n",
       "      <th>365</th>\n",
       "      <td>365Coin</td>\n",
       "      <td>X11</td>\n",
       "      <td>PoW/PoS</td>\n",
       "      <td>NaN</td>\n",
       "      <td>2300000000</td>\n",
       "    </tr>\n",
       "    <tr>\n",
       "      <th>404</th>\n",
       "      <td>404Coin</td>\n",
       "      <td>Scrypt</td>\n",
       "      <td>PoW/PoS</td>\n",
       "      <td>1.055185e+09</td>\n",
       "      <td>532000000</td>\n",
       "    </tr>\n",
       "    <tr>\n",
       "      <th>611</th>\n",
       "      <td>SixEleven</td>\n",
       "      <td>SHA-256</td>\n",
       "      <td>PoW</td>\n",
       "      <td>NaN</td>\n",
       "      <td>611000</td>\n",
       "    </tr>\n",
       "    <tr>\n",
       "      <th>808</th>\n",
       "      <td>808</td>\n",
       "      <td>SHA-256</td>\n",
       "      <td>PoW/PoS</td>\n",
       "      <td>0.000000e+00</td>\n",
       "      <td>0</td>\n",
       "    </tr>\n",
       "    <tr>\n",
       "      <th>1337</th>\n",
       "      <td>EliteCoin</td>\n",
       "      <td>X13</td>\n",
       "      <td>PoW/PoS</td>\n",
       "      <td>2.927942e+10</td>\n",
       "      <td>314159265359</td>\n",
       "    </tr>\n",
       "    <tr>\n",
       "      <th>2015</th>\n",
       "      <td>2015 coin</td>\n",
       "      <td>X11</td>\n",
       "      <td>PoW/PoS</td>\n",
       "      <td>NaN</td>\n",
       "      <td>0</td>\n",
       "    </tr>\n",
       "    <tr>\n",
       "      <th>BTC</th>\n",
       "      <td>Bitcoin</td>\n",
       "      <td>SHA-256</td>\n",
       "      <td>PoW</td>\n",
       "      <td>1.792718e+07</td>\n",
       "      <td>21000000</td>\n",
       "    </tr>\n",
       "    <tr>\n",
       "      <th>ETH</th>\n",
       "      <td>Ethereum</td>\n",
       "      <td>Ethash</td>\n",
       "      <td>PoW</td>\n",
       "      <td>1.076842e+08</td>\n",
       "      <td>0</td>\n",
       "    </tr>\n",
       "    <tr>\n",
       "      <th>LTC</th>\n",
       "      <td>Litecoin</td>\n",
       "      <td>Scrypt</td>\n",
       "      <td>PoW</td>\n",
       "      <td>6.303924e+07</td>\n",
       "      <td>84000000</td>\n",
       "    </tr>\n",
       "  </tbody>\n",
       "</table>\n",
       "</div>"
      ],
      "text/plain": [
       "       CoinName Algorithm ProofType  TotalCoinsMined TotalCoinSupply\n",
       "42      42 Coin    Scrypt   PoW/PoS     4.199995e+01              42\n",
       "365     365Coin       X11   PoW/PoS              NaN      2300000000\n",
       "404     404Coin    Scrypt   PoW/PoS     1.055185e+09       532000000\n",
       "611   SixEleven   SHA-256       PoW              NaN          611000\n",
       "808         808   SHA-256   PoW/PoS     0.000000e+00               0\n",
       "1337  EliteCoin       X13   PoW/PoS     2.927942e+10    314159265359\n",
       "2015  2015 coin       X11   PoW/PoS              NaN               0\n",
       "BTC     Bitcoin   SHA-256       PoW     1.792718e+07        21000000\n",
       "ETH    Ethereum    Ethash       PoW     1.076842e+08               0\n",
       "LTC    Litecoin    Scrypt       PoW     6.303924e+07        84000000"
      ]
     },
     "execution_count": 52,
     "metadata": {},
     "output_type": "execute_result"
    }
   ],
   "source": [
    "# Remove the \"IsTrading\" column. \n",
    "crypto_df.drop(['IsTrading'],axis=1,inplace=True)\n",
    "print(crypto_df.shape)\n",
    "crypto_df.head(10)"
   ]
  },
  {
   "cell_type": "code",
   "execution_count": 53,
   "metadata": {},
   "outputs": [
    {
     "name": "stdout",
     "output_type": "stream",
     "text": [
      "(685, 5)\n"
     ]
    },
    {
     "data": {
      "text/html": [
       "<div>\n",
       "<style scoped>\n",
       "    .dataframe tbody tr th:only-of-type {\n",
       "        vertical-align: middle;\n",
       "    }\n",
       "\n",
       "    .dataframe tbody tr th {\n",
       "        vertical-align: top;\n",
       "    }\n",
       "\n",
       "    .dataframe thead th {\n",
       "        text-align: right;\n",
       "    }\n",
       "</style>\n",
       "<table border=\"1\" class=\"dataframe\">\n",
       "  <thead>\n",
       "    <tr style=\"text-align: right;\">\n",
       "      <th></th>\n",
       "      <th>CoinName</th>\n",
       "      <th>Algorithm</th>\n",
       "      <th>ProofType</th>\n",
       "      <th>TotalCoinsMined</th>\n",
       "      <th>TotalCoinSupply</th>\n",
       "    </tr>\n",
       "  </thead>\n",
       "  <tbody>\n",
       "    <tr>\n",
       "      <th>42</th>\n",
       "      <td>42 Coin</td>\n",
       "      <td>Scrypt</td>\n",
       "      <td>PoW/PoS</td>\n",
       "      <td>4.199995e+01</td>\n",
       "      <td>42</td>\n",
       "    </tr>\n",
       "    <tr>\n",
       "      <th>404</th>\n",
       "      <td>404Coin</td>\n",
       "      <td>Scrypt</td>\n",
       "      <td>PoW/PoS</td>\n",
       "      <td>1.055185e+09</td>\n",
       "      <td>532000000</td>\n",
       "    </tr>\n",
       "    <tr>\n",
       "      <th>808</th>\n",
       "      <td>808</td>\n",
       "      <td>SHA-256</td>\n",
       "      <td>PoW/PoS</td>\n",
       "      <td>0.000000e+00</td>\n",
       "      <td>0</td>\n",
       "    </tr>\n",
       "    <tr>\n",
       "      <th>1337</th>\n",
       "      <td>EliteCoin</td>\n",
       "      <td>X13</td>\n",
       "      <td>PoW/PoS</td>\n",
       "      <td>2.927942e+10</td>\n",
       "      <td>314159265359</td>\n",
       "    </tr>\n",
       "    <tr>\n",
       "      <th>BTC</th>\n",
       "      <td>Bitcoin</td>\n",
       "      <td>SHA-256</td>\n",
       "      <td>PoW</td>\n",
       "      <td>1.792718e+07</td>\n",
       "      <td>21000000</td>\n",
       "    </tr>\n",
       "    <tr>\n",
       "      <th>ETH</th>\n",
       "      <td>Ethereum</td>\n",
       "      <td>Ethash</td>\n",
       "      <td>PoW</td>\n",
       "      <td>1.076842e+08</td>\n",
       "      <td>0</td>\n",
       "    </tr>\n",
       "    <tr>\n",
       "      <th>LTC</th>\n",
       "      <td>Litecoin</td>\n",
       "      <td>Scrypt</td>\n",
       "      <td>PoW</td>\n",
       "      <td>6.303924e+07</td>\n",
       "      <td>84000000</td>\n",
       "    </tr>\n",
       "    <tr>\n",
       "      <th>DASH</th>\n",
       "      <td>Dash</td>\n",
       "      <td>X11</td>\n",
       "      <td>PoW/PoS</td>\n",
       "      <td>9.031294e+06</td>\n",
       "      <td>22000000</td>\n",
       "    </tr>\n",
       "    <tr>\n",
       "      <th>XMR</th>\n",
       "      <td>Monero</td>\n",
       "      <td>CryptoNight-V7</td>\n",
       "      <td>PoW</td>\n",
       "      <td>1.720114e+07</td>\n",
       "      <td>0</td>\n",
       "    </tr>\n",
       "    <tr>\n",
       "      <th>ETC</th>\n",
       "      <td>Ethereum Classic</td>\n",
       "      <td>Ethash</td>\n",
       "      <td>PoW</td>\n",
       "      <td>1.133597e+08</td>\n",
       "      <td>210000000</td>\n",
       "    </tr>\n",
       "  </tbody>\n",
       "</table>\n",
       "</div>"
      ],
      "text/plain": [
       "              CoinName       Algorithm ProofType  TotalCoinsMined  \\\n",
       "42             42 Coin          Scrypt   PoW/PoS     4.199995e+01   \n",
       "404            404Coin          Scrypt   PoW/PoS     1.055185e+09   \n",
       "808                808         SHA-256   PoW/PoS     0.000000e+00   \n",
       "1337         EliteCoin             X13   PoW/PoS     2.927942e+10   \n",
       "BTC            Bitcoin         SHA-256       PoW     1.792718e+07   \n",
       "ETH           Ethereum          Ethash       PoW     1.076842e+08   \n",
       "LTC           Litecoin          Scrypt       PoW     6.303924e+07   \n",
       "DASH              Dash             X11   PoW/PoS     9.031294e+06   \n",
       "XMR             Monero  CryptoNight-V7       PoW     1.720114e+07   \n",
       "ETC   Ethereum Classic          Ethash       PoW     1.133597e+08   \n",
       "\n",
       "     TotalCoinSupply  \n",
       "42                42  \n",
       "404        532000000  \n",
       "808                0  \n",
       "1337    314159265359  \n",
       "BTC         21000000  \n",
       "ETH                0  \n",
       "LTC         84000000  \n",
       "DASH        22000000  \n",
       "XMR                0  \n",
       "ETC        210000000  "
      ]
     },
     "execution_count": 53,
     "metadata": {},
     "output_type": "execute_result"
    }
   ],
   "source": [
    "# Remove rows that have at least 1 null value.\n",
    "crypto_df.dropna(inplace=True)\n",
    "print(crypto_df.shape)\n",
    "crypto_df.head(10)"
   ]
  },
  {
   "cell_type": "code",
   "execution_count": 54,
   "metadata": {},
   "outputs": [
    {
     "name": "stdout",
     "output_type": "stream",
     "text": [
      "(532, 5)\n"
     ]
    },
    {
     "data": {
      "text/html": [
       "<div>\n",
       "<style scoped>\n",
       "    .dataframe tbody tr th:only-of-type {\n",
       "        vertical-align: middle;\n",
       "    }\n",
       "\n",
       "    .dataframe tbody tr th {\n",
       "        vertical-align: top;\n",
       "    }\n",
       "\n",
       "    .dataframe thead th {\n",
       "        text-align: right;\n",
       "    }\n",
       "</style>\n",
       "<table border=\"1\" class=\"dataframe\">\n",
       "  <thead>\n",
       "    <tr style=\"text-align: right;\">\n",
       "      <th></th>\n",
       "      <th>CoinName</th>\n",
       "      <th>Algorithm</th>\n",
       "      <th>ProofType</th>\n",
       "      <th>TotalCoinsMined</th>\n",
       "      <th>TotalCoinSupply</th>\n",
       "    </tr>\n",
       "  </thead>\n",
       "  <tbody>\n",
       "    <tr>\n",
       "      <th>42</th>\n",
       "      <td>42 Coin</td>\n",
       "      <td>Scrypt</td>\n",
       "      <td>PoW/PoS</td>\n",
       "      <td>4.199995e+01</td>\n",
       "      <td>42</td>\n",
       "    </tr>\n",
       "    <tr>\n",
       "      <th>404</th>\n",
       "      <td>404Coin</td>\n",
       "      <td>Scrypt</td>\n",
       "      <td>PoW/PoS</td>\n",
       "      <td>1.055185e+09</td>\n",
       "      <td>532000000</td>\n",
       "    </tr>\n",
       "    <tr>\n",
       "      <th>1337</th>\n",
       "      <td>EliteCoin</td>\n",
       "      <td>X13</td>\n",
       "      <td>PoW/PoS</td>\n",
       "      <td>2.927942e+10</td>\n",
       "      <td>314159265359</td>\n",
       "    </tr>\n",
       "    <tr>\n",
       "      <th>BTC</th>\n",
       "      <td>Bitcoin</td>\n",
       "      <td>SHA-256</td>\n",
       "      <td>PoW</td>\n",
       "      <td>1.792718e+07</td>\n",
       "      <td>21000000</td>\n",
       "    </tr>\n",
       "    <tr>\n",
       "      <th>ETH</th>\n",
       "      <td>Ethereum</td>\n",
       "      <td>Ethash</td>\n",
       "      <td>PoW</td>\n",
       "      <td>1.076842e+08</td>\n",
       "      <td>0</td>\n",
       "    </tr>\n",
       "    <tr>\n",
       "      <th>LTC</th>\n",
       "      <td>Litecoin</td>\n",
       "      <td>Scrypt</td>\n",
       "      <td>PoW</td>\n",
       "      <td>6.303924e+07</td>\n",
       "      <td>84000000</td>\n",
       "    </tr>\n",
       "    <tr>\n",
       "      <th>DASH</th>\n",
       "      <td>Dash</td>\n",
       "      <td>X11</td>\n",
       "      <td>PoW/PoS</td>\n",
       "      <td>9.031294e+06</td>\n",
       "      <td>22000000</td>\n",
       "    </tr>\n",
       "    <tr>\n",
       "      <th>XMR</th>\n",
       "      <td>Monero</td>\n",
       "      <td>CryptoNight-V7</td>\n",
       "      <td>PoW</td>\n",
       "      <td>1.720114e+07</td>\n",
       "      <td>0</td>\n",
       "    </tr>\n",
       "    <tr>\n",
       "      <th>ETC</th>\n",
       "      <td>Ethereum Classic</td>\n",
       "      <td>Ethash</td>\n",
       "      <td>PoW</td>\n",
       "      <td>1.133597e+08</td>\n",
       "      <td>210000000</td>\n",
       "    </tr>\n",
       "    <tr>\n",
       "      <th>ZEC</th>\n",
       "      <td>ZCash</td>\n",
       "      <td>Equihash</td>\n",
       "      <td>PoW</td>\n",
       "      <td>7.383056e+06</td>\n",
       "      <td>21000000</td>\n",
       "    </tr>\n",
       "  </tbody>\n",
       "</table>\n",
       "</div>"
      ],
      "text/plain": [
       "              CoinName       Algorithm ProofType  TotalCoinsMined  \\\n",
       "42             42 Coin          Scrypt   PoW/PoS     4.199995e+01   \n",
       "404            404Coin          Scrypt   PoW/PoS     1.055185e+09   \n",
       "1337         EliteCoin             X13   PoW/PoS     2.927942e+10   \n",
       "BTC            Bitcoin         SHA-256       PoW     1.792718e+07   \n",
       "ETH           Ethereum          Ethash       PoW     1.076842e+08   \n",
       "LTC           Litecoin          Scrypt       PoW     6.303924e+07   \n",
       "DASH              Dash             X11   PoW/PoS     9.031294e+06   \n",
       "XMR             Monero  CryptoNight-V7       PoW     1.720114e+07   \n",
       "ETC   Ethereum Classic          Ethash       PoW     1.133597e+08   \n",
       "ZEC              ZCash        Equihash       PoW     7.383056e+06   \n",
       "\n",
       "     TotalCoinSupply  \n",
       "42                42  \n",
       "404        532000000  \n",
       "1337    314159265359  \n",
       "BTC         21000000  \n",
       "ETH                0  \n",
       "LTC         84000000  \n",
       "DASH        22000000  \n",
       "XMR                0  \n",
       "ETC        210000000  \n",
       "ZEC         21000000  "
      ]
     },
     "execution_count": 54,
     "metadata": {},
     "output_type": "execute_result"
    }
   ],
   "source": [
    "# Keep the rows where coins are mined.\n",
    "crypto_df = crypto_df[crypto_df[\"TotalCoinsMined\"]>0]\n",
    "print(crypto_df.shape)\n",
    "crypto_df.head(10)"
   ]
  },
  {
   "cell_type": "code",
   "execution_count": 55,
   "metadata": {},
   "outputs": [
    {
     "name": "stdout",
     "output_type": "stream",
     "text": [
      "(532, 1)\n"
     ]
    },
    {
     "data": {
      "text/html": [
       "<div>\n",
       "<style scoped>\n",
       "    .dataframe tbody tr th:only-of-type {\n",
       "        vertical-align: middle;\n",
       "    }\n",
       "\n",
       "    .dataframe tbody tr th {\n",
       "        vertical-align: top;\n",
       "    }\n",
       "\n",
       "    .dataframe thead th {\n",
       "        text-align: right;\n",
       "    }\n",
       "</style>\n",
       "<table border=\"1\" class=\"dataframe\">\n",
       "  <thead>\n",
       "    <tr style=\"text-align: right;\">\n",
       "      <th></th>\n",
       "      <th>CoinName</th>\n",
       "    </tr>\n",
       "  </thead>\n",
       "  <tbody>\n",
       "    <tr>\n",
       "      <th>42</th>\n",
       "      <td>42 Coin</td>\n",
       "    </tr>\n",
       "    <tr>\n",
       "      <th>404</th>\n",
       "      <td>404Coin</td>\n",
       "    </tr>\n",
       "    <tr>\n",
       "      <th>1337</th>\n",
       "      <td>EliteCoin</td>\n",
       "    </tr>\n",
       "    <tr>\n",
       "      <th>BTC</th>\n",
       "      <td>Bitcoin</td>\n",
       "    </tr>\n",
       "    <tr>\n",
       "      <th>ETH</th>\n",
       "      <td>Ethereum</td>\n",
       "    </tr>\n",
       "  </tbody>\n",
       "</table>\n",
       "</div>"
      ],
      "text/plain": [
       "       CoinName\n",
       "42      42 Coin\n",
       "404     404Coin\n",
       "1337  EliteCoin\n",
       "BTC     Bitcoin\n",
       "ETH    Ethereum"
      ]
     },
     "execution_count": 55,
     "metadata": {},
     "output_type": "execute_result"
    }
   ],
   "source": [
    "# Create a new DataFrame that holds only the cryptocurrencies names.\n",
    "crypto_names_df = crypto_df.drop(columns = [\"Algorithm\",\"ProofType\",\"TotalCoinsMined\",\"TotalCoinSupply\"])\n",
    "print(crypto_names_df.shape)\n",
    "crypto_names_df.head()"
   ]
  },
  {
   "cell_type": "code",
   "execution_count": 56,
   "metadata": {},
   "outputs": [
    {
     "name": "stdout",
     "output_type": "stream",
     "text": [
      "(532, 4)\n"
     ]
    },
    {
     "data": {
      "text/html": [
       "<div>\n",
       "<style scoped>\n",
       "    .dataframe tbody tr th:only-of-type {\n",
       "        vertical-align: middle;\n",
       "    }\n",
       "\n",
       "    .dataframe tbody tr th {\n",
       "        vertical-align: top;\n",
       "    }\n",
       "\n",
       "    .dataframe thead th {\n",
       "        text-align: right;\n",
       "    }\n",
       "</style>\n",
       "<table border=\"1\" class=\"dataframe\">\n",
       "  <thead>\n",
       "    <tr style=\"text-align: right;\">\n",
       "      <th></th>\n",
       "      <th>Algorithm</th>\n",
       "      <th>ProofType</th>\n",
       "      <th>TotalCoinsMined</th>\n",
       "      <th>TotalCoinSupply</th>\n",
       "    </tr>\n",
       "  </thead>\n",
       "  <tbody>\n",
       "    <tr>\n",
       "      <th>42</th>\n",
       "      <td>Scrypt</td>\n",
       "      <td>PoW/PoS</td>\n",
       "      <td>4.199995e+01</td>\n",
       "      <td>42</td>\n",
       "    </tr>\n",
       "    <tr>\n",
       "      <th>404</th>\n",
       "      <td>Scrypt</td>\n",
       "      <td>PoW/PoS</td>\n",
       "      <td>1.055185e+09</td>\n",
       "      <td>532000000</td>\n",
       "    </tr>\n",
       "    <tr>\n",
       "      <th>1337</th>\n",
       "      <td>X13</td>\n",
       "      <td>PoW/PoS</td>\n",
       "      <td>2.927942e+10</td>\n",
       "      <td>314159265359</td>\n",
       "    </tr>\n",
       "    <tr>\n",
       "      <th>BTC</th>\n",
       "      <td>SHA-256</td>\n",
       "      <td>PoW</td>\n",
       "      <td>1.792718e+07</td>\n",
       "      <td>21000000</td>\n",
       "    </tr>\n",
       "    <tr>\n",
       "      <th>ETH</th>\n",
       "      <td>Ethash</td>\n",
       "      <td>PoW</td>\n",
       "      <td>1.076842e+08</td>\n",
       "      <td>0</td>\n",
       "    </tr>\n",
       "    <tr>\n",
       "      <th>LTC</th>\n",
       "      <td>Scrypt</td>\n",
       "      <td>PoW</td>\n",
       "      <td>6.303924e+07</td>\n",
       "      <td>84000000</td>\n",
       "    </tr>\n",
       "    <tr>\n",
       "      <th>DASH</th>\n",
       "      <td>X11</td>\n",
       "      <td>PoW/PoS</td>\n",
       "      <td>9.031294e+06</td>\n",
       "      <td>22000000</td>\n",
       "    </tr>\n",
       "    <tr>\n",
       "      <th>XMR</th>\n",
       "      <td>CryptoNight-V7</td>\n",
       "      <td>PoW</td>\n",
       "      <td>1.720114e+07</td>\n",
       "      <td>0</td>\n",
       "    </tr>\n",
       "    <tr>\n",
       "      <th>ETC</th>\n",
       "      <td>Ethash</td>\n",
       "      <td>PoW</td>\n",
       "      <td>1.133597e+08</td>\n",
       "      <td>210000000</td>\n",
       "    </tr>\n",
       "    <tr>\n",
       "      <th>ZEC</th>\n",
       "      <td>Equihash</td>\n",
       "      <td>PoW</td>\n",
       "      <td>7.383056e+06</td>\n",
       "      <td>21000000</td>\n",
       "    </tr>\n",
       "  </tbody>\n",
       "</table>\n",
       "</div>"
      ],
      "text/plain": [
       "           Algorithm ProofType  TotalCoinsMined TotalCoinSupply\n",
       "42            Scrypt   PoW/PoS     4.199995e+01              42\n",
       "404           Scrypt   PoW/PoS     1.055185e+09       532000000\n",
       "1337             X13   PoW/PoS     2.927942e+10    314159265359\n",
       "BTC          SHA-256       PoW     1.792718e+07        21000000\n",
       "ETH           Ethash       PoW     1.076842e+08               0\n",
       "LTC           Scrypt       PoW     6.303924e+07        84000000\n",
       "DASH             X11   PoW/PoS     9.031294e+06        22000000\n",
       "XMR   CryptoNight-V7       PoW     1.720114e+07               0\n",
       "ETC           Ethash       PoW     1.133597e+08       210000000\n",
       "ZEC         Equihash       PoW     7.383056e+06        21000000"
      ]
     },
     "execution_count": 56,
     "metadata": {},
     "output_type": "execute_result"
    }
   ],
   "source": [
    "# Drop the 'CoinName' column since it's not going to be used on the clustering algorithm.\n",
    "crypto_df.drop(columns = [\"CoinName\"],inplace=True)\n",
    "print(crypto_df.shape)\n",
    "crypto_df.head(10)"
   ]
  },
  {
   "cell_type": "code",
   "execution_count": 57,
   "metadata": {
    "scrolled": true
   },
   "outputs": [
    {
     "name": "stdout",
     "output_type": "stream",
     "text": [
      "(532, 98)\n"
     ]
    },
    {
     "data": {
      "text/html": [
       "<div>\n",
       "<style scoped>\n",
       "    .dataframe tbody tr th:only-of-type {\n",
       "        vertical-align: middle;\n",
       "    }\n",
       "\n",
       "    .dataframe tbody tr th {\n",
       "        vertical-align: top;\n",
       "    }\n",
       "\n",
       "    .dataframe thead th {\n",
       "        text-align: right;\n",
       "    }\n",
       "</style>\n",
       "<table border=\"1\" class=\"dataframe\">\n",
       "  <thead>\n",
       "    <tr style=\"text-align: right;\">\n",
       "      <th></th>\n",
       "      <th>TotalCoinsMined</th>\n",
       "      <th>TotalCoinSupply</th>\n",
       "      <th>Algorithm_1GB AES Pattern Search</th>\n",
       "      <th>Algorithm_536</th>\n",
       "      <th>Algorithm_Argon2d</th>\n",
       "      <th>Algorithm_BLAKE256</th>\n",
       "      <th>Algorithm_Blake</th>\n",
       "      <th>Algorithm_Blake2S</th>\n",
       "      <th>Algorithm_Blake2b</th>\n",
       "      <th>Algorithm_C11</th>\n",
       "      <th>...</th>\n",
       "      <th>ProofType_PoW/PoS</th>\n",
       "      <th>ProofType_PoW/PoS</th>\n",
       "      <th>ProofType_PoW/PoW</th>\n",
       "      <th>ProofType_PoW/nPoS</th>\n",
       "      <th>ProofType_Pos</th>\n",
       "      <th>ProofType_Proof of Authority</th>\n",
       "      <th>ProofType_Proof of Trust</th>\n",
       "      <th>ProofType_TPoS</th>\n",
       "      <th>ProofType_Zero-Knowledge Proof</th>\n",
       "      <th>ProofType_dPoW/PoW</th>\n",
       "    </tr>\n",
       "  </thead>\n",
       "  <tbody>\n",
       "    <tr>\n",
       "      <th>42</th>\n",
       "      <td>4.199995e+01</td>\n",
       "      <td>42</td>\n",
       "      <td>0</td>\n",
       "      <td>0</td>\n",
       "      <td>0</td>\n",
       "      <td>0</td>\n",
       "      <td>0</td>\n",
       "      <td>0</td>\n",
       "      <td>0</td>\n",
       "      <td>0</td>\n",
       "      <td>...</td>\n",
       "      <td>1</td>\n",
       "      <td>0</td>\n",
       "      <td>0</td>\n",
       "      <td>0</td>\n",
       "      <td>0</td>\n",
       "      <td>0</td>\n",
       "      <td>0</td>\n",
       "      <td>0</td>\n",
       "      <td>0</td>\n",
       "      <td>0</td>\n",
       "    </tr>\n",
       "    <tr>\n",
       "      <th>404</th>\n",
       "      <td>1.055185e+09</td>\n",
       "      <td>532000000</td>\n",
       "      <td>0</td>\n",
       "      <td>0</td>\n",
       "      <td>0</td>\n",
       "      <td>0</td>\n",
       "      <td>0</td>\n",
       "      <td>0</td>\n",
       "      <td>0</td>\n",
       "      <td>0</td>\n",
       "      <td>...</td>\n",
       "      <td>1</td>\n",
       "      <td>0</td>\n",
       "      <td>0</td>\n",
       "      <td>0</td>\n",
       "      <td>0</td>\n",
       "      <td>0</td>\n",
       "      <td>0</td>\n",
       "      <td>0</td>\n",
       "      <td>0</td>\n",
       "      <td>0</td>\n",
       "    </tr>\n",
       "    <tr>\n",
       "      <th>1337</th>\n",
       "      <td>2.927942e+10</td>\n",
       "      <td>314159265359</td>\n",
       "      <td>0</td>\n",
       "      <td>0</td>\n",
       "      <td>0</td>\n",
       "      <td>0</td>\n",
       "      <td>0</td>\n",
       "      <td>0</td>\n",
       "      <td>0</td>\n",
       "      <td>0</td>\n",
       "      <td>...</td>\n",
       "      <td>1</td>\n",
       "      <td>0</td>\n",
       "      <td>0</td>\n",
       "      <td>0</td>\n",
       "      <td>0</td>\n",
       "      <td>0</td>\n",
       "      <td>0</td>\n",
       "      <td>0</td>\n",
       "      <td>0</td>\n",
       "      <td>0</td>\n",
       "    </tr>\n",
       "    <tr>\n",
       "      <th>BTC</th>\n",
       "      <td>1.792718e+07</td>\n",
       "      <td>21000000</td>\n",
       "      <td>0</td>\n",
       "      <td>0</td>\n",
       "      <td>0</td>\n",
       "      <td>0</td>\n",
       "      <td>0</td>\n",
       "      <td>0</td>\n",
       "      <td>0</td>\n",
       "      <td>0</td>\n",
       "      <td>...</td>\n",
       "      <td>0</td>\n",
       "      <td>0</td>\n",
       "      <td>0</td>\n",
       "      <td>0</td>\n",
       "      <td>0</td>\n",
       "      <td>0</td>\n",
       "      <td>0</td>\n",
       "      <td>0</td>\n",
       "      <td>0</td>\n",
       "      <td>0</td>\n",
       "    </tr>\n",
       "    <tr>\n",
       "      <th>ETH</th>\n",
       "      <td>1.076842e+08</td>\n",
       "      <td>0</td>\n",
       "      <td>0</td>\n",
       "      <td>0</td>\n",
       "      <td>0</td>\n",
       "      <td>0</td>\n",
       "      <td>0</td>\n",
       "      <td>0</td>\n",
       "      <td>0</td>\n",
       "      <td>0</td>\n",
       "      <td>...</td>\n",
       "      <td>0</td>\n",
       "      <td>0</td>\n",
       "      <td>0</td>\n",
       "      <td>0</td>\n",
       "      <td>0</td>\n",
       "      <td>0</td>\n",
       "      <td>0</td>\n",
       "      <td>0</td>\n",
       "      <td>0</td>\n",
       "      <td>0</td>\n",
       "    </tr>\n",
       "    <tr>\n",
       "      <th>LTC</th>\n",
       "      <td>6.303924e+07</td>\n",
       "      <td>84000000</td>\n",
       "      <td>0</td>\n",
       "      <td>0</td>\n",
       "      <td>0</td>\n",
       "      <td>0</td>\n",
       "      <td>0</td>\n",
       "      <td>0</td>\n",
       "      <td>0</td>\n",
       "      <td>0</td>\n",
       "      <td>...</td>\n",
       "      <td>0</td>\n",
       "      <td>0</td>\n",
       "      <td>0</td>\n",
       "      <td>0</td>\n",
       "      <td>0</td>\n",
       "      <td>0</td>\n",
       "      <td>0</td>\n",
       "      <td>0</td>\n",
       "      <td>0</td>\n",
       "      <td>0</td>\n",
       "    </tr>\n",
       "    <tr>\n",
       "      <th>DASH</th>\n",
       "      <td>9.031294e+06</td>\n",
       "      <td>22000000</td>\n",
       "      <td>0</td>\n",
       "      <td>0</td>\n",
       "      <td>0</td>\n",
       "      <td>0</td>\n",
       "      <td>0</td>\n",
       "      <td>0</td>\n",
       "      <td>0</td>\n",
       "      <td>0</td>\n",
       "      <td>...</td>\n",
       "      <td>1</td>\n",
       "      <td>0</td>\n",
       "      <td>0</td>\n",
       "      <td>0</td>\n",
       "      <td>0</td>\n",
       "      <td>0</td>\n",
       "      <td>0</td>\n",
       "      <td>0</td>\n",
       "      <td>0</td>\n",
       "      <td>0</td>\n",
       "    </tr>\n",
       "    <tr>\n",
       "      <th>XMR</th>\n",
       "      <td>1.720114e+07</td>\n",
       "      <td>0</td>\n",
       "      <td>0</td>\n",
       "      <td>0</td>\n",
       "      <td>0</td>\n",
       "      <td>0</td>\n",
       "      <td>0</td>\n",
       "      <td>0</td>\n",
       "      <td>0</td>\n",
       "      <td>0</td>\n",
       "      <td>...</td>\n",
       "      <td>0</td>\n",
       "      <td>0</td>\n",
       "      <td>0</td>\n",
       "      <td>0</td>\n",
       "      <td>0</td>\n",
       "      <td>0</td>\n",
       "      <td>0</td>\n",
       "      <td>0</td>\n",
       "      <td>0</td>\n",
       "      <td>0</td>\n",
       "    </tr>\n",
       "    <tr>\n",
       "      <th>ETC</th>\n",
       "      <td>1.133597e+08</td>\n",
       "      <td>210000000</td>\n",
       "      <td>0</td>\n",
       "      <td>0</td>\n",
       "      <td>0</td>\n",
       "      <td>0</td>\n",
       "      <td>0</td>\n",
       "      <td>0</td>\n",
       "      <td>0</td>\n",
       "      <td>0</td>\n",
       "      <td>...</td>\n",
       "      <td>0</td>\n",
       "      <td>0</td>\n",
       "      <td>0</td>\n",
       "      <td>0</td>\n",
       "      <td>0</td>\n",
       "      <td>0</td>\n",
       "      <td>0</td>\n",
       "      <td>0</td>\n",
       "      <td>0</td>\n",
       "      <td>0</td>\n",
       "    </tr>\n",
       "    <tr>\n",
       "      <th>ZEC</th>\n",
       "      <td>7.383056e+06</td>\n",
       "      <td>21000000</td>\n",
       "      <td>0</td>\n",
       "      <td>0</td>\n",
       "      <td>0</td>\n",
       "      <td>0</td>\n",
       "      <td>0</td>\n",
       "      <td>0</td>\n",
       "      <td>0</td>\n",
       "      <td>0</td>\n",
       "      <td>...</td>\n",
       "      <td>0</td>\n",
       "      <td>0</td>\n",
       "      <td>0</td>\n",
       "      <td>0</td>\n",
       "      <td>0</td>\n",
       "      <td>0</td>\n",
       "      <td>0</td>\n",
       "      <td>0</td>\n",
       "      <td>0</td>\n",
       "      <td>0</td>\n",
       "    </tr>\n",
       "  </tbody>\n",
       "</table>\n",
       "<p>10 rows × 98 columns</p>\n",
       "</div>"
      ],
      "text/plain": [
       "      TotalCoinsMined TotalCoinSupply  Algorithm_1GB AES Pattern Search  \\\n",
       "42       4.199995e+01              42                                 0   \n",
       "404      1.055185e+09       532000000                                 0   \n",
       "1337     2.927942e+10    314159265359                                 0   \n",
       "BTC      1.792718e+07        21000000                                 0   \n",
       "ETH      1.076842e+08               0                                 0   \n",
       "LTC      6.303924e+07        84000000                                 0   \n",
       "DASH     9.031294e+06        22000000                                 0   \n",
       "XMR      1.720114e+07               0                                 0   \n",
       "ETC      1.133597e+08       210000000                                 0   \n",
       "ZEC      7.383056e+06        21000000                                 0   \n",
       "\n",
       "      Algorithm_536  Algorithm_Argon2d  Algorithm_BLAKE256  Algorithm_Blake  \\\n",
       "42                0                  0                   0                0   \n",
       "404               0                  0                   0                0   \n",
       "1337              0                  0                   0                0   \n",
       "BTC               0                  0                   0                0   \n",
       "ETH               0                  0                   0                0   \n",
       "LTC               0                  0                   0                0   \n",
       "DASH              0                  0                   0                0   \n",
       "XMR               0                  0                   0                0   \n",
       "ETC               0                  0                   0                0   \n",
       "ZEC               0                  0                   0                0   \n",
       "\n",
       "      Algorithm_Blake2S  Algorithm_Blake2b  Algorithm_C11  ...  \\\n",
       "42                    0                  0              0  ...   \n",
       "404                   0                  0              0  ...   \n",
       "1337                  0                  0              0  ...   \n",
       "BTC                   0                  0              0  ...   \n",
       "ETH                   0                  0              0  ...   \n",
       "LTC                   0                  0              0  ...   \n",
       "DASH                  0                  0              0  ...   \n",
       "XMR                   0                  0              0  ...   \n",
       "ETC                   0                  0              0  ...   \n",
       "ZEC                   0                  0              0  ...   \n",
       "\n",
       "      ProofType_PoW/PoS  ProofType_PoW/PoS   ProofType_PoW/PoW  \\\n",
       "42                    1                   0                  0   \n",
       "404                   1                   0                  0   \n",
       "1337                  1                   0                  0   \n",
       "BTC                   0                   0                  0   \n",
       "ETH                   0                   0                  0   \n",
       "LTC                   0                   0                  0   \n",
       "DASH                  1                   0                  0   \n",
       "XMR                   0                   0                  0   \n",
       "ETC                   0                   0                  0   \n",
       "ZEC                   0                   0                  0   \n",
       "\n",
       "      ProofType_PoW/nPoS  ProofType_Pos  ProofType_Proof of Authority  \\\n",
       "42                     0              0                             0   \n",
       "404                    0              0                             0   \n",
       "1337                   0              0                             0   \n",
       "BTC                    0              0                             0   \n",
       "ETH                    0              0                             0   \n",
       "LTC                    0              0                             0   \n",
       "DASH                   0              0                             0   \n",
       "XMR                    0              0                             0   \n",
       "ETC                    0              0                             0   \n",
       "ZEC                    0              0                             0   \n",
       "\n",
       "      ProofType_Proof of Trust  ProofType_TPoS  \\\n",
       "42                           0               0   \n",
       "404                          0               0   \n",
       "1337                         0               0   \n",
       "BTC                          0               0   \n",
       "ETH                          0               0   \n",
       "LTC                          0               0   \n",
       "DASH                         0               0   \n",
       "XMR                          0               0   \n",
       "ETC                          0               0   \n",
       "ZEC                          0               0   \n",
       "\n",
       "      ProofType_Zero-Knowledge Proof  ProofType_dPoW/PoW  \n",
       "42                                 0                   0  \n",
       "404                                0                   0  \n",
       "1337                               0                   0  \n",
       "BTC                                0                   0  \n",
       "ETH                                0                   0  \n",
       "LTC                                0                   0  \n",
       "DASH                               0                   0  \n",
       "XMR                                0                   0  \n",
       "ETC                                0                   0  \n",
       "ZEC                                0                   0  \n",
       "\n",
       "[10 rows x 98 columns]"
      ]
     },
     "execution_count": 57,
     "metadata": {},
     "output_type": "execute_result"
    }
   ],
   "source": [
    "# Use get_dummies() to create variables for text features.\n",
    "X = pd.get_dummies(crypto_df, columns=[\"Algorithm\",\"ProofType\"], dtype=np.int64)\n",
    "print(X.shape)\n",
    "X.head(10)"
   ]
  },
  {
   "cell_type": "code",
   "execution_count": 58,
   "metadata": {},
   "outputs": [
    {
     "data": {
      "text/plain": [
       "array([[-0.11710817, -0.1528703 , -0.0433963 , ..., -0.0433963 ,\n",
       "        -0.0433963 , -0.0433963 ],\n",
       "       [-0.09396955, -0.145009  , -0.0433963 , ..., -0.0433963 ,\n",
       "        -0.0433963 , -0.0433963 ],\n",
       "       [ 0.52494561,  4.48942416, -0.0433963 , ..., -0.0433963 ,\n",
       "        -0.0433963 , -0.0433963 ],\n",
       "       ...,\n",
       "       [-0.09561336, -0.13217937, -0.0433963 , ..., -0.0433963 ,\n",
       "        -0.0433963 , -0.0433963 ],\n",
       "       [-0.11694817, -0.15255998, -0.0433963 , ..., -0.0433963 ,\n",
       "        -0.0433963 , -0.0433963 ],\n",
       "       [-0.11710536, -0.15285552, -0.0433963 , ..., -0.0433963 ,\n",
       "        -0.0433963 , -0.0433963 ]])"
      ]
     },
     "execution_count": 58,
     "metadata": {},
     "output_type": "execute_result"
    }
   ],
   "source": [
    "# Standardize the data with StandardScaler().\n",
    "X_scaled = StandardScaler().fit_transform(X)\n",
    "X_scaled"
   ]
  },
  {
   "cell_type": "markdown",
   "metadata": {},
   "source": [
    "### Deliverable 2: Reducing Data Dimensions Using PCA"
   ]
  },
  {
   "cell_type": "code",
   "execution_count": 59,
   "metadata": {},
   "outputs": [
    {
     "data": {
      "text/plain": [
       "array([[-0.33553943,  1.03165825, -0.5819448 ],\n",
       "       [-0.3188682 ,  1.03176188, -0.58241706],\n",
       "       [ 2.31324731,  1.65466823, -0.67229204],\n",
       "       ...,\n",
       "       [ 0.32452376, -2.32702752,  0.40611022],\n",
       "       [-0.13270865, -2.08757929,  0.44501965],\n",
       "       [-0.29110536,  0.83367724, -0.20825247]])"
      ]
     },
     "execution_count": 59,
     "metadata": {},
     "output_type": "execute_result"
    }
   ],
   "source": [
    "# Using PCA to reduce dimension to three principal components.\n",
    "pca = PCA(n_components=3)\n",
    "X_pca = pca.fit_transform(X_scaled)\n",
    "X_pca"
   ]
  },
  {
   "cell_type": "code",
   "execution_count": 60,
   "metadata": {},
   "outputs": [
    {
     "name": "stdout",
     "output_type": "stream",
     "text": [
      "(532, 3)\n"
     ]
    },
    {
     "data": {
      "text/html": [
       "<div>\n",
       "<style scoped>\n",
       "    .dataframe tbody tr th:only-of-type {\n",
       "        vertical-align: middle;\n",
       "    }\n",
       "\n",
       "    .dataframe tbody tr th {\n",
       "        vertical-align: top;\n",
       "    }\n",
       "\n",
       "    .dataframe thead th {\n",
       "        text-align: right;\n",
       "    }\n",
       "</style>\n",
       "<table border=\"1\" class=\"dataframe\">\n",
       "  <thead>\n",
       "    <tr style=\"text-align: right;\">\n",
       "      <th></th>\n",
       "      <th>PC 1</th>\n",
       "      <th>PC 2</th>\n",
       "      <th>PC 3</th>\n",
       "    </tr>\n",
       "  </thead>\n",
       "  <tbody>\n",
       "    <tr>\n",
       "      <th>42</th>\n",
       "      <td>-0.335539</td>\n",
       "      <td>1.031658</td>\n",
       "      <td>-0.581945</td>\n",
       "    </tr>\n",
       "    <tr>\n",
       "      <th>404</th>\n",
       "      <td>-0.318868</td>\n",
       "      <td>1.031762</td>\n",
       "      <td>-0.582417</td>\n",
       "    </tr>\n",
       "    <tr>\n",
       "      <th>1337</th>\n",
       "      <td>2.313247</td>\n",
       "      <td>1.654668</td>\n",
       "      <td>-0.672292</td>\n",
       "    </tr>\n",
       "    <tr>\n",
       "      <th>BTC</th>\n",
       "      <td>-0.144542</td>\n",
       "      <td>-1.293910</td>\n",
       "      <td>0.180505</td>\n",
       "    </tr>\n",
       "    <tr>\n",
       "      <th>ETH</th>\n",
       "      <td>-0.151939</td>\n",
       "      <td>-2.028956</td>\n",
       "      <td>0.395943</td>\n",
       "    </tr>\n",
       "    <tr>\n",
       "      <th>LTC</th>\n",
       "      <td>-0.167340</td>\n",
       "      <td>-1.121618</td>\n",
       "      <td>-0.006738</td>\n",
       "    </tr>\n",
       "    <tr>\n",
       "      <th>DASH</th>\n",
       "      <td>-0.396839</td>\n",
       "      <td>1.222196</td>\n",
       "      <td>-0.510141</td>\n",
       "    </tr>\n",
       "    <tr>\n",
       "      <th>XMR</th>\n",
       "      <td>-0.153602</td>\n",
       "      <td>-2.223460</td>\n",
       "      <td>0.346151</td>\n",
       "    </tr>\n",
       "    <tr>\n",
       "      <th>ETC</th>\n",
       "      <td>-0.150380</td>\n",
       "      <td>-2.029065</td>\n",
       "      <td>0.395919</td>\n",
       "    </tr>\n",
       "    <tr>\n",
       "      <th>ZEC</th>\n",
       "      <td>-0.132708</td>\n",
       "      <td>-2.087579</td>\n",
       "      <td>0.445020</td>\n",
       "    </tr>\n",
       "  </tbody>\n",
       "</table>\n",
       "</div>"
      ],
      "text/plain": [
       "          PC 1      PC 2      PC 3\n",
       "42   -0.335539  1.031658 -0.581945\n",
       "404  -0.318868  1.031762 -0.582417\n",
       "1337  2.313247  1.654668 -0.672292\n",
       "BTC  -0.144542 -1.293910  0.180505\n",
       "ETH  -0.151939 -2.028956  0.395943\n",
       "LTC  -0.167340 -1.121618 -0.006738\n",
       "DASH -0.396839  1.222196 -0.510141\n",
       "XMR  -0.153602 -2.223460  0.346151\n",
       "ETC  -0.150380 -2.029065  0.395919\n",
       "ZEC  -0.132708 -2.087579  0.445020"
      ]
     },
     "execution_count": 60,
     "metadata": {},
     "output_type": "execute_result"
    }
   ],
   "source": [
    "# Create a DataFrame with the three principal components.\n",
    "pc3_df = pd.DataFrame(\n",
    "    data=X_pca, columns=[\"PC 1\", \"PC 2\", \"PC 3\"],index=crypto_df.index\n",
    ")\n",
    "print(pc3_df.shape)\n",
    "pc3_df.head(10)"
   ]
  },
  {
   "cell_type": "markdown",
   "metadata": {},
   "source": [
    "### Deliverable 3: Clustering Crytocurrencies Using K-Means\n",
    "\n",
    "#### Finding the Best Value for `k` Using the Elbow Curve"
   ]
  },
  {
   "cell_type": "code",
   "execution_count": 61,
   "metadata": {},
   "outputs": [
    {
     "data": {
      "image/png": "[encoded data removed]",
      "text/plain": [
       "<Figure size 640x480 with 1 Axes>"
      ]
     },
     "metadata": {},
     "output_type": "display_data"
    },
    {
     "data": {},
     "metadata": {},
     "output_type": "display_data"
    },
    {
     "data": {
      "application/vnd.holoviews_exec.v0+json": "",
      "text/html": [
       "<div id='1968'>\n",
       "  <div class=\"bk-root\" id=\"53d66b62-0be3-47ba-8ca2-6858c3c98080\" data-root-id=\"1968\"></div>\n",
       "</div>\n",
       "<script type=\"application/javascript\">(function(root) {\n",
       "  function embed_document(root) {\n",
       "    var docs_json = {\"bbda2ad9-9fd6-4f30-9a77-aaa73c3f8bc6\":{\"defs\":[{\"extends\":null,\"module\":null,\"name\":\"ReactiveHTML1\",\"overrides\":[],\"properties\":[]},{\"extends\":null,\"module\":null,\"name\":\"FlexBox1\",\"overrides\":[],\"properties\":[{\"default\":\"flex-start\",\"kind\":null,\"name\":\"align_content\"},{\"default\":\"flex-start\",\"kind\":null,\"name\":\"align_items\"},{\"default\":\"row\",\"kind\":null,\"name\":\"flex_direction\"},{\"default\":\"wrap\",\"kind\":null,\"name\":\"flex_wrap\"},{\"default\":\"flex-start\",\"kind\":null,\"name\":\"justify_content\"}]},{\"extends\":null,\"module\":null,\"name\":\"GridStack1\",\"overrides\":[],\"properties\":[{\"default\":\"warn\",\"kind\":null,\"name\":\"mode\"},{\"default\":null,\"kind\":null,\"name\":\"ncols\"},{\"default\":null,\"kind\":null,\"name\":\"nrows\"},{\"default\":true,\"kind\":null,\"name\":\"allow_resize\"},{\"default\":true,\"kind\":null,\"name\":\"allow_drag\"},{\"default\":[],\"kind\":null,\"name\":\"state\"}]},{\"extends\":null,\"module\":null,\"name\":\"click1\",\"overrides\":[],\"properties\":[{\"default\":\"\",\"kind\":null,\"name\":\"terminal_output\"},{\"default\":\"\",\"kind\":null,\"name\":\"debug_name\"},{\"default\":0,\"kind\":null,\"name\":\"clears\"}]},{\"extends\":null,\"module\":null,\"name\":\"NotificationAreaBase1\",\"overrides\":[],\"properties\":[{\"default\":\"bottom-right\",\"kind\":null,\"name\":\"position\"},{\"default\":0,\"kind\":null,\"name\":\"_clear\"}]},{\"extends\":null,\"module\":null,\"name\":\"NotificationArea1\",\"overrides\":[],\"properties\":[{\"default\":[],\"kind\":null,\"name\":\"notifications\"},{\"default\":\"bottom-right\",\"kind\":null,\"name\":\"position\"},{\"default\":0,\"kind\":null,\"name\":\"_clear\"},{\"default\":[{\"background\":\"#ffc107\",\"icon\":{\"className\":\"fas fa-exclamation-triangle\",\"color\":\"white\",\"tagName\":\"i\"},\"type\":\"warning\"},{\"background\":\"#007bff\",\"icon\":{\"className\":\"fas fa-info-circle\",\"color\":\"white\",\"tagName\":\"i\"},\"type\":\"info\"}],\"kind\":null,\"name\":\"types\"}]},{\"extends\":null,\"module\":null,\"name\":\"Notification\",\"overrides\":[],\"properties\":[{\"default\":null,\"kind\":null,\"name\":\"background\"},{\"default\":3000,\"kind\":null,\"name\":\"duration\"},{\"default\":null,\"kind\":null,\"name\":\"icon\"},{\"default\":\"\",\"kind\":null,\"name\":\"message\"},{\"default\":null,\"kind\":null,\"name\":\"notification_type\"},{\"default\":false,\"kind\":null,\"name\":\"_destroyed\"}]},{\"extends\":null,\"module\":null,\"name\":\"TemplateActions1\",\"overrides\":[],\"properties\":[{\"default\":0,\"kind\":null,\"name\":\"open_modal\"},{\"default\":0,\"kind\":null,\"name\":\"close_modal\"}]},{\"extends\":null,\"module\":null,\"name\":\"MaterialTemplateActions1\",\"overrides\":[],\"properties\":[{\"default\":0,\"kind\":null,\"name\":\"open_modal\"},{\"default\":0,\"kind\":null,\"name\":\"close_modal\"}]}],\"roots\":{\"references\":[{\"attributes\":{},\"id\":\"1984\",\"type\":\"CategoricalTicker\"},{\"attributes\":{\"axis\":{\"id\":\"1983\"},\"coordinates\":null,\"grid_line_color\":null,\"group\":null,\"ticker\":null},\"id\":\"1985\",\"type\":\"Grid\"},{\"attributes\":{},\"id\":\"2047\",\"type\":\"UnionRenderers\"},{\"attributes\":{},\"id\":\"1991\",\"type\":\"PanTool\"},{\"attributes\":{},\"id\":\"2071\",\"type\":\"UnionRenderers\"},{\"attributes\":{\"children\":[{\"id\":\"1974\"}],\"height\":300,\"margin\":[0,0,0,0],\"name\":\"Row01983\",\"sizing_mode\":\"fixed\",\"tags\":[\"embedded\"],\"width\":700},\"id\":\"1968\",\"type\":\"Row\"},{\"attributes\":{\"axis_label\":\"\",\"coordinates\":null,\"formatter\":{\"id\":\"2007\"},\"group\":null,\"major_label_policy\":{\"id\":\"2008\"},\"ticker\":{\"id\":\"1987\"}},\"id\":\"1986\",\"type\":\"LinearAxis\"},{\"attributes\":{\"axis_label\":\"\",\"coordinates\":null,\"formatter\":{\"id\":\"2004\"},\"group\":null,\"major_label_policy\":{\"id\":\"2005\"},\"ticker\":{\"id\":\"1984\"}},\"id\":\"1983\",\"type\":\"CategoricalAxis\"},{\"attributes\":{\"axis\":{\"id\":\"1986\"},\"coordinates\":null,\"dimension\":1,\"grid_line_color\":null,\"group\":null,\"ticker\":null},\"id\":\"1989\",\"type\":\"Grid\"},{\"attributes\":{\"coordinates\":null,\"data_source\":{\"id\":\"2052\"},\"glyph\":{\"id\":\"2055\"},\"group\":null,\"hover_glyph\":null,\"muted_glyph\":{\"id\":\"2057\"},\"nonselection_glyph\":{\"id\":\"2056\"},\"selection_glyph\":{\"id\":\"2075\"},\"view\":{\"id\":\"2059\"}},\"id\":\"2058\",\"type\":\"GlyphRenderer\"},{\"attributes\":{\"line_alpha\":0.1,\"line_color\":\"#fc4f30\",\"line_width\":2,\"x\":{\"field\":\"index\"},\"y\":{\"field\":\"value\"}},\"id\":\"2034\",\"type\":\"Line\"},{\"attributes\":{},\"id\":\"1987\",\"type\":\"BasicTicker\"},{\"attributes\":{\"source\":{\"id\":\"2030\"}},\"id\":\"2037\",\"type\":\"CDSView\"},{\"attributes\":{\"line_color\":\"#e5ae38\",\"line_width\":2,\"x\":{\"field\":\"index\"},\"y\":{\"field\":\"value\"}},\"id\":\"2075\",\"type\":\"Line\"},{\"attributes\":{\"line_alpha\":0.1,\"line_color\":\"#e5ae38\",\"line_width\":2,\"x\":{\"field\":\"index\"},\"y\":{\"field\":\"value\"}},\"id\":\"2056\",\"type\":\"Line\"},{\"attributes\":{\"line_alpha\":0.2,\"line_color\":\"#fc4f30\",\"line_width\":2,\"x\":{\"field\":\"index\"},\"y\":{\"field\":\"value\"}},\"id\":\"2035\",\"type\":\"Line\"},{\"attributes\":{},\"id\":\"1992\",\"type\":\"WheelZoomTool\"},{\"attributes\":{},\"id\":\"2007\",\"type\":\"BasicTickFormatter\"},{\"attributes\":{},\"id\":\"2008\",\"type\":\"AllLabels\"},{\"attributes\":{},\"id\":\"1990\",\"type\":\"SaveTool\"},{\"attributes\":{\"overlay\":{\"id\":\"1995\"}},\"id\":\"1993\",\"type\":\"BoxZoomTool\"},{\"attributes\":{\"coordinates\":null,\"group\":null,\"text_color\":\"black\",\"text_font_size\":\"12pt\"},\"id\":\"1975\",\"type\":\"Title\"},{\"attributes\":{},\"id\":\"1994\",\"type\":\"ResetTool\"},{\"attributes\":{\"label\":{\"value\":\"PC 3\"},\"renderers\":[{\"id\":\"2058\"}]},\"id\":\"2074\",\"type\":\"LegendItem\"},{\"attributes\":{\"source\":{\"id\":\"2052\"}},\"id\":\"2059\",\"type\":\"CDSView\"},{\"attributes\":{},\"id\":\"2031\",\"type\":\"Selection\"},{\"attributes\":{\"coordinates\":null,\"data_source\":{\"id\":\"2030\"},\"glyph\":{\"id\":\"2033\"},\"group\":null,\"hover_glyph\":null,\"muted_glyph\":{\"id\":\"2035\"},\"nonselection_glyph\":{\"id\":\"2034\"},\"selection_glyph\":{\"id\":\"2051\"},\"view\":{\"id\":\"2037\"}},\"id\":\"2036\",\"type\":\"GlyphRenderer\"},{\"attributes\":{\"data\":{\"Variable\":[\"PC 1\",\"PC 1\",\"PC 1\",\"PC 1\",\"PC 1\",\"PC 1\",\"PC 1\",\"PC 1\",\"PC 1\",\"PC 1\",\"PC 1\",\"PC 1\",\"PC 1\",\"PC 1\",\"PC 1\",\"PC 1\",\"PC 1\",\"PC 1\",\"PC 1\",\"PC 1\",\"PC 1\",\"PC 1\",\"PC 1\",\"PC 1\",\"PC 1\",\"PC 1\",\"PC 1\",\"PC 1\",\"PC 1\",\"PC 1\",\"PC 1\",\"PC 1\",\"PC 1\",\"PC 1\",\"PC 1\",\"PC 1\",\"PC 1\",\"PC 1\",\"PC 1\",\"PC 1\",\"PC 1\",\"PC 1\",\"PC 1\",\"PC 1\",\"PC 1\",\"PC 1\",\"PC 1\",\"PC 1\",\"PC 1\",\"PC 1\",\"PC 1\",\"PC 1\",\"PC 1\",\"PC 1\",\"PC 1\",\"PC 1\",\"PC 1\",\"PC 1\",\"PC 1\",\"PC 1\",\"PC 1\",\"PC 1\",\"PC 1\",\"PC 1\",\"PC 1\",\"PC 1\",\"PC 1\",\"PC 1\",\"PC 1\",\"PC 1\",\"PC 1\",\"PC 1\",\"PC 1\",\"PC 1\",\"PC 1\",\"PC 1\",\"PC 1\",\"PC 1\",\"PC 1\",\"PC 1\",\"PC 1\",\"PC 1\",\"PC 1\",\"PC 1\",\"PC 1\",\"PC 1\",\"PC 1\",\"PC 1\",\"PC 1\",\"PC 1\",\"PC 1\",\"PC 1\",\"PC 1\",\"PC 1\",\"PC 1\",\"PC 1\",\"PC 1\",\"PC 1\",\"PC 1\",\"PC 1\",\"PC 1\",\"PC 1\",\"PC 1\",\"PC 1\",\"PC 1\",\"PC 1\",\"PC 1\",\"PC 1\",\"PC 1\",\"PC 1\",\"PC 1\",\"PC 1\",\"PC 1\",\"PC 1\",\"PC 1\",\"PC 1\",\"PC 1\",\"PC 1\",\"PC 1\",\"PC 1\",\"PC 1\",\"PC 1\",\"PC 1\",\"PC 1\",\"PC 1\",\"PC 1\",\"PC 1\",\"PC 1\",\"PC 1\",\"PC 1\",\"PC 1\",\"PC 1\",\"PC 1\",\"PC 1\",\"PC 1\",\"PC 1\",\"PC 1\",\"PC 1\",\"PC 1\",\"PC 1\",\"PC 1\",\"PC 1\",\"PC 1\",\"PC 1\",\"PC 1\",\"PC 1\",\"PC 1\",\"PC 1\",\"PC 1\",\"PC 1\",\"PC 1\",\"PC 1\",\"PC 1\",\"PC 1\",\"PC 1\",\"PC 1\",\"PC 1\",\"PC 1\",\"PC 1\",\"PC 1\",\"PC 1\",\"PC 1\",\"PC 1\",\"PC 1\",\"PC 1\",\"PC 1\",\"PC 1\",\"PC 1\",\"PC 1\",\"PC 1\",\"PC 1\",\"PC 1\",\"PC 1\",\"PC 1\",\"PC 1\",\"PC 1\",\"PC 1\",\"PC 1\",\"PC 1\",\"PC 1\",\"PC 1\",\"PC 1\",\"PC 1\",\"PC 1\",\"PC 1\",\"PC 1\",\"PC 1\",\"PC 1\",\"PC 1\",\"PC 1\",\"PC 1\",\"PC 1\",\"PC 1\",\"PC 1\",\"PC 1\",\"PC 1\",\"PC 1\",\"PC 1\",\"PC 1\",\"PC 1\",\"PC 1\",\"PC 1\",\"PC 1\",\"PC 1\",\"PC 1\",\"PC 1\",\"PC 1\",\"PC 1\",\"PC 1\",\"PC 1\",\"PC 1\",\"PC 1\",\"PC 1\",\"PC 1\",\"PC 1\",\"PC 1\",\"PC 1\",\"PC 1\",\"PC 1\",\"PC 1\",\"PC 1\",\"PC 1\",\"PC 1\",\"PC 1\",\"PC 1\",\"PC 1\",\"PC 1\",\"PC 1\",\"PC 1\",\"PC 1\",\"PC 1\",\"PC 1\",\"PC 1\",\"PC 1\",\"PC 1\",\"PC 1\",\"PC 1\",\"PC 1\",\"PC 1\",\"PC 1\",\"PC 1\",\"PC 1\",\"PC 1\",\"PC 1\",\"PC 1\",\"PC 1\",\"PC 1\",\"PC 1\",\"PC 1\",\"PC 1\",\"PC 1\",\"PC 1\",\"PC 1\",\"PC 1\",\"PC 1\",\"PC 1\",\"PC 1\",\"PC 1\",\"PC 1\",\"PC 1\",\"PC 1\",\"PC 1\",\"PC 1\",\"PC 1\",\"PC 1\",\"PC 1\",\"PC 1\",\"PC 1\",\"PC 1\",\"PC 1\",\"PC 1\",\"PC 1\",\"PC 1\",\"PC 1\",\"PC 1\",\"PC 1\",\"PC 1\",\"PC 1\",\"PC 1\",\"PC 1\",\"PC 1\",\"PC 1\",\"PC 1\",\"PC 1\",\"PC 1\",\"PC 1\",\"PC 1\",\"PC 1\",\"PC 1\",\"PC 1\",\"PC 1\",\"PC 1\",\"PC 1\",\"PC 1\",\"PC 1\",\"PC 1\",\"PC 1\",\"PC 1\",\"PC 1\",\"PC 1\",\"PC 1\",\"PC 1\",\"PC 1\",\"PC 1\",\"PC 1\",\"PC 1\",\"PC 1\",\"PC 1\",\"PC 1\",\"PC 1\",\"PC 1\",\"PC 1\",\"PC 1\",\"PC 1\",\"PC 1\",\"PC 1\",\"PC 1\",\"PC 1\",\"PC 1\",\"PC 1\",\"PC 1\",\"PC 1\",\"PC 1\",\"PC 1\",\"PC 1\",\"PC 1\",\"PC 1\",\"PC 1\",\"PC 1\",\"PC 1\",\"PC 1\",\"PC 1\",\"PC 1\",\"PC 1\",\"PC 1\",\"PC 1\",\"PC 1\",\"PC 1\",\"PC 1\",\"PC 1\",\"PC 1\",\"PC 1\",\"PC 1\",\"PC 1\",\"PC 1\",\"PC 1\",\"PC 1\",\"PC 1\",\"PC 1\",\"PC 1\",\"PC 1\",\"PC 1\",\"PC 1\",\"PC 1\",\"PC 1\",\"PC 1\",\"PC 1\",\"PC 1\",\"PC 1\",\"PC 1\",\"PC 1\",\"PC 1\",\"PC 1\",\"PC 1\",\"PC 1\",\"PC 1\",\"PC 1\",\"PC 1\",\"PC 1\",\"PC 1\",\"PC 1\",\"PC 1\",\"PC 1\",\"PC 1\",\"PC 1\",\"PC 1\",\"PC 1\",\"PC 1\",\"PC 1\",\"PC 1\",\"PC 1\",\"PC 1\",\"PC 1\",\"PC 1\",\"PC 1\",\"PC 1\",\"PC 1\",\"PC 1\",\"PC 1\",\"PC 1\",\"PC 1\",\"PC 1\",\"PC 1\",\"PC 1\",\"PC 1\",\"PC 1\",\"PC 1\",\"PC 1\",\"PC 1\",\"PC 1\",\"PC 1\",\"PC 1\",\"PC 1\",\"PC 1\",\"PC 1\",\"PC 1\",\"PC 1\",\"PC 1\",\"PC 1\",\"PC 1\",\"PC 1\",\"PC 1\",\"PC 1\",\"PC 1\",\"PC 1\",\"PC 1\",\"PC 1\",\"PC 1\",\"PC 1\",\"PC 1\",\"PC 1\",\"PC 1\",\"PC 1\",\"PC 1\",\"PC 1\",\"PC 1\",\"PC 1\",\"PC 1\",\"PC 1\",\"PC 1\",\"PC 1\",\"PC 1\",\"PC 1\",\"PC 1\",\"PC 1\",\"PC 1\",\"PC 1\",\"PC 1\",\"PC 1\",\"PC 1\",\"PC 1\",\"PC 1\",\"PC 1\",\"PC 1\",\"PC 1\",\"PC 1\",\"PC 1\",\"PC 1\",\"PC 1\",\"PC 1\",\"PC 1\",\"PC 1\",\"PC 1\",\"PC 1\",\"PC 1\",\"PC 1\",\"PC 1\",\"PC 1\",\"PC 1\",\"PC 1\",\"PC 1\",\"PC 1\",\"PC 1\",\"PC 1\",\"PC 1\",\"PC 1\",\"PC 1\",\"PC 1\",\"PC 1\",\"PC 1\",\"PC 1\",\"PC 1\",\"PC 1\",\"PC 1\",\"PC 1\",\"PC 1\",\"PC 1\",\"PC 1\",\"PC 1\",\"PC 1\",\"PC 1\",\"PC 1\",\"PC 1\",\"PC 1\",\"PC 1\",\"PC 1\",\"PC 1\",\"PC 1\",\"PC 1\",\"PC 1\",\"PC 1\",\"PC 1\",\"PC 1\",\"PC 1\",\"PC 1\",\"PC 1\",\"PC 1\",\"PC 1\",\"PC 1\",\"PC 1\",\"PC 1\",\"PC 1\",\"PC 1\",\"PC 1\",\"PC 1\",\"PC 1\",\"PC 1\",\"PC 1\",\"PC 1\",\"PC 1\",\"PC 1\",\"PC 1\",\"PC 1\",\"PC 1\",\"PC 1\",\"PC 1\",\"PC 1\",\"PC 1\",\"PC 1\",\"PC 1\",\"PC 1\",\"PC 1\",\"PC 1\",\"PC 1\",\"PC 1\",\"PC 1\",\"PC 1\",\"PC 1\",\"PC 1\",\"PC 1\",\"PC 1\",\"PC 1\"],\"index\":[\"42\",\"404\",\"1337\",\"BTC\",\"ETH\",\"LTC\",\"DASH\",\"XMR\",\"ETC\",\"ZEC\",\"BTS\",\"DGB\",\"BTCD\",\"XPY\",\"PRC\",\"KOBO\",\"SPR\",\"ARG\",\"AUR\",\"BLU\",\"XMY\",\"MOON\",\"ZET\",\"SXC\",\"QTL\",\"ENRG\",\"QRK\",\"RIC\",\"DGC\",\"BTB\",\"CAT\",\"CBX\",\"CCN\",\"CRYPT\",\"CSC\",\"DMD\",\"XVG\",\"DVC\",\"EAC\",\"EFL\",\"EMC2\",\"EMD\",\"EXCL\",\"FLT\",\"FRK\",\"FTC\",\"GDC\",\"GLC\",\"GLD\",\"HBN\",\"HYP\",\"IFC\",\"IOC\",\"IXC\",\"KGC\",\"LKY\",\"LTB\",\"MAX\",\"MEC\",\"MED\",\"MINT\",\"MINC\",\"MZC\",\"NAUT\",\"NAV\",\"NOBL\",\"NMC\",\"NYAN\",\"OPAL\",\"ORB\",\"POT\",\"PXC\",\"RDD\",\"RPC\",\"SBC\",\"SMC\",\"SUPER\",\"SYNC\",\"SYS\",\"TES\",\"TGC\",\"TIT\",\"TOR\",\"TRC\",\"UNB\",\"UNO\",\"URO\",\"USDE\",\"UTC\",\"VIA\",\"VRC\",\"VTC\",\"WDC\",\"XC\",\"XCR\",\"XJO\",\"XST\",\"ZCC\",\"BCN\",\"XDN\",\"BURST\",\"SJCX\",\"MONA\",\"NTRN\",\"FAIR\",\"NLG\",\"RBY\",\"PTC\",\"KORE\",\"WBB\",\"NOTE\",\"FLO\",\"8BIT\",\"STV\",\"ABY\",\"FLDC\",\"U\",\"UIS\",\"CYP\",\"OMC\",\"VTR\",\"GRE\",\"XCN\",\"MSC\",\"SOON\",\"1CR\",\"ISL\",\"NXS\",\"MARS\",\"CTO\",\"ACP\",\"DRZ\",\"BSC\",\"SQL\",\"SONG\",\"ZNY\",\"DIGS\",\"EXP\",\"CON\",\"SC\",\"EMC\",\"EGC\",\"MND\",\"I0C\",\"DCR\",\"RVR\",\"HODL\",\"EDRC\",\"HTC\",\"GAME\",\"DBIC\",\"DIEM\",\"PWR\",\"BLRY\",\"GPU\",\"ADZ\",\"SOIL\",\"YOC\",\"SIB\",\"ERC\",\"ZEIT\",\"SWING\",\"SAFEX\",\"NEBU\",\"FRN\",\"BOLI\",\"XRA\",\"REV\",\"CKC\",\"VIP\",\"BSD\",\"OMNI\",\"LIR\",\"PUT\",\"IBANK\",\"FRWC\",\"MUDRA\",\"PIZZA\",\"LC\",\"KMD\",\"GB\",\"CTC\",\"KRB\",\"BXT\",\"ZYD\",\"MST\",\"ZNE\",\"COVAL\",\"ROOT\",\"DOPE\",\"BTCR\",\"DLC\",\"SCN\",\"SH\",\"BUZZ\",\"XPO\",\"PSB\",\"HALLO\",\"XZC\",\"CFC\",\"ROYAL\",\"GNJ\",\"TEAM\",\"LANA\",\"ELE\",\"ZCL\",\"ARK\",\"INSANE\",\"KLC\",\"ATX\",\"EMB\",\"XEN\",\"FRE\",\"PLNC\",\"ARCO\",\"KURT\",\"XCRE\",\"ENT\",\"EUC\",\"BCF\",\"XSN\",\"BCCOIN\",\"MONEY\",\"XNG\",\"XCI\",\"RC\",\"PND\",\"UNITS\",\"GAKH\",\"ASAFE2\",\"LTCR\",\"OS76\",\"BIC\",\"HXX\",\"KED\",\"IOP\",\"KUSH\",\"PRX\",\"PAC\",\"IMPCH\",\"CTL\",\"ZBC\",\"FRST\",\"BVC\",\"FIND\",\"VLTC\",\"ZER\",\"CHAT\",\"CDN\",\"ZOI\",\"RNS\",\"DBIX\",\"XVP\",\"TAJ\",\"IMX\",\"EB3\",\"ATMOS\",\"HPC\",\"CXT\",\"MCRN\",\"RAIN\",\"IMS\",\"ARGUS\",\"LMC\",\"PROC\",\"XGR\",\"BENJI\",\"GRW\",\"ILC\",\"PHR\",\"DEA\",\"HTML5\",\"USC\",\"EQT\",\"QTUM\",\"QRL\",\"ESP\",\"DYN\",\"NANO\",\"CHAN\",\"DCY\",\"DNR\",\"DP\",\"VUC\",\"BTPL\",\"UNIFY\",\"BRIT\",\"SOCC\",\"ARC\",\"DAS\",\"LINDA\",\"XLC\",\"ONION\",\"BTX\",\"GCN\",\"SMART\",\"SIGT\",\"ONX\",\"CRM\",\"BCH\",\"XMCC\",\"DFT\",\"VET\",\"SOJ\",\"STCN\",\"NYC\",\"FRAZ\",\"KRONE\",\"ACC\",\"LINX\",\"XCXT\",\"ETHD\",\"SUMO\",\"ODN\",\"ADA\",\"REC\",\"BTCZ\",\"TZC\",\"ELM\",\"TER\",\"VIVO\",\"RUP\",\"BTG\",\"WOMEN\",\"MAY\",\"NAMO\",\"LUX\",\"PIRL\",\"XIOS\",\"BTDX\",\"EBST\",\"KEK\",\"BLHC\",\"XIN\",\"PURA\",\"INN\",\"ELLA\",\"GBX\",\"MAG\",\"TAU\",\"ECA\",\"BCD\",\"XSH\",\"CNBC\",\"XUN\",\"COAL\",\"DAXX\",\"BWK\",\"KLKS\",\"AC3\",\"LTHN\",\"GER\",\"LTCU\",\"POP\",\"PNX\",\"PHO\",\"SUCR\",\"SPK\",\"WAGE\",\"GUN\",\"IRL\",\"TROLL\",\"LCP\",\"MONK\",\"PCOIN\",\"UBTC\",\"ITZ\",\"TPAY\",\"MCT\",\"MBC\",\"TRTL\",\"MUN\",\"USX\",\"NBR\",\"SSS\",\"TRF\",\"KREDS\",\"TOKC\",\"BBP\",\"LCC\",\"FLIP\",\"LOT\",\"CIF\",\"SPD\",\"POA\",\"PUSHI\",\"ELP\",\"VLX\",\"ONT\",\"CLO\",\"TUBE\",\"PSD\",\"ADK\",\"BSX\",\"BRIA\",\"IC\",\"BTL\",\"MEDIC\",\"ALPS\",\"BITG\",\"DEV\",\"ABJ\",\"SEM\",\"FTO\",\"CARE\",\"NZL\",\"XMC\",\"PROTON\",\"DEAL\",\"JUMP\",\"INFX\",\"XBI\",\"KEC\",\"HWC\",\"GIN\",\"PLTC\",\"LOKI\",\"NCP\",\"SIC\",\"XT3\",\"MGD\",\"VIG\",\"PLURA\",\"EMAR\",\"DKD\",\"LYNX\",\"POSQ\",\"BWS\",\"MUSE\",\"XMN\",\"PLUS1\",\"AXE\",\"TRVC\",\"DTEM\",\"GIC\",\"PNY\",\"ABS\",\"VITAE\",\"HEX\",\"TPC\",\"WEBC\",\"RYO\",\"URALS\",\"QWC\",\"ARE\",\"EUNO\",\"MMO\",\"KETAN\",\"PPAI\",\"XDNA\",\"PAXEX\",\"AZART\",\"TSC\",\"KCASH\",\"XCG\",\"AAC\",\"CRYP\",\"BTXC\",\"ACM\",\"BSV\",\"BITM\",\"JMC\",\"FRED\",\"HERB\",\"UMO\",\"LIT\",\"PIRATE\",\"EXO\",\"BLTG\",\"OWC\",\"BEAM\",\"GALI\",\"BTH\",\"CSPN\",\"CREDIT\",\"SLC\",\"DASHP\",\"NSD\",\"BEET\",\"TTN\",\"AWR\",\"BLAST\",\"XRC\",\"GLT\",\"INSN\",\"ALX\",\"LDOGE\",\"SLR\",\"TRK\",\"UFO\",\"OC\",\"BLC\",\"BITS\",\"NEOS\",\"HYPER\",\"PINK\",\"CESC\",\"ADC\",\"NKA\",\"PIGGY\",\"CRW\",\"GEN\",\"SMLY\",\"MI\",\"GRS\",\"CPC\",\"CLUB\",\"RADS\",\"BTA\",\"PAK\",\"CRB\",\"OK\",\"LSK\",\"XHI\",\"XWC\",\"FSC\",\"J\",\"TRI\",\"VOLLAR\",\"EOS\",\"RCC\",\"OXY\",\"TCH\",\"WAVES\",\"PART\",\"BTT\",\"NXT\",\"ZEPH\",\"GAP\",\"BDX\",\"ZEN\",\"XBC\"],\"value\":{\"__ndarray__\":\"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\",\"dtype\":\"float64\",\"order\":\"little\",\"shape\":[532]}},\"selected\":{\"id\":\"2010\"},\"selection_policy\":{\"id\":\"2024\"}},\"id\":\"2009\",\"type\":\"ColumnDataSource\"},{\"attributes\":{\"bottom_units\":\"screen\",\"coordinates\":null,\"fill_alpha\":0.5,\"fill_color\":\"lightgrey\",\"group\":null,\"left_units\":\"screen\",\"level\":\"overlay\",\"line_alpha\":1.0,\"line_color\":\"black\",\"line_dash\":[4,4],\"line_width\":2,\"right_units\":\"screen\",\"syncable\":false,\"top_units\":\"screen\"},\"id\":\"1995\",\"type\":\"BoxAnnotation\"},{\"attributes\":{\"line_alpha\":0.1,\"line_color\":\"#30a2da\",\"line_width\":2,\"x\":{\"field\":\"index\"},\"y\":{\"field\":\"value\"}},\"id\":\"2013\",\"type\":\"Line\"},{\"attributes\":{\"label\":{\"value\":\"PC 1\"},\"renderers\":[{\"id\":\"2015\"}]},\"id\":\"2028\",\"type\":\"LegendItem\"},{\"attributes\":{\"line_alpha\":0.2,\"line_color\":\"#e5ae38\",\"line_width\":2,\"x\":{\"field\":\"index\"},\"y\":{\"field\":\"value\"}},\"id\":\"2057\",\"type\":\"Line\"},{\"attributes\":{},\"id\":\"2024\",\"type\":\"UnionRenderers\"},{\"attributes\":{\"coordinates\":null,\"data_source\":{\"id\":\"2009\"},\"glyph\":{\"id\":\"2012\"},\"group\":null,\"hover_glyph\":null,\"muted_glyph\":{\"id\":\"2014\"},\"nonselection_glyph\":{\"id\":\"2013\"},\"selection_glyph\":{\"id\":\"2029\"},\"view\":{\"id\":\"2016\"}},\"id\":\"2015\",\"type\":\"GlyphRenderer\"},{\"attributes\":{\"active_drag\":{\"id\":\"1991\"},\"active_scroll\":{\"id\":\"1992\"},\"tools\":[{\"id\":\"1971\"},{\"id\":\"1990\"},{\"id\":\"1991\"},{\"id\":\"1992\"},{\"id\":\"1993\"},{\"id\":\"1994\"}]},\"id\":\"1996\",\"type\":\"Toolbar\"},{\"attributes\":{},\"id\":\"2053\",\"type\":\"Selection\"},{\"attributes\":{\"source\":{\"id\":\"2009\"}},\"id\":\"2016\",\"type\":\"CDSView\"},{\"attributes\":{\"click_policy\":\"mute\",\"coordinates\":null,\"group\":null,\"items\":[{\"id\":\"2028\"},{\"id\":\"2050\"},{\"id\":\"2074\"}],\"location\":[0,0],\"title\":\"Variable\"},\"id\":\"2027\",\"type\":\"Legend\"},{\"attributes\":{\"end\":37.763949537651584,\"reset_end\":37.763949537651584,\"reset_start\":-6.526337691497524,\"start\":-6.526337691497524,\"tags\":[[[\"value\",\"value\",null]]]},\"id\":\"1970\",\"type\":\"Range1d\"},{\"attributes\":{\"factors\":[\"42\",\"404\",\"1337\",\"BTC\",\"ETH\",\"LTC\",\"DASH\",\"XMR\",\"ETC\",\"ZEC\",\"BTS\",\"DGB\",\"BTCD\",\"XPY\",\"PRC\",\"KOBO\",\"SPR\",\"ARG\",\"AUR\",\"BLU\",\"XMY\",\"MOON\",\"ZET\",\"SXC\",\"QTL\",\"ENRG\",\"QRK\",\"RIC\",\"DGC\",\"BTB\",\"CAT\",\"CBX\",\"CCN\",\"CRYPT\",\"CSC\",\"DMD\",\"XVG\",\"DVC\",\"EAC\",\"EFL\",\"EMC2\",\"EMD\",\"EXCL\",\"FLT\",\"FRK\",\"FTC\",\"GDC\",\"GLC\",\"GLD\",\"HBN\",\"HYP\",\"IFC\",\"IOC\",\"IXC\",\"KGC\",\"LKY\",\"LTB\",\"MAX\",\"MEC\",\"MED\",\"MINT\",\"MINC\",\"MZC\",\"NAUT\",\"NAV\",\"NOBL\",\"NMC\",\"NYAN\",\"OPAL\",\"ORB\",\"POT\",\"PXC\",\"RDD\",\"RPC\",\"SBC\",\"SMC\",\"SUPER\",\"SYNC\",\"SYS\",\"TES\",\"TGC\",\"TIT\",\"TOR\",\"TRC\",\"UNB\",\"UNO\",\"URO\",\"USDE\",\"UTC\",\"VIA\",\"VRC\",\"VTC\",\"WDC\",\"XC\",\"XCR\",\"XJO\",\"XST\",\"ZCC\",\"BCN\",\"XDN\",\"BURST\",\"SJCX\",\"MONA\",\"NTRN\",\"FAIR\",\"NLG\",\"RBY\",\"PTC\",\"KORE\",\"WBB\",\"NOTE\",\"FLO\",\"8BIT\",\"STV\",\"ABY\",\"FLDC\",\"U\",\"UIS\",\"CYP\",\"OMC\",\"VTR\",\"GRE\",\"XCN\",\"MSC\",\"SOON\",\"1CR\",\"ISL\",\"NXS\",\"MARS\",\"CTO\",\"ACP\",\"DRZ\",\"BSC\",\"SQL\",\"SONG\",\"ZNY\",\"DIGS\",\"EXP\",\"CON\",\"SC\",\"EMC\",\"EGC\",\"MND\",\"I0C\",\"DCR\",\"RVR\",\"HODL\",\"EDRC\",\"HTC\",\"GAME\",\"DBIC\",\"DIEM\",\"PWR\",\"BLRY\",\"GPU\",\"ADZ\",\"SOIL\",\"YOC\",\"SIB\",\"ERC\",\"ZEIT\",\"SWING\",\"SAFEX\",\"NEBU\",\"FRN\",\"BOLI\",\"XRA\",\"REV\",\"CKC\",\"VIP\",\"BSD\",\"OMNI\",\"LIR\",\"PUT\",\"IBANK\",\"FRWC\",\"MUDRA\",\"PIZZA\",\"LC\",\"KMD\",\"GB\",\"CTC\",\"KRB\",\"BXT\",\"ZYD\",\"MST\",\"ZNE\",\"COVAL\",\"ROOT\",\"DOPE\",\"BTCR\",\"DLC\",\"SCN\",\"SH\",\"BUZZ\",\"XPO\",\"PSB\",\"HALLO\",\"XZC\",\"CFC\",\"ROYAL\",\"GNJ\",\"TEAM\",\"LANA\",\"ELE\",\"ZCL\",\"ARK\",\"INSANE\",\"KLC\",\"ATX\",\"EMB\",\"XEN\",\"FRE\",\"PLNC\",\"ARCO\",\"KURT\",\"XCRE\",\"ENT\",\"EUC\",\"BCF\",\"XSN\",\"BCCOIN\",\"MONEY\",\"XNG\",\"XCI\",\"RC\",\"PND\",\"UNITS\",\"GAKH\",\"ASAFE2\",\"LTCR\",\"OS76\",\"BIC\",\"HXX\",\"KED\",\"IOP\",\"KUSH\",\"PRX\",\"PAC\",\"IMPCH\",\"CTL\",\"ZBC\",\"FRST\",\"BVC\",\"FIND\",\"VLTC\",\"ZER\",\"CHAT\",\"CDN\",\"ZOI\",\"RNS\",\"DBIX\",\"XVP\",\"TAJ\",\"IMX\",\"EB3\",\"ATMOS\",\"HPC\",\"CXT\",\"MCRN\",\"RAIN\",\"IMS\",\"ARGUS\",\"LMC\",\"PROC\",\"XGR\",\"BENJI\",\"GRW\",\"ILC\",\"PHR\",\"DEA\",\"HTML5\",\"USC\",\"EQT\",\"QTUM\",\"QRL\",\"ESP\",\"DYN\",\"NANO\",\"CHAN\",\"DCY\",\"DNR\",\"DP\",\"VUC\",\"BTPL\",\"UNIFY\",\"BRIT\",\"SOCC\",\"ARC\",\"DAS\",\"LINDA\",\"XLC\",\"ONION\",\"BTX\",\"GCN\",\"SMART\",\"SIGT\",\"ONX\",\"CRM\",\"BCH\",\"XMCC\",\"DFT\",\"VET\",\"SOJ\",\"STCN\",\"NYC\",\"FRAZ\",\"KRONE\",\"ACC\",\"LINX\",\"XCXT\",\"ETHD\",\"SUMO\",\"ODN\",\"ADA\",\"REC\",\"BTCZ\",\"TZC\",\"ELM\",\"TER\",\"VIVO\",\"RUP\",\"BTG\",\"WOMEN\",\"MAY\",\"NAMO\",\"LUX\",\"PIRL\",\"XIOS\",\"BTDX\",\"EBST\",\"KEK\",\"BLHC\",\"XIN\",\"PURA\",\"INN\",\"ELLA\",\"GBX\",\"MAG\",\"TAU\",\"ECA\",\"BCD\",\"XSH\",\"CNBC\",\"XUN\",\"COAL\",\"DAXX\",\"BWK\",\"KLKS\",\"AC3\",\"LTHN\",\"GER\",\"LTCU\",\"POP\",\"PNX\",\"PHO\",\"SUCR\",\"SPK\",\"WAGE\",\"GUN\",\"IRL\",\"TROLL\",\"LCP\",\"MONK\",\"PCOIN\",\"UBTC\",\"ITZ\",\"TPAY\",\"MCT\",\"MBC\",\"TRTL\",\"MUN\",\"USX\",\"NBR\",\"SSS\",\"TRF\",\"KREDS\",\"TOKC\",\"BBP\",\"LCC\",\"FLIP\",\"LOT\",\"CIF\",\"SPD\",\"POA\",\"PUSHI\",\"ELP\",\"VLX\",\"ONT\",\"CLO\",\"TUBE\",\"PSD\",\"ADK\",\"BSX\",\"BRIA\",\"IC\",\"BTL\",\"MEDIC\",\"ALPS\",\"BITG\",\"DEV\",\"ABJ\",\"SEM\",\"FTO\",\"CARE\",\"NZL\",\"XMC\",\"PROTON\",\"DEAL\",\"JUMP\",\"INFX\",\"XBI\",\"KEC\",\"HWC\",\"GIN\",\"PLTC\",\"LOKI\",\"NCP\",\"SIC\",\"XT3\",\"MGD\",\"VIG\",\"PLURA\",\"EMAR\",\"DKD\",\"LYNX\",\"POSQ\",\"BWS\",\"MUSE\",\"XMN\",\"PLUS1\",\"AXE\",\"TRVC\",\"DTEM\",\"GIC\",\"PNY\",\"ABS\",\"VITAE\",\"HEX\",\"TPC\",\"WEBC\",\"RYO\",\"URALS\",\"QWC\",\"ARE\",\"EUNO\",\"MMO\",\"KETAN\",\"PPAI\",\"XDNA\",\"PAXEX\",\"AZART\",\"TSC\",\"KCASH\",\"XCG\",\"AAC\",\"CRYP\",\"BTXC\",\"ACM\",\"BSV\",\"BITM\",\"JMC\",\"FRED\",\"HERB\",\"UMO\",\"LIT\",\"PIRATE\",\"EXO\",\"BLTG\",\"OWC\",\"BEAM\",\"GALI\",\"BTH\",\"CSPN\",\"CREDIT\",\"SLC\",\"DASHP\",\"NSD\",\"BEET\",\"TTN\",\"AWR\",\"BLAST\",\"XRC\",\"GLT\",\"INSN\",\"ALX\",\"LDOGE\",\"SLR\",\"TRK\",\"UFO\",\"OC\",\"BLC\",\"BITS\",\"NEOS\",\"HYPER\",\"PINK\",\"CESC\",\"ADC\",\"NKA\",\"PIGGY\",\"CRW\",\"GEN\",\"SMLY\",\"MI\",\"GRS\",\"CPC\",\"CLUB\",\"RADS\",\"BTA\",\"PAK\",\"CRB\",\"OK\",\"LSK\",\"XHI\",\"XWC\",\"FSC\",\"J\",\"TRI\",\"VOLLAR\",\"EOS\",\"RCC\",\"OXY\",\"TCH\",\"WAVES\",\"PART\",\"BTT\",\"NXT\",\"ZEPH\",\"GAP\",\"BDX\",\"ZEN\",\"XBC\"],\"tags\":[[[\"index\",\"index\",null]]]},\"id\":\"1969\",\"type\":\"FactorRange\"},{\"attributes\":{\"data\":{\"Variable\":[\"PC 2\",\"PC 2\",\"PC 2\",\"PC 2\",\"PC 2\",\"PC 2\",\"PC 2\",\"PC 2\",\"PC 2\",\"PC 2\",\"PC 2\",\"PC 2\",\"PC 2\",\"PC 2\",\"PC 2\",\"PC 2\",\"PC 2\",\"PC 2\",\"PC 2\",\"PC 2\",\"PC 2\",\"PC 2\",\"PC 2\",\"PC 2\",\"PC 2\",\"PC 2\",\"PC 2\",\"PC 2\",\"PC 2\",\"PC 2\",\"PC 2\",\"PC 2\",\"PC 2\",\"PC 2\",\"PC 2\",\"PC 2\",\"PC 2\",\"PC 2\",\"PC 2\",\"PC 2\",\"PC 2\",\"PC 2\",\"PC 2\",\"PC 2\",\"PC 2\",\"PC 2\",\"PC 2\",\"PC 2\",\"PC 2\",\"PC 2\",\"PC 2\",\"PC 2\",\"PC 2\",\"PC 2\",\"PC 2\",\"PC 2\",\"PC 2\",\"PC 2\",\"PC 2\",\"PC 2\",\"PC 2\",\"PC 2\",\"PC 2\",\"PC 2\",\"PC 2\",\"PC 2\",\"PC 2\",\"PC 2\",\"PC 2\",\"PC 2\",\"PC 2\",\"PC 2\",\"PC 2\",\"PC 2\",\"PC 2\",\"PC 2\",\"PC 2\",\"PC 2\",\"PC 2\",\"PC 2\",\"PC 2\",\"PC 2\",\"PC 2\",\"PC 2\",\"PC 2\",\"PC 2\",\"PC 2\",\"PC 2\",\"PC 2\",\"PC 2\",\"PC 2\",\"PC 2\",\"PC 2\",\"PC 2\",\"PC 2\",\"PC 2\",\"PC 2\",\"PC 2\",\"PC 2\",\"PC 2\",\"PC 2\",\"PC 2\",\"PC 2\",\"PC 2\",\"PC 2\",\"PC 2\",\"PC 2\",\"PC 2\",\"PC 2\",\"PC 2\",\"PC 2\",\"PC 2\",\"PC 2\",\"PC 2\",\"PC 2\",\"PC 2\",\"PC 2\",\"PC 2\",\"PC 2\",\"PC 2\",\"PC 2\",\"PC 2\",\"PC 2\",\"PC 2\",\"PC 2\",\"PC 2\",\"PC 2\",\"PC 2\",\"PC 2\",\"PC 2\",\"PC 2\",\"PC 2\",\"PC 2\",\"PC 2\",\"PC 2\",\"PC 2\",\"PC 2\",\"PC 2\",\"PC 2\",\"PC 2\",\"PC 2\",\"PC 2\",\"PC 2\",\"PC 2\",\"PC 2\",\"PC 2\",\"PC 2\",\"PC 2\",\"PC 2\",\"PC 2\",\"PC 2\",\"PC 2\",\"PC 2\",\"PC 2\",\"PC 2\",\"PC 2\",\"PC 2\",\"PC 2\",\"PC 2\",\"PC 2\",\"PC 2\",\"PC 2\",\"PC 2\",\"PC 2\",\"PC 2\",\"PC 2\",\"PC 2\",\"PC 2\",\"PC 2\",\"PC 2\",\"PC 2\",\"PC 2\",\"PC 2\",\"PC 2\",\"PC 2\",\"PC 2\",\"PC 2\",\"PC 2\",\"PC 2\",\"PC 2\",\"PC 2\",\"PC 2\",\"PC 2\",\"PC 2\",\"PC 2\",\"PC 2\",\"PC 2\",\"PC 2\",\"PC 2\",\"PC 2\",\"PC 2\",\"PC 2\",\"PC 2\",\"PC 2\",\"PC 2\",\"PC 2\",\"PC 2\",\"PC 2\",\"PC 2\",\"PC 2\",\"PC 2\",\"PC 2\",\"PC 2\",\"PC 2\",\"PC 2\",\"PC 2\",\"PC 2\",\"PC 2\",\"PC 2\",\"PC 2\",\"PC 2\",\"PC 2\",\"PC 2\",\"PC 2\",\"PC 2\",\"PC 2\",\"PC 2\",\"PC 2\",\"PC 2\",\"PC 2\",\"PC 2\",\"PC 2\",\"PC 2\",\"PC 2\",\"PC 2\",\"PC 2\",\"PC 2\",\"PC 2\",\"PC 2\",\"PC 2\",\"PC 2\",\"PC 2\",\"PC 2\",\"PC 2\",\"PC 2\",\"PC 2\",\"PC 2\",\"PC 2\",\"PC 2\",\"PC 2\",\"PC 2\",\"PC 2\",\"PC 2\",\"PC 2\",\"PC 2\",\"PC 2\",\"PC 2\",\"PC 2\",\"PC 2\",\"PC 2\",\"PC 2\",\"PC 2\",\"PC 2\",\"PC 2\",\"PC 2\",\"PC 2\",\"PC 2\",\"PC 2\",\"PC 2\",\"PC 2\",\"PC 2\",\"PC 2\",\"PC 2\",\"PC 2\",\"PC 2\",\"PC 2\",\"PC 2\",\"PC 2\",\"PC 2\",\"PC 2\",\"PC 2\",\"PC 2\",\"PC 2\",\"PC 2\",\"PC 2\",\"PC 2\",\"PC 2\",\"PC 2\",\"PC 2\",\"PC 2\",\"PC 2\",\"PC 2\",\"PC 2\",\"PC 2\",\"PC 2\",\"PC 2\",\"PC 2\",\"PC 2\",\"PC 2\",\"PC 2\",\"PC 2\",\"PC 2\",\"PC 2\",\"PC 2\",\"PC 2\",\"PC 2\",\"PC 2\",\"PC 2\",\"PC 2\",\"PC 2\",\"PC 2\",\"PC 2\",\"PC 2\",\"PC 2\",\"PC 2\",\"PC 2\",\"PC 2\",\"PC 2\",\"PC 2\",\"PC 2\",\"PC 2\",\"PC 2\",\"PC 2\",\"PC 2\",\"PC 2\",\"PC 2\",\"PC 2\",\"PC 2\",\"PC 2\",\"PC 2\",\"PC 2\",\"PC 2\",\"PC 2\",\"PC 2\",\"PC 2\",\"PC 2\",\"PC 2\",\"PC 2\",\"PC 2\",\"PC 2\",\"PC 2\",\"PC 2\",\"PC 2\",\"PC 2\",\"PC 2\",\"PC 2\",\"PC 2\",\"PC 2\",\"PC 2\",\"PC 2\",\"PC 2\",\"PC 2\",\"PC 2\",\"PC 2\",\"PC 2\",\"PC 2\",\"PC 2\",\"PC 2\",\"PC 2\",\"PC 2\",\"PC 2\",\"PC 2\",\"PC 2\",\"PC 2\",\"PC 2\",\"PC 2\",\"PC 2\",\"PC 2\",\"PC 2\",\"PC 2\",\"PC 2\",\"PC 2\",\"PC 2\",\"PC 2\",\"PC 2\",\"PC 2\",\"PC 2\",\"PC 2\",\"PC 2\",\"PC 2\",\"PC 2\",\"PC 2\",\"PC 2\",\"PC 2\",\"PC 2\",\"PC 2\",\"PC 2\",\"PC 2\",\"PC 2\",\"PC 2\",\"PC 2\",\"PC 2\",\"PC 2\",\"PC 2\",\"PC 2\",\"PC 2\",\"PC 2\",\"PC 2\",\"PC 2\",\"PC 2\",\"PC 2\",\"PC 2\",\"PC 2\",\"PC 2\",\"PC 2\",\"PC 2\",\"PC 2\",\"PC 2\",\"PC 2\",\"PC 2\",\"PC 2\",\"PC 2\",\"PC 2\",\"PC 2\",\"PC 2\",\"PC 2\",\"PC 2\",\"PC 2\",\"PC 2\",\"PC 2\",\"PC 2\",\"PC 2\",\"PC 2\",\"PC 2\",\"PC 2\",\"PC 2\",\"PC 2\",\"PC 2\",\"PC 2\",\"PC 2\",\"PC 2\",\"PC 2\",\"PC 2\",\"PC 2\",\"PC 2\",\"PC 2\",\"PC 2\",\"PC 2\",\"PC 2\",\"PC 2\",\"PC 2\",\"PC 2\",\"PC 2\",\"PC 2\",\"PC 2\",\"PC 2\",\"PC 2\",\"PC 2\",\"PC 2\",\"PC 2\",\"PC 2\",\"PC 2\",\"PC 2\",\"PC 2\",\"PC 2\",\"PC 2\",\"PC 2\",\"PC 2\",\"PC 2\",\"PC 2\",\"PC 2\",\"PC 2\",\"PC 2\",\"PC 2\",\"PC 2\",\"PC 2\",\"PC 2\",\"PC 2\",\"PC 2\",\"PC 2\",\"PC 2\",\"PC 2\",\"PC 2\",\"PC 2\",\"PC 2\",\"PC 2\",\"PC 2\",\"PC 2\",\"PC 2\",\"PC 2\",\"PC 2\",\"PC 2\",\"PC 2\",\"PC 2\",\"PC 2\",\"PC 2\",\"PC 2\",\"PC 2\",\"PC 2\",\"PC 2\",\"PC 2\",\"PC 2\",\"PC 2\",\"PC 2\",\"PC 2\",\"PC 2\",\"PC 2\",\"PC 2\",\"PC 2\",\"PC 2\",\"PC 2\",\"PC 2\",\"PC 2\",\"PC 2\",\"PC 2\",\"PC 2\",\"PC 2\",\"PC 2\",\"PC 2\",\"PC 2\",\"PC 2\",\"PC 2\",\"PC 2\",\"PC 2\",\"PC 2\",\"PC 2\",\"PC 2\",\"PC 2\",\"PC 2\",\"PC 2\",\"PC 2\",\"PC 2\",\"PC 2\",\"PC 2\",\"PC 2\",\"PC 2\",\"PC 2\",\"PC 2\",\"PC 2\",\"PC 2\",\"PC 2\",\"PC 2\",\"PC 2\",\"PC 2\",\"PC 2\",\"PC 2\",\"PC 2\",\"PC 2\",\"PC 2\",\"PC 2\",\"PC 2\",\"PC 2\"],\"index\":[\"42\",\"404\",\"1337\",\"BTC\",\"ETH\",\"LTC\",\"DASH\",\"XMR\",\"ETC\",\"ZEC\",\"BTS\",\"DGB\",\"BTCD\",\"XPY\",\"PRC\",\"KOBO\",\"SPR\",\"ARG\",\"AUR\",\"BLU\",\"XMY\",\"MOON\",\"ZET\",\"SXC\",\"QTL\",\"ENRG\",\"QRK\",\"RIC\",\"DGC\",\"BTB\",\"CAT\",\"CBX\",\"CCN\",\"CRYPT\",\"CSC\",\"DMD\",\"XVG\",\"DVC\",\"EAC\",\"EFL\",\"EMC2\",\"EMD\",\"EXCL\",\"FLT\",\"FRK\",\"FTC\",\"GDC\",\"GLC\",\"GLD\",\"HBN\",\"HYP\",\"IFC\",\"IOC\",\"IXC\",\"KGC\",\"LKY\",\"LTB\",\"MAX\",\"MEC\",\"MED\",\"MINT\",\"MINC\",\"MZC\",\"NAUT\",\"NAV\",\"NOBL\",\"NMC\",\"NYAN\",\"OPAL\",\"ORB\",\"POT\",\"PXC\",\"RDD\",\"RPC\",\"SBC\",\"SMC\",\"SUPER\",\"SYNC\",\"SYS\",\"TES\",\"TGC\",\"TIT\",\"TOR\",\"TRC\",\"UNB\",\"UNO\",\"URO\",\"USDE\",\"UTC\",\"VIA\",\"VRC\",\"VTC\",\"WDC\",\"XC\",\"XCR\",\"XJO\",\"XST\",\"ZCC\",\"BCN\",\"XDN\",\"BURST\",\"SJCX\",\"MONA\",\"NTRN\",\"FAIR\",\"NLG\",\"RBY\",\"PTC\",\"KORE\",\"WBB\",\"NOTE\",\"FLO\",\"8BIT\",\"STV\",\"ABY\",\"FLDC\",\"U\",\"UIS\",\"CYP\",\"OMC\",\"VTR\",\"GRE\",\"XCN\",\"MSC\",\"SOON\",\"1CR\",\"ISL\",\"NXS\",\"MARS\",\"CTO\",\"ACP\",\"DRZ\",\"BSC\",\"SQL\",\"SONG\",\"ZNY\",\"DIGS\",\"EXP\",\"CON\",\"SC\",\"EMC\",\"EGC\",\"MND\",\"I0C\",\"DCR\",\"RVR\",\"HODL\",\"EDRC\",\"HTC\",\"GAME\",\"DBIC\",\"DIEM\",\"PWR\",\"BLRY\",\"GPU\",\"ADZ\",\"SOIL\",\"YOC\",\"SIB\",\"ERC\",\"ZEIT\",\"SWING\",\"SAFEX\",\"NEBU\",\"FRN\",\"BOLI\",\"XRA\",\"REV\",\"CKC\",\"VIP\",\"BSD\",\"OMNI\",\"LIR\",\"PUT\",\"IBANK\",\"FRWC\",\"MUDRA\",\"PIZZA\",\"LC\",\"KMD\",\"GB\",\"CTC\",\"KRB\",\"BXT\",\"ZYD\",\"MST\",\"ZNE\",\"COVAL\",\"ROOT\",\"DOPE\",\"BTCR\",\"DLC\",\"SCN\",\"SH\",\"BUZZ\",\"XPO\",\"PSB\",\"HALLO\",\"XZC\",\"CFC\",\"ROYAL\",\"GNJ\",\"TEAM\",\"LANA\",\"ELE\",\"ZCL\",\"ARK\",\"INSANE\",\"KLC\",\"ATX\",\"EMB\",\"XEN\",\"FRE\",\"PLNC\",\"ARCO\",\"KURT\",\"XCRE\",\"ENT\",\"EUC\",\"BCF\",\"XSN\",\"BCCOIN\",\"MONEY\",\"XNG\",\"XCI\",\"RC\",\"PND\",\"UNITS\",\"GAKH\",\"ASAFE2\",\"LTCR\",\"OS76\",\"BIC\",\"HXX\",\"KED\",\"IOP\",\"KUSH\",\"PRX\",\"PAC\",\"IMPCH\",\"CTL\",\"ZBC\",\"FRST\",\"BVC\",\"FIND\",\"VLTC\",\"ZER\",\"CHAT\",\"CDN\",\"ZOI\",\"RNS\",\"DBIX\",\"XVP\",\"TAJ\",\"IMX\",\"EB3\",\"ATMOS\",\"HPC\",\"CXT\",\"MCRN\",\"RAIN\",\"IMS\",\"ARGUS\",\"LMC\",\"PROC\",\"XGR\",\"BENJI\",\"GRW\",\"ILC\",\"PHR\",\"DEA\",\"HTML5\",\"USC\",\"EQT\",\"QTUM\",\"QRL\",\"ESP\",\"DYN\",\"NANO\",\"CHAN\",\"DCY\",\"DNR\",\"DP\",\"VUC\",\"BTPL\",\"UNIFY\",\"BRIT\",\"SOCC\",\"ARC\",\"DAS\",\"LINDA\",\"XLC\",\"ONION\",\"BTX\",\"GCN\",\"SMART\",\"SIGT\",\"ONX\",\"CRM\",\"BCH\",\"XMCC\",\"DFT\",\"VET\",\"SOJ\",\"STCN\",\"NYC\",\"FRAZ\",\"KRONE\",\"ACC\",\"LINX\",\"XCXT\",\"ETHD\",\"SUMO\",\"ODN\",\"ADA\",\"REC\",\"BTCZ\",\"TZC\",\"ELM\",\"TER\",\"VIVO\",\"RUP\",\"BTG\",\"WOMEN\",\"MAY\",\"NAMO\",\"LUX\",\"PIRL\",\"XIOS\",\"BTDX\",\"EBST\",\"KEK\",\"BLHC\",\"XIN\",\"PURA\",\"INN\",\"ELLA\",\"GBX\",\"MAG\",\"TAU\",\"ECA\",\"BCD\",\"XSH\",\"CNBC\",\"XUN\",\"COAL\",\"DAXX\",\"BWK\",\"KLKS\",\"AC3\",\"LTHN\",\"GER\",\"LTCU\",\"POP\",\"PNX\",\"PHO\",\"SUCR\",\"SPK\",\"WAGE\",\"GUN\",\"IRL\",\"TROLL\",\"LCP\",\"MONK\",\"PCOIN\",\"UBTC\",\"ITZ\",\"TPAY\",\"MCT\",\"MBC\",\"TRTL\",\"MUN\",\"USX\",\"NBR\",\"SSS\",\"TRF\",\"KREDS\",\"TOKC\",\"BBP\",\"LCC\",\"FLIP\",\"LOT\",\"CIF\",\"SPD\",\"POA\",\"PUSHI\",\"ELP\",\"VLX\",\"ONT\",\"CLO\",\"TUBE\",\"PSD\",\"ADK\",\"BSX\",\"BRIA\",\"IC\",\"BTL\",\"MEDIC\",\"ALPS\",\"BITG\",\"DEV\",\"ABJ\",\"SEM\",\"FTO\",\"CARE\",\"NZL\",\"XMC\",\"PROTON\",\"DEAL\",\"JUMP\",\"INFX\",\"XBI\",\"KEC\",\"HWC\",\"GIN\",\"PLTC\",\"LOKI\",\"NCP\",\"SIC\",\"XT3\",\"MGD\",\"VIG\",\"PLURA\",\"EMAR\",\"DKD\",\"LYNX\",\"POSQ\",\"BWS\",\"MUSE\",\"XMN\",\"PLUS1\",\"AXE\",\"TRVC\",\"DTEM\",\"GIC\",\"PNY\",\"ABS\",\"VITAE\",\"HEX\",\"TPC\",\"WEBC\",\"RYO\",\"URALS\",\"QWC\",\"ARE\",\"EUNO\",\"MMO\",\"KETAN\",\"PPAI\",\"XDNA\",\"PAXEX\",\"AZART\",\"TSC\",\"KCASH\",\"XCG\",\"AAC\",\"CRYP\",\"BTXC\",\"ACM\",\"BSV\",\"BITM\",\"JMC\",\"FRED\",\"HERB\",\"UMO\",\"LIT\",\"PIRATE\",\"EXO\",\"BLTG\",\"OWC\",\"BEAM\",\"GALI\",\"BTH\",\"CSPN\",\"CREDIT\",\"SLC\",\"DASHP\",\"NSD\",\"BEET\",\"TTN\",\"AWR\",\"BLAST\",\"XRC\",\"GLT\",\"INSN\",\"ALX\",\"LDOGE\",\"SLR\",\"TRK\",\"UFO\",\"OC\",\"BLC\",\"BITS\",\"NEOS\",\"HYPER\",\"PINK\",\"CESC\",\"ADC\",\"NKA\",\"PIGGY\",\"CRW\",\"GEN\",\"SMLY\",\"MI\",\"GRS\",\"CPC\",\"CLUB\",\"RADS\",\"BTA\",\"PAK\",\"CRB\",\"OK\",\"LSK\",\"XHI\",\"XWC\",\"FSC\",\"J\",\"TRI\",\"VOLLAR\",\"EOS\",\"RCC\",\"OXY\",\"TCH\",\"WAVES\",\"PART\",\"BTT\",\"NXT\",\"ZEPH\",\"GAP\",\"BDX\",\"ZEN\",\"XBC\"],\"value\":{\"__ndarray__\":\"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\",\"dtype\":\"float64\",\"order\":\"little\",\"shape\":[532]}},\"selected\":{\"id\":\"2031\"},\"selection_policy\":{\"id\":\"2047\"}},\"id\":\"2030\",\"type\":\"ColumnDataSource\"},{\"attributes\":{\"below\":[{\"id\":\"1983\"}],\"center\":[{\"id\":\"1985\"},{\"id\":\"1989\"}],\"height\":300,\"left\":[{\"id\":\"1986\"}],\"margin\":[5,5,5,5],\"min_border_bottom\":10,\"min_border_left\":10,\"min_border_right\":10,\"min_border_top\":10,\"renderers\":[{\"id\":\"2015\"},{\"id\":\"2036\"},{\"id\":\"2058\"}],\"right\":[{\"id\":\"2027\"}],\"sizing_mode\":\"fixed\",\"title\":{\"id\":\"1975\"},\"toolbar\":{\"id\":\"1996\"},\"width\":700,\"x_range\":{\"id\":\"1969\"},\"x_scale\":{\"id\":\"1979\"},\"y_range\":{\"id\":\"1970\"},\"y_scale\":{\"id\":\"1981\"}},\"id\":\"1974\",\"subtype\":\"Figure\",\"type\":\"Plot\"},{\"attributes\":{\"line_alpha\":0.2,\"line_color\":\"#30a2da\",\"line_width\":2,\"x\":{\"field\":\"index\"},\"y\":{\"field\":\"value\"}},\"id\":\"2014\",\"type\":\"Line\"},{\"attributes\":{\"line_color\":\"#e5ae38\",\"line_width\":2,\"x\":{\"field\":\"index\"},\"y\":{\"field\":\"value\"}},\"id\":\"2055\",\"type\":\"Line\"},{\"attributes\":{\"callback\":null,\"renderers\":[{\"id\":\"2015\"},{\"id\":\"2036\"},{\"id\":\"2058\"}],\"tags\":[\"hv_created\"],\"tooltips\":[[\"Variable\",\"@{Variable}\"],[\"index\",\"@{index}\"],[\"value\",\"@{value}\"]]},\"id\":\"1971\",\"type\":\"HoverTool\"},{\"attributes\":{},\"id\":\"2010\",\"type\":\"Selection\"},{\"attributes\":{},\"id\":\"1979\",\"type\":\"CategoricalScale\"},{\"attributes\":{\"line_color\":\"#30a2da\",\"line_width\":2,\"x\":{\"field\":\"index\"},\"y\":{\"field\":\"value\"}},\"id\":\"2029\",\"type\":\"Line\"},{\"attributes\":{},\"id\":\"2004\",\"type\":\"CategoricalTickFormatter\"},{\"attributes\":{\"data\":{\"Variable\":[\"PC 3\",\"PC 3\",\"PC 3\",\"PC 3\",\"PC 3\",\"PC 3\",\"PC 3\",\"PC 3\",\"PC 3\",\"PC 3\",\"PC 3\",\"PC 3\",\"PC 3\",\"PC 3\",\"PC 3\",\"PC 3\",\"PC 3\",\"PC 3\",\"PC 3\",\"PC 3\",\"PC 3\",\"PC 3\",\"PC 3\",\"PC 3\",\"PC 3\",\"PC 3\",\"PC 3\",\"PC 3\",\"PC 3\",\"PC 3\",\"PC 3\",\"PC 3\",\"PC 3\",\"PC 3\",\"PC 3\",\"PC 3\",\"PC 3\",\"PC 3\",\"PC 3\",\"PC 3\",\"PC 3\",\"PC 3\",\"PC 3\",\"PC 3\",\"PC 3\",\"PC 3\",\"PC 3\",\"PC 3\",\"PC 3\",\"PC 3\",\"PC 3\",\"PC 3\",\"PC 3\",\"PC 3\",\"PC 3\",\"PC 3\",\"PC 3\",\"PC 3\",\"PC 3\",\"PC 3\",\"PC 3\",\"PC 3\",\"PC 3\",\"PC 3\",\"PC 3\",\"PC 3\",\"PC 3\",\"PC 3\",\"PC 3\",\"PC 3\",\"PC 3\",\"PC 3\",\"PC 3\",\"PC 3\",\"PC 3\",\"PC 3\",\"PC 3\",\"PC 3\",\"PC 3\",\"PC 3\",\"PC 3\",\"PC 3\",\"PC 3\",\"PC 3\",\"PC 3\",\"PC 3\",\"PC 3\",\"PC 3\",\"PC 3\",\"PC 3\",\"PC 3\",\"PC 3\",\"PC 3\",\"PC 3\",\"PC 3\",\"PC 3\",\"PC 3\",\"PC 3\",\"PC 3\",\"PC 3\",\"PC 3\",\"PC 3\",\"PC 3\",\"PC 3\",\"PC 3\",\"PC 3\",\"PC 3\",\"PC 3\",\"PC 3\",\"PC 3\",\"PC 3\",\"PC 3\",\"PC 3\",\"PC 3\",\"PC 3\",\"PC 3\",\"PC 3\",\"PC 3\",\"PC 3\",\"PC 3\",\"PC 3\",\"PC 3\",\"PC 3\",\"PC 3\",\"PC 3\",\"PC 3\",\"PC 3\",\"PC 3\",\"PC 3\",\"PC 3\",\"PC 3\",\"PC 3\",\"PC 3\",\"PC 3\",\"PC 3\",\"PC 3\",\"PC 3\",\"PC 3\",\"PC 3\",\"PC 3\",\"PC 3\",\"PC 3\",\"PC 3\",\"PC 3\",\"PC 3\",\"PC 3\",\"PC 3\",\"PC 3\",\"PC 3\",\"PC 3\",\"PC 3\",\"PC 3\",\"PC 3\",\"PC 3\",\"PC 3\",\"PC 3\",\"PC 3\",\"PC 3\",\"PC 3\",\"PC 3\",\"PC 3\",\"PC 3\",\"PC 3\",\"PC 3\",\"PC 3\",\"PC 3\",\"PC 3\",\"PC 3\",\"PC 3\",\"PC 3\",\"PC 3\",\"PC 3\",\"PC 3\",\"PC 3\",\"PC 3\",\"PC 3\",\"PC 3\",\"PC 3\",\"PC 3\",\"PC 3\",\"PC 3\",\"PC 3\",\"PC 3\",\"PC 3\",\"PC 3\",\"PC 3\",\"PC 3\",\"PC 3\",\"PC 3\",\"PC 3\",\"PC 3\",\"PC 3\",\"PC 3\",\"PC 3\",\"PC 3\",\"PC 3\",\"PC 3\",\"PC 3\",\"PC 3\",\"PC 3\",\"PC 3\",\"PC 3\",\"PC 3\",\"PC 3\",\"PC 3\",\"PC 3\",\"PC 3\",\"PC 3\",\"PC 3\",\"PC 3\",\"PC 3\",\"PC 3\",\"PC 3\",\"PC 3\",\"PC 3\",\"PC 3\",\"PC 3\",\"PC 3\",\"PC 3\",\"PC 3\",\"PC 3\",\"PC 3\",\"PC 3\",\"PC 3\",\"PC 3\",\"PC 3\",\"PC 3\",\"PC 3\",\"PC 3\",\"PC 3\",\"PC 3\",\"PC 3\",\"PC 3\",\"PC 3\",\"PC 3\",\"PC 3\",\"PC 3\",\"PC 3\",\"PC 3\",\"PC 3\",\"PC 3\",\"PC 3\",\"PC 3\",\"PC 3\",\"PC 3\",\"PC 3\",\"PC 3\",\"PC 3\",\"PC 3\",\"PC 3\",\"PC 3\",\"PC 3\",\"PC 3\",\"PC 3\",\"PC 3\",\"PC 3\",\"PC 3\",\"PC 3\",\"PC 3\",\"PC 3\",\"PC 3\",\"PC 3\",\"PC 3\",\"PC 3\",\"PC 3\",\"PC 3\",\"PC 3\",\"PC 3\",\"PC 3\",\"PC 3\",\"PC 3\",\"PC 3\",\"PC 3\",\"PC 3\",\"PC 3\",\"PC 3\",\"PC 3\",\"PC 3\",\"PC 3\",\"PC 3\",\"PC 3\",\"PC 3\",\"PC 3\",\"PC 3\",\"PC 3\",\"PC 3\",\"PC 3\",\"PC 3\",\"PC 3\",\"PC 3\",\"PC 3\",\"PC 3\",\"PC 3\",\"PC 3\",\"PC 3\",\"PC 3\",\"PC 3\",\"PC 3\",\"PC 3\",\"PC 3\",\"PC 3\",\"PC 3\",\"PC 3\",\"PC 3\",\"PC 3\",\"PC 3\",\"PC 3\",\"PC 3\",\"PC 3\",\"PC 3\",\"PC 3\",\"PC 3\",\"PC 3\",\"PC 3\",\"PC 3\",\"PC 3\",\"PC 3\",\"PC 3\",\"PC 3\",\"PC 3\",\"PC 3\",\"PC 3\",\"PC 3\",\"PC 3\",\"PC 3\",\"PC 3\",\"PC 3\",\"PC 3\",\"PC 3\",\"PC 3\",\"PC 3\",\"PC 3\",\"PC 3\",\"PC 3\",\"PC 3\",\"PC 3\",\"PC 3\",\"PC 3\",\"PC 3\",\"PC 3\",\"PC 3\",\"PC 3\",\"PC 3\",\"PC 3\",\"PC 3\",\"PC 3\",\"PC 3\",\"PC 3\",\"PC 3\",\"PC 3\",\"PC 3\",\"PC 3\",\"PC 3\",\"PC 3\",\"PC 3\",\"PC 3\",\"PC 3\",\"PC 3\",\"PC 3\",\"PC 3\",\"PC 3\",\"PC 3\",\"PC 3\",\"PC 3\",\"PC 3\",\"PC 3\",\"PC 3\",\"PC 3\",\"PC 3\",\"PC 3\",\"PC 3\",\"PC 3\",\"PC 3\",\"PC 3\",\"PC 3\",\"PC 3\",\"PC 3\",\"PC 3\",\"PC 3\",\"PC 3\",\"PC 3\",\"PC 3\",\"PC 3\",\"PC 3\",\"PC 3\",\"PC 3\",\"PC 3\",\"PC 3\",\"PC 3\",\"PC 3\",\"PC 3\",\"PC 3\",\"PC 3\",\"PC 3\",\"PC 3\",\"PC 3\",\"PC 3\",\"PC 3\",\"PC 3\",\"PC 3\",\"PC 3\",\"PC 3\",\"PC 3\",\"PC 3\",\"PC 3\",\"PC 3\",\"PC 3\",\"PC 3\",\"PC 3\",\"PC 3\",\"PC 3\",\"PC 3\",\"PC 3\",\"PC 3\",\"PC 3\",\"PC 3\",\"PC 3\",\"PC 3\",\"PC 3\",\"PC 3\",\"PC 3\",\"PC 3\",\"PC 3\",\"PC 3\",\"PC 3\",\"PC 3\",\"PC 3\",\"PC 3\",\"PC 3\",\"PC 3\",\"PC 3\",\"PC 3\",\"PC 3\",\"PC 3\",\"PC 3\",\"PC 3\",\"PC 3\",\"PC 3\",\"PC 3\",\"PC 3\",\"PC 3\",\"PC 3\",\"PC 3\",\"PC 3\",\"PC 3\",\"PC 3\",\"PC 3\",\"PC 3\",\"PC 3\",\"PC 3\",\"PC 3\",\"PC 3\",\"PC 3\",\"PC 3\",\"PC 3\",\"PC 3\",\"PC 3\",\"PC 3\",\"PC 3\",\"PC 3\",\"PC 3\",\"PC 3\",\"PC 3\",\"PC 3\",\"PC 3\",\"PC 3\",\"PC 3\",\"PC 3\",\"PC 3\",\"PC 3\",\"PC 3\",\"PC 3\",\"PC 3\",\"PC 3\",\"PC 3\",\"PC 3\",\"PC 3\",\"PC 3\",\"PC 3\",\"PC 3\",\"PC 3\",\"PC 3\",\"PC 3\",\"PC 3\",\"PC 3\",\"PC 3\",\"PC 3\",\"PC 3\",\"PC 3\",\"PC 3\",\"PC 3\",\"PC 3\",\"PC 3\",\"PC 3\",\"PC 3\",\"PC 3\",\"PC 3\",\"PC 3\",\"PC 3\",\"PC 3\",\"PC 3\",\"PC 3\",\"PC 3\",\"PC 3\",\"PC 3\",\"PC 3\",\"PC 3\",\"PC 3\",\"PC 3\",\"PC 3\",\"PC 3\",\"PC 3\",\"PC 3\",\"PC 3\",\"PC 3\",\"PC 3\",\"PC 3\",\"PC 3\",\"PC 3\",\"PC 3\",\"PC 3\",\"PC 3\",\"PC 3\",\"PC 3\",\"PC 3\",\"PC 3\",\"PC 3\",\"PC 3\",\"PC 3\",\"PC 3\",\"PC 3\",\"PC 3\"],\"index\":[\"42\",\"404\",\"1337\",\"BTC\",\"ETH\",\"LTC\",\"DASH\",\"XMR\",\"ETC\",\"ZEC\",\"BTS\",\"DGB\",\"BTCD\",\"XPY\",\"PRC\",\"KOBO\",\"SPR\",\"ARG\",\"AUR\",\"BLU\",\"XMY\",\"MOON\",\"ZET\",\"SXC\",\"QTL\",\"ENRG\",\"QRK\",\"RIC\",\"DGC\",\"BTB\",\"CAT\",\"CBX\",\"CCN\",\"CRYPT\",\"CSC\",\"DMD\",\"XVG\",\"DVC\",\"EAC\",\"EFL\",\"EMC2\",\"EMD\",\"EXCL\",\"FLT\",\"FRK\",\"FTC\",\"GDC\",\"GLC\",\"GLD\",\"HBN\",\"HYP\",\"IFC\",\"IOC\",\"IXC\",\"KGC\",\"LKY\",\"LTB\",\"MAX\",\"MEC\",\"MED\",\"MINT\",\"MINC\",\"MZC\",\"NAUT\",\"NAV\",\"NOBL\",\"NMC\",\"NYAN\",\"OPAL\",\"ORB\",\"POT\",\"PXC\",\"RDD\",\"RPC\",\"SBC\",\"SMC\",\"SUPER\",\"SYNC\",\"SYS\",\"TES\",\"TGC\",\"TIT\",\"TOR\",\"TRC\",\"UNB\",\"UNO\",\"URO\",\"USDE\",\"UTC\",\"VIA\",\"VRC\",\"VTC\",\"WDC\",\"XC\",\"XCR\",\"XJO\",\"XST\",\"ZCC\",\"BCN\",\"XDN\",\"BURST\",\"SJCX\",\"MONA\",\"NTRN\",\"FAIR\",\"NLG\",\"RBY\",\"PTC\",\"KORE\",\"WBB\",\"NOTE\",\"FLO\",\"8BIT\",\"STV\",\"ABY\",\"FLDC\",\"U\",\"UIS\",\"CYP\",\"OMC\",\"VTR\",\"GRE\",\"XCN\",\"MSC\",\"SOON\",\"1CR\",\"ISL\",\"NXS\",\"MARS\",\"CTO\",\"ACP\",\"DRZ\",\"BSC\",\"SQL\",\"SONG\",\"ZNY\",\"DIGS\",\"EXP\",\"CON\",\"SC\",\"EMC\",\"EGC\",\"MND\",\"I0C\",\"DCR\",\"RVR\",\"HODL\",\"EDRC\",\"HTC\",\"GAME\",\"DBIC\",\"DIEM\",\"PWR\",\"BLRY\",\"GPU\",\"ADZ\",\"SOIL\",\"YOC\",\"SIB\",\"ERC\",\"ZEIT\",\"SWING\",\"SAFEX\",\"NEBU\",\"FRN\",\"BOLI\",\"XRA\",\"REV\",\"CKC\",\"VIP\",\"BSD\",\"OMNI\",\"LIR\",\"PUT\",\"IBANK\",\"FRWC\",\"MUDRA\",\"PIZZA\",\"LC\",\"KMD\",\"GB\",\"CTC\",\"KRB\",\"BXT\",\"ZYD\",\"MST\",\"ZNE\",\"COVAL\",\"ROOT\",\"DOPE\",\"BTCR\",\"DLC\",\"SCN\",\"SH\",\"BUZZ\",\"XPO\",\"PSB\",\"HALLO\",\"XZC\",\"CFC\",\"ROYAL\",\"GNJ\",\"TEAM\",\"LANA\",\"ELE\",\"ZCL\",\"ARK\",\"INSANE\",\"KLC\",\"ATX\",\"EMB\",\"XEN\",\"FRE\",\"PLNC\",\"ARCO\",\"KURT\",\"XCRE\",\"ENT\",\"EUC\",\"BCF\",\"XSN\",\"BCCOIN\",\"MONEY\",\"XNG\",\"XCI\",\"RC\",\"PND\",\"UNITS\",\"GAKH\",\"ASAFE2\",\"LTCR\",\"OS76\",\"BIC\",\"HXX\",\"KED\",\"IOP\",\"KUSH\",\"PRX\",\"PAC\",\"IMPCH\",\"CTL\",\"ZBC\",\"FRST\",\"BVC\",\"FIND\",\"VLTC\",\"ZER\",\"CHAT\",\"CDN\",\"ZOI\",\"RNS\",\"DBIX\",\"XVP\",\"TAJ\",\"IMX\",\"EB3\",\"ATMOS\",\"HPC\",\"CXT\",\"MCRN\",\"RAIN\",\"IMS\",\"ARGUS\",\"LMC\",\"PROC\",\"XGR\",\"BENJI\",\"GRW\",\"ILC\",\"PHR\",\"DEA\",\"HTML5\",\"USC\",\"EQT\",\"QTUM\",\"QRL\",\"ESP\",\"DYN\",\"NANO\",\"CHAN\",\"DCY\",\"DNR\",\"DP\",\"VUC\",\"BTPL\",\"UNIFY\",\"BRIT\",\"SOCC\",\"ARC\",\"DAS\",\"LINDA\",\"XLC\",\"ONION\",\"BTX\",\"GCN\",\"SMART\",\"SIGT\",\"ONX\",\"CRM\",\"BCH\",\"XMCC\",\"DFT\",\"VET\",\"SOJ\",\"STCN\",\"NYC\",\"FRAZ\",\"KRONE\",\"ACC\",\"LINX\",\"XCXT\",\"ETHD\",\"SUMO\",\"ODN\",\"ADA\",\"REC\",\"BTCZ\",\"TZC\",\"ELM\",\"TER\",\"VIVO\",\"RUP\",\"BTG\",\"WOMEN\",\"MAY\",\"NAMO\",\"LUX\",\"PIRL\",\"XIOS\",\"BTDX\",\"EBST\",\"KEK\",\"BLHC\",\"XIN\",\"PURA\",\"INN\",\"ELLA\",\"GBX\",\"MAG\",\"TAU\",\"ECA\",\"BCD\",\"XSH\",\"CNBC\",\"XUN\",\"COAL\",\"DAXX\",\"BWK\",\"KLKS\",\"AC3\",\"LTHN\",\"GER\",\"LTCU\",\"POP\",\"PNX\",\"PHO\",\"SUCR\",\"SPK\",\"WAGE\",\"GUN\",\"IRL\",\"TROLL\",\"LCP\",\"MONK\",\"PCOIN\",\"UBTC\",\"ITZ\",\"TPAY\",\"MCT\",\"MBC\",\"TRTL\",\"MUN\",\"USX\",\"NBR\",\"SSS\",\"TRF\",\"KREDS\",\"TOKC\",\"BBP\",\"LCC\",\"FLIP\",\"LOT\",\"CIF\",\"SPD\",\"POA\",\"PUSHI\",\"ELP\",\"VLX\",\"ONT\",\"CLO\",\"TUBE\",\"PSD\",\"ADK\",\"BSX\",\"BRIA\",\"IC\",\"BTL\",\"MEDIC\",\"ALPS\",\"BITG\",\"DEV\",\"ABJ\",\"SEM\",\"FTO\",\"CARE\",\"NZL\",\"XMC\",\"PROTON\",\"DEAL\",\"JUMP\",\"INFX\",\"XBI\",\"KEC\",\"HWC\",\"GIN\",\"PLTC\",\"LOKI\",\"NCP\",\"SIC\",\"XT3\",\"MGD\",\"VIG\",\"PLURA\",\"EMAR\",\"DKD\",\"LYNX\",\"POSQ\",\"BWS\",\"MUSE\",\"XMN\",\"PLUS1\",\"AXE\",\"TRVC\",\"DTEM\",\"GIC\",\"PNY\",\"ABS\",\"VITAE\",\"HEX\",\"TPC\",\"WEBC\",\"RYO\",\"URALS\",\"QWC\",\"ARE\",\"EUNO\",\"MMO\",\"KETAN\",\"PPAI\",\"XDNA\",\"PAXEX\",\"AZART\",\"TSC\",\"KCASH\",\"XCG\",\"AAC\",\"CRYP\",\"BTXC\",\"ACM\",\"BSV\",\"BITM\",\"JMC\",\"FRED\",\"HERB\",\"UMO\",\"LIT\",\"PIRATE\",\"EXO\",\"BLTG\",\"OWC\",\"BEAM\",\"GALI\",\"BTH\",\"CSPN\",\"CREDIT\",\"SLC\",\"DASHP\",\"NSD\",\"BEET\",\"TTN\",\"AWR\",\"BLAST\",\"XRC\",\"GLT\",\"INSN\",\"ALX\",\"LDOGE\",\"SLR\",\"TRK\",\"UFO\",\"OC\",\"BLC\",\"BITS\",\"NEOS\",\"HYPER\",\"PINK\",\"CESC\",\"ADC\",\"NKA\",\"PIGGY\",\"CRW\",\"GEN\",\"SMLY\",\"MI\",\"GRS\",\"CPC\",\"CLUB\",\"RADS\",\"BTA\",\"PAK\",\"CRB\",\"OK\",\"LSK\",\"XHI\",\"XWC\",\"FSC\",\"J\",\"TRI\",\"VOLLAR\",\"EOS\",\"RCC\",\"OXY\",\"TCH\",\"WAVES\",\"PART\",\"BTT\",\"NXT\",\"ZEPH\",\"GAP\",\"BDX\",\"ZEN\",\"XBC\"],\"value\":{\"__ndarray__\":\"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\",\"dtype\":\"float64\",\"order\":\"little\",\"shape\":[532]}},\"selected\":{\"id\":\"2053\"},\"selection_policy\":{\"id\":\"2071\"}},\"id\":\"2052\",\"type\":\"ColumnDataSource\"},{\"attributes\":{\"line_color\":\"#30a2da\",\"line_width\":2,\"x\":{\"field\":\"index\"},\"y\":{\"field\":\"value\"}},\"id\":\"2012\",\"type\":\"Line\"},{\"attributes\":{\"label\":{\"value\":\"PC 2\"},\"renderers\":[{\"id\":\"2036\"}]},\"id\":\"2050\",\"type\":\"LegendItem\"},{\"attributes\":{\"line_color\":\"#fc4f30\",\"line_width\":2,\"x\":{\"field\":\"index\"},\"y\":{\"field\":\"value\"}},\"id\":\"2033\",\"type\":\"Line\"},{\"attributes\":{},\"id\":\"2005\",\"type\":\"AllLabels\"},{\"attributes\":{\"line_color\":\"#fc4f30\",\"line_width\":2,\"x\":{\"field\":\"index\"},\"y\":{\"field\":\"value\"}},\"id\":\"2051\",\"type\":\"Line\"},{\"attributes\":{},\"id\":\"1981\",\"type\":\"LinearScale\"}],\"root_ids\":[\"1968\"]},\"title\":\"Bokeh Application\",\"version\":\"2.4.3\"}};\n",
       "    var render_items = [{\"docid\":\"bbda2ad9-9fd6-4f30-9a77-aaa73c3f8bc6\",\"root_ids\":[\"1968\"],\"roots\":{\"1968\":\"53d66b62-0be3-47ba-8ca2-6858c3c98080\"}}];\n",
       "    root.Bokeh.embed.embed_items_notebook(docs_json, render_items);\n",
       "    for (const render_item of render_items) {\n",
       "      for (const root_id of render_item.root_ids) {\n",
       "\tconst id_el = document.getElementById(root_id)\n",
       "\tif (id_el.children.length && (id_el.children[0].className === 'bk-root')) {\n",
       "\t  const root_el = id_el.children[0]\n",
       "\t  root_el.id = root_el.id + '-rendered'\n",
       "\t}\n",
       "      }\n",
       "    }\n",
       "  }\n",
       "  if (root.Bokeh !== undefined && root.Bokeh.Panel !== undefined) {\n",
       "    embed_document(root);\n",
       "  } else {\n",
       "    var attempts = 0;\n",
       "    var timer = setInterval(function(root) {\n",
       "      if (root.Bokeh !== undefined && root.Bokeh.Panel !== undefined) {\n",
       "        clearInterval(timer);\n",
       "        embed_document(root);\n",
       "      } else if (document.readyState == \"complete\") {\n",
       "        attempts++;\n",
       "        if (attempts > 200) {\n",
       "          clearInterval(timer);\n",
       "          console.log(\"Bokeh: ERROR: Unable to run BokehJS code because BokehJS library is missing\");\n",
       "        }\n",
       "      }\n",
       "    }, 25, root)\n",
       "  }\n",
       "})(window);</script>"
      ],
      "text/plain": [
       ":NdOverlay   [Variable]\n",
       "   :Curve   [index]   (value)"
      ]
     },
     "execution_count": 61,
     "metadata": {
      "application/vnd.holoviews_exec.v0+json": {
       "id": "1968"
      }
     },
     "output_type": "execute_result"
    }
   ],
   "source": [
    "# Create an elbow curve to find the best value for K.\n",
    "inertia = []\n",
    "k = list(range(1,11))\n",
    "\n",
    "for i in k:\n",
    "    km = KMeans(n_clusters=i, random_state=0)\n",
    "    km.fit(pc3_df)\n",
    "    inertia.append(km.inertia_)\n",
    "    \n",
    "elbow_data = {\"k\": k, \"inertia\": inertia}\n",
    "df_elbow = pd.DataFrame(elbow_data)\n",
    "\n",
    "plt.plot(df_elbow['k'], df_elbow['inertia'])\n",
    "plt.xticks(list(range(11)))\n",
    "plt.title('Elbow Curve')\n",
    "plt.xlabel('Number of clusters')\n",
    "plt.ylabel('Inertia')\n",
    "plt.show()\n",
    "pc3_df.hvplot()"
   ]
  },
  {
   "cell_type": "markdown",
   "metadata": {},
   "source": [
    "Running K-Means with `k=4`"
   ]
  },
  {
   "cell_type": "code",
   "execution_count": 62,
   "metadata": {},
   "outputs": [],
   "source": [
    "# Initialize the K-Means model.\n",
    "model = KMeans(n_clusters=4, random_state=0)\n",
    "\n",
    "# Fit the model\n",
    "model.fit(pc3_df)\n",
    "\n",
    "# Predict clusters\n",
    "predictions = model.predict(pc3_df)"
   ]
  },
  {
   "cell_type": "code",
   "execution_count": 63,
   "metadata": {},
   "outputs": [
    {
     "name": "stdout",
     "output_type": "stream",
     "text": [
      "(532, 9)\n"
     ]
    },
    {
     "data": {
      "text/html": [
       "<div>\n",
       "<style scoped>\n",
       "    .dataframe tbody tr th:only-of-type {\n",
       "        vertical-align: middle;\n",
       "    }\n",
       "\n",
       "    .dataframe tbody tr th {\n",
       "        vertical-align: top;\n",
       "    }\n",
       "\n",
       "    .dataframe thead th {\n",
       "        text-align: right;\n",
       "    }\n",
       "</style>\n",
       "<table border=\"1\" class=\"dataframe\">\n",
       "  <thead>\n",
       "    <tr style=\"text-align: right;\">\n",
       "      <th></th>\n",
       "      <th>Algorithm</th>\n",
       "      <th>ProofType</th>\n",
       "      <th>TotalCoinsMined</th>\n",
       "      <th>TotalCoinSupply</th>\n",
       "      <th>PC 1</th>\n",
       "      <th>PC 2</th>\n",
       "      <th>PC 3</th>\n",
       "      <th>CoinName</th>\n",
       "      <th>Class</th>\n",
       "    </tr>\n",
       "  </thead>\n",
       "  <tbody>\n",
       "    <tr>\n",
       "      <th>42</th>\n",
       "      <td>Scrypt</td>\n",
       "      <td>PoW/PoS</td>\n",
       "      <td>4.199995e+01</td>\n",
       "      <td>42</td>\n",
       "      <td>-0.335539</td>\n",
       "      <td>1.031658</td>\n",
       "      <td>-0.581945</td>\n",
       "      <td>42 Coin</td>\n",
       "      <td>0</td>\n",
       "    </tr>\n",
       "    <tr>\n",
       "      <th>404</th>\n",
       "      <td>Scrypt</td>\n",
       "      <td>PoW/PoS</td>\n",
       "      <td>1.055185e+09</td>\n",
       "      <td>532000000</td>\n",
       "      <td>-0.318868</td>\n",
       "      <td>1.031762</td>\n",
       "      <td>-0.582417</td>\n",
       "      <td>404Coin</td>\n",
       "      <td>0</td>\n",
       "    </tr>\n",
       "    <tr>\n",
       "      <th>1337</th>\n",
       "      <td>X13</td>\n",
       "      <td>PoW/PoS</td>\n",
       "      <td>2.927942e+10</td>\n",
       "      <td>314159265359</td>\n",
       "      <td>2.313247</td>\n",
       "      <td>1.654668</td>\n",
       "      <td>-0.672292</td>\n",
       "      <td>EliteCoin</td>\n",
       "      <td>0</td>\n",
       "    </tr>\n",
       "    <tr>\n",
       "      <th>BTC</th>\n",
       "      <td>SHA-256</td>\n",
       "      <td>PoW</td>\n",
       "      <td>1.792718e+07</td>\n",
       "      <td>21000000</td>\n",
       "      <td>-0.144542</td>\n",
       "      <td>-1.293910</td>\n",
       "      <td>0.180505</td>\n",
       "      <td>Bitcoin</td>\n",
       "      <td>3</td>\n",
       "    </tr>\n",
       "    <tr>\n",
       "      <th>ETH</th>\n",
       "      <td>Ethash</td>\n",
       "      <td>PoW</td>\n",
       "      <td>1.076842e+08</td>\n",
       "      <td>0</td>\n",
       "      <td>-0.151939</td>\n",
       "      <td>-2.028956</td>\n",
       "      <td>0.395943</td>\n",
       "      <td>Ethereum</td>\n",
       "      <td>3</td>\n",
       "    </tr>\n",
       "    <tr>\n",
       "      <th>LTC</th>\n",
       "      <td>Scrypt</td>\n",
       "      <td>PoW</td>\n",
       "      <td>6.303924e+07</td>\n",
       "      <td>84000000</td>\n",
       "      <td>-0.167340</td>\n",
       "      <td>-1.121618</td>\n",
       "      <td>-0.006738</td>\n",
       "      <td>Litecoin</td>\n",
       "      <td>3</td>\n",
       "    </tr>\n",
       "    <tr>\n",
       "      <th>DASH</th>\n",
       "      <td>X11</td>\n",
       "      <td>PoW/PoS</td>\n",
       "      <td>9.031294e+06</td>\n",
       "      <td>22000000</td>\n",
       "      <td>-0.396839</td>\n",
       "      <td>1.222196</td>\n",
       "      <td>-0.510141</td>\n",
       "      <td>Dash</td>\n",
       "      <td>0</td>\n",
       "    </tr>\n",
       "    <tr>\n",
       "      <th>XMR</th>\n",
       "      <td>CryptoNight-V7</td>\n",
       "      <td>PoW</td>\n",
       "      <td>1.720114e+07</td>\n",
       "      <td>0</td>\n",
       "      <td>-0.153602</td>\n",
       "      <td>-2.223460</td>\n",
       "      <td>0.346151</td>\n",
       "      <td>Monero</td>\n",
       "      <td>3</td>\n",
       "    </tr>\n",
       "    <tr>\n",
       "      <th>ETC</th>\n",
       "      <td>Ethash</td>\n",
       "      <td>PoW</td>\n",
       "      <td>1.133597e+08</td>\n",
       "      <td>210000000</td>\n",
       "      <td>-0.150380</td>\n",
       "      <td>-2.029065</td>\n",
       "      <td>0.395919</td>\n",
       "      <td>Ethereum Classic</td>\n",
       "      <td>3</td>\n",
       "    </tr>\n",
       "    <tr>\n",
       "      <th>ZEC</th>\n",
       "      <td>Equihash</td>\n",
       "      <td>PoW</td>\n",
       "      <td>7.383056e+06</td>\n",
       "      <td>21000000</td>\n",
       "      <td>-0.132708</td>\n",
       "      <td>-2.087579</td>\n",
       "      <td>0.445020</td>\n",
       "      <td>ZCash</td>\n",
       "      <td>3</td>\n",
       "    </tr>\n",
       "  </tbody>\n",
       "</table>\n",
       "</div>"
      ],
      "text/plain": [
       "           Algorithm ProofType  TotalCoinsMined TotalCoinSupply      PC 1  \\\n",
       "42            Scrypt   PoW/PoS     4.199995e+01              42 -0.335539   \n",
       "404           Scrypt   PoW/PoS     1.055185e+09       532000000 -0.318868   \n",
       "1337             X13   PoW/PoS     2.927942e+10    314159265359  2.313247   \n",
       "BTC          SHA-256       PoW     1.792718e+07        21000000 -0.144542   \n",
       "ETH           Ethash       PoW     1.076842e+08               0 -0.151939   \n",
       "LTC           Scrypt       PoW     6.303924e+07        84000000 -0.167340   \n",
       "DASH             X11   PoW/PoS     9.031294e+06        22000000 -0.396839   \n",
       "XMR   CryptoNight-V7       PoW     1.720114e+07               0 -0.153602   \n",
       "ETC           Ethash       PoW     1.133597e+08       210000000 -0.150380   \n",
       "ZEC         Equihash       PoW     7.383056e+06        21000000 -0.132708   \n",
       "\n",
       "          PC 2      PC 3          CoinName  Class  \n",
       "42    1.031658 -0.581945           42 Coin      0  \n",
       "404   1.031762 -0.582417           404Coin      0  \n",
       "1337  1.654668 -0.672292         EliteCoin      0  \n",
       "BTC  -1.293910  0.180505           Bitcoin      3  \n",
       "ETH  -2.028956  0.395943          Ethereum      3  \n",
       "LTC  -1.121618 -0.006738          Litecoin      3  \n",
       "DASH  1.222196 -0.510141              Dash      0  \n",
       "XMR  -2.223460  0.346151            Monero      3  \n",
       "ETC  -2.029065  0.395919  Ethereum Classic      3  \n",
       "ZEC  -2.087579  0.445020             ZCash      3  "
      ]
     },
     "execution_count": 63,
     "metadata": {},
     "output_type": "execute_result"
    }
   ],
   "source": [
    "# Create a new DataFrame including predicted clusters and cryptocurrencies features.\n",
    "# Concatentate the crypto_df and pcs_df DataFrames on the same columns.\n",
    "clustered_df = crypto_df.join(pc3_df,how='inner')\n",
    "\n",
    "#  Add a new column, \"CoinName\" to the clustered_df DataFrame that holds the names of the cryptocurrencies. \n",
    "clustered_df['CoinName'] = crypto_names_df['CoinName']\n",
    "\n",
    "#  Add a new column, \"Class\" to the clustered_df DataFrame that holds the predictions.\n",
    "clustered_df['Class'] = predictions\n",
    "\n",
    "# Print the shape of the clustered_df\n",
    "print(clustered_df.shape)\n",
    "clustered_df.head(10)"
   ]
  },
  {
   "cell_type": "markdown",
   "metadata": {},
   "source": [
    "### Deliverable 4: Visualizing Cryptocurrencies Results\n",
    "\n",
    "#### 3D-Scatter with Clusters"
   ]
  },
  {
   "cell_type": "code",
   "execution_count": 64,
   "metadata": {},
   "outputs": [
    {
     "data": {
      "application/vnd.plotly.v1+json": {
       "config": {
        "plotlyServerURL": "https://plot.ly"
       },
       "data": [
        {
         "customdata": [
          [
           "Scrypt"
          ],
          [
           "Scrypt"
          ],
          [
           "X13"
          ],
          [
           "X11"
          ],
          [
           "SHA-512"
          ],
          [
           "SHA-256"
          ],
          [
           "SHA-256"
          ],
          [
           "X15"
          ],
          [
           "Scrypt"
          ],
          [
           "Scrypt"
          ],
          [
           "Scrypt"
          ],
          [
           "Scrypt"
          ],
          [
           "Scrypt"
          ],
          [
           "Scrypt"
          ],
          [
           "Groestl"
          ],
          [
           "PoS"
          ],
          [
           "Scrypt"
          ],
          [
           "Scrypt"
          ],
          [
           "X11"
          ],
          [
           "X11"
          ],
          [
           "SHA3"
          ],
          [
           "Scrypt"
          ],
          [
           "SHA-256"
          ],
          [
           "Scrypt"
          ],
          [
           "X13"
          ],
          [
           "X13"
          ],
          [
           "NeoScrypt"
          ],
          [
           "Scrypt"
          ],
          [
           "Scrypt"
          ],
          [
           "Scrypt"
          ],
          [
           "X11"
          ],
          [
           "X11"
          ],
          [
           "Multiple"
          ],
          [
           "PHI1612"
          ],
          [
           "X11"
          ],
          [
           "Scrypt"
          ],
          [
           "Scrypt"
          ],
          [
           "Scrypt"
          ],
          [
           "X11"
          ],
          [
           "Multiple"
          ],
          [
           "X13"
          ],
          [
           "Scrypt"
          ],
          [
           "Shabal256"
          ],
          [
           "Counterparty"
          ],
          [
           "SHA-256"
          ],
          [
           "Groestl"
          ],
          [
           "Scrypt"
          ],
          [
           "X13"
          ],
          [
           "Scrypt"
          ],
          [
           "Scrypt"
          ],
          [
           "X13"
          ],
          [
           "X11"
          ],
          [
           "Scrypt"
          ],
          [
           "X11"
          ],
          [
           "SHA3"
          ],
          [
           "QUAIT"
          ],
          [
           "X11"
          ],
          [
           "Scrypt"
          ],
          [
           "X13"
          ],
          [
           "SHA-256"
          ],
          [
           "X15"
          ],
          [
           "BLAKE256"
          ],
          [
           "SHA-256"
          ],
          [
           "X11"
          ],
          [
           "SHA-256"
          ],
          [
           "NIST5"
          ],
          [
           "Scrypt"
          ],
          [
           "Scrypt"
          ],
          [
           "X11"
          ],
          [
           "Scrypt"
          ],
          [
           "SHA-256"
          ],
          [
           "Scrypt"
          ],
          [
           "PoS"
          ],
          [
           "X11"
          ],
          [
           "SHA-256"
          ],
          [
           "SHA-256"
          ],
          [
           "NIST5"
          ],
          [
           "X11"
          ],
          [
           "POS 3.0"
          ],
          [
           "Scrypt"
          ],
          [
           "Scrypt"
          ],
          [
           "Scrypt"
          ],
          [
           "X13"
          ],
          [
           "X11"
          ],
          [
           "X11"
          ],
          [
           "Scrypt"
          ],
          [
           "SHA-256"
          ],
          [
           "X11"
          ],
          [
           "Scrypt"
          ],
          [
           "Scrypt"
          ],
          [
           "Scrypt"
          ],
          [
           "Scrypt"
          ],
          [
           "SHA-256D"
          ],
          [
           "PoS"
          ],
          [
           "Scrypt"
          ],
          [
           "X11"
          ],
          [
           "PoS"
          ],
          [
           "X13"
          ],
          [
           "X14"
          ],
          [
           "PoS"
          ],
          [
           "SHA-256D"
          ],
          [
           "DPoS"
          ],
          [
           "X11"
          ],
          [
           "X13"
          ],
          [
           "X11"
          ],
          [
           "PoS"
          ],
          [
           "Scrypt"
          ],
          [
           "Scrypt"
          ],
          [
           "PoS"
          ],
          [
           "X11"
          ],
          [
           "SHA-256"
          ],
          [
           "Scrypt"
          ],
          [
           "X11"
          ],
          [
           "Scrypt"
          ],
          [
           "Scrypt"
          ],
          [
           "X11"
          ],
          [
           "Scrypt"
          ],
          [
           "Scrypt"
          ],
          [
           "Scrypt"
          ],
          [
           "Scrypt"
          ],
          [
           "Quark"
          ],
          [
           "QuBit"
          ],
          [
           "Scrypt"
          ],
          [
           "SHA-256"
          ],
          [
           "X11"
          ],
          [
           "Scrypt"
          ],
          [
           "Scrypt"
          ],
          [
           "Scrypt"
          ],
          [
           "Scrypt"
          ],
          [
           "X13"
          ],
          [
           "Scrypt"
          ],
          [
           "Scrypt"
          ],
          [
           "X11"
          ],
          [
           "Blake2S"
          ],
          [
           "X11"
          ],
          [
           "PoS"
          ],
          [
           "X11"
          ],
          [
           "PoS"
          ],
          [
           "X11"
          ],
          [
           "Scrypt"
          ],
          [
           "Scrypt"
          ],
          [
           "Scrypt"
          ],
          [
           "SHA-256"
          ],
          [
           "X11"
          ],
          [
           "Scrypt"
          ],
          [
           "PoS"
          ],
          [
           "Scrypt"
          ],
          [
           "X15"
          ],
          [
           "SHA-256"
          ],
          [
           "POS 3.0"
          ],
          [
           "536"
          ],
          [
           "NIST5"
          ],
          [
           "NIST5"
          ],
          [
           "Skein"
          ],
          [
           "X13"
          ],
          [
           "Scrypt"
          ],
          [
           "X13"
          ],
          [
           "SkunkHash v2 Raptor"
          ],
          [
           "Skein"
          ],
          [
           "X11"
          ],
          [
           "Scrypt"
          ],
          [
           "PoS"
          ],
          [
           "Scrypt"
          ],
          [
           "Scrypt"
          ],
          [
           "SHA-512"
          ],
          [
           "Ouroboros"
          ],
          [
           "X11"
          ],
          [
           "NeoScrypt"
          ],
          [
           "Scrypt"
          ],
          [
           "Lyra2REv2"
          ],
          [
           "Scrypt"
          ],
          [
           "SHA-256"
          ],
          [
           "NIST5"
          ],
          [
           "PHI1612"
          ],
          [
           "Scrypt"
          ],
          [
           "Quark"
          ],
          [
           "POS 2.0"
          ],
          [
           "Scrypt"
          ],
          [
           "SHA-256"
          ],
          [
           "X11"
          ],
          [
           "DPoS"
          ],
          [
           "NIST5"
          ],
          [
           "X13"
          ],
          [
           "Scrypt"
          ],
          [
           "NIST5"
          ],
          [
           "Quark"
          ],
          [
           "Scrypt"
          ],
          [
           "Scrypt"
          ],
          [
           "X11"
          ],
          [
           "Quark"
          ],
          [
           "Scrypt"
          ],
          [
           "Scrypt"
          ],
          [
           "X11"
          ],
          [
           "POS 3.0"
          ],
          [
           "Ethash"
          ],
          [
           "Scrypt"
          ],
          [
           "Scrypt"
          ],
          [
           "X13"
          ],
          [
           "Proof-of-BibleHash"
          ],
          [
           "C11"
          ],
          [
           "X11"
          ],
          [
           "XEVAN"
          ],
          [
           "Scrypt"
          ],
          [
           "VBFT"
          ],
          [
           "NIST5"
          ],
          [
           "Scrypt"
          ],
          [
           "Scrypt"
          ],
          [
           "Scrypt"
          ],
          [
           "Green Protocol"
          ],
          [
           "PoS"
          ],
          [
           "Scrypt"
          ],
          [
           "Semux BFT consensus"
          ],
          [
           "Quark"
          ],
          [
           "PoS"
          ],
          [
           "X16R"
          ],
          [
           "Scrypt"
          ],
          [
           "XEVAN"
          ],
          [
           "Scrypt"
          ],
          [
           "Scrypt"
          ],
          [
           "Scrypt"
          ],
          [
           "SHA-256D"
          ],
          [
           "Scrypt"
          ],
          [
           "X15"
          ],
          [
           "Scrypt"
          ],
          [
           "Quark"
          ],
          [
           "SHA-256"
          ],
          [
           "DPoS"
          ],
          [
           "X16R"
          ],
          [
           "Quark"
          ],
          [
           "Quark"
          ],
          [
           "Scrypt"
          ],
          [
           "Lyra2REv2"
          ],
          [
           "Quark"
          ],
          [
           "Scrypt"
          ],
          [
           "X11"
          ],
          [
           "X11"
          ],
          [
           "Scrypt"
          ],
          [
           "PoS"
          ],
          [
           "Keccak"
          ],
          [
           "X11"
          ],
          [
           "Scrypt"
          ],
          [
           "SHA-512"
          ],
          [
           "XEVAN"
          ],
          [
           "XEVAN"
          ],
          [
           "X11"
          ],
          [
           "Quark"
          ],
          [
           "Scrypt"
          ],
          [
           "Quark"
          ],
          [
           "Quark"
          ],
          [
           "Scrypt"
          ],
          [
           "X11"
          ],
          [
           "Scrypt"
          ],
          [
           "XEVAN"
          ],
          [
           "SHA-256D"
          ],
          [
           "X11"
          ],
          [
           "X11"
          ],
          [
           "DPoS"
          ],
          [
           "Scrypt"
          ],
          [
           "X11"
          ],
          [
           "Scrypt"
          ],
          [
           "Scrypt"
          ],
          [
           "SHA-256"
          ],
          [
           "Scrypt"
          ],
          [
           "X11"
          ],
          [
           "Scrypt"
          ],
          [
           "SHA-256"
          ],
          [
           "X11"
          ],
          [
           "Scrypt"
          ],
          [
           "Scrypt"
          ],
          [
           "X11"
          ],
          [
           "Scrypt"
          ],
          [
           "PoS"
          ],
          [
           "X11"
          ],
          [
           "SHA-256"
          ],
          [
           "DPoS"
          ],
          [
           "Scrypt"
          ],
          [
           "Scrypt"
          ],
          [
           "NeoScrypt"
          ],
          [
           "X13"
          ],
          [
           "DPoS"
          ],
          [
           "DPoS"
          ],
          [
           "SHA-256"
          ],
          [
           "PoS"
          ],
          [
           "PoS"
          ],
          [
           "SHA-256"
          ],
          [
           "Scrypt"
          ],
          [
           "Scrypt"
          ]
         ],
         "hovertemplate": "<b>%{hovertext}</b><br><br>Class=%{marker.color}<br>PC 1=%{x}<br>PC 2=%{y}<br>PC 3=%{z}<br>Algorithm=%{customdata[0]}<extra></extra>",
         "hovertext": [
          "42 Coin",
          "404Coin",
          "EliteCoin",
          "Dash",
          "Bitshares",
          "BitcoinDark",
          "PayCoin",
          "KoboCoin",
          "Aurora Coin",
          "BlueCoin",
          "EnergyCoin",
          "BitBar",
          "CryptoBullion",
          "CasinoCoin",
          "Diamond",
          "Exclusive Coin",
          "FlutterCoin",
          "HoboNickels",
          "HyperStake",
          "IOCoin",
          "MaxCoin",
          "MintCoin",
          "MazaCoin",
          "Nautilus Coin",
          "NavCoin",
          "OpalCoin",
          "Orbitcoin",
          "PotCoin",
          "PhoenixCoin",
          "Reddcoin",
          "SuperCoin",
          "SyncCoin",
          "TeslaCoin",
          "TittieCoin",
          "TorCoin",
          "UnitaryStatus Dollar",
          "UltraCoin",
          "VeriCoin",
          "X11 Coin",
          "Crypti",
          "StealthCoin",
          "ZCC Coin",
          "BurstCoin",
          "StorjCoin",
          "Neutron",
          "FairCoin",
          "RubyCoin",
          "Kore",
          "Dnotes",
          "8BIT Coin",
          "Sativa Coin",
          "Ucoin",
          "Vtorrent",
          "IslaCoin",
          "Nexus",
          "Droidz",
          "Squall Coin",
          "Diggits",
          "Paycon",
          "Emercoin",
          "EverGreenCoin",
          "Decred",
          "EDRCoin",
          "Hitcoin",
          "DubaiCoin",
          "PWR Coin",
          "BillaryCoin",
          "GPU Coin",
          "EuropeCoin",
          "ZeitCoin",
          "SwingCoin",
          "SafeExchangeCoin",
          "Nebuchadnezzar",
          "Ratecoin",
          "Revenu",
          "Clockcoin",
          "VIP Tokens",
          "BitSend",
          "Let it Ride",
          "PutinCoin",
          "iBankCoin",
          "Frankywillcoin",
          "MudraCoin",
          "Lutetium Coin",
          "GoldBlocks",
          "CarterCoin",
          "BitTokens",
          "MustangCoin",
          "ZoneCoin",
          "RootCoin",
          "BitCurrency",
          "Swiscoin",
          "BuzzCoin",
          "Opair",
          "PesoBit",
          "Halloween Coin",
          "CoffeeCoin",
          "RoyalCoin",
          "GanjaCoin V2",
          "TeamUP",
          "LanaCoin",
          "ARK",
          "InsaneCoin",
          "EmberCoin",
          "XenixCoin",
          "FreeCoin",
          "PLNCoin",
          "AquariusCoin",
          "Creatio",
          "Eternity",
          "Eurocoin",
          "BitcoinFast",
          "Stakenet",
          "BitConnect Coin",
          "MoneyCoin",
          "Enigma",
          "Russiacoin",
          "PandaCoin",
          "GameUnits",
          "GAKHcoin",
          "Allsafe",
          "LiteCreed",
          "Klingon Empire Darsek",
          "Internet of People",
          "KushCoin",
          "Printerium",
          "Impeach",
          "Zilbercoin",
          "FirstCoin",
          "FindCoin",
          "OpenChat",
          "RenosCoin",
          "VirtacoinPlus",
          "TajCoin",
          "Impact",
          "Atmos",
          "HappyCoin",
          "MacronCoin",
          "Condensate",
          "Independent Money System",
          "ArgusCoin",
          "LomoCoin",
          "ProCurrency",
          "GoldReserve",
          "GrowthCoin",
          "Phreak",
          "Degas Coin",
          "HTML5 Coin",
          "Ultimate Secure Cash",
          "QTUM",
          "Espers",
          "Denarius",
          "Virta Unique Coin",
          "Bitcoin Planet",
          "BritCoin",
          "Linda",
          "DeepOnion",
          "Signatum",
          "Cream",
          "Monoeci",
          "Draftcoin",
          "Stakecoin",
          "CoinonatX",
          "Ethereum Dark",
          "Obsidian",
          "Cardano",
          "Regalcoin",
          "TrezarCoin",
          "TerraNovaCoin",
          "Rupee",
          "WomenCoin",
          "Theresa May Coin",
          "NamoCoin",
          "LUXCoin",
          "Xios",
          "Bitcloud 2.0",
          "KekCoin",
          "BlackholeCoin",
          "Infinity Economics",
          "Magnet",
          "Lamden Tau",
          "Electra",
          "Bitcoin Diamond",
          "Cash & Back Coin",
          "Bulwark",
          "Kalkulus",
          "GermanCoin",
          "LiteCoin Ultra",
          "PhantomX",
          "Digiwage",
          "Trollcoin",
          "Litecoin Plus",
          "Monkey Project",
          "TokenPay",
          "1717 Masonic Commemorative Token",
          "My Big Coin",
          "Unified Society USDEX",
          "Tokyo Coin",
          "BiblePay",
          "Stipend",
          "Pushi",
          "Ellerium",
          "Velox",
          "Ontology",
          "Bitspace",
          "Briacoin",
          "Ignition",
          "MedicCoin",
          "Bitcoin Green",
          "Deviant Coin",
          "Abjcoin",
          "Semux",
          "Carebit",
          "Zealium",
          "Proton",
          "iDealCash",
          "Bitcoin Incognito",
          "HollyWoodCoin",
          "Swisscoin",
          "Xt3ch",
          "TheVig",
          "EmaratCoin",
          "Dekado",
          "Lynx",
          "Poseidon Quark",
          "BitcoinWSpectrum",
          "Muse",
          "Trivechain",
          "Dystem",
          "Giant",
          "Peony Coin",
          "Absolute Coin",
          "Vitae",
          "TPCash",
          "ARENON",
          "EUNO",
          "MMOCoin",
          "Ketan",
          "XDNA",
          "PAXEX",
          "ThunderStake",
          "Kcash",
          "Bettex coin",
          "BitMoney",
          "Junson Ming Chan Coin",
          "HerbCoin",
          "Oduwa",
          "Galilel",
          "Crypto Sports",
          "Credit",
          "Dash Platinum",
          "Nasdacoin",
          "Beetle Coin",
          "Titan Coin",
          "Award",
          "Insane Coin",
          "ALAX",
          "LiteDoge",
          "TruckCoin",
          "OrangeCoin",
          "BitstarCoin",
          "NeosCoin",
          "HyperCoin",
          "PinkCoin",
          "AudioCoin",
          "IncaKoin",
          "Piggy Coin",
          "Genstake",
          "XiaoMiCoin",
          "CapriCoin",
          " ClubCoin",
          "Radium",
          "Creditbit ",
          "OKCash",
          "Lisk",
          "HiCoin",
          "WhiteCoin",
          "FriendshipCoin",
          "Triangles Coin",
          "EOS",
          "Oxycoin",
          "TigerCash",
          "Particl",
          "Nxt",
          "ZEPHYR",
          "Gapcoin",
          "BitcoinPlus"
         ],
         "legendgroup": "0",
         "marker": {
          "color": [
           0,
           0,
           0,
           0,
           0,
           0,
           0,
           0,
           0,
           0,
           0,
           0,
           0,
           0,
           0,
           0,
           0,
           0,
           0,
           0,
           0,
           0,
           0,
           0,
           0,
           0,
           0,
           0,
           0,
           0,
           0,
           0,
           0,
           0,
           0,
           0,
           0,
           0,
           0,
           0,
           0,
           0,
           0,
           0,
           0,
           0,
           0,
           0,
           0,
           0,
           0,
           0,
           0,
           0,
           0,
           0,
           0,
           0,
           0,
           0,
           0,
           0,
           0,
           0,
           0,
           0,
           0,
           0,
           0,
           0,
           0,
           0,
           0,
           0,
           0,
           0,
           0,
           0,
           0,
           0,
           0,
           0,
           0,
           0,
           0,
           0,
           0,
           0,
           0,
           0,
           0,
           0,
           0,
           0,
           0,
           0,
           0,
           0,
           0,
           0,
           0,
           0,
           0,
           0,
           0,
           0,
           0,
           0,
           0,
           0,
           0,
           0,
           0,
           0,
           0,
           0,
           0,
           0,
           0,
           0,
           0,
           0,
           0,
           0,
           0,
           0,
           0,
           0,
           0,
           0,
           0,
           0,
           0,
           0,
           0,
           0,
           0,
           0,
           0,
           0,
           0,
           0,
           0,
           0,
           0,
           0,
           0,
           0,
           0,
           0,
           0,
           0,
           0,
           0,
           0,
           0,
           0,
           0,
           0,
           0,
           0,
           0,
           0,
           0,
           0,
           0,
           0,
           0,
           0,
           0,
           0,
           0,
           0,
           0,
           0,
           0,
           0,
           0,
           0,
           0,
           0,
           0,
           0,
           0,
           0,
           0,
           0,
           0,
           0,
           0,
           0,
           0,
           0,
           0,
           0,
           0,
           0,
           0,
           0,
           0,
           0,
           0,
           0,
           0,
           0,
           0,
           0,
           0,
           0,
           0,
           0,
           0,
           0,
           0,
           0,
           0,
           0,
           0,
           0,
           0,
           0,
           0,
           0,
           0,
           0,
           0,
           0,
           0,
           0,
           0,
           0,
           0,
           0,
           0,
           0,
           0,
           0,
           0,
           0,
           0,
           0,
           0,
           0,
           0,
           0,
           0,
           0,
           0,
           0,
           0,
           0,
           0,
           0,
           0,
           0,
           0,
           0,
           0,
           0,
           0,
           0,
           0,
           0,
           0,
           0,
           0,
           0,
           0,
           0,
           0,
           0,
           0,
           0,
           0,
           0,
           0,
           0,
           0,
           0,
           0,
           0,
           0,
           0,
           0,
           0,
           0,
           0
          ],
          "coloraxis": "coloraxis",
          "symbol": "circle"
         },
         "mode": "markers",
         "name": "0",
         "scene": "scene",
         "showlegend": true,
         "type": "scatter3d",
         "x": [
          -0.33553942812753157,
          -0.31886820006714395,
          2.313247306565188,
          -0.39683909292479375,
          -0.284667311074554,
          -0.3115721564584547,
          -0.2670832547634453,
          -0.24341131482783676,
          -0.3351988249864392,
          -0.3277723013805572,
          -0.33403516623472956,
          -0.3355353622854316,
          -0.33551963489484676,
          0.6601467894164603,
          -0.37002865924176903,
          -0.3492441870193545,
          -0.2827300107940174,
          -0.3335971876990305,
          -0.33216265864676076,
          -0.39673373068562223,
          -0.39631098389929964,
          -0.03082693500579716,
          -0.2748593127889675,
          -0.2908014894980771,
          -0.2719745874332436,
          -0.2725971411192529,
          -0.3489745797366152,
          -0.3298387331229146,
          -0.3339403334243024,
          0.022800491300857782,
          -0.35206028411709106,
          -0.397105497794599,
          -0.24583099634953756,
          -0.3217573893780485,
          -0.39701709335936103,
          -0.31075856028952603,
          -0.33421614066609556,
          -0.2989153652907348,
          -0.39698154753584763,
          -0.24629894570756894,
          -0.27237788312222183,
          -0.32663810168649754,
          -0.004883860282868102,
          -0.33996578391829163,
          -0.31078345673367425,
          -0.3694498995585352,
          -0.29078173013748415,
          -0.2726725754679627,
          -0.2854330459739811,
          -0.3355214867300067,
          -0.2726247334555136,
          -0.3525053848185816,
          -0.33525573092791744,
          -0.39708701645720035,
          -0.3712703780177776,
          -0.4197941844651677,
          -0.36903793357029063,
          -0.28918243075080297,
          -0.2721461252217229,
          -0.30412523680227804,
          -0.24585395582041214,
          -0.07699037092932742,
          -0.3115430542967323,
          -0.07438937768405397,
          -0.311606778394027,
          -0.23115599093370806,
          -0.33513155321749133,
          -0.2890514626102994,
          -0.3942548381957234,
          0.8629491983695685,
          -0.3114067449559403,
          -0.07100860238929678,
          -0.3489272951014112,
          -0.39492885473851924,
          -0.3101496827832091,
          -0.30781677367388116,
          -0.35258190206996143,
          -0.3958215765499654,
          -0.35165147206486747,
          -0.31141583844353526,
          -0.33516967315473467,
          -0.3336078389277297,
          -0.22687740701733078,
          -0.3399895647244458,
          -0.3965606555413742,
          -0.3343734811728975,
          -0.3115877250254951,
          -0.3970762035425533,
          -0.33535892850781357,
          -0.3355157166338086,
          -0.289040925802467,
          -0.2584018827783503,
          0.043286007701000107,
          -0.3478838232568267,
          -0.33512965983324355,
          -0.3832316676915804,
          -0.3472120737987111,
          -0.2283087051772,
          -0.41141762021873013,
          -0.3469610044892107,
          -0.2714079289821447,
          3.712111558933624,
          -0.39666853432746463,
          0.8601684836819787,
          -0.39703108879894555,
          -0.34834781809809184,
          -0.3350571939067939,
          -0.3352116071883436,
          -0.3489272951014112,
          -0.3966057869491858,
          -0.31145032142966744,
          -0.33505792738425977,
          -0.3876659137891416,
          -0.3352053971518917,
          -0.3307913003553333,
          -0.39706009929743963,
          -0.3344157214115242,
          0.3528097909957201,
          -0.33540477608224323,
          -0.3354753814896819,
          -0.3504041455849312,
          -0.34967293401935806,
          -0.3317003057765332,
          -0.3115641256601823,
          -0.3969700031285186,
          -0.33525307834704504,
          -0.33538010273972296,
          -0.29068821611133683,
          -0.2937596583544843,
          -0.22807643674228661,
          -0.3162235288281502,
          -0.29042919309889453,
          -0.3962353876133354,
          -0.4216034712604238,
          -0.3949730646926739,
          -0.3471729231491337,
          -0.3961332162878525,
          -0.341569878511638,
          -0.39207215557246683,
          -0.33532335751106257,
          -0.33532255077318257,
          -0.32844095406893453,
          0.2658377225146331,
          -0.39661192972663345,
          -0.27332169526332944,
          -0.34896161336184234,
          -0.3345336511709251,
          0.8891038528109702,
          -0.2657730355003238,
          -0.3504291801721063,
          0.5853137259698202,
          -0.3541183611653238,
          -0.3526198154832277,
          -0.4166227323184956,
          -0.2723096632968553,
          0.12963977426013498,
          -0.2723804692097459,
          -0.3503400242768433,
          -0.4161273436499281,
          -0.39688444941024287,
          -0.29076244035553434,
          -0.3488278296367761,
          -0.3349583653573632,
          -0.3354583021583293,
          -0.3427617947916072,
          0.6669697030574547,
          -0.39682525323018397,
          -0.3439712527855297,
          -0.3354138986128902,
          -0.31688772484382344,
          0.434115803587163,
          -0.3099095202283714,
          -0.338877372851252,
          -0.40179873284735046,
          -0.3353642125228392,
          -0.39327062719793104,
          -0.3572444036869956,
          -0.33523453694154703,
          -0.0934754338485562,
          -0.3956172970498114,
          3.7169700686321643,
          0.20566868280189407,
          -0.269049574302586,
          -0.3326935014983847,
          -0.30945636548645716,
          -0.3502899887339555,
          0.07911463144321415,
          -0.33437265959772394,
          -0.39619871244098454,
          -0.3494543131947995,
          -0.32193191371406477,
          -0.3354804458062947,
          -0.352477299264079,
          -0.35193354036048435,
          -0.2756322440446094,
          -0.26314713768515224,
          -0.33102334867799815,
          -0.2198680394086275,
          -0.1933991681340724,
          -0.36624355803107045,
          -0.3969017116817448,
          -0.3156370440333099,
          -0.2899220117354178,
          -0.32450520574725333,
          -0.3537171193322049,
          -0.33550781516438044,
          -0.33548951702622926,
          -0.284300516172287,
          -0.3433573545194453,
          -0.3484220758816697,
          -0.3352058833593414,
          3.894867457259656,
          -0.39193791884287693,
          -0.34861084527722236,
          -0.3203726180594991,
          -0.28204891957089745,
          -0.28772191228725214,
          -0.2904564852032062,
          -0.13851724781022773,
          -0.29070869119783854,
          -0.3367555369674781,
          -0.3346796501104135,
          -0.2007719611912207,
          2.2297540461569056,
          -0.345995857034723,
          -0.26590078384863386,
          1.013568382901963,
          -0.3641342312522068,
          -0.35040358390690474,
          -0.3949556137281185,
          -0.17138219453322276,
          -0.3612413938117473,
          -0.349122447087885,
          -0.32838101225763955,
          -0.3520544895586617,
          -0.39637476912181124,
          -0.2879527507277592,
          -0.3477102063140717,
          -0.3423861136567924,
          -0.351915812165473,
          -0.1949205051840701,
          -0.35335466029178325,
          -0.27120471841710503,
          0.520558833343731,
          -0.1423139714768992,
          -0.3942498761759203,
          -0.33520985539174053,
          -0.39470623033483304,
          -0.35052062162358966,
          0.571768538065518,
          -0.3525316436543621,
          -0.33469251919034176,
          -0.310089801526653,
          -0.2914525420289565,
          -0.3939382369639175,
          -0.3966021220501124,
          3.729218301478342,
          0.09994426278452537,
          -0.3941404057213665,
          -0.3340777198345906,
          -0.33490310684195085,
          -0.26711590616575615,
          -0.3354217016092343,
          -0.3882255530452933,
          -0.2490815960103707,
          -0.09110950088167702,
          -0.38397178710001434,
          -0.3346996312717163,
          -0.32776030629595676,
          -0.39316892344032295,
          -0.3331380250042773,
          -0.34920307269696865,
          -0.3937215563788714,
          -0.3100864391297888,
          3.71250357356194,
          -0.09788936329685484,
          -0.33033132066793286,
          -0.3486002558687405,
          -0.2727798336139243,
          3.722377065115098,
          3.723621882747041,
          -0.24800263461147107,
          -0.34913890387219954,
          -0.33912142014448454,
          2.4679979331147828,
          -0.3335838279681964,
          -0.29110535978897684
         ],
         "y": [
          1.031658247471021,
          1.0317618777667783,
          1.6546682255461256,
          1.2221958959076418,
          1.5245983372655105,
          0.859337447596208,
          0.6613658402809418,
          1.8748406968924713,
          1.031656000817955,
          1.0318898720356304,
          1.03170310629873,
          1.0316579988960943,
          1.031658098050711,
          0.3332575009457344,
          0.9022486557364154,
          1.5621651385989408,
          0.3682477984669056,
          1.0316274023515704,
          1.024835550072755,
          1.2221990379291745,
          1.9199061133915951,
          0.8414397757523379,
          0.8586590381557546,
          0.8336750710484881,
          1.8099601076169336,
          1.8099415423595582,
          0.5365105645859548,
          1.0315175713217808,
          1.031633442933401,
          1.0423443505349976,
          1.0242421803018813,
          1.2222042242491569,
          0.16616956740944064,
          1.743469649488793,
          1.2221994642291012,
          1.0312137082470647,
          1.031623738632403,
          0.25532906647931036,
          1.222203852932049,
          0.1662295834319839,
          1.809948080881839,
          1.031183987123391,
          0.5196788410218983,
          1.6031060674348327,
          0.8593269409474261,
          0.9022691549281219,
          0.8336876287710363,
          1.8099304163252683,
          0.8334772785852612,
          1.0316587825349197,
          1.809933322444438,
          1.0242141127331894,
          1.0316519135138276,
          1.2222047761233175,
          1.9851392893088244,
          2.0052843153639506,
          0.6929605768469901,
          0.833661350890176,
          1.8099180067637155,
          0.8588360887335144,
          1.875007299536302,
          0.8032990947400375,
          0.8593383154556952,
          1.2121887375936404,
          0.8593449217731941,
          1.5216703234579645,
          1.0316393430573145,
          0.8335757129042964,
          1.2220051870078383,
          0.7948620989016502,
          0.8593290656103024,
          0.3394534279246558,
          1.5621597945148518,
          1.2222136568522353,
          0.8592313894802321,
          0.8590773642311703,
          1.51798269127359,
          1.2221396935605917,
          1.5566189593337483,
          1.0308982242529772,
          1.0316364802923619,
          1.031641878880527,
          1.6118516710302249,
          1.024116154673277,
          1.2221834874014208,
          1.0316264436402858,
          0.859337723031906,
          1.2222028794526005,
          1.031648096336855,
          1.0316589546057362,
          0.8337395415317296,
          0.3603249899577346,
          1.8875532285831307,
          1.5621509677955188,
          1.0316704672576171,
          1.2215083962949584,
          1.562196150275257,
          1.6119550803399212,
          1.858919183806696,
          1.562010573574603,
          1.8874106104631267,
          1.9755254537651443,
          1.2221950644942845,
          1.8430931468973766,
          1.2222035936127775,
          1.5621548839356418,
          1.0316441199261388,
          1.0316369557570604,
          1.5621597945148518,
          1.2221747444512834,
          0.8593425602710903,
          1.0316481960355182,
          0.5988778198955375,
          1.0316474968598728,
          1.0313185437543269,
          1.2222018802833958,
          1.0315852397545913,
          0.8288287130033679,
          1.031652646774432,
          1.0316577047297426,
          1.5223620601675039,
          0.5807644278833572,
          1.0314028804700472,
          0.85933842679176,
          1.2222013463646113,
          1.0316519926167993,
          1.031646774503313,
          0.8336497335235336,
          0.26163179633523337,
          1.611953112060695,
          1.0314945615042348,
          0.8336726763238964,
          1.2221562018584322,
          1.9594814062745496,
          1.222186448680038,
          1.5621453236166907,
          1.2221592487232993,
          1.562098111973591,
          1.2219844709485552,
          1.0316490001967353,
          1.0316435593811222,
          1.031130224019513,
          0.6217892923563605,
          1.222189355427373,
          0.8327288907558559,
          1.5621513740250406,
          1.0316105715686743,
          1.8422987590784279,
          0.6612661549663483,
          1.5566062188807448,
          1.8375843138854735,
          1.517996048962564,
          1.5179593694115576,
          1.9588185863298408,
          1.8099279240334198,
          1.008545017482569,
          1.809934024620559,
          1.5340485855224075,
          1.9588333593820924,
          1.2222037842977846,
          0.8336753287366631,
          1.5621319888595462,
          1.0316398830612037,
          1.0316575599968039,
          1.5254616636272025,
          1.4528991959841633,
          1.2221926100828677,
          0.5363666749589094,
          1.0316503528618357,
          0.7373698126435362,
          1.0361175390436725,
          0.8593293320686428,
          1.517570299968525,
          1.942045015869175,
          1.0316479387615303,
          1.7202522311307014,
          1.5545315380616689,
          1.0316564006966729,
          0.6598948965494396,
          1.2221420868669268,
          1.9753929495248579,
          1.5125056899015765,
          1.8098919961405473,
          1.0315877775764788,
          1.3200094715229564,
          1.5223617659141715,
          1.0070383003890468,
          1.031582085658539,
          1.2221942809553985,
          1.5223127159036356,
          1.0313983017926165,
          1.031657047589701,
          1.0242142105682612,
          1.5566168352553782,
          -0.07372144266232085,
          0.35320356231892497,
          1.0316213098520806,
          1.6116168735058718,
          3.0151101165342262,
          0.9941992552086247,
          1.2221918094211468,
          1.3632362371510687,
          0.8336215427531359,
          1.4625491566203395,
          1.5179784261279796,
          1.031656971112418,
          1.0316560373675938,
          0.8335110519091155,
          1.6754350878458268,
          1.5621245605789709,
          1.0316460029445473,
          1.8330772865053617,
          1.7202919740061746,
          1.5621248489256585,
          0.6618376312435086,
          1.0294646466988875,
          0.8340168919130495,
          0.8336780955351681,
          1.0299886505465767,
          0.8336572597215955,
          1.8909401483392299,
          1.0316217515833404,
          1.6769992308178425,
          0.31075623606927333,
          1.5220238057327875,
          0.6613361844973248,
          1.758478705525791,
          0.8598101808585015,
          1.5223576386691753,
          1.7203461142910406,
          0.8247619867975525,
          0.9353313982995337,
          1.5223374066882214,
          1.0311320115523466,
          1.0242016691603089,
          1.2221890307453913,
          0.833579668058406,
          1.5620555449571194,
          0.8735608651611685,
          1.024172517816003,
          1.0225369187400295,
          1.5823389458154622,
          1.1652633125269483,
          0.8256984420737307,
          1.0304970533599027,
          1.7203310261879392,
          1.0316525418663407,
          1.720343280341507,
          1.5223597924439523,
          1.0033850396887454,
          1.0242135515773187,
          1.031621367812774,
          1.3630761906824564,
          1.8886665656895756,
          1.2219879989266118,
          1.2221970449837583,
          1.9753883517102422,
          1.0187550841452913,
          1.2222926473992037,
          1.0315538956952572,
          1.0316370896377767,
          0.6613585790607822,
          1.031661758240455,
          1.2220991810009478,
          1.0264695838072209,
          0.8657876232115057,
          1.2218561791114189,
          1.0316721955767951,
          1.0315943465289934,
          1.2221677588321296,
          1.0316115067828076,
          1.5621597073023827,
          0.6970489541193112,
          0.859320357606068,
          1.9755113146651888,
          0.8320362819078782,
          1.0315916467663133,
          0.5364800091874993,
          1.8099360054970879,
          1.9759240463127987,
          1.9759611681871725,
          0.6612043843423526,
          1.5621618915191355,
          1.5932943949885217,
          0.878111112025192,
          1.0315316387094609,
          0.8336772380595474
         ],
         "z": [
          -0.5819447962505478,
          -0.5824170639175614,
          -0.6722920400251537,
          -0.5101407536317296,
          0.18610112568681186,
          -0.39472828331815996,
          -0.021039076996515867,
          -0.6820963615954658,
          -0.581953692112863,
          -0.5821964557983469,
          -0.5819935352390583,
          -0.5819448641851541,
          -0.5819453099555318,
          -0.1705481429041664,
          -0.41220914653615265,
          0.02275864062438399,
          -0.4590303956846352,
          -0.5819924124536419,
          -0.1371072305763668,
          -0.5101441674311527,
          -1.2313272429554258,
          -0.21668577728905816,
          -0.39561188765381466,
          -0.2082603817795819,
          -0.6286200914275297,
          -0.6285999203165299,
          -0.3881477714189566,
          -0.5820759047467018,
          -0.5819841018117556,
          -0.5935552235218582,
          -0.13646253563515928,
          -0.5101349293117386,
          0.2152960483800191,
          -0.24085380486879943,
          -0.5101365176665357,
          -0.5825435304793228,
          -0.5819749102666492,
          -0.27127692800587144,
          -0.5101382436306103,
          0.2152984489256982,
          -0.6286070244064984,
          -0.5821055916172068,
          0.19777035879611865,
          -0.11854321077108376,
          -0.3947479674652852,
          -0.4122284576399487,
          -0.20826308677183641,
          -0.6285959448434699,
          -0.20837258086702598,
          -0.5819453775678957,
          -0.6285977501790845,
          -0.1364455618482075,
          -0.581951435955937,
          -0.5101355282457138,
          -1.8519673465534647,
          -1.0649778461957178,
          -0.08898421662201035,
          -0.20830214373369446,
          -0.6286081528543913,
          -0.3948447625159823,
          -0.6820585271294847,
          -0.4917644277910511,
          -0.39472922624556983,
          -0.5172030011020677,
          -0.3947286290954575,
          -0.6324190169816187,
          -0.581952651903451,
          -0.2082909392987824,
          -0.5101782891473611,
          -0.23301097757423564,
          -0.39473134571686097,
          -0.15168874226767087,
          0.02275092539566813,
          -0.5101958830038924,
          -0.3947487572092381,
          -0.39478577065892034,
          -0.6284732598237763,
          -0.5101587910569739,
          0.04040630217672865,
          -0.5824711891035621,
          -0.5819511190312755,
          -0.5819946196060393,
          -0.2549238587910428,
          -0.13676979245411988,
          -0.5101462020071381,
          -0.5819710884696011,
          -0.3947279065002243,
          -0.5101354957518179,
          -0.5819479646798266,
          -0.5819455645224564,
          -0.20831948987129628,
          -0.3823583973651554,
          -0.5667129340677045,
          0.022724007383225615,
          -0.581958072993214,
          -0.5103930304230669,
          0.022697903447271715,
          -0.2549026874138787,
          -0.7467371501958007,
          0.022723075639063024,
          -0.5581110586176262,
          -0.25586858482849545,
          -0.5101452589286444,
          -0.6651937316663787,
          -0.5101368486009086,
          0.02273597838274272,
          -0.5819555027302301,
          -0.5819500581070142,
          0.02275092539566813,
          -0.5101434635933062,
          -0.3947324860716671,
          -0.581956185940745,
          0.01459942570358423,
          -0.5819520458968964,
          -0.5820156058231261,
          -0.5101357623131149,
          -0.5819628287625366,
          -0.22496651243162866,
          -0.5819475000944759,
          -0.5819464482676565,
          -0.18105463912312644,
          -0.32792924773709753,
          -0.5820053796473847,
          -0.3947286711337458,
          -0.5101381258560728,
          -0.5819515219011403,
          -0.5819471595167174,
          -0.20825909797104775,
          -0.4562188386160665,
          -0.2549086785391157,
          -0.5824430299937924,
          -0.208270115925654,
          -0.510150360235735,
          -0.9476682375662373,
          -0.5101899841225042,
          0.022705604872424963,
          -0.510153670647662,
          0.02256103361956648,
          -0.5102342062674275,
          -0.5819490901319697,
          -0.5819481734818865,
          -0.5820471781239769,
          -0.02873666028433235,
          -0.5101458168222143,
          -0.20857357646648628,
          0.022753313457070778,
          -0.5819639846721443,
          -0.7073500299615011,
          -0.021057590713608076,
          0.040375185449597784,
          -1.0935732433386594,
          -0.6284336866662994,
          -0.6284682030187123,
          -0.8614002846934322,
          -0.6286054063817123,
          -0.5906362336482163,
          -0.6286045289626597,
          -0.06948781649638879,
          -0.8614163355819677,
          -0.5101408782882468,
          -0.20826149055554152,
          0.022753011348593002,
          -0.5819574654574596,
          -0.5819468888114312,
          0.1875356046992751,
          0.13589929661362363,
          -0.510140563981443,
          -0.3882593181278933,
          -0.5819468557104104,
          -0.10100003174814895,
          -0.6036917619304926,
          -0.39477219991596746,
          -0.6287756443997816,
          -0.613678156139292,
          -0.5819477934745859,
          -0.5547740167548797,
          -0.014861395915685138,
          -0.5819527877371069,
          -0.02551715282060558,
          -0.5101647717700628,
          -0.255978148594481,
          -0.6427440092856717,
          -0.6286880648838501,
          -0.5820102072623754,
          -0.2547466155641494,
          -0.18105769980859163,
          -0.5889991888648346,
          -0.5819634583134364,
          -0.5101579291796179,
          -0.18107201490201863,
          -0.5822708362092366,
          -0.5819461968666069,
          -0.13644634422400806,
          0.040414356647971,
          0.19443730465835993,
          -0.04754365481539056,
          -0.582061513726173,
          -0.25507439872822385,
          3.8627768980812878,
          -0.4976199050264579,
          -0.5101383419078338,
          -0.46766104573911116,
          -0.2082751181580951,
          0.09468551660221762,
          -0.6284415826240478,
          -0.5819454376959966,
          -0.5819457753407382,
          -0.20840927550855523,
          -0.06920885993499189,
          0.02274323367052301,
          -0.5819517749176288,
          -0.33483410698706645,
          -0.5548171973010149,
          0.02274832900818077,
          -0.03134925670236477,
          -0.5830242934659721,
          -0.04651037092269501,
          -0.20827030696569776,
          -0.5870267806241631,
          -0.20825983830823466,
          -0.556938858462037,
          -0.5819619340908565,
          -0.3083791958513289,
          -0.42611674153349566,
          -0.18111643609386285,
          -0.021066190167954305,
          -0.11766332837933903,
          -0.405058448501411,
          -0.1810538916442609,
          -0.5547442874370541,
          -0.20997759676180128,
          -0.47469119504522894,
          -0.18108531982052195,
          -0.5820491202744397,
          -0.136455704671261,
          -0.5101522248380791,
          -0.20832156803187157,
          0.02273573744888875,
          -0.5788907674618279,
          -0.13645445531980221,
          -0.5842039005809702,
          0.5726050695578181,
          -0.09397007012521036,
          -0.15418003332140398,
          -0.14325844135254315,
          -0.5547609199910384,
          -0.5819527947377616,
          -0.5547505957024613,
          -0.18105107323902755,
          -0.6017966688628242,
          -0.136444749330134,
          -0.5819615171249858,
          -0.46778463001882,
          -0.5577813991892255,
          -0.5101839531508217,
          -0.5101474107260692,
          -0.2563111921850101,
          -0.5915882752752132,
          -0.5102310001922501,
          -0.5819666338913884,
          -0.5819584896631329,
          -0.021036934361703494,
          -0.5819486106653656,
          -0.5103588384851664,
          -0.5834061458732956,
          -0.4018499659708433,
          -0.51043285657658,
          -0.5819700919813489,
          -0.5821457992749758,
          -0.5102359333089277,
          -0.5820021850818781,
          0.022758457012153375,
          -0.12908828746499165,
          -0.394765829573326,
          -0.25587683029715824,
          -0.21323565776293532,
          -0.5820752581676228,
          -0.3881527026032649,
          -0.6285939856571104,
          -0.2562171449718029,
          -0.25625747780605024,
          -0.021531282711200143,
          0.022756331215465834,
          0.2040742170807263,
          -0.16018820028640307,
          -0.5819762556362323,
          -0.2082524733650403
         ]
        },
        {
         "customdata": [
          [
           "SHA-256"
          ],
          [
           "Ethash"
          ],
          [
           "Scrypt"
          ],
          [
           "CryptoNight-V7"
          ],
          [
           "Ethash"
          ],
          [
           "Equihash"
          ],
          [
           "Multiple"
          ],
          [
           "Scrypt"
          ],
          [
           "X11"
          ],
          [
           "Scrypt"
          ],
          [
           "Multiple"
          ],
          [
           "Scrypt"
          ],
          [
           "SHA-256"
          ],
          [
           "Scrypt"
          ],
          [
           "Scrypt"
          ],
          [
           "Quark"
          ],
          [
           "Groestl"
          ],
          [
           "Scrypt"
          ],
          [
           "Scrypt"
          ],
          [
           "Scrypt"
          ],
          [
           "X11"
          ],
          [
           "Multiple"
          ],
          [
           "SHA-256"
          ],
          [
           "Scrypt"
          ],
          [
           "Scrypt"
          ],
          [
           "Scrypt"
          ],
          [
           "Scrypt"
          ],
          [
           "Scrypt"
          ],
          [
           "NeoScrypt"
          ],
          [
           "Scrypt"
          ],
          [
           "Scrypt"
          ],
          [
           "Scrypt"
          ],
          [
           "Scrypt"
          ],
          [
           "SHA-256"
          ],
          [
           "Scrypt"
          ],
          [
           "Scrypt"
          ],
          [
           "Scrypt"
          ],
          [
           "Scrypt"
          ],
          [
           "HybridScryptHash256"
          ],
          [
           "Scrypt"
          ],
          [
           "Scrypt"
          ],
          [
           "SHA-256"
          ],
          [
           "Scrypt"
          ],
          [
           "Scrypt"
          ],
          [
           "Scrypt"
          ],
          [
           "Scrypt"
          ],
          [
           "SHA-256"
          ],
          [
           "SHA-256"
          ],
          [
           "SHA-256"
          ],
          [
           "SHA-256"
          ],
          [
           "SHA-256"
          ],
          [
           "X11"
          ],
          [
           "Scrypt"
          ],
          [
           "Lyra2REv2"
          ],
          [
           "Scrypt"
          ],
          [
           "SHA-256"
          ],
          [
           "CryptoNight"
          ],
          [
           "CryptoNight"
          ],
          [
           "Scrypt"
          ],
          [
           "Scrypt"
          ],
          [
           "Scrypt"
          ],
          [
           "Scrypt"
          ],
          [
           "Scrypt"
          ],
          [
           "Scrypt"
          ],
          [
           "Stanford Folding"
          ],
          [
           "Multiple"
          ],
          [
           "QuBit"
          ],
          [
           "Scrypt"
          ],
          [
           "Scrypt"
          ],
          [
           "M7 POW"
          ],
          [
           "Scrypt"
          ],
          [
           "SHA-256"
          ],
          [
           "Scrypt"
          ],
          [
           "X11"
          ],
          [
           "Lyra2RE"
          ],
          [
           "SHA-256"
          ],
          [
           "X11"
          ],
          [
           "Scrypt"
          ],
          [
           "Scrypt"
          ],
          [
           "Ethash"
          ],
          [
           "Blake2b"
          ],
          [
           "X11"
          ],
          [
           "SHA-256"
          ],
          [
           "Scrypt"
          ],
          [
           "1GB AES Pattern Search"
          ],
          [
           "Scrypt"
          ],
          [
           "SHA-256"
          ],
          [
           "X11"
          ],
          [
           "Dagger"
          ],
          [
           "Scrypt"
          ],
          [
           "X11GOST"
          ],
          [
           "Scrypt"
          ],
          [
           "X11"
          ],
          [
           "Scrypt"
          ],
          [
           "X11"
          ],
          [
           "Equihash"
          ],
          [
           "CryptoNight"
          ],
          [
           "SHA-256"
          ],
          [
           "Multiple"
          ],
          [
           "Scrypt"
          ],
          [
           "SHA-256"
          ],
          [
           "Scrypt"
          ],
          [
           "Lyra2Z"
          ],
          [
           "Ethash"
          ],
          [
           "Equihash"
          ],
          [
           "Scrypt"
          ],
          [
           "X11"
          ],
          [
           "X11"
          ],
          [
           "CryptoNight"
          ],
          [
           "Scrypt"
          ],
          [
           "CryptoNight"
          ],
          [
           "Lyra2RE"
          ],
          [
           "X11"
          ],
          [
           "CryptoNight-V7"
          ],
          [
           "Scrypt"
          ],
          [
           "X11"
          ],
          [
           "Equihash"
          ],
          [
           "Scrypt"
          ],
          [
           "Lyra2RE"
          ],
          [
           "Dagger-Hashimoto"
          ],
          [
           "Scrypt"
          ],
          [
           "NIST5"
          ],
          [
           "Scrypt"
          ],
          [
           "SHA-256"
          ],
          [
           "Scrypt"
          ],
          [
           "CryptoNight-V7"
          ],
          [
           "Argon2d"
          ],
          [
           "Blake2b"
          ],
          [
           "Cloverhash"
          ],
          [
           "CryptoNight"
          ],
          [
           "X11"
          ],
          [
           "Scrypt"
          ],
          [
           "Scrypt"
          ],
          [
           "X11"
          ],
          [
           "X11"
          ],
          [
           "CryptoNight"
          ],
          [
           "Time Travel"
          ],
          [
           "Scrypt"
          ],
          [
           "Keccak"
          ],
          [
           "X11"
          ],
          [
           "SHA-256"
          ],
          [
           "Scrypt"
          ],
          [
           "Scrypt"
          ],
          [
           "Scrypt"
          ],
          [
           "Scrypt"
          ],
          [
           "Scrypt"
          ],
          [
           "Scrypt"
          ],
          [
           "CryptoNight"
          ],
          [
           "Equihash"
          ],
          [
           "X11"
          ],
          [
           "NeoScrypt"
          ],
          [
           "Equihash"
          ],
          [
           "Dagger"
          ],
          [
           "Scrypt"
          ],
          [
           "X11"
          ],
          [
           "NeoScrypt"
          ],
          [
           "Ethash"
          ],
          [
           "NeoScrypt"
          ],
          [
           "Multiple"
          ],
          [
           "CryptoNight"
          ],
          [
           "CryptoNight"
          ],
          [
           "Ethash"
          ],
          [
           "X11"
          ],
          [
           "CryptoNight-V7"
          ],
          [
           "Scrypt"
          ],
          [
           "BLAKE256"
          ],
          [
           "X11"
          ],
          [
           "NeoScrypt"
          ],
          [
           "NeoScrypt"
          ],
          [
           "Scrypt"
          ],
          [
           "X11"
          ],
          [
           "SHA-256"
          ],
          [
           "C11"
          ],
          [
           "CryptoNight"
          ],
          [
           "SkunkHash"
          ],
          [
           "CryptoNight"
          ],
          [
           "Scrypt"
          ],
          [
           "Dagger"
          ],
          [
           "Lyra2REv2"
          ],
          [
           "Scrypt"
          ],
          [
           "Scrypt"
          ],
          [
           "X11"
          ],
          [
           "Ethash"
          ],
          [
           "CryptoNight"
          ],
          [
           "Scrypt"
          ],
          [
           "IMesh"
          ],
          [
           "Equihash"
          ],
          [
           "Lyra2Z"
          ],
          [
           "X11"
          ],
          [
           "CryptoNight"
          ],
          [
           "NIST5"
          ],
          [
           "Lyra2RE"
          ],
          [
           "Tribus"
          ],
          [
           "Lyra2Z"
          ],
          [
           "CryptoNight"
          ],
          [
           "CryptoNight Heavy"
          ],
          [
           "CryptoNight"
          ],
          [
           "Jump Consistent Hash"
          ],
          [
           "CryptoNight"
          ],
          [
           "X16R"
          ],
          [
           "HMQ1725"
          ],
          [
           "X11"
          ],
          [
           "Scrypt"
          ],
          [
           "CryptoNight-V7"
          ],
          [
           "Cryptonight-GPU"
          ],
          [
           "XEVAN"
          ],
          [
           "CryptoNight Heavy"
          ],
          [
           "SHA-256"
          ],
          [
           "X11"
          ],
          [
           "X16R"
          ],
          [
           "Equihash"
          ],
          [
           "Lyra2Z"
          ],
          [
           "SHA-256"
          ],
          [
           "CryptoNight"
          ],
          [
           "Blake"
          ],
          [
           "Blake"
          ],
          [
           "Equihash"
          ],
          [
           "Exosis"
          ],
          [
           "Scrypt"
          ],
          [
           "Equihash"
          ],
          [
           "Equihash"
          ],
          [
           "QuBit"
          ],
          [
           "SHA-256"
          ],
          [
           "X13"
          ],
          [
           "SHA-256"
          ],
          [
           "Scrypt"
          ],
          [
           "NeoScrypt"
          ],
          [
           "Blake"
          ],
          [
           "Scrypt"
          ],
          [
           "SHA-256"
          ],
          [
           "Scrypt"
          ],
          [
           "Groestl"
          ],
          [
           "Scrypt"
          ],
          [
           "Scrypt"
          ],
          [
           "Multiple"
          ],
          [
           "Equihash+Scrypt"
          ],
          [
           "Ethash"
          ],
          [
           "CryptoNight"
          ],
          [
           "Equihash"
          ]
         ],
         "hovertemplate": "<b>%{hovertext}</b><br><br>Class=%{marker.color}<br>PC 1=%{x}<br>PC 2=%{y}<br>PC 3=%{z}<br>Algorithm=%{customdata[0]}<extra></extra>",
         "hovertext": [
          "Bitcoin",
          "Ethereum",
          "Litecoin",
          "Monero",
          "Ethereum Classic",
          "ZCash",
          "DigiByte",
          "ProsperCoin",
          "Spreadcoin",
          "Argentum",
          "MyriadCoin",
          "MoonCoin",
          "ZetaCoin",
          "SexCoin",
          "Quatloo",
          "QuarkCoin",
          "Riecoin",
          "Digitalcoin ",
          "Catcoin",
          "CannaCoin",
          "CryptCoin",
          "Verge",
          "DevCoin",
          "EarthCoin",
          "E-Gulden",
          "Einsteinium",
          "Emerald",
          "Franko",
          "FeatherCoin",
          "GrandCoin",
          "GlobalCoin",
          "GoldCoin",
          "Infinite Coin",
          "IXcoin",
          "KrugerCoin",
          "LuckyCoin",
          "Litebar ",
          "MegaCoin",
          "MediterraneanCoin",
          "MinCoin",
          "NobleCoin",
          "Namecoin",
          "NyanCoin",
          "RonPaulCoin",
          "StableCoin",
          "SmartCoin",
          "SysCoin",
          "TigerCoin",
          "TerraCoin",
          "UnbreakableCoin",
          "Unobtanium",
          "UroCoin",
          "ViaCoin",
          "Vertcoin",
          "WorldCoin",
          "JouleCoin",
          "ByteCoin",
          "DigitalNote ",
          "MonaCoin",
          "Gulden",
          "PesetaCoin",
          "Wild Beast Coin",
          "Flo",
          "ArtByte",
          "Folding Coin",
          "Unitus",
          "CypherPunkCoin",
          "OmniCron",
          "GreenCoin",
          "Cryptonite",
          "MasterCoin",
          "SoonCoin",
          "1Credit",
          "MarsCoin ",
          "Crypto",
          "Anarchists Prime",
          "BowsCoin",
          "Song Coin",
          "BitZeny",
          "Expanse",
          "Siacoin",
          "MindCoin",
          "I0coin",
          "Revolution VR",
          "HOdlcoin",
          "Gamecredits",
          "CarpeDiemCoin",
          "Adzcoin",
          "SoilCoin",
          "YoCoin",
          "SibCoin",
          "Francs",
          "BolivarCoin",
          "Omni",
          "PizzaCoin",
          "Komodo",
          "Karbo",
          "ZayedCoin",
          "Circuits of Value",
          "DopeCoin",
          "DollarCoin",
          "Shilling",
          "ZCoin",
          "Elementrem",
          "ZClassic",
          "KiloCoin",
          "ArtexCoin",
          "Kurrent",
          "Cannabis Industry Coin",
          "OsmiumCoin",
          "Bikercoins",
          "HexxCoin",
          "PacCoin",
          "Citadel",
          "BeaverCoin",
          "VaultCoin",
          "Zero",
          "Canada eCoin",
          "Zoin",
          "DubaiCoin",
          "EB3coin",
          "Coinonat",
          "BenjiRolls",
          "ILCoin",
          "EquiTrader",
          "Quantum Resistant Ledger",
          "Dynamic",
          "Nano",
          "ChanCoin",
          "Dinastycoin",
          "DigitalPrice",
          "Unify",
          "SocialCoin",
          "ArcticCoin",
          "DAS",
          "LeviarCoin",
          "Bitcore",
          "gCn Coin",
          "SmartCash",
          "Onix",
          "Bitcoin Cash",
          "Sojourn Coin",
          "NewYorkCoin",
          "FrazCoin",
          "Kronecoin",
          "AdCoin",
          "Linx",
          "Sumokoin",
          "BitcoinZ",
          "Elements",
          "VIVO Coin",
          "Bitcoin Gold",
          "Pirl",
          "eBoost",
          "Pura",
          "Innova",
          "Ellaism",
          "GoByte",
          "SHIELD",
          "UltraNote",
          "BitCoal",
          "DaxxCoin",
          "AC3",
          "Lethean",
          "PopularCoin",
          "Photon",
          "Sucre",
          "SparksPay",
          "GunCoin",
          "IrishCoin",
          "Pioneer Coin",
          "UnitedBitcoin",
          "Interzone",
          "TurtleCoin",
          "MUNcoin",
          "Niobio Cash",
          "ShareChain",
          "Travelflex",
          "KREDS",
          "BitFlip",
          "LottoCoin",
          "Crypto Improvement Fund",
          "Callisto Network",
          "BitTube",
          "Poseidon",
          "Aidos Kuneen",
          "Bitrolium",
          "Alpenschillling",
          "FuturoCoin",
          "Monero Classic",
          "Jumpcoin",
          "Infinex",
          "KEYCO",
          "GINcoin",
          "PlatinCoin",
          "Loki",
          "Newton Coin",
          "MassGrid",
          "PluraCoin",
          "Motion",
          "PlusOneCoin",
          "Axe",
          "HexCoin",
          "Webchain",
          "Ryo",
          "Urals Coin",
          "Qwertycoin",
          "Project Pai",
          "Azart",
          "Xchange",
          "CrypticCoin",
          "Actinium",
          "Bitcoin SV",
          "FREDEnergy",
          "Universal Molecule",
          "Lithium",
          "PirateCash",
          "Exosis",
          "Block-Logic",
          "Beam",
          "Bithereum",
          "SLICE",
          "BLAST",
          "Bitcoin Rhodium",
          "GlobalToken",
          "SolarCoin",
          "UFO Coin",
          "BlakeCoin",
          "Crypto Escudo",
          "Crown Coin",
          "SmileyCoin",
          "Groestlcoin",
          "Bata",
          "Pakcoin",
          "JoinCoin",
          "Vollar",
          "Reality Clash",
          "Beldex",
          "Horizen"
         ],
         "legendgroup": "3",
         "marker": {
          "color": [
           3,
           3,
           3,
           3,
           3,
           3,
           3,
           3,
           3,
           3,
           3,
           3,
           3,
           3,
           3,
           3,
           3,
           3,
           3,
           3,
           3,
           3,
           3,
           3,
           3,
           3,
           3,
           3,
           3,
           3,
           3,
           3,
           3,
           3,
           3,
           3,
           3,
           3,
           3,
           3,
           3,
           3,
           3,
           3,
           3,
           3,
           3,
           3,
           3,
           3,
           3,
           3,
           3,
           3,
           3,
           3,
           3,
           3,
           3,
           3,
           3,
           3,
           3,
           3,
           3,
           3,
           3,
           3,
           3,
           3,
           3,
           3,
           3,
           3,
           3,
           3,
           3,
           3,
           3,
           3,
           3,
           3,
           3,
           3,
           3,
           3,
           3,
           3,
           3,
           3,
           3,
           3,
           3,
           3,
           3,
           3,
           3,
           3,
           3,
           3,
           3,
           3,
           3,
           3,
           3,
           3,
           3,
           3,
           3,
           3,
           3,
           3,
           3,
           3,
           3,
           3,
           3,
           3,
           3,
           3,
           3,
           3,
           3,
           3,
           3,
           3,
           3,
           3,
           3,
           3,
           3,
           3,
           3,
           3,
           3,
           3,
           3,
           3,
           3,
           3,
           3,
           3,
           3,
           3,
           3,
           3,
           3,
           3,
           3,
           3,
           3,
           3,
           3,
           3,
           3,
           3,
           3,
           3,
           3,
           3,
           3,
           3,
           3,
           3,
           3,
           3,
           3,
           3,
           3,
           3,
           3,
           3,
           3,
           3,
           3,
           3,
           3,
           3,
           3,
           3,
           3,
           3,
           3,
           3,
           3,
           3,
           3,
           3,
           3,
           3,
           3,
           3,
           3,
           3,
           3,
           3,
           3,
           3,
           3,
           3,
           3,
           3,
           3,
           3,
           3,
           3,
           3,
           3,
           3,
           3,
           3,
           3,
           3,
           3,
           3,
           3,
           3,
           3,
           3,
           3,
           3,
           3,
           3,
           3,
           3,
           3,
           3,
           3,
           3,
           3,
           3,
           3,
           3,
           3,
           3,
           3,
           3,
           3,
           3
          ],
          "coloraxis": "coloraxis",
          "symbol": "diamond"
         },
         "mode": "markers",
         "name": "3",
         "scene": "scene",
         "showlegend": true,
         "type": "scatter3d",
         "x": [
          -0.14454237402475795,
          -0.15193912814194374,
          -0.16733961215269538,
          -0.15360175196660217,
          -0.15038035744700237,
          -0.1327075960637485,
          0.1632507551111703,
          -0.16848648440082908,
          -0.22999388706380425,
          -0.1681028239458877,
          -0.09029204731468035,
          2.554761498819207,
          -0.1416256955165553,
          -0.1653567279125859,
          -0.16790675858963533,
          -0.22330648753324378,
          -0.20206520309361287,
          -0.16795553080985923,
          -0.16846874014432403,
          -0.16855524148019324,
          -0.23008328013034968,
          0.18701606699417336,
          0.2335121199498468,
          0.08031208488772106,
          -0.16830139354002502,
          -0.16390430748237889,
          -0.16824065786845468,
          -0.16861227648247207,
          -0.17727348112258878,
          -0.1478233095073459,
          -0.16740671483045239,
          -0.16768432441422743,
          1.5812627037136635,
          -0.1445037210738516,
          -0.16497224653617137,
          -0.16832784993738956,
          -0.168682859493978,
          -0.16794170154257276,
          -0.12854524569263776,
          -0.16856406163245274,
          -0.033398787601453046,
          -0.144581376581059,
          -0.16222447623097055,
          -0.16854349684248685,
          -0.16663684723138267,
          -0.16802995819285238,
          -0.1317264636417031,
          -0.1440448475037399,
          -0.14433221622488557,
          -0.14431521103802497,
          -0.14490621819347657,
          -0.23025726591352813,
          -0.16825982303817918,
          -0.19372193645384564,
          -0.1653614526185902,
          -0.1441121802267112,
          3.860868845269539,
          0.45795764128585026,
          -0.16712680383538495,
          -0.1517175990205228,
          -0.16584491111158176,
          -0.1686850707498864,
          -0.16570986897315362,
          -0.15192596166875375,
          -0.12485917797695036,
          -0.12431729696656026,
          -0.18369024984491614,
          -0.16855807522205737,
          -0.041427632713827614,
          -0.13531324822747942,
          -0.1686939674015549,
          -0.14460917021503988,
          0.4837925504227924,
          -0.22964411391732809,
          -0.1511377174455752,
          -0.14434889875165652,
          -0.22992917168207577,
          -0.16681677160852618,
          -0.16600856576219603,
          -0.15300721449795404,
          0.36767452836464154,
          -0.2299645863452886,
          -0.1445048440762814,
          -0.16464959415348832,
          -0.14348928394081478,
          -0.16725653052327533,
          0.2742103346096307,
          -0.22912485729656612,
          -0.14735427932275794,
          -0.16750414480488332,
          -0.1504794348874625,
          -0.168483767404123,
          -0.22992781325170905,
          -0.16869402592873206,
          -0.2300778714150158,
          -0.18249526969036545,
          0.302777622435813,
          -0.14476507408049624,
          -0.10437883909243977,
          -0.16585919858763584,
          -0.14472368020916274,
          -0.16835724633096927,
          -0.1493336655706421,
          -0.1527492266496,
          -0.13272922568888376,
          -0.09538284664980838,
          -0.21665364746566348,
          -0.22790486966211246,
          0.30277197702562636,
          -0.1686757543149524,
          0.30290276679789135,
          -0.15167844572802913,
          0.48552810687835435,
          -0.15236583973175355,
          -0.16864402336524664,
          -0.22280824163790286,
          -0.132741605484858,
          -0.16677625726990583,
          -0.15139666811914343,
          -0.1586903659181974,
          -0.1395530003075331,
          -0.18694081606230475,
          -0.16820616395409665,
          -0.11107200404843626,
          -0.16802814564385493,
          -0.15222344834404938,
          -0.16414395589008762,
          -0.03286155262067554,
          -0.15744252462509786,
          0.33891389580115255,
          -0.2291332646404784,
          -0.16834756333151218,
          -0.16811083745515376,
          -0.22952815192118403,
          -0.23010591690528717,
          0.30316717593945214,
          -0.14744394933865673,
          3.2428767059387043,
          -0.115350663655269,
          -0.22097333860191132,
          -0.1445415377557896,
          -0.09423018958121121,
          1.5793413869859436,
          -0.16844546819816983,
          -0.16789682812441598,
          -0.1675976383412069,
          -0.16758456166320246,
          0.30335087302231667,
          0.07969645650348928,
          -0.18446731363056684,
          -0.18196477284314988,
          -0.13258756942764366,
          -0.1461127241991257,
          -0.1667744653827738,
          -0.22564793888941984,
          -0.18181010495133854,
          -0.15111362063076147,
          -0.18191036094015953,
          -0.11454380076753273,
          1.141154002278376,
          0.30275474146419873,
          -0.07596463925905658,
          -0.22538947567753953,
          -0.1413296863938307,
          -0.08478755699919481,
          1.0956823803455138,
          -0.23007990088947436,
          -0.18196232668438644,
          -0.17499641658123685,
          -0.16769605820133626,
          -0.23000526673849883,
          -0.14452092269533984,
          -0.19937597677495061,
          8.044530924766766,
          -0.1477203117097348,
          0.30663124348752757,
          0.024453067929713787,
          -0.14561561873909742,
          -0.1792721562987056,
          -0.16827010328866404,
          0.13897450252510754,
          -0.22414303745713152,
          -0.10412835008125672,
          0.3106819270377026,
          -0.1685072411627525,
          -0.1582803414199566,
          -0.13157810101917103,
          -0.14711604674276607,
          -0.22917406086409325,
          0.30293736321983183,
          -0.18700029651771938,
          -0.15152360339629342,
          -0.17592144121761003,
          -0.14941808497905062,
          0.3068675329877171,
          0.5750010180142092,
          2.1123709853668027,
          -0.14796724847548515,
          0.31654967547784585,
          -0.19808162113426497,
          -0.1622929068633837,
          -0.23006205139134875,
          -0.16853183799165963,
          -0.14120993020620262,
          -0.15456993398680338,
          -0.1475645686860438,
          3.098922390664961,
          -0.10434705690461941,
          -0.23003340262286204,
          -0.19750905514776826,
          -0.027276780972284847,
          -0.1488155287128569,
          -0.14454157534316586,
          0.3827393892097969,
          -0.14792019449544122,
          -0.14831240110104885,
          -0.2544454488028377,
          -0.15534828667723877,
          -0.16742354555832295,
          -0.13064668200566504,
          -0.13242029644162345,
          -0.18290082095394672,
          -0.1438173202511068,
          -0.10591971066130634,
          -0.14268465877662287,
          0.5277340888338198,
          -0.10708655830724484,
          -0.09875299159662095,
          -0.1520766357088756,
          -0.1443315863083086,
          0.5475332102621554,
          -0.2016259591247852,
          -0.16860871125693944,
          -0.16656333257224995,
          -0.12505261310514265,
          -0.12744299008029442,
          -0.152782403541879,
          0.3245237553490605,
          -0.13270865362889142
         ],
         "y": [
          -1.293910474507753,
          -2.028955912100598,
          -1.1216176580568562,
          -2.223460410237052,
          -2.0290647664767967,
          -2.08757926045264,
          -1.7960153838506523,
          -1.1216052574825877,
          -0.9310567907711391,
          -1.1216256237379225,
          -1.7895218652838947,
          -1.3244272636022774,
          -1.2939335611367568,
          -1.1216813177323626,
          -1.121646406335739,
          -0.43294369109643477,
          -1.2510310584195863,
          -1.1216095187524482,
          -1.1216047283287225,
          -1.1216014937915693,
          -0.9310579771577563,
          -1.792018673070069,
          -1.2981547953392811,
          -1.1241563264084404,
          -1.1215997378630818,
          -1.121674836788186,
          -1.1216060634448097,
          -1.1216017860976364,
          -1.6168445464768415,
          -1.1220243606353772,
          -1.1216093032223773,
          -1.1216192430175218,
          -1.1364277651474173,
          -1.293909321832895,
          -1.1216812589510707,
          -1.1215997871148389,
          -1.1215965783478357,
          -1.1216045453082657,
          -2.228413909565805,
          -1.1215994341352915,
          -1.1286568757137097,
          -1.2939116376082418,
          -1.1216522650317862,
          -1.121606957658294,
          -1.1217194923430975,
          -1.1216139825356428,
          -1.2941696163825762,
          -1.2939148789640307,
          -1.2939197412323975,
          -1.2939473430237272,
          -1.2939059758120375,
          -0.9310498508666298,
          -1.1215999775996117,
          -1.2179259616536282,
          -1.1216928655181102,
          -1.293915398633343,
          -2.356985986909271,
          -2.329409692939916,
          -1.1216269345050283,
          -1.1223323659203197,
          -1.121634025961765,
          -1.1215975896368635,
          -1.121625275076448,
          -1.1218355780676934,
          -2.139360736880407,
          -1.7890571207711943,
          -1.5724571445561364,
          -1.1215943523384628,
          -1.125197764815009,
          -2.284234244666685,
          -1.1215963692252522,
          -1.2939124664459467,
          -1.1701911617492426,
          -0.9310559763434411,
          -2.1751920744756967,
          -1.2939289376907595,
          -0.9310556005930523,
          -1.1216954471007592,
          -1.1217007562767276,
          -2.0290002694454623,
          -2.2230639539511388,
          -0.9310529581583261,
          -1.2939093553221022,
          -1.12163064187986,
          -2.070925992003516,
          -1.12161518046839,
          -1.2974043927424133,
          -0.9310782166315132,
          -2.176477582206576,
          -1.121684959941557,
          -2.2428285195304705,
          -1.1216044367506286,
          -0.9310585189152543,
          -1.1215963687292831,
          -0.9310629938199664,
          -1.6411110824004858,
          -2.3266476539351486,
          -1.2939087836048337,
          -1.789350182972719,
          -1.1216593165763753,
          -1.2939082166296978,
          -1.1216080608289956,
          -2.21085569391059,
          -2.0289994546051147,
          -2.087579905472606,
          -1.126806770521664,
          -0.9310140295445439,
          -0.9311483531727628,
          -2.326655959076063,
          -1.1215973756366493,
          -2.3266550176087732,
          -2.1751669319604545,
          -0.9836751222117476,
          -2.2235603999180427,
          -1.1215969070235552,
          -0.9315674205439355,
          -2.0875773158200337,
          -1.1216126935035189,
          -2.175166665821519,
          -2.1706554399189306,
          -1.1236857264218978,
          -0.6352765017106788,
          -1.1216076388653047,
          -1.2947460863104145,
          -1.1216293144104854,
          -2.2234969770025446,
          -2.191091526606119,
          -2.23526010400563,
          -2.1817468241525013,
          -2.3270420482448326,
          -0.9310903026765958,
          -1.1215998400337717,
          -1.121633999498238,
          -0.9310724903420481,
          -0.9310593179493031,
          -2.3266685841611174,
          -2.25497066707274,
          -1.1678006089804447,
          -1.2813261665813447,
          -0.9315866724566155,
          -1.2939104495692642,
          -1.1271422509969602,
          -1.0694675130959148,
          -1.1216032946248462,
          -1.12163427486945,
          -1.1216371880191487,
          -1.1216367980577708,
          -2.326688913696408,
          -2.0967634654230882,
          -0.9310158169897329,
          -1.6167558763369525,
          -2.0875756811221473,
          -2.1765339877288583,
          -1.1216126400674113,
          -0.93117129331618,
          -1.61676457870952,
          -2.029138412779418,
          -1.616757804310824,
          -1.789253871326368,
          -2.364514104743654,
          -2.326650185541773,
          -2.034087346969866,
          -0.9313115272567393,
          -2.2238337678230184,
          -1.1227922667893686,
          -1.3865183417689257,
          -0.9310592078594201,
          -1.6167513651415175,
          -1.6168979539458652,
          -1.1216134935218318,
          -0.9310593492500541,
          -1.2939092178882674,
          -1.159056950518567,
          -2.8354804224017642,
          -2.2990055333772808,
          -2.3267738794015305,
          -1.1232331275619771,
          -2.1764775129373732,
          -1.2182465961748625,
          -1.121612859204928,
          -1.1260366789569878,
          -0.9312373716528696,
          -2.032338242666464,
          -2.3271442495561416,
          -1.1216058764727825,
          -2.1796922865890975,
          -2.0875818233223615,
          -2.2109956446589636,
          -0.9310915192662789,
          -2.326649103831186,
          -0.635258116962009,
          -2.1751743568339474,
          -2.2098259151076496,
          -2.2108501485755734,
          -2.3269621162846925,
          -2.2477005556700864,
          -2.4087824075778768,
          -2.124377583606615,
          -2.3269692666390758,
          -1.293422890556888,
          -2.2322639495008842,
          -0.9310595632167715,
          -1.1216074275500534,
          -2.224385361110022,
          -2.1245448551460178,
          -0.7900922865801485,
          -2.308777341111937,
          -1.294249657541606,
          -0.931061667710122,
          -1.2934634572202044,
          -2.0900414410972896,
          -2.210886548204461,
          -1.2939104506901629,
          -2.3302325471470735,
          -2.234072712834189,
          -2.23402531271667,
          -0.1323474214509009,
          -2.18740354410233,
          -1.1216467905354897,
          -2.087696663059416,
          -2.087578005605513,
          -1.572507573694201,
          -1.2939206600269197,
          -0.343319180375067,
          -1.2939638124119879,
          -1.1733929942185104,
          -1.6174617830292795,
          -2.237706689179614,
          -1.121840071338551,
          -1.29391972244757,
          -1.1372226055059549,
          -1.2510334935347098,
          -1.1215970670975899,
          -1.1216669999062154,
          -1.7890811199153622,
          -2.1632221808473258,
          -2.0289991734588693,
          -2.3270275184085984,
          -2.0875792919904326
         ],
         "z": [
          0.1805053416657329,
          0.39594309902176855,
          -0.006738233958206745,
          0.3461511897412677,
          0.39591939263580445,
          0.4450196184548854,
          0.4102223972969649,
          -0.006709114227315212,
          0.06509872413036416,
          -0.006716057699132664,
          0.4160126897881026,
          -0.045943289714893566,
          0.18042982778191813,
          -0.0067812968449877005,
          -0.0067178162682832,
          0.02037065872389676,
          0.163004515016392,
          -0.006722850707757261,
          -0.0067096891518164505,
          -0.006707889494521476,
          0.06510136529321832,
          0.40888514754178945,
          0.17093334203802624,
          -0.01305024170966592,
          -0.00671511128167761,
          -0.006822001972442143,
          -0.006715675411476656,
          -0.006706284525284956,
          0.18697702458865506,
          -0.007200005145604808,
          -0.006737846372379059,
          -0.006728565075819593,
          -0.05184298084483179,
          0.18050408928704956,
          -0.006791786377619725,
          -0.006714381691540409,
          -0.0067052591511287275,
          -0.0067240856455865385,
          0.54562174825736,
          -0.006708004420918275,
          -0.009174522180005066,
          0.18050660537183202,
          -0.006871681344216327,
          -0.006707266990177301,
          -0.006739820215015008,
          -0.006720052038501997,
          0.18020073892882676,
          0.1804925409729018,
          0.18050121229907165,
          0.1805055106121385,
          0.18051448246569762,
          0.06510470550373021,
          -0.006716202964892421,
          0.10053071159901758,
          -0.006779175868250346,
          0.18049446584018594,
          0.3148922771397249,
          0.4028843302045684,
          -0.00674243388964755,
          -0.007040726274358445,
          -0.006776149645342955,
          -0.006705024415795313,
          -0.006781340027388075,
          -0.00712075199135514,
          0.31619971723225687,
          0.41685990232855846,
          0.24732837107756875,
          -0.006709044287283461,
          -0.009552447447212177,
          0.32221955532861524,
          -0.006704992472344977,
          0.18050750590216166,
          -0.01610563474974583,
          0.06508905023972136,
          0.2902425372194292,
          0.18050325355093147,
          0.06509675492629859,
          -0.006739064447831175,
          -0.006760176909608673,
          0.39597986313201006,
          0.49373593218657413,
          0.06509726431788322,
          0.1805041256729987,
          -0.006809312917965064,
          0.4781064721581362,
          -0.006740925852575125,
          0.16969461701683322,
          0.06507873427462556,
          0.49217468680130416,
          -0.006722138685672912,
          0.34978441897304297,
          -0.0067093298725582635,
          0.0650972213640567,
          -0.006704990962696692,
          0.06510208333811063,
          0.7051952645114821,
          0.4066374022825573,
          0.1805111198484314,
          0.4163670199069114,
          -0.0067713971416235716,
          0.18050989380718382,
          -0.006712153101561169,
          0.3809986288188497,
          0.3959726908624826,
          0.44502031926764535,
          -0.007804266312322688,
          0.06472774661074028,
          0.06505758220877292,
          0.4066389889394268,
          -0.006705315262638551,
          0.406635261724456,
          0.29025293772797733,
          0.05467412502406254,
          0.3461347538388956,
          -0.00670626096289341,
          0.06499096559940173,
          0.4450202099287115,
          -0.006754445185786296,
          0.2902452117076069,
          0.25749543822212584,
          -0.007138804539769096,
          -0.05319984021843197,
          -0.0067163437863372874,
          0.17973723415054052,
          -0.006717456417265215,
          0.34611993123869295,
          0.1994535549873508,
          0.5067569647011609,
          0.32159123826644936,
          0.4057205151845311,
          0.06508104848443717,
          -0.0067138352554743826,
          -0.00671439431443968,
          0.06508873855089463,
          0.06510221358987274,
          0.4066303954853729,
          0.46149153050636804,
          -0.09171941191447651,
          -0.0050098759996264905,
          0.06494427493868483,
          0.18050531457011537,
          -0.007777806625223451,
          -0.06334246032909518,
          -0.006710570789690147,
          -0.006720179828134199,
          -0.006727831948831976,
          -0.00672825564100405,
          0.40662889586340617,
          0.4408147919978398,
          0.06385078699058606,
          0.18708959284560842,
          0.44501572952023355,
          0.49215057804628176,
          -0.006754503243999006,
          0.06500002508191817,
          0.18708687854630676,
          0.39595208370557844,
          0.18708844240953076,
          0.41662745975096194,
          0.39031932995360247,
          0.40663846267201487,
          0.39475760951809175,
          0.06501717330522447,
          0.34588111425498286,
          -0.008785624661860515,
          0.06236837605827465,
          0.065101485507068,
          0.18708874791103547,
          0.1869241748586623,
          -0.006729237152035835,
          0.06509947567740054,
          0.1805045402006707,
          0.07761956997283888,
          0.28341162664308356,
          0.5191636693072358,
          0.4065541444750205,
          -0.01168702146919638,
          0.4921272860656405,
          0.10019218483261731,
          -0.006713700458861877,
          -0.014324744988096208,
          0.06497040731653314,
          0.3952234853097179,
          0.4065076348946405,
          -0.006708441695840159,
          0.3520156626974636,
          0.44498927517477477,
          0.38096232960702364,
          0.06508237030643171,
          0.40663329853441016,
          -0.05320139072369423,
          0.2902499982826093,
          0.3394016348257548,
          0.3809999730771513,
          0.40658017843332683,
          0.2572180010114192,
          0.37148499991687184,
          0.17413572053770612,
          0.40631751634299274,
          0.1701992481976412,
          0.5129278138353923,
          0.06510106030818885,
          -0.0067075036980550635,
          0.34597300994442265,
          0.4104626412752015,
          0.10755806492419782,
          0.198963057047868,
          0.17946829667800027,
          0.06510064252270342,
          0.17019064086603988,
          0.4425707755018228,
          0.38098982944470994,
          0.18050531578796883,
          0.40507642964401375,
          0.31578729314400655,
          0.3157898057219663,
          0.24346098540201574,
          0.38866055703710845,
          -0.006730920400341536,
          0.4449837004153693,
          0.4450115713570568,
          0.24731555440314576,
          0.1804873368466235,
          -0.053354483318246264,
          0.18046390968334797,
          -0.016750927959038743,
          0.18517050016696715,
          0.3150741222505191,
          -0.007115870062524692,
          0.1805011918893986,
          -0.023530613155886886,
          0.16299296312112962,
          -0.006707195811076632,
          -0.006750879812964358,
          0.41688408432652374,
          0.406893879870454,
          0.39597354662626666,
          0.40611022497499294,
          0.44501965272062305
         ]
        },
        {
         "customdata": [
          [
           "VeChainThor Authority"
          ],
          [
           "SHA-256 + Hive"
          ],
          [
           "Proof-of-Authority"
          ],
          [
           "ECC 256K1"
          ],
          [
           "Leased POS"
          ]
         ],
         "hovertemplate": "<b>%{hovertext}</b><br><br>Class=%{marker.color}<br>PC 1=%{x}<br>PC 2=%{y}<br>PC 3=%{z}<br>Algorithm=%{customdata[0]}<extra></extra>",
         "hovertext": [
          "Vechain",
          "LitecoinCash",
          "Poa Network",
          "Acute Angle Cloud",
          "Waves"
         ],
         "legendgroup": "1",
         "marker": {
          "color": [
           1,
           1,
           1,
           1,
           1
          ],
          "coloraxis": "coloraxis",
          "symbol": "square"
         },
         "mode": "markers",
         "name": "1",
         "scene": "scene",
         "showlegend": true,
         "type": "scatter3d",
         "x": [
          4.399912170401316,
          -0.35483938963735806,
          -0.4151933020853662,
          -0.3418618602653063,
          -0.41419222151646556
         ],
         "y": [
          2.6747190492533943,
          2.9419226086439036,
          4.028732714184424,
          2.7597258000480482,
          2.9980518271679326
         ],
         "z": [
          9.708262467731034,
          12.653245769821046,
          15.63360661365058,
          17.37711074596997,
          13.041078939748878
         ]
        },
        {
         "customdata": [
          [
           "TRC10"
          ]
         ],
         "hovertemplate": "<b>%{hovertext}</b><br><br>Class=%{marker.color}<br>PC 1=%{x}<br>PC 2=%{y}<br>PC 3=%{z}<br>Algorithm=%{customdata[0]}<extra></extra>",
         "hovertext": [
          "BitTorrent"
         ],
         "legendgroup": "2",
         "marker": {
          "color": [
           2
          ],
          "coloraxis": "coloraxis",
          "symbol": "x"
         },
         "mode": "markers",
         "name": "2",
         "scene": "scene",
         "showlegend": true,
         "type": "scatter3d",
         "x": [
          34.073092268555826
         ],
         "y": [
          1.657220594529495
         ],
         "z": [
          -1.2619139404273383
         ]
        }
       ],
       "layout": {
        "coloraxis": {
         "colorbar": {
          "title": {
           "text": "Class"
          }
         },
         "colorscale": [
          [
           0,
           "#0d0887"
          ],
          [
           0.1111111111111111,
           "#46039f"
          ],
          [
           0.2222222222222222,
           "#7201a8"
          ],
          [
           0.3333333333333333,
           "#9c179e"
          ],
          [
           0.4444444444444444,
           "#bd3786"
          ],
          [
           0.5555555555555556,
           "#d8576b"
          ],
          [
           0.6666666666666666,
           "#ed7953"
          ],
          [
           0.7777777777777778,
           "#fb9f3a"
          ],
          [
           0.8888888888888888,
           "#fdca26"
          ],
          [
           1,
           "#f0f921"
          ]
         ]
        },
        "legend": {
         "title": {
          "text": "Class"
         },
         "tracegroupgap": 0,
         "x": 0,
         "y": 1
        },
        "margin": {
         "t": 60
        },
        "scene": {
         "domain": {
          "x": [
           0,
           1
          ],
          "y": [
           0,
           1
          ]
         },
         "xaxis": {
          "title": {
           "text": "PC 1"
          }
         },
         "yaxis": {
          "title": {
           "text": "PC 2"
          }
         },
         "zaxis": {
          "title": {
           "text": "PC 3"
          }
         }
        },
        "template": {
         "data": {
          "bar": [
           {
            "error_x": {
             "color": "#2a3f5f"
            },
            "error_y": {
             "color": "#2a3f5f"
            },
            "marker": {
             "line": {
              "color": "#E5ECF6",
              "width": 0.5
             },
             "pattern": {
              "fillmode": "overlay",
              "size": 10,
              "solidity": 0.2
             }
            },
            "type": "bar"
           }
          ],
          "barpolar": [
           {
            "marker": {
             "line": {
              "color": "#E5ECF6",
              "width": 0.5
             },
             "pattern": {
              "fillmode": "overlay",
              "size": 10,
              "solidity": 0.2
             }
            },
            "type": "barpolar"
           }
          ],
          "carpet": [
           {
            "aaxis": {
             "endlinecolor": "#2a3f5f",
             "gridcolor": "white",
             "linecolor": "white",
             "minorgridcolor": "white",
             "startlinecolor": "#2a3f5f"
            },
            "baxis": {
             "endlinecolor": "#2a3f5f",
             "gridcolor": "white",
             "linecolor": "white",
             "minorgridcolor": "white",
             "startlinecolor": "#2a3f5f"
            },
            "type": "carpet"
           }
          ],
          "choropleth": [
           {
            "colorbar": {
             "outlinewidth": 0,
             "ticks": ""
            },
            "type": "choropleth"
           }
          ],
          "contour": [
           {
            "colorbar": {
             "outlinewidth": 0,
             "ticks": ""
            },
            "colorscale": [
             [
              0,
              "#0d0887"
             ],
             [
              0.1111111111111111,
              "#46039f"
             ],
             [
              0.2222222222222222,
              "#7201a8"
             ],
             [
              0.3333333333333333,
              "#9c179e"
             ],
             [
              0.4444444444444444,
              "#bd3786"
             ],
             [
              0.5555555555555556,
              "#d8576b"
             ],
             [
              0.6666666666666666,
              "#ed7953"
             ],
             [
              0.7777777777777778,
              "#fb9f3a"
             ],
             [
              0.8888888888888888,
              "#fdca26"
             ],
             [
              1,
              "#f0f921"
             ]
            ],
            "type": "contour"
           }
          ],
          "contourcarpet": [
           {
            "colorbar": {
             "outlinewidth": 0,
             "ticks": ""
            },
            "type": "contourcarpet"
           }
          ],
          "heatmap": [
           {
            "colorbar": {
             "outlinewidth": 0,
             "ticks": ""
            },
            "colorscale": [
             [
              0,
              "#0d0887"
             ],
             [
              0.1111111111111111,
              "#46039f"
             ],
             [
              0.2222222222222222,
              "#7201a8"
             ],
             [
              0.3333333333333333,
              "#9c179e"
             ],
             [
              0.4444444444444444,
              "#bd3786"
             ],
             [
              0.5555555555555556,
              "#d8576b"
             ],
             [
              0.6666666666666666,
              "#ed7953"
             ],
             [
              0.7777777777777778,
              "#fb9f3a"
             ],
             [
              0.8888888888888888,
              "#fdca26"
             ],
             [
              1,
              "#f0f921"
             ]
            ],
            "type": "heatmap"
           }
          ],
          "heatmapgl": [
           {
            "colorbar": {
             "outlinewidth": 0,
             "ticks": ""
            },
            "colorscale": [
             [
              0,
              "#0d0887"
             ],
             [
              0.1111111111111111,
              "#46039f"
             ],
             [
              0.2222222222222222,
              "#7201a8"
             ],
             [
              0.3333333333333333,
              "#9c179e"
             ],
             [
              0.4444444444444444,
              "#bd3786"
             ],
             [
              0.5555555555555556,
              "#d8576b"
             ],
             [
              0.6666666666666666,
              "#ed7953"
             ],
             [
              0.7777777777777778,
              "#fb9f3a"
             ],
             [
              0.8888888888888888,
              "#fdca26"
             ],
             [
              1,
              "#f0f921"
             ]
            ],
            "type": "heatmapgl"
           }
          ],
          "histogram": [
           {
            "marker": {
             "pattern": {
              "fillmode": "overlay",
              "size": 10,
              "solidity": 0.2
             }
            },
            "type": "histogram"
           }
          ],
          "histogram2d": [
           {
            "colorbar": {
             "outlinewidth": 0,
             "ticks": ""
            },
            "colorscale": [
             [
              0,
              "#0d0887"
             ],
             [
              0.1111111111111111,
              "#46039f"
             ],
             [
              0.2222222222222222,
              "#7201a8"
             ],
             [
              0.3333333333333333,
              "#9c179e"
             ],
             [
              0.4444444444444444,
              "#bd3786"
             ],
             [
              0.5555555555555556,
              "#d8576b"
             ],
             [
              0.6666666666666666,
              "#ed7953"
             ],
             [
              0.7777777777777778,
              "#fb9f3a"
             ],
             [
              0.8888888888888888,
              "#fdca26"
             ],
             [
              1,
              "#f0f921"
             ]
            ],
            "type": "histogram2d"
           }
          ],
          "histogram2dcontour": [
           {
            "colorbar": {
             "outlinewidth": 0,
             "ticks": ""
            },
            "colorscale": [
             [
              0,
              "#0d0887"
             ],
             [
              0.1111111111111111,
              "#46039f"
             ],
             [
              0.2222222222222222,
              "#7201a8"
             ],
             [
              0.3333333333333333,
              "#9c179e"
             ],
             [
              0.4444444444444444,
              "#bd3786"
             ],
             [
              0.5555555555555556,
              "#d8576b"
             ],
             [
              0.6666666666666666,
              "#ed7953"
             ],
             [
              0.7777777777777778,
              "#fb9f3a"
             ],
             [
              0.8888888888888888,
              "#fdca26"
             ],
             [
              1,
              "#f0f921"
             ]
            ],
            "type": "histogram2dcontour"
           }
          ],
          "mesh3d": [
           {
            "colorbar": {
             "outlinewidth": 0,
             "ticks": ""
            },
            "type": "mesh3d"
           }
          ],
          "parcoords": [
           {
            "line": {
             "colorbar": {
              "outlinewidth": 0,
              "ticks": ""
             }
            },
            "type": "parcoords"
           }
          ],
          "pie": [
           {
            "automargin": true,
            "type": "pie"
           }
          ],
          "scatter": [
           {
            "fillpattern": {
             "fillmode": "overlay",
             "size": 10,
             "solidity": 0.2
            },
            "type": "scatter"
           }
          ],
          "scatter3d": [
           {
            "line": {
             "colorbar": {
              "outlinewidth": 0,
              "ticks": ""
             }
            },
            "marker": {
             "colorbar": {
              "outlinewidth": 0,
              "ticks": ""
             }
            },
            "type": "scatter3d"
           }
          ],
          "scattercarpet": [
           {
            "marker": {
             "colorbar": {
              "outlinewidth": 0,
              "ticks": ""
             }
            },
            "type": "scattercarpet"
           }
          ],
          "scattergeo": [
           {
            "marker": {
             "colorbar": {
              "outlinewidth": 0,
              "ticks": ""
             }
            },
            "type": "scattergeo"
           }
          ],
          "scattergl": [
           {
            "marker": {
             "colorbar": {
              "outlinewidth": 0,
              "ticks": ""
             }
            },
            "type": "scattergl"
           }
          ],
          "scattermapbox": [
           {
            "marker": {
             "colorbar": {
              "outlinewidth": 0,
              "ticks": ""
             }
            },
            "type": "scattermapbox"
           }
          ],
          "scatterpolar": [
           {
            "marker": {
             "colorbar": {
              "outlinewidth": 0,
              "ticks": ""
             }
            },
            "type": "scatterpolar"
           }
          ],
          "scatterpolargl": [
           {
            "marker": {
             "colorbar": {
              "outlinewidth": 0,
              "ticks": ""
             }
            },
            "type": "scatterpolargl"
           }
          ],
          "scatterternary": [
           {
            "marker": {
             "colorbar": {
              "outlinewidth": 0,
              "ticks": ""
             }
            },
            "type": "scatterternary"
           }
          ],
          "surface": [
           {
            "colorbar": {
             "outlinewidth": 0,
             "ticks": ""
            },
            "colorscale": [
             [
              0,
              "#0d0887"
             ],
             [
              0.1111111111111111,
              "#46039f"
             ],
             [
              0.2222222222222222,
              "#7201a8"
             ],
             [
              0.3333333333333333,
              "#9c179e"
             ],
             [
              0.4444444444444444,
              "#bd3786"
             ],
             [
              0.5555555555555556,
              "#d8576b"
             ],
             [
              0.6666666666666666,
              "#ed7953"
             ],
             [
              0.7777777777777778,
              "#fb9f3a"
             ],
             [
              0.8888888888888888,
              "#fdca26"
             ],
             [
              1,
              "#f0f921"
             ]
            ],
            "type": "surface"
           }
          ],
          "table": [
           {
            "cells": {
             "fill": {
              "color": "#EBF0F8"
             },
             "line": {
              "color": "white"
             }
            },
            "header": {
             "fill": {
              "color": "#C8D4E3"
             },
             "line": {
              "color": "white"
             }
            },
            "type": "table"
           }
          ]
         },
         "layout": {
          "annotationdefaults": {
           "arrowcolor": "#2a3f5f",
           "arrowhead": 0,
           "arrowwidth": 1
          },
          "autotypenumbers": "strict",
          "coloraxis": {
           "colorbar": {
            "outlinewidth": 0,
            "ticks": ""
           }
          },
          "colorscale": {
           "diverging": [
            [
             0,
             "#8e0152"
            ],
            [
             0.1,
             "#c51b7d"
            ],
            [
             0.2,
             "#de77ae"
            ],
            [
             0.3,
             "#f1b6da"
            ],
            [
             0.4,
             "#fde0ef"
            ],
            [
             0.5,
             "#f7f7f7"
            ],
            [
             0.6,
             "#e6f5d0"
            ],
            [
             0.7,
             "#b8e186"
            ],
            [
             0.8,
             "#7fbc41"
            ],
            [
             0.9,
             "#4d9221"
            ],
            [
             1,
             "#276419"
            ]
           ],
           "sequential": [
            [
             0,
             "#0d0887"
            ],
            [
             0.1111111111111111,
             "#46039f"
            ],
            [
             0.2222222222222222,
             "#7201a8"
            ],
            [
             0.3333333333333333,
             "#9c179e"
            ],
            [
             0.4444444444444444,
             "#bd3786"
            ],
            [
             0.5555555555555556,
             "#d8576b"
            ],
            [
             0.6666666666666666,
             "#ed7953"
            ],
            [
             0.7777777777777778,
             "#fb9f3a"
            ],
            [
             0.8888888888888888,
             "#fdca26"
            ],
            [
             1,
             "#f0f921"
            ]
           ],
           "sequentialminus": [
            [
             0,
             "#0d0887"
            ],
            [
             0.1111111111111111,
             "#46039f"
            ],
            [
             0.2222222222222222,
             "#7201a8"
            ],
            [
             0.3333333333333333,
             "#9c179e"
            ],
            [
             0.4444444444444444,
             "#bd3786"
            ],
            [
             0.5555555555555556,
             "#d8576b"
            ],
            [
             0.6666666666666666,
             "#ed7953"
            ],
            [
             0.7777777777777778,
             "#fb9f3a"
            ],
            [
             0.8888888888888888,
             "#fdca26"
            ],
            [
             1,
             "#f0f921"
            ]
           ]
          },
          "colorway": [
           "#636efa",
           "#EF553B",
           "#00cc96",
           "#ab63fa",
           "#FFA15A",
           "#19d3f3",
           "#FF6692",
           "#B6E880",
           "#FF97FF",
           "#FECB52"
          ],
          "font": {
           "color": "#2a3f5f"
          },
          "geo": {
           "bgcolor": "white",
           "lakecolor": "white",
           "landcolor": "#E5ECF6",
           "showlakes": true,
           "showland": true,
           "subunitcolor": "white"
          },
          "hoverlabel": {
           "align": "left"
          },
          "hovermode": "closest",
          "mapbox": {
           "style": "light"
          },
          "paper_bgcolor": "white",
          "plot_bgcolor": "#E5ECF6",
          "polar": {
           "angularaxis": {
            "gridcolor": "white",
            "linecolor": "white",
            "ticks": ""
           },
           "bgcolor": "#E5ECF6",
           "radialaxis": {
            "gridcolor": "white",
            "linecolor": "white",
            "ticks": ""
           }
          },
          "scene": {
           "xaxis": {
            "backgroundcolor": "#E5ECF6",
            "gridcolor": "white",
            "gridwidth": 2,
            "linecolor": "white",
            "showbackground": true,
            "ticks": "",
            "zerolinecolor": "white"
           },
           "yaxis": {
            "backgroundcolor": "#E5ECF6",
            "gridcolor": "white",
            "gridwidth": 2,
            "linecolor": "white",
            "showbackground": true,
            "ticks": "",
            "zerolinecolor": "white"
           },
           "zaxis": {
            "backgroundcolor": "#E5ECF6",
            "gridcolor": "white",
            "gridwidth": 2,
            "linecolor": "white",
            "showbackground": true,
            "ticks": "",
            "zerolinecolor": "white"
           }
          },
          "shapedefaults": {
           "line": {
            "color": "#2a3f5f"
           }
          },
          "ternary": {
           "aaxis": {
            "gridcolor": "white",
            "linecolor": "white",
            "ticks": ""
           },
           "baxis": {
            "gridcolor": "white",
            "linecolor": "white",
            "ticks": ""
           },
           "bgcolor": "#E5ECF6",
           "caxis": {
            "gridcolor": "white",
            "linecolor": "white",
            "ticks": ""
           }
          },
          "title": {
           "x": 0.05
          },
          "xaxis": {
           "automargin": true,
           "gridcolor": "white",
           "linecolor": "white",
           "ticks": "",
           "title": {
            "standoff": 15
           },
           "zerolinecolor": "white",
           "zerolinewidth": 2
          },
          "yaxis": {
           "automargin": true,
           "gridcolor": "white",
           "linecolor": "white",
           "ticks": "",
           "title": {
            "standoff": 15
           },
           "zerolinecolor": "white",
           "zerolinewidth": 2
          }
         }
        },
        "width": 800
       }
      },
      "text/html": [
       "<div>                            <div id=\"9843ead9-30b3-42e3-9a33-a626ba2398a0\" class=\"plotly-graph-div\" style=\"height:525px; width:800px;\"></div>            <script type=\"text/javascript\">                require([\"plotly\"], function(Plotly) {                    window.PLOTLYENV=window.PLOTLYENV || {};                                    if (document.getElementById(\"9843ead9-30b3-42e3-9a33-a626ba2398a0\")) {                    Plotly.newPlot(                        \"9843ead9-30b3-42e3-9a33-a626ba2398a0\",                        [{\"customdata\":[[\"Scrypt\"],[\"Scrypt\"],[\"X13\"],[\"X11\"],[\"SHA-512\"],[\"SHA-256\"],[\"SHA-256\"],[\"X15\"],[\"Scrypt\"],[\"Scrypt\"],[\"Scrypt\"],[\"Scrypt\"],[\"Scrypt\"],[\"Scrypt\"],[\"Groestl\"],[\"PoS\"],[\"Scrypt\"],[\"Scrypt\"],[\"X11\"],[\"X11\"],[\"SHA3\"],[\"Scrypt\"],[\"SHA-256\"],[\"Scrypt\"],[\"X13\"],[\"X13\"],[\"NeoScrypt\"],[\"Scrypt\"],[\"Scrypt\"],[\"Scrypt\"],[\"X11\"],[\"X11\"],[\"Multiple\"],[\"PHI1612\"],[\"X11\"],[\"Scrypt\"],[\"Scrypt\"],[\"Scrypt\"],[\"X11\"],[\"Multiple\"],[\"X13\"],[\"Scrypt\"],[\"Shabal256\"],[\"Counterparty\"],[\"SHA-256\"],[\"Groestl\"],[\"Scrypt\"],[\"X13\"],[\"Scrypt\"],[\"Scrypt\"],[\"X13\"],[\"X11\"],[\"Scrypt\"],[\"X11\"],[\"SHA3\"],[\"QUAIT\"],[\"X11\"],[\"Scrypt\"],[\"X13\"],[\"SHA-256\"],[\"X15\"],[\"BLAKE256\"],[\"SHA-256\"],[\"X11\"],[\"SHA-256\"],[\"NIST5\"],[\"Scrypt\"],[\"Scrypt\"],[\"X11\"],[\"Scrypt\"],[\"SHA-256\"],[\"Scrypt\"],[\"PoS\"],[\"X11\"],[\"SHA-256\"],[\"SHA-256\"],[\"NIST5\"],[\"X11\"],[\"POS 3.0\"],[\"Scrypt\"],[\"Scrypt\"],[\"Scrypt\"],[\"X13\"],[\"X11\"],[\"X11\"],[\"Scrypt\"],[\"SHA-256\"],[\"X11\"],[\"Scrypt\"],[\"Scrypt\"],[\"Scrypt\"],[\"Scrypt\"],[\"SHA-256D\"],[\"PoS\"],[\"Scrypt\"],[\"X11\"],[\"PoS\"],[\"X13\"],[\"X14\"],[\"PoS\"],[\"SHA-256D\"],[\"DPoS\"],[\"X11\"],[\"X13\"],[\"X11\"],[\"PoS\"],[\"Scrypt\"],[\"Scrypt\"],[\"PoS\"],[\"X11\"],[\"SHA-256\"],[\"Scrypt\"],[\"X11\"],[\"Scrypt\"],[\"Scrypt\"],[\"X11\"],[\"Scrypt\"],[\"Scrypt\"],[\"Scrypt\"],[\"Scrypt\"],[\"Quark\"],[\"QuBit\"],[\"Scrypt\"],[\"SHA-256\"],[\"X11\"],[\"Scrypt\"],[\"Scrypt\"],[\"Scrypt\"],[\"Scrypt\"],[\"X13\"],[\"Scrypt\"],[\"Scrypt\"],[\"X11\"],[\"Blake2S\"],[\"X11\"],[\"PoS\"],[\"X11\"],[\"PoS\"],[\"X11\"],[\"Scrypt\"],[\"Scrypt\"],[\"Scrypt\"],[\"SHA-256\"],[\"X11\"],[\"Scrypt\"],[\"PoS\"],[\"Scrypt\"],[\"X15\"],[\"SHA-256\"],[\"POS 3.0\"],[\"536\"],[\"NIST5\"],[\"NIST5\"],[\"Skein\"],[\"X13\"],[\"Scrypt\"],[\"X13\"],[\"SkunkHash v2 Raptor\"],[\"Skein\"],[\"X11\"],[\"Scrypt\"],[\"PoS\"],[\"Scrypt\"],[\"Scrypt\"],[\"SHA-512\"],[\"Ouroboros\"],[\"X11\"],[\"NeoScrypt\"],[\"Scrypt\"],[\"Lyra2REv2\"],[\"Scrypt\"],[\"SHA-256\"],[\"NIST5\"],[\"PHI1612\"],[\"Scrypt\"],[\"Quark\"],[\"POS 2.0\"],[\"Scrypt\"],[\"SHA-256\"],[\"X11\"],[\"DPoS\"],[\"NIST5\"],[\"X13\"],[\"Scrypt\"],[\"NIST5\"],[\"Quark\"],[\"Scrypt\"],[\"Scrypt\"],[\"X11\"],[\"Quark\"],[\"Scrypt\"],[\"Scrypt\"],[\"X11\"],[\"POS 3.0\"],[\"Ethash\"],[\"Scrypt\"],[\"Scrypt\"],[\"X13\"],[\"Proof-of-BibleHash\"],[\"C11\"],[\"X11\"],[\"XEVAN\"],[\"Scrypt\"],[\"VBFT\"],[\"NIST5\"],[\"Scrypt\"],[\"Scrypt\"],[\"Scrypt\"],[\"Green Protocol\"],[\"PoS\"],[\"Scrypt\"],[\"Semux BFT consensus\"],[\"Quark\"],[\"PoS\"],[\"X16R\"],[\"Scrypt\"],[\"XEVAN\"],[\"Scrypt\"],[\"Scrypt\"],[\"Scrypt\"],[\"SHA-256D\"],[\"Scrypt\"],[\"X15\"],[\"Scrypt\"],[\"Quark\"],[\"SHA-256\"],[\"DPoS\"],[\"X16R\"],[\"Quark\"],[\"Quark\"],[\"Scrypt\"],[\"Lyra2REv2\"],[\"Quark\"],[\"Scrypt\"],[\"X11\"],[\"X11\"],[\"Scrypt\"],[\"PoS\"],[\"Keccak\"],[\"X11\"],[\"Scrypt\"],[\"SHA-512\"],[\"XEVAN\"],[\"XEVAN\"],[\"X11\"],[\"Quark\"],[\"Scrypt\"],[\"Quark\"],[\"Quark\"],[\"Scrypt\"],[\"X11\"],[\"Scrypt\"],[\"XEVAN\"],[\"SHA-256D\"],[\"X11\"],[\"X11\"],[\"DPoS\"],[\"Scrypt\"],[\"X11\"],[\"Scrypt\"],[\"Scrypt\"],[\"SHA-256\"],[\"Scrypt\"],[\"X11\"],[\"Scrypt\"],[\"SHA-256\"],[\"X11\"],[\"Scrypt\"],[\"Scrypt\"],[\"X11\"],[\"Scrypt\"],[\"PoS\"],[\"X11\"],[\"SHA-256\"],[\"DPoS\"],[\"Scrypt\"],[\"Scrypt\"],[\"NeoScrypt\"],[\"X13\"],[\"DPoS\"],[\"DPoS\"],[\"SHA-256\"],[\"PoS\"],[\"PoS\"],[\"SHA-256\"],[\"Scrypt\"],[\"Scrypt\"]],\"hovertemplate\":\"<b>%{hovertext}</b><br><br>Class=%{marker.color}<br>PC 1=%{x}<br>PC 2=%{y}<br>PC 3=%{z}<br>Algorithm=%{customdata[0]}<extra></extra>\",\"hovertext\":[\"42 Coin\",\"404Coin\",\"EliteCoin\",\"Dash\",\"Bitshares\",\"BitcoinDark\",\"PayCoin\",\"KoboCoin\",\"Aurora Coin\",\"BlueCoin\",\"EnergyCoin\",\"BitBar\",\"CryptoBullion\",\"CasinoCoin\",\"Diamond\",\"Exclusive Coin\",\"FlutterCoin\",\"HoboNickels\",\"HyperStake\",\"IOCoin\",\"MaxCoin\",\"MintCoin\",\"MazaCoin\",\"Nautilus Coin\",\"NavCoin\",\"OpalCoin\",\"Orbitcoin\",\"PotCoin\",\"PhoenixCoin\",\"Reddcoin\",\"SuperCoin\",\"SyncCoin\",\"TeslaCoin\",\"TittieCoin\",\"TorCoin\",\"UnitaryStatus Dollar\",\"UltraCoin\",\"VeriCoin\",\"X11 Coin\",\"Crypti\",\"StealthCoin\",\"ZCC Coin\",\"BurstCoin\",\"StorjCoin\",\"Neutron\",\"FairCoin\",\"RubyCoin\",\"Kore\",\"Dnotes\",\"8BIT Coin\",\"Sativa Coin\",\"Ucoin\",\"Vtorrent\",\"IslaCoin\",\"Nexus\",\"Droidz\",\"Squall Coin\",\"Diggits\",\"Paycon\",\"Emercoin\",\"EverGreenCoin\",\"Decred\",\"EDRCoin\",\"Hitcoin\",\"DubaiCoin\",\"PWR Coin\",\"BillaryCoin\",\"GPU Coin\",\"EuropeCoin\",\"ZeitCoin\",\"SwingCoin\",\"SafeExchangeCoin\",\"Nebuchadnezzar\",\"Ratecoin\",\"Revenu\",\"Clockcoin\",\"VIP Tokens\",\"BitSend\",\"Let it Ride\",\"PutinCoin\",\"iBankCoin\",\"Frankywillcoin\",\"MudraCoin\",\"Lutetium Coin\",\"GoldBlocks\",\"CarterCoin\",\"BitTokens\",\"MustangCoin\",\"ZoneCoin\",\"RootCoin\",\"BitCurrency\",\"Swiscoin\",\"BuzzCoin\",\"Opair\",\"PesoBit\",\"Halloween Coin\",\"CoffeeCoin\",\"RoyalCoin\",\"GanjaCoin V2\",\"TeamUP\",\"LanaCoin\",\"ARK\",\"InsaneCoin\",\"EmberCoin\",\"XenixCoin\",\"FreeCoin\",\"PLNCoin\",\"AquariusCoin\",\"Creatio\",\"Eternity\",\"Eurocoin\",\"BitcoinFast\",\"Stakenet\",\"BitConnect Coin\",\"MoneyCoin\",\"Enigma\",\"Russiacoin\",\"PandaCoin\",\"GameUnits\",\"GAKHcoin\",\"Allsafe\",\"LiteCreed\",\"Klingon Empire Darsek\",\"Internet of People\",\"KushCoin\",\"Printerium\",\"Impeach\",\"Zilbercoin\",\"FirstCoin\",\"FindCoin\",\"OpenChat\",\"RenosCoin\",\"VirtacoinPlus\",\"TajCoin\",\"Impact\",\"Atmos\",\"HappyCoin\",\"MacronCoin\",\"Condensate\",\"Independent Money System\",\"ArgusCoin\",\"LomoCoin\",\"ProCurrency\",\"GoldReserve\",\"GrowthCoin\",\"Phreak\",\"Degas Coin\",\"HTML5 Coin\",\"Ultimate Secure Cash\",\"QTUM\",\"Espers\",\"Denarius\",\"Virta Unique Coin\",\"Bitcoin Planet\",\"BritCoin\",\"Linda\",\"DeepOnion\",\"Signatum\",\"Cream\",\"Monoeci\",\"Draftcoin\",\"Stakecoin\",\"CoinonatX\",\"Ethereum Dark\",\"Obsidian\",\"Cardano\",\"Regalcoin\",\"TrezarCoin\",\"TerraNovaCoin\",\"Rupee\",\"WomenCoin\",\"Theresa May Coin\",\"NamoCoin\",\"LUXCoin\",\"Xios\",\"Bitcloud 2.0\",\"KekCoin\",\"BlackholeCoin\",\"Infinity Economics\",\"Magnet\",\"Lamden Tau\",\"Electra\",\"Bitcoin Diamond\",\"Cash & Back Coin\",\"Bulwark\",\"Kalkulus\",\"GermanCoin\",\"LiteCoin Ultra\",\"PhantomX\",\"Digiwage\",\"Trollcoin\",\"Litecoin Plus\",\"Monkey Project\",\"TokenPay\",\"1717 Masonic Commemorative Token\",\"My Big Coin\",\"Unified Society USDEX\",\"Tokyo Coin\",\"BiblePay\",\"Stipend\",\"Pushi\",\"Ellerium\",\"Velox\",\"Ontology\",\"Bitspace\",\"Briacoin\",\"Ignition\",\"MedicCoin\",\"Bitcoin Green\",\"Deviant Coin\",\"Abjcoin\",\"Semux\",\"Carebit\",\"Zealium\",\"Proton\",\"iDealCash\",\"Bitcoin Incognito\",\"HollyWoodCoin\",\"Swisscoin\",\"Xt3ch\",\"TheVig\",\"EmaratCoin\",\"Dekado\",\"Lynx\",\"Poseidon Quark\",\"BitcoinWSpectrum\",\"Muse\",\"Trivechain\",\"Dystem\",\"Giant\",\"Peony Coin\",\"Absolute Coin\",\"Vitae\",\"TPCash\",\"ARENON\",\"EUNO\",\"MMOCoin\",\"Ketan\",\"XDNA\",\"PAXEX\",\"ThunderStake\",\"Kcash\",\"Bettex coin\",\"BitMoney\",\"Junson Ming Chan Coin\",\"HerbCoin\",\"Oduwa\",\"Galilel\",\"Crypto Sports\",\"Credit\",\"Dash Platinum\",\"Nasdacoin\",\"Beetle Coin\",\"Titan Coin\",\"Award\",\"Insane Coin\",\"ALAX\",\"LiteDoge\",\"TruckCoin\",\"OrangeCoin\",\"BitstarCoin\",\"NeosCoin\",\"HyperCoin\",\"PinkCoin\",\"AudioCoin\",\"IncaKoin\",\"Piggy Coin\",\"Genstake\",\"XiaoMiCoin\",\"CapriCoin\",\" ClubCoin\",\"Radium\",\"Creditbit \",\"OKCash\",\"Lisk\",\"HiCoin\",\"WhiteCoin\",\"FriendshipCoin\",\"Triangles Coin\",\"EOS\",\"Oxycoin\",\"TigerCash\",\"Particl\",\"Nxt\",\"ZEPHYR\",\"Gapcoin\",\"BitcoinPlus\"],\"legendgroup\":\"0\",\"marker\":{\"color\":[0,0,0,0,0,0,0,0,0,0,0,0,0,0,0,0,0,0,0,0,0,0,0,0,0,0,0,0,0,0,0,0,0,0,0,0,0,0,0,0,0,0,0,0,0,0,0,0,0,0,0,0,0,0,0,0,0,0,0,0,0,0,0,0,0,0,0,0,0,0,0,0,0,0,0,0,0,0,0,0,0,0,0,0,0,0,0,0,0,0,0,0,0,0,0,0,0,0,0,0,0,0,0,0,0,0,0,0,0,0,0,0,0,0,0,0,0,0,0,0,0,0,0,0,0,0,0,0,0,0,0,0,0,0,0,0,0,0,0,0,0,0,0,0,0,0,0,0,0,0,0,0,0,0,0,0,0,0,0,0,0,0,0,0,0,0,0,0,0,0,0,0,0,0,0,0,0,0,0,0,0,0,0,0,0,0,0,0,0,0,0,0,0,0,0,0,0,0,0,0,0,0,0,0,0,0,0,0,0,0,0,0,0,0,0,0,0,0,0,0,0,0,0,0,0,0,0,0,0,0,0,0,0,0,0,0,0,0,0,0,0,0,0,0,0,0,0,0,0,0,0,0,0,0,0,0,0,0,0,0,0,0,0,0,0,0,0,0,0,0,0,0,0,0,0,0,0,0,0,0,0,0,0,0,0,0,0],\"coloraxis\":\"coloraxis\",\"symbol\":\"circle\"},\"mode\":\"markers\",\"name\":\"0\",\"scene\":\"scene\",\"showlegend\":true,\"x\":[-0.33553942812753157,-0.31886820006714395,2.313247306565188,-0.39683909292479375,-0.284667311074554,-0.3115721564584547,-0.2670832547634453,-0.24341131482783676,-0.3351988249864392,-0.3277723013805572,-0.33403516623472956,-0.3355353622854316,-0.33551963489484676,0.6601467894164603,-0.37002865924176903,-0.3492441870193545,-0.2827300107940174,-0.3335971876990305,-0.33216265864676076,-0.39673373068562223,-0.39631098389929964,-0.03082693500579716,-0.2748593127889675,-0.2908014894980771,-0.2719745874332436,-0.2725971411192529,-0.3489745797366152,-0.3298387331229146,-0.3339403334243024,0.022800491300857782,-0.35206028411709106,-0.397105497794599,-0.24583099634953756,-0.3217573893780485,-0.39701709335936103,-0.31075856028952603,-0.33421614066609556,-0.2989153652907348,-0.39698154753584763,-0.24629894570756894,-0.27237788312222183,-0.32663810168649754,-0.004883860282868102,-0.33996578391829163,-0.31078345673367425,-0.3694498995585352,-0.29078173013748415,-0.2726725754679627,-0.2854330459739811,-0.3355214867300067,-0.2726247334555136,-0.3525053848185816,-0.33525573092791744,-0.39708701645720035,-0.3712703780177776,-0.4197941844651677,-0.36903793357029063,-0.28918243075080297,-0.2721461252217229,-0.30412523680227804,-0.24585395582041214,-0.07699037092932742,-0.3115430542967323,-0.07438937768405397,-0.311606778394027,-0.23115599093370806,-0.33513155321749133,-0.2890514626102994,-0.3942548381957234,0.8629491983695685,-0.3114067449559403,-0.07100860238929678,-0.3489272951014112,-0.39492885473851924,-0.3101496827832091,-0.30781677367388116,-0.35258190206996143,-0.3958215765499654,-0.35165147206486747,-0.31141583844353526,-0.33516967315473467,-0.3336078389277297,-0.22687740701733078,-0.3399895647244458,-0.3965606555413742,-0.3343734811728975,-0.3115877250254951,-0.3970762035425533,-0.33535892850781357,-0.3355157166338086,-0.289040925802467,-0.2584018827783503,0.043286007701000107,-0.3478838232568267,-0.33512965983324355,-0.3832316676915804,-0.3472120737987111,-0.2283087051772,-0.41141762021873013,-0.3469610044892107,-0.2714079289821447,3.712111558933624,-0.39666853432746463,0.8601684836819787,-0.39703108879894555,-0.34834781809809184,-0.3350571939067939,-0.3352116071883436,-0.3489272951014112,-0.3966057869491858,-0.31145032142966744,-0.33505792738425977,-0.3876659137891416,-0.3352053971518917,-0.3307913003553333,-0.39706009929743963,-0.3344157214115242,0.3528097909957201,-0.33540477608224323,-0.3354753814896819,-0.3504041455849312,-0.34967293401935806,-0.3317003057765332,-0.3115641256601823,-0.3969700031285186,-0.33525307834704504,-0.33538010273972296,-0.29068821611133683,-0.2937596583544843,-0.22807643674228661,-0.3162235288281502,-0.29042919309889453,-0.3962353876133354,-0.4216034712604238,-0.3949730646926739,-0.3471729231491337,-0.3961332162878525,-0.341569878511638,-0.39207215557246683,-0.33532335751106257,-0.33532255077318257,-0.32844095406893453,0.2658377225146331,-0.39661192972663345,-0.27332169526332944,-0.34896161336184234,-0.3345336511709251,0.8891038528109702,-0.2657730355003238,-0.3504291801721063,0.5853137259698202,-0.3541183611653238,-0.3526198154832277,-0.4166227323184956,-0.2723096632968553,0.12963977426013498,-0.2723804692097459,-0.3503400242768433,-0.4161273436499281,-0.39688444941024287,-0.29076244035553434,-0.3488278296367761,-0.3349583653573632,-0.3354583021583293,-0.3427617947916072,0.6669697030574547,-0.39682525323018397,-0.3439712527855297,-0.3354138986128902,-0.31688772484382344,0.434115803587163,-0.3099095202283714,-0.338877372851252,-0.40179873284735046,-0.3353642125228392,-0.39327062719793104,-0.3572444036869956,-0.33523453694154703,-0.0934754338485562,-0.3956172970498114,3.7169700686321643,0.20566868280189407,-0.269049574302586,-0.3326935014983847,-0.30945636548645716,-0.3502899887339555,0.07911463144321415,-0.33437265959772394,-0.39619871244098454,-0.3494543131947995,-0.32193191371406477,-0.3354804458062947,-0.352477299264079,-0.35193354036048435,-0.2756322440446094,-0.26314713768515224,-0.33102334867799815,-0.2198680394086275,-0.1933991681340724,-0.36624355803107045,-0.3969017116817448,-0.3156370440333099,-0.2899220117354178,-0.32450520574725333,-0.3537171193322049,-0.33550781516438044,-0.33548951702622926,-0.284300516172287,-0.3433573545194453,-0.3484220758816697,-0.3352058833593414,3.894867457259656,-0.39193791884287693,-0.34861084527722236,-0.3203726180594991,-0.28204891957089745,-0.28772191228725214,-0.2904564852032062,-0.13851724781022773,-0.29070869119783854,-0.3367555369674781,-0.3346796501104135,-0.2007719611912207,2.2297540461569056,-0.345995857034723,-0.26590078384863386,1.013568382901963,-0.3641342312522068,-0.35040358390690474,-0.3949556137281185,-0.17138219453322276,-0.3612413938117473,-0.349122447087885,-0.32838101225763955,-0.3520544895586617,-0.39637476912181124,-0.2879527507277592,-0.3477102063140717,-0.3423861136567924,-0.351915812165473,-0.1949205051840701,-0.35335466029178325,-0.27120471841710503,0.520558833343731,-0.1423139714768992,-0.3942498761759203,-0.33520985539174053,-0.39470623033483304,-0.35052062162358966,0.571768538065518,-0.3525316436543621,-0.33469251919034176,-0.310089801526653,-0.2914525420289565,-0.3939382369639175,-0.3966021220501124,3.729218301478342,0.09994426278452537,-0.3941404057213665,-0.3340777198345906,-0.33490310684195085,-0.26711590616575615,-0.3354217016092343,-0.3882255530452933,-0.2490815960103707,-0.09110950088167702,-0.38397178710001434,-0.3346996312717163,-0.32776030629595676,-0.39316892344032295,-0.3331380250042773,-0.34920307269696865,-0.3937215563788714,-0.3100864391297888,3.71250357356194,-0.09788936329685484,-0.33033132066793286,-0.3486002558687405,-0.2727798336139243,3.722377065115098,3.723621882747041,-0.24800263461147107,-0.34913890387219954,-0.33912142014448454,2.4679979331147828,-0.3335838279681964,-0.29110535978897684],\"y\":[1.031658247471021,1.0317618777667783,1.6546682255461256,1.2221958959076418,1.5245983372655105,0.859337447596208,0.6613658402809418,1.8748406968924713,1.031656000817955,1.0318898720356304,1.03170310629873,1.0316579988960943,1.031658098050711,0.3332575009457344,0.9022486557364154,1.5621651385989408,0.3682477984669056,1.0316274023515704,1.024835550072755,1.2221990379291745,1.9199061133915951,0.8414397757523379,0.8586590381557546,0.8336750710484881,1.8099601076169336,1.8099415423595582,0.5365105645859548,1.0315175713217808,1.031633442933401,1.0423443505349976,1.0242421803018813,1.2222042242491569,0.16616956740944064,1.743469649488793,1.2221994642291012,1.0312137082470647,1.031623738632403,0.25532906647931036,1.222203852932049,0.1662295834319839,1.809948080881839,1.031183987123391,0.5196788410218983,1.6031060674348327,0.8593269409474261,0.9022691549281219,0.8336876287710363,1.8099304163252683,0.8334772785852612,1.0316587825349197,1.809933322444438,1.0242141127331894,1.0316519135138276,1.2222047761233175,1.9851392893088244,2.0052843153639506,0.6929605768469901,0.833661350890176,1.8099180067637155,0.8588360887335144,1.875007299536302,0.8032990947400375,0.8593383154556952,1.2121887375936404,0.8593449217731941,1.5216703234579645,1.0316393430573145,0.8335757129042964,1.2220051870078383,0.7948620989016502,0.8593290656103024,0.3394534279246558,1.5621597945148518,1.2222136568522353,0.8592313894802321,0.8590773642311703,1.51798269127359,1.2221396935605917,1.5566189593337483,1.0308982242529772,1.0316364802923619,1.031641878880527,1.6118516710302249,1.024116154673277,1.2221834874014208,1.0316264436402858,0.859337723031906,1.2222028794526005,1.031648096336855,1.0316589546057362,0.8337395415317296,0.3603249899577346,1.8875532285831307,1.5621509677955188,1.0316704672576171,1.2215083962949584,1.562196150275257,1.6119550803399212,1.858919183806696,1.562010573574603,1.8874106104631267,1.9755254537651443,1.2221950644942845,1.8430931468973766,1.2222035936127775,1.5621548839356418,1.0316441199261388,1.0316369557570604,1.5621597945148518,1.2221747444512834,0.8593425602710903,1.0316481960355182,0.5988778198955375,1.0316474968598728,1.0313185437543269,1.2222018802833958,1.0315852397545913,0.8288287130033679,1.031652646774432,1.0316577047297426,1.5223620601675039,0.5807644278833572,1.0314028804700472,0.85933842679176,1.2222013463646113,1.0316519926167993,1.031646774503313,0.8336497335235336,0.26163179633523337,1.611953112060695,1.0314945615042348,0.8336726763238964,1.2221562018584322,1.9594814062745496,1.222186448680038,1.5621453236166907,1.2221592487232993,1.562098111973591,1.2219844709485552,1.0316490001967353,1.0316435593811222,1.031130224019513,0.6217892923563605,1.222189355427373,0.8327288907558559,1.5621513740250406,1.0316105715686743,1.8422987590784279,0.6612661549663483,1.5566062188807448,1.8375843138854735,1.517996048962564,1.5179593694115576,1.9588185863298408,1.8099279240334198,1.008545017482569,1.809934024620559,1.5340485855224075,1.9588333593820924,1.2222037842977846,0.8336753287366631,1.5621319888595462,1.0316398830612037,1.0316575599968039,1.5254616636272025,1.4528991959841633,1.2221926100828677,0.5363666749589094,1.0316503528618357,0.7373698126435362,1.0361175390436725,0.8593293320686428,1.517570299968525,1.942045015869175,1.0316479387615303,1.7202522311307014,1.5545315380616689,1.0316564006966729,0.6598948965494396,1.2221420868669268,1.9753929495248579,1.5125056899015765,1.8098919961405473,1.0315877775764788,1.3200094715229564,1.5223617659141715,1.0070383003890468,1.031582085658539,1.2221942809553985,1.5223127159036356,1.0313983017926165,1.031657047589701,1.0242142105682612,1.5566168352553782,-0.07372144266232085,0.35320356231892497,1.0316213098520806,1.6116168735058718,3.0151101165342262,0.9941992552086247,1.2221918094211468,1.3632362371510687,0.8336215427531359,1.4625491566203395,1.5179784261279796,1.031656971112418,1.0316560373675938,0.8335110519091155,1.6754350878458268,1.5621245605789709,1.0316460029445473,1.8330772865053617,1.7202919740061746,1.5621248489256585,0.6618376312435086,1.0294646466988875,0.8340168919130495,0.8336780955351681,1.0299886505465767,0.8336572597215955,1.8909401483392299,1.0316217515833404,1.6769992308178425,0.31075623606927333,1.5220238057327875,0.6613361844973248,1.758478705525791,0.8598101808585015,1.5223576386691753,1.7203461142910406,0.8247619867975525,0.9353313982995337,1.5223374066882214,1.0311320115523466,1.0242016691603089,1.2221890307453913,0.833579668058406,1.5620555449571194,0.8735608651611685,1.024172517816003,1.0225369187400295,1.5823389458154622,1.1652633125269483,0.8256984420737307,1.0304970533599027,1.7203310261879392,1.0316525418663407,1.720343280341507,1.5223597924439523,1.0033850396887454,1.0242135515773187,1.031621367812774,1.3630761906824564,1.8886665656895756,1.2219879989266118,1.2221970449837583,1.9753883517102422,1.0187550841452913,1.2222926473992037,1.0315538956952572,1.0316370896377767,0.6613585790607822,1.031661758240455,1.2220991810009478,1.0264695838072209,0.8657876232115057,1.2218561791114189,1.0316721955767951,1.0315943465289934,1.2221677588321296,1.0316115067828076,1.5621597073023827,0.6970489541193112,0.859320357606068,1.9755113146651888,0.8320362819078782,1.0315916467663133,0.5364800091874993,1.8099360054970879,1.9759240463127987,1.9759611681871725,0.6612043843423526,1.5621618915191355,1.5932943949885217,0.878111112025192,1.0315316387094609,0.8336772380595474],\"z\":[-0.5819447962505478,-0.5824170639175614,-0.6722920400251537,-0.5101407536317296,0.18610112568681186,-0.39472828331815996,-0.021039076996515867,-0.6820963615954658,-0.581953692112863,-0.5821964557983469,-0.5819935352390583,-0.5819448641851541,-0.5819453099555318,-0.1705481429041664,-0.41220914653615265,0.02275864062438399,-0.4590303956846352,-0.5819924124536419,-0.1371072305763668,-0.5101441674311527,-1.2313272429554258,-0.21668577728905816,-0.39561188765381466,-0.2082603817795819,-0.6286200914275297,-0.6285999203165299,-0.3881477714189566,-0.5820759047467018,-0.5819841018117556,-0.5935552235218582,-0.13646253563515928,-0.5101349293117386,0.2152960483800191,-0.24085380486879943,-0.5101365176665357,-0.5825435304793228,-0.5819749102666492,-0.27127692800587144,-0.5101382436306103,0.2152984489256982,-0.6286070244064984,-0.5821055916172068,0.19777035879611865,-0.11854321077108376,-0.3947479674652852,-0.4122284576399487,-0.20826308677183641,-0.6285959448434699,-0.20837258086702598,-0.5819453775678957,-0.6285977501790845,-0.1364455618482075,-0.581951435955937,-0.5101355282457138,-1.8519673465534647,-1.0649778461957178,-0.08898421662201035,-0.20830214373369446,-0.6286081528543913,-0.3948447625159823,-0.6820585271294847,-0.4917644277910511,-0.39472922624556983,-0.5172030011020677,-0.3947286290954575,-0.6324190169816187,-0.581952651903451,-0.2082909392987824,-0.5101782891473611,-0.23301097757423564,-0.39473134571686097,-0.15168874226767087,0.02275092539566813,-0.5101958830038924,-0.3947487572092381,-0.39478577065892034,-0.6284732598237763,-0.5101587910569739,0.04040630217672865,-0.5824711891035621,-0.5819511190312755,-0.5819946196060393,-0.2549238587910428,-0.13676979245411988,-0.5101462020071381,-0.5819710884696011,-0.3947279065002243,-0.5101354957518179,-0.5819479646798266,-0.5819455645224564,-0.20831948987129628,-0.3823583973651554,-0.5667129340677045,0.022724007383225615,-0.581958072993214,-0.5103930304230669,0.022697903447271715,-0.2549026874138787,-0.7467371501958007,0.022723075639063024,-0.5581110586176262,-0.25586858482849545,-0.5101452589286444,-0.6651937316663787,-0.5101368486009086,0.02273597838274272,-0.5819555027302301,-0.5819500581070142,0.02275092539566813,-0.5101434635933062,-0.3947324860716671,-0.581956185940745,0.01459942570358423,-0.5819520458968964,-0.5820156058231261,-0.5101357623131149,-0.5819628287625366,-0.22496651243162866,-0.5819475000944759,-0.5819464482676565,-0.18105463912312644,-0.32792924773709753,-0.5820053796473847,-0.3947286711337458,-0.5101381258560728,-0.5819515219011403,-0.5819471595167174,-0.20825909797104775,-0.4562188386160665,-0.2549086785391157,-0.5824430299937924,-0.208270115925654,-0.510150360235735,-0.9476682375662373,-0.5101899841225042,0.022705604872424963,-0.510153670647662,0.02256103361956648,-0.5102342062674275,-0.5819490901319697,-0.5819481734818865,-0.5820471781239769,-0.02873666028433235,-0.5101458168222143,-0.20857357646648628,0.022753313457070778,-0.5819639846721443,-0.7073500299615011,-0.021057590713608076,0.040375185449597784,-1.0935732433386594,-0.6284336866662994,-0.6284682030187123,-0.8614002846934322,-0.6286054063817123,-0.5906362336482163,-0.6286045289626597,-0.06948781649638879,-0.8614163355819677,-0.5101408782882468,-0.20826149055554152,0.022753011348593002,-0.5819574654574596,-0.5819468888114312,0.1875356046992751,0.13589929661362363,-0.510140563981443,-0.3882593181278933,-0.5819468557104104,-0.10100003174814895,-0.6036917619304926,-0.39477219991596746,-0.6287756443997816,-0.613678156139292,-0.5819477934745859,-0.5547740167548797,-0.014861395915685138,-0.5819527877371069,-0.02551715282060558,-0.5101647717700628,-0.255978148594481,-0.6427440092856717,-0.6286880648838501,-0.5820102072623754,-0.2547466155641494,-0.18105769980859163,-0.5889991888648346,-0.5819634583134364,-0.5101579291796179,-0.18107201490201863,-0.5822708362092366,-0.5819461968666069,-0.13644634422400806,0.040414356647971,0.19443730465835993,-0.04754365481539056,-0.582061513726173,-0.25507439872822385,3.8627768980812878,-0.4976199050264579,-0.5101383419078338,-0.46766104573911116,-0.2082751181580951,0.09468551660221762,-0.6284415826240478,-0.5819454376959966,-0.5819457753407382,-0.20840927550855523,-0.06920885993499189,0.02274323367052301,-0.5819517749176288,-0.33483410698706645,-0.5548171973010149,0.02274832900818077,-0.03134925670236477,-0.5830242934659721,-0.04651037092269501,-0.20827030696569776,-0.5870267806241631,-0.20825983830823466,-0.556938858462037,-0.5819619340908565,-0.3083791958513289,-0.42611674153349566,-0.18111643609386285,-0.021066190167954305,-0.11766332837933903,-0.405058448501411,-0.1810538916442609,-0.5547442874370541,-0.20997759676180128,-0.47469119504522894,-0.18108531982052195,-0.5820491202744397,-0.136455704671261,-0.5101522248380791,-0.20832156803187157,0.02273573744888875,-0.5788907674618279,-0.13645445531980221,-0.5842039005809702,0.5726050695578181,-0.09397007012521036,-0.15418003332140398,-0.14325844135254315,-0.5547609199910384,-0.5819527947377616,-0.5547505957024613,-0.18105107323902755,-0.6017966688628242,-0.136444749330134,-0.5819615171249858,-0.46778463001882,-0.5577813991892255,-0.5101839531508217,-0.5101474107260692,-0.2563111921850101,-0.5915882752752132,-0.5102310001922501,-0.5819666338913884,-0.5819584896631329,-0.021036934361703494,-0.5819486106653656,-0.5103588384851664,-0.5834061458732956,-0.4018499659708433,-0.51043285657658,-0.5819700919813489,-0.5821457992749758,-0.5102359333089277,-0.5820021850818781,0.022758457012153375,-0.12908828746499165,-0.394765829573326,-0.25587683029715824,-0.21323565776293532,-0.5820752581676228,-0.3881527026032649,-0.6285939856571104,-0.2562171449718029,-0.25625747780605024,-0.021531282711200143,0.022756331215465834,0.2040742170807263,-0.16018820028640307,-0.5819762556362323,-0.2082524733650403],\"type\":\"scatter3d\"},{\"customdata\":[[\"SHA-256\"],[\"Ethash\"],[\"Scrypt\"],[\"CryptoNight-V7\"],[\"Ethash\"],[\"Equihash\"],[\"Multiple\"],[\"Scrypt\"],[\"X11\"],[\"Scrypt\"],[\"Multiple\"],[\"Scrypt\"],[\"SHA-256\"],[\"Scrypt\"],[\"Scrypt\"],[\"Quark\"],[\"Groestl\"],[\"Scrypt\"],[\"Scrypt\"],[\"Scrypt\"],[\"X11\"],[\"Multiple\"],[\"SHA-256\"],[\"Scrypt\"],[\"Scrypt\"],[\"Scrypt\"],[\"Scrypt\"],[\"Scrypt\"],[\"NeoScrypt\"],[\"Scrypt\"],[\"Scrypt\"],[\"Scrypt\"],[\"Scrypt\"],[\"SHA-256\"],[\"Scrypt\"],[\"Scrypt\"],[\"Scrypt\"],[\"Scrypt\"],[\"HybridScryptHash256\"],[\"Scrypt\"],[\"Scrypt\"],[\"SHA-256\"],[\"Scrypt\"],[\"Scrypt\"],[\"Scrypt\"],[\"Scrypt\"],[\"SHA-256\"],[\"SHA-256\"],[\"SHA-256\"],[\"SHA-256\"],[\"SHA-256\"],[\"X11\"],[\"Scrypt\"],[\"Lyra2REv2\"],[\"Scrypt\"],[\"SHA-256\"],[\"CryptoNight\"],[\"CryptoNight\"],[\"Scrypt\"],[\"Scrypt\"],[\"Scrypt\"],[\"Scrypt\"],[\"Scrypt\"],[\"Scrypt\"],[\"Stanford Folding\"],[\"Multiple\"],[\"QuBit\"],[\"Scrypt\"],[\"Scrypt\"],[\"M7 POW\"],[\"Scrypt\"],[\"SHA-256\"],[\"Scrypt\"],[\"X11\"],[\"Lyra2RE\"],[\"SHA-256\"],[\"X11\"],[\"Scrypt\"],[\"Scrypt\"],[\"Ethash\"],[\"Blake2b\"],[\"X11\"],[\"SHA-256\"],[\"Scrypt\"],[\"1GB AES Pattern Search\"],[\"Scrypt\"],[\"SHA-256\"],[\"X11\"],[\"Dagger\"],[\"Scrypt\"],[\"X11GOST\"],[\"Scrypt\"],[\"X11\"],[\"Scrypt\"],[\"X11\"],[\"Equihash\"],[\"CryptoNight\"],[\"SHA-256\"],[\"Multiple\"],[\"Scrypt\"],[\"SHA-256\"],[\"Scrypt\"],[\"Lyra2Z\"],[\"Ethash\"],[\"Equihash\"],[\"Scrypt\"],[\"X11\"],[\"X11\"],[\"CryptoNight\"],[\"Scrypt\"],[\"CryptoNight\"],[\"Lyra2RE\"],[\"X11\"],[\"CryptoNight-V7\"],[\"Scrypt\"],[\"X11\"],[\"Equihash\"],[\"Scrypt\"],[\"Lyra2RE\"],[\"Dagger-Hashimoto\"],[\"Scrypt\"],[\"NIST5\"],[\"Scrypt\"],[\"SHA-256\"],[\"Scrypt\"],[\"CryptoNight-V7\"],[\"Argon2d\"],[\"Blake2b\"],[\"Cloverhash\"],[\"CryptoNight\"],[\"X11\"],[\"Scrypt\"],[\"Scrypt\"],[\"X11\"],[\"X11\"],[\"CryptoNight\"],[\"Time Travel\"],[\"Scrypt\"],[\"Keccak\"],[\"X11\"],[\"SHA-256\"],[\"Scrypt\"],[\"Scrypt\"],[\"Scrypt\"],[\"Scrypt\"],[\"Scrypt\"],[\"Scrypt\"],[\"CryptoNight\"],[\"Equihash\"],[\"X11\"],[\"NeoScrypt\"],[\"Equihash\"],[\"Dagger\"],[\"Scrypt\"],[\"X11\"],[\"NeoScrypt\"],[\"Ethash\"],[\"NeoScrypt\"],[\"Multiple\"],[\"CryptoNight\"],[\"CryptoNight\"],[\"Ethash\"],[\"X11\"],[\"CryptoNight-V7\"],[\"Scrypt\"],[\"BLAKE256\"],[\"X11\"],[\"NeoScrypt\"],[\"NeoScrypt\"],[\"Scrypt\"],[\"X11\"],[\"SHA-256\"],[\"C11\"],[\"CryptoNight\"],[\"SkunkHash\"],[\"CryptoNight\"],[\"Scrypt\"],[\"Dagger\"],[\"Lyra2REv2\"],[\"Scrypt\"],[\"Scrypt\"],[\"X11\"],[\"Ethash\"],[\"CryptoNight\"],[\"Scrypt\"],[\"IMesh\"],[\"Equihash\"],[\"Lyra2Z\"],[\"X11\"],[\"CryptoNight\"],[\"NIST5\"],[\"Lyra2RE\"],[\"Tribus\"],[\"Lyra2Z\"],[\"CryptoNight\"],[\"CryptoNight Heavy\"],[\"CryptoNight\"],[\"Jump Consistent Hash\"],[\"CryptoNight\"],[\"X16R\"],[\"HMQ1725\"],[\"X11\"],[\"Scrypt\"],[\"CryptoNight-V7\"],[\"Cryptonight-GPU\"],[\"XEVAN\"],[\"CryptoNight Heavy\"],[\"SHA-256\"],[\"X11\"],[\"X16R\"],[\"Equihash\"],[\"Lyra2Z\"],[\"SHA-256\"],[\"CryptoNight\"],[\"Blake\"],[\"Blake\"],[\"Equihash\"],[\"Exosis\"],[\"Scrypt\"],[\"Equihash\"],[\"Equihash\"],[\"QuBit\"],[\"SHA-256\"],[\"X13\"],[\"SHA-256\"],[\"Scrypt\"],[\"NeoScrypt\"],[\"Blake\"],[\"Scrypt\"],[\"SHA-256\"],[\"Scrypt\"],[\"Groestl\"],[\"Scrypt\"],[\"Scrypt\"],[\"Multiple\"],[\"Equihash+Scrypt\"],[\"Ethash\"],[\"CryptoNight\"],[\"Equihash\"]],\"hovertemplate\":\"<b>%{hovertext}</b><br><br>Class=%{marker.color}<br>PC 1=%{x}<br>PC 2=%{y}<br>PC 3=%{z}<br>Algorithm=%{customdata[0]}<extra></extra>\",\"hovertext\":[\"Bitcoin\",\"Ethereum\",\"Litecoin\",\"Monero\",\"Ethereum Classic\",\"ZCash\",\"DigiByte\",\"ProsperCoin\",\"Spreadcoin\",\"Argentum\",\"MyriadCoin\",\"MoonCoin\",\"ZetaCoin\",\"SexCoin\",\"Quatloo\",\"QuarkCoin\",\"Riecoin\",\"Digitalcoin \",\"Catcoin\",\"CannaCoin\",\"CryptCoin\",\"Verge\",\"DevCoin\",\"EarthCoin\",\"E-Gulden\",\"Einsteinium\",\"Emerald\",\"Franko\",\"FeatherCoin\",\"GrandCoin\",\"GlobalCoin\",\"GoldCoin\",\"Infinite Coin\",\"IXcoin\",\"KrugerCoin\",\"LuckyCoin\",\"Litebar \",\"MegaCoin\",\"MediterraneanCoin\",\"MinCoin\",\"NobleCoin\",\"Namecoin\",\"NyanCoin\",\"RonPaulCoin\",\"StableCoin\",\"SmartCoin\",\"SysCoin\",\"TigerCoin\",\"TerraCoin\",\"UnbreakableCoin\",\"Unobtanium\",\"UroCoin\",\"ViaCoin\",\"Vertcoin\",\"WorldCoin\",\"JouleCoin\",\"ByteCoin\",\"DigitalNote \",\"MonaCoin\",\"Gulden\",\"PesetaCoin\",\"Wild Beast Coin\",\"Flo\",\"ArtByte\",\"Folding Coin\",\"Unitus\",\"CypherPunkCoin\",\"OmniCron\",\"GreenCoin\",\"Cryptonite\",\"MasterCoin\",\"SoonCoin\",\"1Credit\",\"MarsCoin \",\"Crypto\",\"Anarchists Prime\",\"BowsCoin\",\"Song Coin\",\"BitZeny\",\"Expanse\",\"Siacoin\",\"MindCoin\",\"I0coin\",\"Revolution VR\",\"HOdlcoin\",\"Gamecredits\",\"CarpeDiemCoin\",\"Adzcoin\",\"SoilCoin\",\"YoCoin\",\"SibCoin\",\"Francs\",\"BolivarCoin\",\"Omni\",\"PizzaCoin\",\"Komodo\",\"Karbo\",\"ZayedCoin\",\"Circuits of Value\",\"DopeCoin\",\"DollarCoin\",\"Shilling\",\"ZCoin\",\"Elementrem\",\"ZClassic\",\"KiloCoin\",\"ArtexCoin\",\"Kurrent\",\"Cannabis Industry Coin\",\"OsmiumCoin\",\"Bikercoins\",\"HexxCoin\",\"PacCoin\",\"Citadel\",\"BeaverCoin\",\"VaultCoin\",\"Zero\",\"Canada eCoin\",\"Zoin\",\"DubaiCoin\",\"EB3coin\",\"Coinonat\",\"BenjiRolls\",\"ILCoin\",\"EquiTrader\",\"Quantum Resistant Ledger\",\"Dynamic\",\"Nano\",\"ChanCoin\",\"Dinastycoin\",\"DigitalPrice\",\"Unify\",\"SocialCoin\",\"ArcticCoin\",\"DAS\",\"LeviarCoin\",\"Bitcore\",\"gCn Coin\",\"SmartCash\",\"Onix\",\"Bitcoin Cash\",\"Sojourn Coin\",\"NewYorkCoin\",\"FrazCoin\",\"Kronecoin\",\"AdCoin\",\"Linx\",\"Sumokoin\",\"BitcoinZ\",\"Elements\",\"VIVO Coin\",\"Bitcoin Gold\",\"Pirl\",\"eBoost\",\"Pura\",\"Innova\",\"Ellaism\",\"GoByte\",\"SHIELD\",\"UltraNote\",\"BitCoal\",\"DaxxCoin\",\"AC3\",\"Lethean\",\"PopularCoin\",\"Photon\",\"Sucre\",\"SparksPay\",\"GunCoin\",\"IrishCoin\",\"Pioneer Coin\",\"UnitedBitcoin\",\"Interzone\",\"TurtleCoin\",\"MUNcoin\",\"Niobio Cash\",\"ShareChain\",\"Travelflex\",\"KREDS\",\"BitFlip\",\"LottoCoin\",\"Crypto Improvement Fund\",\"Callisto Network\",\"BitTube\",\"Poseidon\",\"Aidos Kuneen\",\"Bitrolium\",\"Alpenschillling\",\"FuturoCoin\",\"Monero Classic\",\"Jumpcoin\",\"Infinex\",\"KEYCO\",\"GINcoin\",\"PlatinCoin\",\"Loki\",\"Newton Coin\",\"MassGrid\",\"PluraCoin\",\"Motion\",\"PlusOneCoin\",\"Axe\",\"HexCoin\",\"Webchain\",\"Ryo\",\"Urals Coin\",\"Qwertycoin\",\"Project Pai\",\"Azart\",\"Xchange\",\"CrypticCoin\",\"Actinium\",\"Bitcoin SV\",\"FREDEnergy\",\"Universal Molecule\",\"Lithium\",\"PirateCash\",\"Exosis\",\"Block-Logic\",\"Beam\",\"Bithereum\",\"SLICE\",\"BLAST\",\"Bitcoin Rhodium\",\"GlobalToken\",\"SolarCoin\",\"UFO Coin\",\"BlakeCoin\",\"Crypto Escudo\",\"Crown Coin\",\"SmileyCoin\",\"Groestlcoin\",\"Bata\",\"Pakcoin\",\"JoinCoin\",\"Vollar\",\"Reality Clash\",\"Beldex\",\"Horizen\"],\"legendgroup\":\"3\",\"marker\":{\"color\":[3,3,3,3,3,3,3,3,3,3,3,3,3,3,3,3,3,3,3,3,3,3,3,3,3,3,3,3,3,3,3,3,3,3,3,3,3,3,3,3,3,3,3,3,3,3,3,3,3,3,3,3,3,3,3,3,3,3,3,3,3,3,3,3,3,3,3,3,3,3,3,3,3,3,3,3,3,3,3,3,3,3,3,3,3,3,3,3,3,3,3,3,3,3,3,3,3,3,3,3,3,3,3,3,3,3,3,3,3,3,3,3,3,3,3,3,3,3,3,3,3,3,3,3,3,3,3,3,3,3,3,3,3,3,3,3,3,3,3,3,3,3,3,3,3,3,3,3,3,3,3,3,3,3,3,3,3,3,3,3,3,3,3,3,3,3,3,3,3,3,3,3,3,3,3,3,3,3,3,3,3,3,3,3,3,3,3,3,3,3,3,3,3,3,3,3,3,3,3,3,3,3,3,3,3,3,3,3,3,3,3,3,3,3,3,3,3,3,3,3,3,3,3,3,3,3,3,3,3,3,3,3,3,3,3,3,3,3,3],\"coloraxis\":\"coloraxis\",\"symbol\":\"diamond\"},\"mode\":\"markers\",\"name\":\"3\",\"scene\":\"scene\",\"showlegend\":true,\"x\":[-0.14454237402475795,-0.15193912814194374,-0.16733961215269538,-0.15360175196660217,-0.15038035744700237,-0.1327075960637485,0.1632507551111703,-0.16848648440082908,-0.22999388706380425,-0.1681028239458877,-0.09029204731468035,2.554761498819207,-0.1416256955165553,-0.1653567279125859,-0.16790675858963533,-0.22330648753324378,-0.20206520309361287,-0.16795553080985923,-0.16846874014432403,-0.16855524148019324,-0.23008328013034968,0.18701606699417336,0.2335121199498468,0.08031208488772106,-0.16830139354002502,-0.16390430748237889,-0.16824065786845468,-0.16861227648247207,-0.17727348112258878,-0.1478233095073459,-0.16740671483045239,-0.16768432441422743,1.5812627037136635,-0.1445037210738516,-0.16497224653617137,-0.16832784993738956,-0.168682859493978,-0.16794170154257276,-0.12854524569263776,-0.16856406163245274,-0.033398787601453046,-0.144581376581059,-0.16222447623097055,-0.16854349684248685,-0.16663684723138267,-0.16802995819285238,-0.1317264636417031,-0.1440448475037399,-0.14433221622488557,-0.14431521103802497,-0.14490621819347657,-0.23025726591352813,-0.16825982303817918,-0.19372193645384564,-0.1653614526185902,-0.1441121802267112,3.860868845269539,0.45795764128585026,-0.16712680383538495,-0.1517175990205228,-0.16584491111158176,-0.1686850707498864,-0.16570986897315362,-0.15192596166875375,-0.12485917797695036,-0.12431729696656026,-0.18369024984491614,-0.16855807522205737,-0.041427632713827614,-0.13531324822747942,-0.1686939674015549,-0.14460917021503988,0.4837925504227924,-0.22964411391732809,-0.1511377174455752,-0.14434889875165652,-0.22992917168207577,-0.16681677160852618,-0.16600856576219603,-0.15300721449795404,0.36767452836464154,-0.2299645863452886,-0.1445048440762814,-0.16464959415348832,-0.14348928394081478,-0.16725653052327533,0.2742103346096307,-0.22912485729656612,-0.14735427932275794,-0.16750414480488332,-0.1504794348874625,-0.168483767404123,-0.22992781325170905,-0.16869402592873206,-0.2300778714150158,-0.18249526969036545,0.302777622435813,-0.14476507408049624,-0.10437883909243977,-0.16585919858763584,-0.14472368020916274,-0.16835724633096927,-0.1493336655706421,-0.1527492266496,-0.13272922568888376,-0.09538284664980838,-0.21665364746566348,-0.22790486966211246,0.30277197702562636,-0.1686757543149524,0.30290276679789135,-0.15167844572802913,0.48552810687835435,-0.15236583973175355,-0.16864402336524664,-0.22280824163790286,-0.132741605484858,-0.16677625726990583,-0.15139666811914343,-0.1586903659181974,-0.1395530003075331,-0.18694081606230475,-0.16820616395409665,-0.11107200404843626,-0.16802814564385493,-0.15222344834404938,-0.16414395589008762,-0.03286155262067554,-0.15744252462509786,0.33891389580115255,-0.2291332646404784,-0.16834756333151218,-0.16811083745515376,-0.22952815192118403,-0.23010591690528717,0.30316717593945214,-0.14744394933865673,3.2428767059387043,-0.115350663655269,-0.22097333860191132,-0.1445415377557896,-0.09423018958121121,1.5793413869859436,-0.16844546819816983,-0.16789682812441598,-0.1675976383412069,-0.16758456166320246,0.30335087302231667,0.07969645650348928,-0.18446731363056684,-0.18196477284314988,-0.13258756942764366,-0.1461127241991257,-0.1667744653827738,-0.22564793888941984,-0.18181010495133854,-0.15111362063076147,-0.18191036094015953,-0.11454380076753273,1.141154002278376,0.30275474146419873,-0.07596463925905658,-0.22538947567753953,-0.1413296863938307,-0.08478755699919481,1.0956823803455138,-0.23007990088947436,-0.18196232668438644,-0.17499641658123685,-0.16769605820133626,-0.23000526673849883,-0.14452092269533984,-0.19937597677495061,8.044530924766766,-0.1477203117097348,0.30663124348752757,0.024453067929713787,-0.14561561873909742,-0.1792721562987056,-0.16827010328866404,0.13897450252510754,-0.22414303745713152,-0.10412835008125672,0.3106819270377026,-0.1685072411627525,-0.1582803414199566,-0.13157810101917103,-0.14711604674276607,-0.22917406086409325,0.30293736321983183,-0.18700029651771938,-0.15152360339629342,-0.17592144121761003,-0.14941808497905062,0.3068675329877171,0.5750010180142092,2.1123709853668027,-0.14796724847548515,0.31654967547784585,-0.19808162113426497,-0.1622929068633837,-0.23006205139134875,-0.16853183799165963,-0.14120993020620262,-0.15456993398680338,-0.1475645686860438,3.098922390664961,-0.10434705690461941,-0.23003340262286204,-0.19750905514776826,-0.027276780972284847,-0.1488155287128569,-0.14454157534316586,0.3827393892097969,-0.14792019449544122,-0.14831240110104885,-0.2544454488028377,-0.15534828667723877,-0.16742354555832295,-0.13064668200566504,-0.13242029644162345,-0.18290082095394672,-0.1438173202511068,-0.10591971066130634,-0.14268465877662287,0.5277340888338198,-0.10708655830724484,-0.09875299159662095,-0.1520766357088756,-0.1443315863083086,0.5475332102621554,-0.2016259591247852,-0.16860871125693944,-0.16656333257224995,-0.12505261310514265,-0.12744299008029442,-0.152782403541879,0.3245237553490605,-0.13270865362889142],\"y\":[-1.293910474507753,-2.028955912100598,-1.1216176580568562,-2.223460410237052,-2.0290647664767967,-2.08757926045264,-1.7960153838506523,-1.1216052574825877,-0.9310567907711391,-1.1216256237379225,-1.7895218652838947,-1.3244272636022774,-1.2939335611367568,-1.1216813177323626,-1.121646406335739,-0.43294369109643477,-1.2510310584195863,-1.1216095187524482,-1.1216047283287225,-1.1216014937915693,-0.9310579771577563,-1.792018673070069,-1.2981547953392811,-1.1241563264084404,-1.1215997378630818,-1.121674836788186,-1.1216060634448097,-1.1216017860976364,-1.6168445464768415,-1.1220243606353772,-1.1216093032223773,-1.1216192430175218,-1.1364277651474173,-1.293909321832895,-1.1216812589510707,-1.1215997871148389,-1.1215965783478357,-1.1216045453082657,-2.228413909565805,-1.1215994341352915,-1.1286568757137097,-1.2939116376082418,-1.1216522650317862,-1.121606957658294,-1.1217194923430975,-1.1216139825356428,-1.2941696163825762,-1.2939148789640307,-1.2939197412323975,-1.2939473430237272,-1.2939059758120375,-0.9310498508666298,-1.1215999775996117,-1.2179259616536282,-1.1216928655181102,-1.293915398633343,-2.356985986909271,-2.329409692939916,-1.1216269345050283,-1.1223323659203197,-1.121634025961765,-1.1215975896368635,-1.121625275076448,-1.1218355780676934,-2.139360736880407,-1.7890571207711943,-1.5724571445561364,-1.1215943523384628,-1.125197764815009,-2.284234244666685,-1.1215963692252522,-1.2939124664459467,-1.1701911617492426,-0.9310559763434411,-2.1751920744756967,-1.2939289376907595,-0.9310556005930523,-1.1216954471007592,-1.1217007562767276,-2.0290002694454623,-2.2230639539511388,-0.9310529581583261,-1.2939093553221022,-1.12163064187986,-2.070925992003516,-1.12161518046839,-1.2974043927424133,-0.9310782166315132,-2.176477582206576,-1.121684959941557,-2.2428285195304705,-1.1216044367506286,-0.9310585189152543,-1.1215963687292831,-0.9310629938199664,-1.6411110824004858,-2.3266476539351486,-1.2939087836048337,-1.789350182972719,-1.1216593165763753,-1.2939082166296978,-1.1216080608289956,-2.21085569391059,-2.0289994546051147,-2.087579905472606,-1.126806770521664,-0.9310140295445439,-0.9311483531727628,-2.326655959076063,-1.1215973756366493,-2.3266550176087732,-2.1751669319604545,-0.9836751222117476,-2.2235603999180427,-1.1215969070235552,-0.9315674205439355,-2.0875773158200337,-1.1216126935035189,-2.175166665821519,-2.1706554399189306,-1.1236857264218978,-0.6352765017106788,-1.1216076388653047,-1.2947460863104145,-1.1216293144104854,-2.2234969770025446,-2.191091526606119,-2.23526010400563,-2.1817468241525013,-2.3270420482448326,-0.9310903026765958,-1.1215998400337717,-1.121633999498238,-0.9310724903420481,-0.9310593179493031,-2.3266685841611174,-2.25497066707274,-1.1678006089804447,-1.2813261665813447,-0.9315866724566155,-1.2939104495692642,-1.1271422509969602,-1.0694675130959148,-1.1216032946248462,-1.12163427486945,-1.1216371880191487,-1.1216367980577708,-2.326688913696408,-2.0967634654230882,-0.9310158169897329,-1.6167558763369525,-2.0875756811221473,-2.1765339877288583,-1.1216126400674113,-0.93117129331618,-1.61676457870952,-2.029138412779418,-1.616757804310824,-1.789253871326368,-2.364514104743654,-2.326650185541773,-2.034087346969866,-0.9313115272567393,-2.2238337678230184,-1.1227922667893686,-1.3865183417689257,-0.9310592078594201,-1.6167513651415175,-1.6168979539458652,-1.1216134935218318,-0.9310593492500541,-1.2939092178882674,-1.159056950518567,-2.8354804224017642,-2.2990055333772808,-2.3267738794015305,-1.1232331275619771,-2.1764775129373732,-1.2182465961748625,-1.121612859204928,-1.1260366789569878,-0.9312373716528696,-2.032338242666464,-2.3271442495561416,-1.1216058764727825,-2.1796922865890975,-2.0875818233223615,-2.2109956446589636,-0.9310915192662789,-2.326649103831186,-0.635258116962009,-2.1751743568339474,-2.2098259151076496,-2.2108501485755734,-2.3269621162846925,-2.2477005556700864,-2.4087824075778768,-2.124377583606615,-2.3269692666390758,-1.293422890556888,-2.2322639495008842,-0.9310595632167715,-1.1216074275500534,-2.224385361110022,-2.1245448551460178,-0.7900922865801485,-2.308777341111937,-1.294249657541606,-0.931061667710122,-1.2934634572202044,-2.0900414410972896,-2.210886548204461,-1.2939104506901629,-2.3302325471470735,-2.234072712834189,-2.23402531271667,-0.1323474214509009,-2.18740354410233,-1.1216467905354897,-2.087696663059416,-2.087578005605513,-1.572507573694201,-1.2939206600269197,-0.343319180375067,-1.2939638124119879,-1.1733929942185104,-1.6174617830292795,-2.237706689179614,-1.121840071338551,-1.29391972244757,-1.1372226055059549,-1.2510334935347098,-1.1215970670975899,-1.1216669999062154,-1.7890811199153622,-2.1632221808473258,-2.0289991734588693,-2.3270275184085984,-2.0875792919904326],\"z\":[0.1805053416657329,0.39594309902176855,-0.006738233958206745,0.3461511897412677,0.39591939263580445,0.4450196184548854,0.4102223972969649,-0.006709114227315212,0.06509872413036416,-0.006716057699132664,0.4160126897881026,-0.045943289714893566,0.18042982778191813,-0.0067812968449877005,-0.0067178162682832,0.02037065872389676,0.163004515016392,-0.006722850707757261,-0.0067096891518164505,-0.006707889494521476,0.06510136529321832,0.40888514754178945,0.17093334203802624,-0.01305024170966592,-0.00671511128167761,-0.006822001972442143,-0.006715675411476656,-0.006706284525284956,0.18697702458865506,-0.007200005145604808,-0.006737846372379059,-0.006728565075819593,-0.05184298084483179,0.18050408928704956,-0.006791786377619725,-0.006714381691540409,-0.0067052591511287275,-0.0067240856455865385,0.54562174825736,-0.006708004420918275,-0.009174522180005066,0.18050660537183202,-0.006871681344216327,-0.006707266990177301,-0.006739820215015008,-0.006720052038501997,0.18020073892882676,0.1804925409729018,0.18050121229907165,0.1805055106121385,0.18051448246569762,0.06510470550373021,-0.006716202964892421,0.10053071159901758,-0.006779175868250346,0.18049446584018594,0.3148922771397249,0.4028843302045684,-0.00674243388964755,-0.007040726274358445,-0.006776149645342955,-0.006705024415795313,-0.006781340027388075,-0.00712075199135514,0.31619971723225687,0.41685990232855846,0.24732837107756875,-0.006709044287283461,-0.009552447447212177,0.32221955532861524,-0.006704992472344977,0.18050750590216166,-0.01610563474974583,0.06508905023972136,0.2902425372194292,0.18050325355093147,0.06509675492629859,-0.006739064447831175,-0.006760176909608673,0.39597986313201006,0.49373593218657413,0.06509726431788322,0.1805041256729987,-0.006809312917965064,0.4781064721581362,-0.006740925852575125,0.16969461701683322,0.06507873427462556,0.49217468680130416,-0.006722138685672912,0.34978441897304297,-0.0067093298725582635,0.0650972213640567,-0.006704990962696692,0.06510208333811063,0.7051952645114821,0.4066374022825573,0.1805111198484314,0.4163670199069114,-0.0067713971416235716,0.18050989380718382,-0.006712153101561169,0.3809986288188497,0.3959726908624826,0.44502031926764535,-0.007804266312322688,0.06472774661074028,0.06505758220877292,0.4066389889394268,-0.006705315262638551,0.406635261724456,0.29025293772797733,0.05467412502406254,0.3461347538388956,-0.00670626096289341,0.06499096559940173,0.4450202099287115,-0.006754445185786296,0.2902452117076069,0.25749543822212584,-0.007138804539769096,-0.05319984021843197,-0.0067163437863372874,0.17973723415054052,-0.006717456417265215,0.34611993123869295,0.1994535549873508,0.5067569647011609,0.32159123826644936,0.4057205151845311,0.06508104848443717,-0.0067138352554743826,-0.00671439431443968,0.06508873855089463,0.06510221358987274,0.4066303954853729,0.46149153050636804,-0.09171941191447651,-0.0050098759996264905,0.06494427493868483,0.18050531457011537,-0.007777806625223451,-0.06334246032909518,-0.006710570789690147,-0.006720179828134199,-0.006727831948831976,-0.00672825564100405,0.40662889586340617,0.4408147919978398,0.06385078699058606,0.18708959284560842,0.44501572952023355,0.49215057804628176,-0.006754503243999006,0.06500002508191817,0.18708687854630676,0.39595208370557844,0.18708844240953076,0.41662745975096194,0.39031932995360247,0.40663846267201487,0.39475760951809175,0.06501717330522447,0.34588111425498286,-0.008785624661860515,0.06236837605827465,0.065101485507068,0.18708874791103547,0.1869241748586623,-0.006729237152035835,0.06509947567740054,0.1805045402006707,0.07761956997283888,0.28341162664308356,0.5191636693072358,0.4065541444750205,-0.01168702146919638,0.4921272860656405,0.10019218483261731,-0.006713700458861877,-0.014324744988096208,0.06497040731653314,0.3952234853097179,0.4065076348946405,-0.006708441695840159,0.3520156626974636,0.44498927517477477,0.38096232960702364,0.06508237030643171,0.40663329853441016,-0.05320139072369423,0.2902499982826093,0.3394016348257548,0.3809999730771513,0.40658017843332683,0.2572180010114192,0.37148499991687184,0.17413572053770612,0.40631751634299274,0.1701992481976412,0.5129278138353923,0.06510106030818885,-0.0067075036980550635,0.34597300994442265,0.4104626412752015,0.10755806492419782,0.198963057047868,0.17946829667800027,0.06510064252270342,0.17019064086603988,0.4425707755018228,0.38098982944470994,0.18050531578796883,0.40507642964401375,0.31578729314400655,0.3157898057219663,0.24346098540201574,0.38866055703710845,-0.006730920400341536,0.4449837004153693,0.4450115713570568,0.24731555440314576,0.1804873368466235,-0.053354483318246264,0.18046390968334797,-0.016750927959038743,0.18517050016696715,0.3150741222505191,-0.007115870062524692,0.1805011918893986,-0.023530613155886886,0.16299296312112962,-0.006707195811076632,-0.006750879812964358,0.41688408432652374,0.406893879870454,0.39597354662626666,0.40611022497499294,0.44501965272062305],\"type\":\"scatter3d\"},{\"customdata\":[[\"VeChainThor Authority\"],[\"SHA-256 + Hive\"],[\"Proof-of-Authority\"],[\"ECC 256K1\"],[\"Leased POS\"]],\"hovertemplate\":\"<b>%{hovertext}</b><br><br>Class=%{marker.color}<br>PC 1=%{x}<br>PC 2=%{y}<br>PC 3=%{z}<br>Algorithm=%{customdata[0]}<extra></extra>\",\"hovertext\":[\"Vechain\",\"LitecoinCash\",\"Poa Network\",\"Acute Angle Cloud\",\"Waves\"],\"legendgroup\":\"1\",\"marker\":{\"color\":[1,1,1,1,1],\"coloraxis\":\"coloraxis\",\"symbol\":\"square\"},\"mode\":\"markers\",\"name\":\"1\",\"scene\":\"scene\",\"showlegend\":true,\"x\":[4.399912170401316,-0.35483938963735806,-0.4151933020853662,-0.3418618602653063,-0.41419222151646556],\"y\":[2.6747190492533943,2.9419226086439036,4.028732714184424,2.7597258000480482,2.9980518271679326],\"z\":[9.708262467731034,12.653245769821046,15.63360661365058,17.37711074596997,13.041078939748878],\"type\":\"scatter3d\"},{\"customdata\":[[\"TRC10\"]],\"hovertemplate\":\"<b>%{hovertext}</b><br><br>Class=%{marker.color}<br>PC 1=%{x}<br>PC 2=%{y}<br>PC 3=%{z}<br>Algorithm=%{customdata[0]}<extra></extra>\",\"hovertext\":[\"BitTorrent\"],\"legendgroup\":\"2\",\"marker\":{\"color\":[2],\"coloraxis\":\"coloraxis\",\"symbol\":\"x\"},\"mode\":\"markers\",\"name\":\"2\",\"scene\":\"scene\",\"showlegend\":true,\"x\":[34.073092268555826],\"y\":[1.657220594529495],\"z\":[-1.2619139404273383],\"type\":\"scatter3d\"}],                        {\"template\":{\"data\":{\"histogram2dcontour\":[{\"type\":\"histogram2dcontour\",\"colorbar\":{\"outlinewidth\":0,\"ticks\":\"\"},\"colorscale\":[[0.0,\"#0d0887\"],[0.1111111111111111,\"#46039f\"],[0.2222222222222222,\"#7201a8\"],[0.3333333333333333,\"#9c179e\"],[0.4444444444444444,\"#bd3786\"],[0.5555555555555556,\"#d8576b\"],[0.6666666666666666,\"#ed7953\"],[0.7777777777777778,\"#fb9f3a\"],[0.8888888888888888,\"#fdca26\"],[1.0,\"#f0f921\"]]}],\"choropleth\":[{\"type\":\"choropleth\",\"colorbar\":{\"outlinewidth\":0,\"ticks\":\"\"}}],\"histogram2d\":[{\"type\":\"histogram2d\",\"colorbar\":{\"outlinewidth\":0,\"ticks\":\"\"},\"colorscale\":[[0.0,\"#0d0887\"],[0.1111111111111111,\"#46039f\"],[0.2222222222222222,\"#7201a8\"],[0.3333333333333333,\"#9c179e\"],[0.4444444444444444,\"#bd3786\"],[0.5555555555555556,\"#d8576b\"],[0.6666666666666666,\"#ed7953\"],[0.7777777777777778,\"#fb9f3a\"],[0.8888888888888888,\"#fdca26\"],[1.0,\"#f0f921\"]]}],\"heatmap\":[{\"type\":\"heatmap\",\"colorbar\":{\"outlinewidth\":0,\"ticks\":\"\"},\"colorscale\":[[0.0,\"#0d0887\"],[0.1111111111111111,\"#46039f\"],[0.2222222222222222,\"#7201a8\"],[0.3333333333333333,\"#9c179e\"],[0.4444444444444444,\"#bd3786\"],[0.5555555555555556,\"#d8576b\"],[0.6666666666666666,\"#ed7953\"],[0.7777777777777778,\"#fb9f3a\"],[0.8888888888888888,\"#fdca26\"],[1.0,\"#f0f921\"]]}],\"heatmapgl\":[{\"type\":\"heatmapgl\",\"colorbar\":{\"outlinewidth\":0,\"ticks\":\"\"},\"colorscale\":[[0.0,\"#0d0887\"],[0.1111111111111111,\"#46039f\"],[0.2222222222222222,\"#7201a8\"],[0.3333333333333333,\"#9c179e\"],[0.4444444444444444,\"#bd3786\"],[0.5555555555555556,\"#d8576b\"],[0.6666666666666666,\"#ed7953\"],[0.7777777777777778,\"#fb9f3a\"],[0.8888888888888888,\"#fdca26\"],[1.0,\"#f0f921\"]]}],\"contourcarpet\":[{\"type\":\"contourcarpet\",\"colorbar\":{\"outlinewidth\":0,\"ticks\":\"\"}}],\"contour\":[{\"type\":\"contour\",\"colorbar\":{\"outlinewidth\":0,\"ticks\":\"\"},\"colorscale\":[[0.0,\"#0d0887\"],[0.1111111111111111,\"#46039f\"],[0.2222222222222222,\"#7201a8\"],[0.3333333333333333,\"#9c179e\"],[0.4444444444444444,\"#bd3786\"],[0.5555555555555556,\"#d8576b\"],[0.6666666666666666,\"#ed7953\"],[0.7777777777777778,\"#fb9f3a\"],[0.8888888888888888,\"#fdca26\"],[1.0,\"#f0f921\"]]}],\"surface\":[{\"type\":\"surface\",\"colorbar\":{\"outlinewidth\":0,\"ticks\":\"\"},\"colorscale\":[[0.0,\"#0d0887\"],[0.1111111111111111,\"#46039f\"],[0.2222222222222222,\"#7201a8\"],[0.3333333333333333,\"#9c179e\"],[0.4444444444444444,\"#bd3786\"],[0.5555555555555556,\"#d8576b\"],[0.6666666666666666,\"#ed7953\"],[0.7777777777777778,\"#fb9f3a\"],[0.8888888888888888,\"#fdca26\"],[1.0,\"#f0f921\"]]}],\"mesh3d\":[{\"type\":\"mesh3d\",\"colorbar\":{\"outlinewidth\":0,\"ticks\":\"\"}}],\"scatter\":[{\"fillpattern\":{\"fillmode\":\"overlay\",\"size\":10,\"solidity\":0.2},\"type\":\"scatter\"}],\"parcoords\":[{\"type\":\"parcoords\",\"line\":{\"colorbar\":{\"outlinewidth\":0,\"ticks\":\"\"}}}],\"scatterpolargl\":[{\"type\":\"scatterpolargl\",\"marker\":{\"colorbar\":{\"outlinewidth\":0,\"ticks\":\"\"}}}],\"bar\":[{\"error_x\":{\"color\":\"#2a3f5f\"},\"error_y\":{\"color\":\"#2a3f5f\"},\"marker\":{\"line\":{\"color\":\"#E5ECF6\",\"width\":0.5},\"pattern\":{\"fillmode\":\"overlay\",\"size\":10,\"solidity\":0.2}},\"type\":\"bar\"}],\"scattergeo\":[{\"type\":\"scattergeo\",\"marker\":{\"colorbar\":{\"outlinewidth\":0,\"ticks\":\"\"}}}],\"scatterpolar\":[{\"type\":\"scatterpolar\",\"marker\":{\"colorbar\":{\"outlinewidth\":0,\"ticks\":\"\"}}}],\"histogram\":[{\"marker\":{\"pattern\":{\"fillmode\":\"overlay\",\"size\":10,\"solidity\":0.2}},\"type\":\"histogram\"}],\"scattergl\":[{\"type\":\"scattergl\",\"marker\":{\"colorbar\":{\"outlinewidth\":0,\"ticks\":\"\"}}}],\"scatter3d\":[{\"type\":\"scatter3d\",\"line\":{\"colorbar\":{\"outlinewidth\":0,\"ticks\":\"\"}},\"marker\":{\"colorbar\":{\"outlinewidth\":0,\"ticks\":\"\"}}}],\"scattermapbox\":[{\"type\":\"scattermapbox\",\"marker\":{\"colorbar\":{\"outlinewidth\":0,\"ticks\":\"\"}}}],\"scatterternary\":[{\"type\":\"scatterternary\",\"marker\":{\"colorbar\":{\"outlinewidth\":0,\"ticks\":\"\"}}}],\"scattercarpet\":[{\"type\":\"scattercarpet\",\"marker\":{\"colorbar\":{\"outlinewidth\":0,\"ticks\":\"\"}}}],\"carpet\":[{\"aaxis\":{\"endlinecolor\":\"#2a3f5f\",\"gridcolor\":\"white\",\"linecolor\":\"white\",\"minorgridcolor\":\"white\",\"startlinecolor\":\"#2a3f5f\"},\"baxis\":{\"endlinecolor\":\"#2a3f5f\",\"gridcolor\":\"white\",\"linecolor\":\"white\",\"minorgridcolor\":\"white\",\"startlinecolor\":\"#2a3f5f\"},\"type\":\"carpet\"}],\"table\":[{\"cells\":{\"fill\":{\"color\":\"#EBF0F8\"},\"line\":{\"color\":\"white\"}},\"header\":{\"fill\":{\"color\":\"#C8D4E3\"},\"line\":{\"color\":\"white\"}},\"type\":\"table\"}],\"barpolar\":[{\"marker\":{\"line\":{\"color\":\"#E5ECF6\",\"width\":0.5},\"pattern\":{\"fillmode\":\"overlay\",\"size\":10,\"solidity\":0.2}},\"type\":\"barpolar\"}],\"pie\":[{\"automargin\":true,\"type\":\"pie\"}]},\"layout\":{\"autotypenumbers\":\"strict\",\"colorway\":[\"#636efa\",\"#EF553B\",\"#00cc96\",\"#ab63fa\",\"#FFA15A\",\"#19d3f3\",\"#FF6692\",\"#B6E880\",\"#FF97FF\",\"#FECB52\"],\"font\":{\"color\":\"#2a3f5f\"},\"hovermode\":\"closest\",\"hoverlabel\":{\"align\":\"left\"},\"paper_bgcolor\":\"white\",\"plot_bgcolor\":\"#E5ECF6\",\"polar\":{\"bgcolor\":\"#E5ECF6\",\"angularaxis\":{\"gridcolor\":\"white\",\"linecolor\":\"white\",\"ticks\":\"\"},\"radialaxis\":{\"gridcolor\":\"white\",\"linecolor\":\"white\",\"ticks\":\"\"}},\"ternary\":{\"bgcolor\":\"#E5ECF6\",\"aaxis\":{\"gridcolor\":\"white\",\"linecolor\":\"white\",\"ticks\":\"\"},\"baxis\":{\"gridcolor\":\"white\",\"linecolor\":\"white\",\"ticks\":\"\"},\"caxis\":{\"gridcolor\":\"white\",\"linecolor\":\"white\",\"ticks\":\"\"}},\"coloraxis\":{\"colorbar\":{\"outlinewidth\":0,\"ticks\":\"\"}},\"colorscale\":{\"sequential\":[[0.0,\"#0d0887\"],[0.1111111111111111,\"#46039f\"],[0.2222222222222222,\"#7201a8\"],[0.3333333333333333,\"#9c179e\"],[0.4444444444444444,\"#bd3786\"],[0.5555555555555556,\"#d8576b\"],[0.6666666666666666,\"#ed7953\"],[0.7777777777777778,\"#fb9f3a\"],[0.8888888888888888,\"#fdca26\"],[1.0,\"#f0f921\"]],\"sequentialminus\":[[0.0,\"#0d0887\"],[0.1111111111111111,\"#46039f\"],[0.2222222222222222,\"#7201a8\"],[0.3333333333333333,\"#9c179e\"],[0.4444444444444444,\"#bd3786\"],[0.5555555555555556,\"#d8576b\"],[0.6666666666666666,\"#ed7953\"],[0.7777777777777778,\"#fb9f3a\"],[0.8888888888888888,\"#fdca26\"],[1.0,\"#f0f921\"]],\"diverging\":[[0,\"#8e0152\"],[0.1,\"#c51b7d\"],[0.2,\"#de77ae\"],[0.3,\"#f1b6da\"],[0.4,\"#fde0ef\"],[0.5,\"#f7f7f7\"],[0.6,\"#e6f5d0\"],[0.7,\"#b8e186\"],[0.8,\"#7fbc41\"],[0.9,\"#4d9221\"],[1,\"#276419\"]]},\"xaxis\":{\"gridcolor\":\"white\",\"linecolor\":\"white\",\"ticks\":\"\",\"title\":{\"standoff\":15},\"zerolinecolor\":\"white\",\"automargin\":true,\"zerolinewidth\":2},\"yaxis\":{\"gridcolor\":\"white\",\"linecolor\":\"white\",\"ticks\":\"\",\"title\":{\"standoff\":15},\"zerolinecolor\":\"white\",\"automargin\":true,\"zerolinewidth\":2},\"scene\":{\"xaxis\":{\"backgroundcolor\":\"#E5ECF6\",\"gridcolor\":\"white\",\"linecolor\":\"white\",\"showbackground\":true,\"ticks\":\"\",\"zerolinecolor\":\"white\",\"gridwidth\":2},\"yaxis\":{\"backgroundcolor\":\"#E5ECF6\",\"gridcolor\":\"white\",\"linecolor\":\"white\",\"showbackground\":true,\"ticks\":\"\",\"zerolinecolor\":\"white\",\"gridwidth\":2},\"zaxis\":{\"backgroundcolor\":\"#E5ECF6\",\"gridcolor\":\"white\",\"linecolor\":\"white\",\"showbackground\":true,\"ticks\":\"\",\"zerolinecolor\":\"white\",\"gridwidth\":2}},\"shapedefaults\":{\"line\":{\"color\":\"#2a3f5f\"}},\"annotationdefaults\":{\"arrowcolor\":\"#2a3f5f\",\"arrowhead\":0,\"arrowwidth\":1},\"geo\":{\"bgcolor\":\"white\",\"landcolor\":\"#E5ECF6\",\"subunitcolor\":\"white\",\"showland\":true,\"showlakes\":true,\"lakecolor\":\"white\"},\"title\":{\"x\":0.05},\"mapbox\":{\"style\":\"light\"}}},\"scene\":{\"domain\":{\"x\":[0.0,1.0],\"y\":[0.0,1.0]},\"xaxis\":{\"title\":{\"text\":\"PC 1\"}},\"yaxis\":{\"title\":{\"text\":\"PC 2\"}},\"zaxis\":{\"title\":{\"text\":\"PC 3\"}}},\"coloraxis\":{\"colorbar\":{\"title\":{\"text\":\"Class\"}},\"colorscale\":[[0.0,\"#0d0887\"],[0.1111111111111111,\"#46039f\"],[0.2222222222222222,\"#7201a8\"],[0.3333333333333333,\"#9c179e\"],[0.4444444444444444,\"#bd3786\"],[0.5555555555555556,\"#d8576b\"],[0.6666666666666666,\"#ed7953\"],[0.7777777777777778,\"#fb9f3a\"],[0.8888888888888888,\"#fdca26\"],[1.0,\"#f0f921\"]]},\"legend\":{\"title\":{\"text\":\"Class\"},\"tracegroupgap\":0,\"x\":0,\"y\":1},\"margin\":{\"t\":60},\"width\":800},                        {\"responsive\": true}                    ).then(function(){\n",
       "                            \n",
       "var gd = document.getElementById('9843ead9-30b3-42e3-9a33-a626ba2398a0');\n",
       "var x = new MutationObserver(function (mutations, observer) {{\n",
       "        var display = window.getComputedStyle(gd).display;\n",
       "        if (!display || display === 'none') {{\n",
       "            console.log([gd, 'removed!']);\n",
       "            Plotly.purge(gd);\n",
       "            observer.disconnect();\n",
       "        }}\n",
       "}});\n",
       "\n",
       "// Listen for the removal of the full notebook cells\n",
       "var notebookContainer = gd.closest('#notebook-container');\n",
       "if (notebookContainer) {{\n",
       "    x.observe(notebookContainer, {childList: true});\n",
       "}}\n",
       "\n",
       "// Listen for the clearing of the current output cell\n",
       "var outputEl = gd.closest('.output');\n",
       "if (outputEl) {{\n",
       "    x.observe(outputEl, {childList: true});\n",
       "}}\n",
       "\n",
       "                        })                };                });            </script>        </div>"
      ]
     },
     "metadata": {},
     "output_type": "display_data"
    }
   ],
   "source": [
    "# Creating a 3D-Scatter with the PCA data and the clusters\n",
    "fig = px.scatter_3d(\n",
    "    clustered_df,\n",
    "    x=\"PC 1\",\n",
    "    y=\"PC 2\",\n",
    "    z=\"PC 3\",\n",
    "    color=\"Class\",\n",
    "    symbol=\"Class\",\n",
    "    width=800,\n",
    "    hover_data = ['Algorithm'],\n",
    "    hover_name = 'CoinName',\n",
    "    \n",
    ")\n",
    "fig.update_layout(legend=dict(x=0, y=1))\n",
    "fig.show()\n"
   ]
  },
  {
   "cell_type": "code",
   "execution_count": 65,
   "metadata": {},
   "outputs": [
    {
     "data": {},
     "metadata": {},
     "output_type": "display_data"
    },
    {
     "data": {
      "application/vnd.holoviews_exec.v0+json": "",
      "text/html": [
       "<div id='2165'>\n",
       "  <div class=\"bk-root\" id=\"cb1ca8a9-4a82-4c53-bbc7-0b117fcfbe7c\" data-root-id=\"2165\"></div>\n",
       "</div>\n",
       "<script type=\"application/javascript\">(function(root) {\n",
       "  function embed_document(root) {\n",
       "    var docs_json = {\"544b11b4-d5ce-4bc3-b8c5-323da7167a51\":{\"defs\":[{\"extends\":null,\"module\":null,\"name\":\"ReactiveHTML1\",\"overrides\":[],\"properties\":[]},{\"extends\":null,\"module\":null,\"name\":\"FlexBox1\",\"overrides\":[],\"properties\":[{\"default\":\"flex-start\",\"kind\":null,\"name\":\"align_content\"},{\"default\":\"flex-start\",\"kind\":null,\"name\":\"align_items\"},{\"default\":\"row\",\"kind\":null,\"name\":\"flex_direction\"},{\"default\":\"wrap\",\"kind\":null,\"name\":\"flex_wrap\"},{\"default\":\"flex-start\",\"kind\":null,\"name\":\"justify_content\"}]},{\"extends\":null,\"module\":null,\"name\":\"GridStack1\",\"overrides\":[],\"properties\":[{\"default\":\"warn\",\"kind\":null,\"name\":\"mode\"},{\"default\":null,\"kind\":null,\"name\":\"ncols\"},{\"default\":null,\"kind\":null,\"name\":\"nrows\"},{\"default\":true,\"kind\":null,\"name\":\"allow_resize\"},{\"default\":true,\"kind\":null,\"name\":\"allow_drag\"},{\"default\":[],\"kind\":null,\"name\":\"state\"}]},{\"extends\":null,\"module\":null,\"name\":\"click1\",\"overrides\":[],\"properties\":[{\"default\":\"\",\"kind\":null,\"name\":\"terminal_output\"},{\"default\":\"\",\"kind\":null,\"name\":\"debug_name\"},{\"default\":0,\"kind\":null,\"name\":\"clears\"}]},{\"extends\":null,\"module\":null,\"name\":\"NotificationAreaBase1\",\"overrides\":[],\"properties\":[{\"default\":\"bottom-right\",\"kind\":null,\"name\":\"position\"},{\"default\":0,\"kind\":null,\"name\":\"_clear\"}]},{\"extends\":null,\"module\":null,\"name\":\"NotificationArea1\",\"overrides\":[],\"properties\":[{\"default\":[],\"kind\":null,\"name\":\"notifications\"},{\"default\":\"bottom-right\",\"kind\":null,\"name\":\"position\"},{\"default\":0,\"kind\":null,\"name\":\"_clear\"},{\"default\":[{\"background\":\"#ffc107\",\"icon\":{\"className\":\"fas fa-exclamation-triangle\",\"color\":\"white\",\"tagName\":\"i\"},\"type\":\"warning\"},{\"background\":\"#007bff\",\"icon\":{\"className\":\"fas fa-info-circle\",\"color\":\"white\",\"tagName\":\"i\"},\"type\":\"info\"}],\"kind\":null,\"name\":\"types\"}]},{\"extends\":null,\"module\":null,\"name\":\"Notification\",\"overrides\":[],\"properties\":[{\"default\":null,\"kind\":null,\"name\":\"background\"},{\"default\":3000,\"kind\":null,\"name\":\"duration\"},{\"default\":null,\"kind\":null,\"name\":\"icon\"},{\"default\":\"\",\"kind\":null,\"name\":\"message\"},{\"default\":null,\"kind\":null,\"name\":\"notification_type\"},{\"default\":false,\"kind\":null,\"name\":\"_destroyed\"}]},{\"extends\":null,\"module\":null,\"name\":\"TemplateActions1\",\"overrides\":[],\"properties\":[{\"default\":0,\"kind\":null,\"name\":\"open_modal\"},{\"default\":0,\"kind\":null,\"name\":\"close_modal\"}]},{\"extends\":null,\"module\":null,\"name\":\"MaterialTemplateActions1\",\"overrides\":[],\"properties\":[{\"default\":0,\"kind\":null,\"name\":\"open_modal\"},{\"default\":0,\"kind\":null,\"name\":\"close_modal\"}]}],\"roots\":{\"references\":[{\"attributes\":{},\"id\":\"2179\",\"type\":\"StringEditor\"},{\"attributes\":{\"columns\":[{\"id\":\"2170\"},{\"id\":\"2175\"},{\"id\":\"2180\"},{\"id\":\"2185\"},{\"id\":\"2190\"},{\"id\":\"2195\"}],\"height\":300,\"reorderable\":false,\"source\":{\"id\":\"2166\"},\"view\":{\"id\":\"2200\"},\"width\":700},\"id\":\"2198\",\"type\":\"DataTable\"},{\"attributes\":{},\"id\":\"2184\",\"type\":\"StringEditor\"},{\"attributes\":{\"editor\":{\"id\":\"2174\"},\"field\":\"Algorithm\",\"formatter\":{\"id\":\"2173\"},\"title\":\"Algorithm\"},\"id\":\"2175\",\"type\":\"TableColumn\"},{\"attributes\":{\"format\":\"0,0.0[00000]\"},\"id\":\"2188\",\"type\":\"NumberFormatter\"},{\"attributes\":{\"children\":[{\"id\":\"2198\"}],\"height\":300,\"margin\":[0,0,0,0],\"min_height\":300,\"min_width\":700,\"name\":\"Row02103\",\"tags\":[\"embedded\"],\"width\":700},\"id\":\"2165\",\"type\":\"Row\"},{\"attributes\":{},\"id\":\"2193\",\"type\":\"NumberFormatter\"},{\"attributes\":{\"source\":{\"id\":\"2166\"}},\"id\":\"2200\",\"type\":\"CDSView\"},{\"attributes\":{\"editor\":{\"id\":\"2169\"},\"field\":\"CoinName\",\"formatter\":{\"id\":\"2168\"},\"title\":\"CoinName\"},\"id\":\"2170\",\"type\":\"TableColumn\"},{\"attributes\":{\"editor\":{\"id\":\"2194\"},\"field\":\"Class\",\"formatter\":{\"id\":\"2193\"},\"title\":\"Class\"},\"id\":\"2195\",\"type\":\"TableColumn\"},{\"attributes\":{},\"id\":\"2173\",\"type\":\"StringFormatter\"},{\"attributes\":{},\"id\":\"2169\",\"type\":\"StringEditor\"},{\"attributes\":{\"data\":{\"Algorithm\":[\"Scrypt\",\"Scrypt\",\"X13\",\"SHA-256\",\"Ethash\",\"Scrypt\",\"X11\",\"CryptoNight-V7\",\"Ethash\",\"Equihash\",\"SHA-512\",\"Multiple\",\"SHA-256\",\"SHA-256\",\"Scrypt\",\"X15\",\"X11\",\"Scrypt\",\"Scrypt\",\"Scrypt\",\"Multiple\",\"Scrypt\",\"SHA-256\",\"Scrypt\",\"Scrypt\",\"Scrypt\",\"Quark\",\"Groestl\",\"Scrypt\",\"Scrypt\",\"Scrypt\",\"Scrypt\",\"Scrypt\",\"X11\",\"Scrypt\",\"Groestl\",\"Multiple\",\"SHA-256\",\"Scrypt\",\"Scrypt\",\"Scrypt\",\"Scrypt\",\"PoS\",\"Scrypt\",\"Scrypt\",\"NeoScrypt\",\"Scrypt\",\"Scrypt\",\"Scrypt\",\"Scrypt\",\"X11\",\"Scrypt\",\"X11\",\"SHA-256\",\"Scrypt\",\"Scrypt\",\"Scrypt\",\"SHA3\",\"Scrypt\",\"HybridScryptHash256\",\"Scrypt\",\"Scrypt\",\"SHA-256\",\"Scrypt\",\"X13\",\"Scrypt\",\"SHA-256\",\"Scrypt\",\"X13\",\"NeoScrypt\",\"Scrypt\",\"Scrypt\",\"Scrypt\",\"Scrypt\",\"Scrypt\",\"Scrypt\",\"X11\",\"X11\",\"SHA-256\",\"Multiple\",\"SHA-256\",\"PHI1612\",\"X11\",\"SHA-256\",\"SHA-256\",\"SHA-256\",\"X11\",\"Scrypt\",\"Scrypt\",\"Scrypt\",\"Scrypt\",\"Lyra2REv2\",\"Scrypt\",\"X11\",\"Multiple\",\"SHA-256\",\"X13\",\"Scrypt\",\"CryptoNight\",\"CryptoNight\",\"Shabal256\",\"Counterparty\",\"Scrypt\",\"SHA-256\",\"Groestl\",\"Scrypt\",\"Scrypt\",\"Scrypt\",\"X13\",\"Scrypt\",\"Scrypt\",\"Scrypt\",\"Scrypt\",\"X13\",\"Scrypt\",\"Stanford Folding\",\"X11\",\"Multiple\",\"QuBit\",\"Scrypt\",\"Scrypt\",\"Scrypt\",\"M7 POW\",\"Scrypt\",\"SHA-256\",\"Scrypt\",\"X11\",\"SHA3\",\"X11\",\"Lyra2RE\",\"SHA-256\",\"QUAIT\",\"X11\",\"X11\",\"Scrypt\",\"Scrypt\",\"Scrypt\",\"Ethash\",\"X13\",\"Blake2b\",\"SHA-256\",\"X15\",\"X11\",\"SHA-256\",\"BLAKE256\",\"Scrypt\",\"1GB AES Pattern Search\",\"SHA-256\",\"X11\",\"Scrypt\",\"SHA-256\",\"SHA-256\",\"NIST5\",\"Scrypt\",\"Scrypt\",\"X11\",\"Dagger\",\"Scrypt\",\"X11GOST\",\"X11\",\"Scrypt\",\"SHA-256\",\"Scrypt\",\"PoS\",\"Scrypt\",\"X11\",\"X11\",\"SHA-256\",\"SHA-256\",\"NIST5\",\"X11\",\"Scrypt\",\"POS 3.0\",\"Scrypt\",\"Scrypt\",\"Scrypt\",\"X13\",\"X11\",\"X11\",\"Equihash\",\"X11\",\"Scrypt\",\"CryptoNight\",\"SHA-256\",\"SHA-256\",\"X11\",\"Scrypt\",\"Multiple\",\"Scrypt\",\"Scrypt\",\"Scrypt\",\"SHA-256\",\"Scrypt\",\"Scrypt\",\"SHA-256D\",\"PoS\",\"Scrypt\",\"X11\",\"Lyra2Z\",\"PoS\",\"X13\",\"X14\",\"PoS\",\"SHA-256D\",\"Ethash\",\"Equihash\",\"DPoS\",\"X11\",\"Scrypt\",\"X11\",\"X13\",\"X11\",\"PoS\",\"Scrypt\",\"Scrypt\",\"X11\",\"PoS\",\"X11\",\"SHA-256\",\"Scrypt\",\"X11\",\"Scrypt\",\"Scrypt\",\"X11\",\"CryptoNight\",\"Scrypt\",\"Scrypt\",\"Scrypt\",\"Scrypt\",\"Quark\",\"QuBit\",\"Scrypt\",\"CryptoNight\",\"Lyra2RE\",\"Scrypt\",\"SHA-256\",\"X11\",\"Scrypt\",\"X11\",\"Scrypt\",\"CryptoNight-V7\",\"Scrypt\",\"Scrypt\",\"Scrypt\",\"X13\",\"X11\",\"Equihash\",\"Scrypt\",\"Scrypt\",\"Lyra2RE\",\"Scrypt\",\"Dagger-Hashimoto\",\"X11\",\"Blake2S\",\"X11\",\"Scrypt\",\"PoS\",\"X11\",\"NIST5\",\"PoS\",\"X11\",\"Scrypt\",\"Scrypt\",\"Scrypt\",\"SHA-256\",\"X11\",\"Scrypt\",\"Scrypt\",\"SHA-256\",\"PoS\",\"Scrypt\",\"X15\",\"SHA-256\",\"Scrypt\",\"POS 3.0\",\"CryptoNight-V7\",\"536\",\"Argon2d\",\"Blake2b\",\"Cloverhash\",\"CryptoNight\",\"NIST5\",\"X11\",\"NIST5\",\"Skein\",\"Scrypt\",\"X13\",\"Scrypt\",\"X11\",\"X11\",\"Scrypt\",\"CryptoNight\",\"X13\",\"Time Travel\",\"Scrypt\",\"Keccak\",\"SkunkHash v2 Raptor\",\"X11\",\"Skein\",\"SHA-256\",\"X11\",\"Scrypt\",\"VeChainThor Authority\",\"Scrypt\",\"PoS\",\"Scrypt\",\"Scrypt\",\"Scrypt\",\"Scrypt\",\"Scrypt\",\"Scrypt\",\"Scrypt\",\"CryptoNight\",\"SHA-512\",\"Ouroboros\",\"X11\",\"Equihash\",\"NeoScrypt\",\"X11\",\"Scrypt\",\"NeoScrypt\",\"Lyra2REv2\",\"Equihash\",\"Scrypt\",\"SHA-256\",\"NIST5\",\"PHI1612\",\"Dagger\",\"Scrypt\",\"Quark\",\"Scrypt\",\"POS 2.0\",\"Scrypt\",\"SHA-256\",\"X11\",\"NeoScrypt\",\"Ethash\",\"NeoScrypt\",\"X11\",\"DPoS\",\"NIST5\",\"X13\",\"Multiple\",\"Scrypt\",\"CryptoNight\",\"CryptoNight\",\"Ethash\",\"NIST5\",\"Quark\",\"X11\",\"CryptoNight-V7\",\"Scrypt\",\"Scrypt\",\"Scrypt\",\"X11\",\"BLAKE256\",\"X11\",\"NeoScrypt\",\"Quark\",\"NeoScrypt\",\"Scrypt\",\"Scrypt\",\"Scrypt\",\"X11\",\"X11\",\"SHA-256\",\"C11\",\"POS 3.0\",\"Ethash\",\"Scrypt\",\"CryptoNight\",\"SkunkHash\",\"Scrypt\",\"CryptoNight\",\"Scrypt\",\"Dagger\",\"Lyra2REv2\",\"X13\",\"Proof-of-BibleHash\",\"SHA-256 + Hive\",\"Scrypt\",\"Scrypt\",\"X11\",\"C11\",\"Proof-of-Authority\",\"X11\",\"XEVAN\",\"Scrypt\",\"VBFT\",\"Ethash\",\"CryptoNight\",\"Scrypt\",\"IMesh\",\"NIST5\",\"Scrypt\",\"Scrypt\",\"Equihash\",\"Scrypt\",\"Lyra2Z\",\"Green Protocol\",\"PoS\",\"Scrypt\",\"Semux BFT consensus\",\"X11\",\"Quark\",\"PoS\",\"CryptoNight\",\"X16R\",\"Scrypt\",\"NIST5\",\"Lyra2RE\",\"XEVAN\",\"Tribus\",\"Scrypt\",\"Lyra2Z\",\"CryptoNight\",\"CryptoNight Heavy\",\"CryptoNight\",\"Scrypt\",\"Scrypt\",\"Jump Consistent Hash\",\"SHA-256D\",\"CryptoNight\",\"Scrypt\",\"X15\",\"Scrypt\",\"Quark\",\"SHA-256\",\"DPoS\",\"X16R\",\"HMQ1725\",\"X11\",\"X16R\",\"Quark\",\"Quark\",\"Scrypt\",\"Lyra2REv2\",\"Quark\",\"Scrypt\",\"Scrypt\",\"CryptoNight-V7\",\"Cryptonight-GPU\",\"XEVAN\",\"CryptoNight Heavy\",\"X11\",\"X11\",\"Scrypt\",\"PoS\",\"SHA-256\",\"Keccak\",\"X11\",\"X11\",\"Scrypt\",\"SHA-512\",\"X16R\",\"ECC 256K1\",\"Equihash\",\"XEVAN\",\"Lyra2Z\",\"SHA-256\",\"XEVAN\",\"X11\",\"CryptoNight\",\"Quark\",\"Blake\",\"Blake\",\"Equihash\",\"Exosis\",\"Scrypt\",\"Scrypt\",\"Equihash\",\"Quark\",\"Equihash\",\"Quark\",\"Scrypt\",\"QuBit\",\"X11\",\"Scrypt\",\"XEVAN\",\"SHA-256D\",\"X11\",\"SHA-256\",\"X13\",\"SHA-256\",\"X11\",\"DPoS\",\"Scrypt\",\"Scrypt\",\"X11\",\"NeoScrypt\",\"Scrypt\",\"Blake\",\"Scrypt\",\"SHA-256\",\"Scrypt\",\"X11\",\"Scrypt\",\"Scrypt\",\"SHA-256\",\"X11\",\"SHA-256\",\"Scrypt\",\"Scrypt\",\"Scrypt\",\"Groestl\",\"X11\",\"Scrypt\",\"PoS\",\"Scrypt\",\"Scrypt\",\"X11\",\"SHA-256\",\"DPoS\",\"Scrypt\",\"Scrypt\",\"NeoScrypt\",\"Multiple\",\"X13\",\"Equihash+Scrypt\",\"DPoS\",\"Ethash\",\"DPoS\",\"SHA-256\",\"Leased POS\",\"PoS\",\"TRC10\",\"PoS\",\"SHA-256\",\"Scrypt\",\"CryptoNight\",\"Equihash\",\"Scrypt\"],\"Class\":{\"__ndarray__\":\"AAAAAAAAAAAAAAAAAwAAAAMAAAADAAAAAAAAAAMAAAADAAAAAwAAAAAAAAADAAAAAAAAAAAAAAADAAAAAAAAAAMAAAADAAAAAAAAAAAAAAADAAAAAwAAAAMAAAADAAAAAwAAAAAAAAADAAAAAwAAAAMAAAAAAAAAAwAAAAAAAAADAAAAAwAAAAAAAAAAAAAAAwAAAAMAAAADAAAAAwAAAAMAAAADAAAAAAAAAAAAAAADAAAAAwAAAAMAAAADAAAAAwAAAAAAAAAAAAAAAwAAAAAAAAADAAAAAwAAAAMAAAADAAAAAAAAAAMAAAADAAAAAAAAAAMAAAAAAAAAAAAAAAAAAAADAAAAAwAAAAMAAAAAAAAAAAAAAAAAAAAAAAAAAAAAAAMAAAADAAAAAwAAAAAAAAAAAAAAAwAAAAAAAAADAAAAAAAAAAAAAAADAAAAAwAAAAMAAAADAAAAAAAAAAAAAAADAAAAAAAAAAMAAAADAAAAAAAAAAAAAAADAAAAAAAAAAAAAAADAAAAAwAAAAAAAAAAAAAAAwAAAAAAAAAAAAAAAwAAAAAAAAADAAAAAAAAAAMAAAAAAAAAAwAAAAAAAAAAAAAAAwAAAAMAAAAAAAAAAwAAAAMAAAADAAAAAAAAAAMAAAADAAAAAwAAAAMAAAADAAAAAAAAAAAAAAADAAAAAwAAAAMAAAAAAAAAAwAAAAAAAAADAAAAAwAAAAAAAAADAAAAAAAAAAMAAAAAAAAAAAAAAAMAAAADAAAAAAAAAAMAAAADAAAAAAAAAAAAAAADAAAAAAAAAAMAAAAAAAAAAAAAAAAAAAADAAAAAwAAAAMAAAADAAAAAAAAAAAAAAAAAAAAAAAAAAAAAAADAAAAAwAAAAAAAAAAAAAAAAAAAAAAAAAAAAAAAwAAAAAAAAAAAAAAAAAAAAAAAAAAAAAAAwAAAAAAAAADAAAAAAAAAAAAAAADAAAAAAAAAAMAAAAAAAAAAAAAAAMAAAAAAAAAAwAAAAAAAAADAAAAAAAAAAMAAAAAAAAAAAAAAAAAAAAAAAAAAwAAAAAAAAAAAAAAAAAAAAAAAAAAAAAAAwAAAAMAAAAAAAAAAAAAAAMAAAADAAAAAAAAAAAAAAAAAAAAAAAAAAAAAAADAAAAAAAAAAAAAAAAAAAAAAAAAAAAAAAAAAAAAAAAAAAAAAADAAAAAAAAAAAAAAAAAAAAAAAAAAAAAAAAAAAAAwAAAAMAAAADAAAAAAAAAAAAAAAAAAAAAAAAAAMAAAAAAAAAAwAAAAAAAAAAAAAAAwAAAAAAAAADAAAAAwAAAAAAAAADAAAAAwAAAAAAAAADAAAAAAAAAAAAAAAAAAAAAwAAAAAAAAAAAAAAAwAAAAAAAAAAAAAAAAAAAAAAAAAAAAAAAAAAAAAAAAADAAAAAAAAAAMAAAAAAAAAAAAAAAAAAAAAAAAAAwAAAAAAAAADAAAAAAAAAAMAAAADAAAAAwAAAAMAAAAAAAAAAwAAAAAAAAAAAAAAAwAAAAAAAAADAAAAAwAAAAMAAAAAAAAAAwAAAAAAAAADAAAAAwAAAAMAAAAAAAAAAwAAAAAAAAADAAAAAAAAAAAAAAABAAAAAwAAAAAAAAADAAAAAwAAAAMAAAADAAAAAwAAAAAAAAAAAAAAAwAAAAAAAAAAAAAAAAAAAAMAAAAAAAAAAwAAAAAAAAADAAAAAAAAAAMAAAAAAAAAAAAAAAAAAAAAAAAAAwAAAAAAAAAAAAAAAwAAAAAAAAAAAAAAAAAAAAMAAAADAAAAAwAAAAMAAAAAAAAAAAAAAAAAAAAAAAAAAwAAAAAAAAADAAAAAwAAAAMAAAAAAAAAAAAAAAMAAAADAAAAAAAAAAAAAAADAAAAAAAAAAMAAAADAAAAAwAAAAAAAAADAAAAAwAAAAAAAAAAAAAAAAAAAAMAAAADAAAAAwAAAAAAAAAAAAAAAAAAAAMAAAADAAAAAAAAAAMAAAADAAAAAwAAAAMAAAAAAAAAAAAAAAEAAAADAAAAAwAAAAMAAAAAAAAAAQAAAAAAAAAAAAAAAAAAAAAAAAADAAAAAwAAAAMAAAADAAAAAAAAAAAAAAAAAAAAAwAAAAAAAAADAAAAAAAAAAAAAAAAAAAAAAAAAAMAAAAAAAAAAAAAAAMAAAAAAAAAAAAAAAMAAAADAAAAAAAAAAMAAAAAAAAAAwAAAAMAAAADAAAAAwAAAAAAAAAAAAAAAwAAAAAAAAADAAAAAAAAAAAAAAAAAAAAAAAAAAAAAAAAAAAAAwAAAAMAAAADAAAAAAAAAAAAAAAAAAAAAAAAAAAAAAAAAAAAAwAAAAAAAAADAAAAAwAAAAMAAAADAAAAAAAAAAAAAAAAAAAAAAAAAAMAAAAAAAAAAAAAAAMAAAAAAAAAAAAAAAMAAAABAAAAAwAAAAAAAAADAAAAAwAAAAAAAAAAAAAAAwAAAAAAAAADAAAAAwAAAAMAAAADAAAAAwAAAAAAAAADAAAAAAAAAAMAAAAAAAAAAAAAAAMAAAAAAAAAAAAAAAAAAAAAAAAAAAAAAAMAAAADAAAAAwAAAAAAAAAAAAAAAAAAAAMAAAAAAAAAAwAAAAAAAAADAAAAAAAAAAAAAAAAAAAAAAAAAAMAAAAAAAAAAAAAAAAAAAADAAAAAAAAAAMAAAAAAAAAAwAAAAAAAAAAAAAAAAAAAAMAAAADAAAAAAAAAAAAAAAAAAAAAAAAAAAAAAAAAAAAAwAAAAAAAAADAAAAAAAAAAMAAAAAAAAAAAAAAAEAAAAAAAAAAgAAAAAAAAAAAAAAAAAAAAMAAAADAAAAAAAAAA==\",\"dtype\":\"int32\",\"order\":\"little\",\"shape\":[532]},\"CoinName\":[\"42 Coin\",\"404Coin\",\"EliteCoin\",\"Bitcoin\",\"Ethereum\",\"Litecoin\",\"Dash\",\"Monero\",\"Ethereum Classic\",\"ZCash\",\"Bitshares\",\"DigiByte\",\"BitcoinDark\",\"PayCoin\",\"ProsperCoin\",\"KoboCoin\",\"Spreadcoin\",\"Argentum\",\"Aurora Coin\",\"BlueCoin\",\"MyriadCoin\",\"MoonCoin\",\"ZetaCoin\",\"SexCoin\",\"Quatloo\",\"EnergyCoin\",\"QuarkCoin\",\"Riecoin\",\"Digitalcoin \",\"BitBar\",\"Catcoin\",\"CryptoBullion\",\"CannaCoin\",\"CryptCoin\",\"CasinoCoin\",\"Diamond\",\"Verge\",\"DevCoin\",\"EarthCoin\",\"E-Gulden\",\"Einsteinium\",\"Emerald\",\"Exclusive Coin\",\"FlutterCoin\",\"Franko\",\"FeatherCoin\",\"GrandCoin\",\"GlobalCoin\",\"GoldCoin\",\"HoboNickels\",\"HyperStake\",\"Infinite Coin\",\"IOCoin\",\"IXcoin\",\"KrugerCoin\",\"LuckyCoin\",\"Litebar \",\"MaxCoin\",\"MegaCoin\",\"MediterraneanCoin\",\"MintCoin\",\"MinCoin\",\"MazaCoin\",\"Nautilus Coin\",\"NavCoin\",\"NobleCoin\",\"Namecoin\",\"NyanCoin\",\"OpalCoin\",\"Orbitcoin\",\"PotCoin\",\"PhoenixCoin\",\"Reddcoin\",\"RonPaulCoin\",\"StableCoin\",\"SmartCoin\",\"SuperCoin\",\"SyncCoin\",\"SysCoin\",\"TeslaCoin\",\"TigerCoin\",\"TittieCoin\",\"TorCoin\",\"TerraCoin\",\"UnbreakableCoin\",\"Unobtanium\",\"UroCoin\",\"UnitaryStatus Dollar\",\"UltraCoin\",\"ViaCoin\",\"VeriCoin\",\"Vertcoin\",\"WorldCoin\",\"X11 Coin\",\"Crypti\",\"JouleCoin\",\"StealthCoin\",\"ZCC Coin\",\"ByteCoin\",\"DigitalNote \",\"BurstCoin\",\"StorjCoin\",\"MonaCoin\",\"Neutron\",\"FairCoin\",\"Gulden\",\"RubyCoin\",\"PesetaCoin\",\"Kore\",\"Wild Beast Coin\",\"Dnotes\",\"Flo\",\"8BIT Coin\",\"Sativa Coin\",\"ArtByte\",\"Folding Coin\",\"Ucoin\",\"Unitus\",\"CypherPunkCoin\",\"OmniCron\",\"Vtorrent\",\"GreenCoin\",\"Cryptonite\",\"MasterCoin\",\"SoonCoin\",\"1Credit\",\"IslaCoin\",\"Nexus\",\"MarsCoin \",\"Crypto\",\"Anarchists Prime\",\"Droidz\",\"BowsCoin\",\"Squall Coin\",\"Song Coin\",\"BitZeny\",\"Diggits\",\"Expanse\",\"Paycon\",\"Siacoin\",\"Emercoin\",\"EverGreenCoin\",\"MindCoin\",\"I0coin\",\"Decred\",\"Revolution VR\",\"HOdlcoin\",\"EDRCoin\",\"Hitcoin\",\"Gamecredits\",\"DubaiCoin\",\"CarpeDiemCoin\",\"PWR Coin\",\"BillaryCoin\",\"GPU Coin\",\"Adzcoin\",\"SoilCoin\",\"YoCoin\",\"SibCoin\",\"EuropeCoin\",\"ZeitCoin\",\"SwingCoin\",\"SafeExchangeCoin\",\"Nebuchadnezzar\",\"Francs\",\"BolivarCoin\",\"Ratecoin\",\"Revenu\",\"Clockcoin\",\"VIP Tokens\",\"BitSend\",\"Omni\",\"Let it Ride\",\"PutinCoin\",\"iBankCoin\",\"Frankywillcoin\",\"MudraCoin\",\"PizzaCoin\",\"Lutetium Coin\",\"Komodo\",\"GoldBlocks\",\"CarterCoin\",\"Karbo\",\"BitTokens\",\"ZayedCoin\",\"MustangCoin\",\"ZoneCoin\",\"Circuits of Value\",\"RootCoin\",\"DopeCoin\",\"BitCurrency\",\"DollarCoin\",\"Swiscoin\",\"Shilling\",\"BuzzCoin\",\"Opair\",\"PesoBit\",\"Halloween Coin\",\"ZCoin\",\"CoffeeCoin\",\"RoyalCoin\",\"GanjaCoin V2\",\"TeamUP\",\"LanaCoin\",\"Elementrem\",\"ZClassic\",\"ARK\",\"InsaneCoin\",\"KiloCoin\",\"ArtexCoin\",\"EmberCoin\",\"XenixCoin\",\"FreeCoin\",\"PLNCoin\",\"AquariusCoin\",\"Kurrent\",\"Creatio\",\"Eternity\",\"Eurocoin\",\"BitcoinFast\",\"Stakenet\",\"BitConnect Coin\",\"MoneyCoin\",\"Enigma\",\"Cannabis Industry Coin\",\"Russiacoin\",\"PandaCoin\",\"GameUnits\",\"GAKHcoin\",\"Allsafe\",\"LiteCreed\",\"OsmiumCoin\",\"Bikercoins\",\"HexxCoin\",\"Klingon Empire Darsek\",\"Internet of People\",\"KushCoin\",\"Printerium\",\"PacCoin\",\"Impeach\",\"Citadel\",\"Zilbercoin\",\"FirstCoin\",\"BeaverCoin\",\"FindCoin\",\"VaultCoin\",\"Zero\",\"OpenChat\",\"Canada eCoin\",\"Zoin\",\"RenosCoin\",\"DubaiCoin\",\"VirtacoinPlus\",\"TajCoin\",\"Impact\",\"EB3coin\",\"Atmos\",\"HappyCoin\",\"Coinonat\",\"MacronCoin\",\"Condensate\",\"Independent Money System\",\"ArgusCoin\",\"LomoCoin\",\"ProCurrency\",\"GoldReserve\",\"BenjiRolls\",\"GrowthCoin\",\"ILCoin\",\"Phreak\",\"Degas Coin\",\"HTML5 Coin\",\"Ultimate Secure Cash\",\"EquiTrader\",\"QTUM\",\"Quantum Resistant Ledger\",\"Espers\",\"Dynamic\",\"Nano\",\"ChanCoin\",\"Dinastycoin\",\"Denarius\",\"DigitalPrice\",\"Virta Unique Coin\",\"Bitcoin Planet\",\"Unify\",\"BritCoin\",\"SocialCoin\",\"ArcticCoin\",\"DAS\",\"Linda\",\"LeviarCoin\",\"DeepOnion\",\"Bitcore\",\"gCn Coin\",\"SmartCash\",\"Signatum\",\"Onix\",\"Cream\",\"Bitcoin Cash\",\"Monoeci\",\"Draftcoin\",\"Vechain\",\"Sojourn Coin\",\"Stakecoin\",\"NewYorkCoin\",\"FrazCoin\",\"Kronecoin\",\"AdCoin\",\"Linx\",\"CoinonatX\",\"Ethereum Dark\",\"Sumokoin\",\"Obsidian\",\"Cardano\",\"Regalcoin\",\"BitcoinZ\",\"TrezarCoin\",\"Elements\",\"TerraNovaCoin\",\"VIVO Coin\",\"Rupee\",\"Bitcoin Gold\",\"WomenCoin\",\"Theresa May Coin\",\"NamoCoin\",\"LUXCoin\",\"Pirl\",\"Xios\",\"Bitcloud 2.0\",\"eBoost\",\"KekCoin\",\"BlackholeCoin\",\"Infinity Economics\",\"Pura\",\"Innova\",\"Ellaism\",\"GoByte\",\"Magnet\",\"Lamden Tau\",\"Electra\",\"Bitcoin Diamond\",\"SHIELD\",\"Cash & Back Coin\",\"UltraNote\",\"BitCoal\",\"DaxxCoin\",\"Bulwark\",\"Kalkulus\",\"AC3\",\"Lethean\",\"GermanCoin\",\"LiteCoin Ultra\",\"PopularCoin\",\"PhantomX\",\"Photon\",\"Sucre\",\"SparksPay\",\"Digiwage\",\"GunCoin\",\"IrishCoin\",\"Trollcoin\",\"Litecoin Plus\",\"Monkey Project\",\"Pioneer Coin\",\"UnitedBitcoin\",\"Interzone\",\"TokenPay\",\"1717 Masonic Commemorative Token\",\"My Big Coin\",\"TurtleCoin\",\"MUNcoin\",\"Unified Society USDEX\",\"Niobio Cash\",\"ShareChain\",\"Travelflex\",\"KREDS\",\"Tokyo Coin\",\"BiblePay\",\"LitecoinCash\",\"BitFlip\",\"LottoCoin\",\"Crypto Improvement Fund\",\"Stipend\",\"Poa Network\",\"Pushi\",\"Ellerium\",\"Velox\",\"Ontology\",\"Callisto Network\",\"BitTube\",\"Poseidon\",\"Aidos Kuneen\",\"Bitspace\",\"Briacoin\",\"Ignition\",\"Bitrolium\",\"MedicCoin\",\"Alpenschillling\",\"Bitcoin Green\",\"Deviant Coin\",\"Abjcoin\",\"Semux\",\"FuturoCoin\",\"Carebit\",\"Zealium\",\"Monero Classic\",\"Proton\",\"iDealCash\",\"Jumpcoin\",\"Infinex\",\"Bitcoin Incognito\",\"KEYCO\",\"HollyWoodCoin\",\"GINcoin\",\"PlatinCoin\",\"Loki\",\"Newton Coin\",\"Swisscoin\",\"Xt3ch\",\"MassGrid\",\"TheVig\",\"PluraCoin\",\"EmaratCoin\",\"Dekado\",\"Lynx\",\"Poseidon Quark\",\"BitcoinWSpectrum\",\"Muse\",\"Motion\",\"PlusOneCoin\",\"Axe\",\"Trivechain\",\"Dystem\",\"Giant\",\"Peony Coin\",\"Absolute Coin\",\"Vitae\",\"HexCoin\",\"TPCash\",\"Webchain\",\"Ryo\",\"Urals Coin\",\"Qwertycoin\",\"ARENON\",\"EUNO\",\"MMOCoin\",\"Ketan\",\"Project Pai\",\"XDNA\",\"PAXEX\",\"Azart\",\"ThunderStake\",\"Kcash\",\"Xchange\",\"Acute Angle Cloud\",\"CrypticCoin\",\"Bettex coin\",\"Actinium\",\"Bitcoin SV\",\"BitMoney\",\"Junson Ming Chan Coin\",\"FREDEnergy\",\"HerbCoin\",\"Universal Molecule\",\"Lithium\",\"PirateCash\",\"Exosis\",\"Block-Logic\",\"Oduwa\",\"Beam\",\"Galilel\",\"Bithereum\",\"Crypto Sports\",\"Credit\",\"SLICE\",\"Dash Platinum\",\"Nasdacoin\",\"Beetle Coin\",\"Titan Coin\",\"Award\",\"BLAST\",\"Bitcoin Rhodium\",\"GlobalToken\",\"Insane Coin\",\"ALAX\",\"LiteDoge\",\"SolarCoin\",\"TruckCoin\",\"UFO Coin\",\"OrangeCoin\",\"BlakeCoin\",\"BitstarCoin\",\"NeosCoin\",\"HyperCoin\",\"PinkCoin\",\"Crypto Escudo\",\"AudioCoin\",\"IncaKoin\",\"Piggy Coin\",\"Crown Coin\",\"Genstake\",\"SmileyCoin\",\"XiaoMiCoin\",\"Groestlcoin\",\"CapriCoin\",\" ClubCoin\",\"Radium\",\"Bata\",\"Pakcoin\",\"Creditbit \",\"OKCash\",\"Lisk\",\"HiCoin\",\"WhiteCoin\",\"FriendshipCoin\",\"JoinCoin\",\"Triangles Coin\",\"Vollar\",\"EOS\",\"Reality Clash\",\"Oxycoin\",\"TigerCash\",\"Waves\",\"Particl\",\"BitTorrent\",\"Nxt\",\"ZEPHYR\",\"Gapcoin\",\"Beldex\",\"Horizen\",\"BitcoinPlus\"],\"ProofType\":[\"PoW/PoS\",\"PoW/PoS\",\"PoW/PoS\",\"PoW\",\"PoW\",\"PoW\",\"PoW/PoS\",\"PoW\",\"PoW\",\"PoW\",\"PoS\",\"PoW\",\"PoW/PoS\",\"PoS\",\"PoW\",\"PoW/PoS\",\"PoW\",\"PoW\",\"PoW/PoS\",\"PoW/PoS\",\"PoW\",\"PoW\",\"PoW\",\"PoW\",\"PoW\",\"PoW/PoS\",\"PoW\",\"PoW\",\"PoW\",\"PoW/PoS\",\"PoW\",\"PoW/PoS\",\"PoW\",\"PoW\",\"PoC\",\"PoW/PoS\",\"PoW\",\"PoW\",\"PoW\",\"PoW\",\"PoW\",\"PoW\",\"PoS\",\"PoS/PoW/PoT\",\"PoW\",\"PoW\",\"PoW\",\"PoW\",\"PoW\",\"PoW/PoS\",\"PoS\",\"PoW\",\"PoW/PoS\",\"PoW\",\"PoW\",\"PoW\",\"PoW\",\"PoW/PoS\",\"PoW\",\"PoW\",\"PoS\",\"PoW\",\"PoW/PoS\",\"PoS\",\"PoW/PoS\",\"PoW\",\"PoW\",\"PoW\",\"PoW/PoS\",\"PoW/PoS\",\"PoW/PoS\",\"PoW/PoS\",\"PoW/PoS\",\"PoW\",\"PoW\",\"PoW\",\"PoS\",\"PoW/PoS\",\"PoW\",\"PoS\",\"PoW\",\"PoS\",\"PoW/PoS\",\"PoW\",\"PoW\",\"PoW\",\"PoW\",\"PoW/PoS\",\"PoW/PoS\",\"PoW\",\"PoST\",\"PoW\",\"PoW\",\"PoW/PoS\",\"PoS\",\"PoW\",\"PoW/PoS\",\"PoW/PoS\",\"PoW\",\"PoW\",\"PoC\",\"PoS\",\"PoW\",\"PoW/PoS\",\"PoW/PoS\",\"PoW\",\"PoS\",\"PoW\",\"PoW/PoS\",\"PoW\",\"PoS\",\"PoW\",\"PoW/PoS\",\"PoW/PoS\",\"PoW\",\"PoW\",\"PoS\",\"PoW\",\"PoW\",\"PoW\",\"PoW/PoS\",\"PoW\",\"PoW\",\"PoW\",\"PoW\",\"PoW\",\"PoW/PoS\",\"PoW/nPoS\",\"PoW\",\"PoW\",\"PoW\",\"PoW/PoS\",\"PoW\",\"PoS/PoW\",\"PoW\",\"PoW\",\"PoS\",\"PoW\",\"PoW/PoS\",\"PoW\",\"PoW/PoS\",\"PoW/PoS\",\"PoW\",\"PoW\",\"PoW/PoS\",\"PoW\",\"PoW\",\"PoW/PoS\",\"PoW/PoS\",\"PoW\",\"PoW/PoS\",\"PoW\",\"PoW/PoS\",\"PoW/PoS\",\"PoS\",\"PoW\",\"PoW\",\"PoW\",\"PoW\",\"PoW/PoS\",\"PoS\",\"PoW/PoS\",\"PoC\",\"PoS\",\"PoW\",\"PoW\",\"PoW/PoS\",\"PoW/PoS\",\"PoW/PoS\",\"PoW/PoS\",\"PoW/PoS\",\"PoW\",\"PoS\",\"PoW/PoS\",\"PoW/PoS\",\"PoW/PoS\",\"PoS\",\"PoW\",\"PoS\",\"dPoW/PoW\",\"PoW/PoS\",\"PoW/PoS\",\"PoW\",\"PoW/PoS\",\"PoW\",\"PoW/PoS\",\"PoW/PoS\",\"PoW\",\"PoW/PoS\",\"PoW\",\"PoS\",\"PoW\",\"PoW/PoW\",\"PoW\",\"PoW/PoS\",\"PoS\",\"PoW/PoS\",\"PoW/PoS\",\"PoW\",\"PoS\",\"PoS\",\"PoW/PoS\",\"PoS\",\"PoW/PoS\",\"PoW\",\"PoW\",\"DPoS\",\"PoW/PoS\",\"PoW\",\"PoW\",\"PoW/PoS\",\"PoW/PoS\",\"PoS\",\"PoW/PoS\",\"PoW/PoS\",\"PoW\",\"PoS\",\"PoW/PoS\",\"PoW/PoS\",\"PoW/PoS\",\"TPoS\",\"PoW/PoS\",\"PoW/PoS\",\"PoW/PoS\",\"PoW\",\"PoW/PoS\",\"PoS\",\"PoW/PoS\",\"PoW/PoS\",\"PoS\",\"PoW/PoS\",\"PoW\",\"PoW\",\"PoW\",\"PoW/PoS\",\"PoW/PoS\",\"PoW/PoS\",\"PoW/PoS\",\"PoW\",\"PoW/PoS\",\"PoW\",\"PoS\",\"PoW/PoS \",\"PoW\",\"PoS\",\"PoW\",\"PoW\",\"PoW/PoS\",\"PoW\",\"PoW\",\"PoS\",\"PoW\",\"PoW/PoS\",\"PoW/PoS\",\"PoW/PoS\",\"PoW\",\"PoS\",\"PoW/PoS\",\"PoW\",\"PoS\",\"PoW/PoS\",\"PoW/PoS\",\"PoW/PoS\",\"PoW/PoS\",\"PoS\",\"PoW/PoS\",\"PoW\",\"PoS\",\"PoW\",\"PoS\",\"PoW/PoS\",\"PoW/PoS\",\"PoS\",\"PoW\",\"PoS\",\"PoW\",\"PoW/PoS\",\"PoW\",\"PoW\",\"PoW\",\"PoW\",\"PoW/PoS\",\"PoW\",\"PoW/PoS\",\"PoW/PoS\",\"PoW\",\"PoW/PoS\",\"PoW\",\"PoW\",\"PoW\",\"PoW/PoS\",\"PoW\",\"PoW/PoS\",\"PoW\",\"PoW\",\"PoW\",\"PoS\",\"PoW\",\"PoW/PoS\",\"PoW\",\"PoW/PoS\",\"PoS\",\"Proof of Authority\",\"PoW\",\"PoS\",\"PoW\",\"PoW\",\"PoW\",\"PoW\",\"PoW\",\"PoW/PoS\",\"PoW/PoS\",\"PoW\",\"PoS\",\"PoS\",\"PoW/PoS\",\"PoW\",\"PoW/PoS\",\"PoW\",\"PoW/PoS\",\"PoW\",\"PoS\",\"PoW\",\"PoW/PoS\",\"PoW/PoS\",\"PoW/PoS\",\"PoW/PoS\",\"PoW\",\"PoW/PoS\",\"PoW/PoS\",\"PoW\",\"PoS\",\"PoW/PoS\",\"PoS\",\"PoW\",\"PoW\",\"PoW\",\"PoW\",\"PoW/PoS\",\"DPoS\",\"PoW/PoS\",\"PoW/PoS\",\"PoW\",\"PoW/PoS\",\"PoW\",\"PoW\",\"PoW\",\"PoS\",\"PoS\",\"PoW\",\"PoW\",\"PoW/PoS\",\"PoW/PoS\",\"PoW\",\"PoW/PoS\",\"PoW\",\"PoW\",\"PoW\",\"PoS\",\"PoW\",\"PoW\",\"PoW/PoS\",\"PoW/PoS\",\"PoS\",\"PoW\",\"PoW\",\"PoW\",\"PoS\",\"PoS\",\"PoW and PoS\",\"PoW\",\"PoW\",\"PoW/PoS\",\"PoW\",\"PoW\",\"PoW\",\"PoW\",\"PoS\",\"POBh\",\"PoW + Hive\",\"PoW\",\"PoW\",\"PoW\",\"PoW/PoS\",\"PoA\",\"PoW/PoS\",\"PoW/PoS\",\"PoS\",\"PoS\",\"PoW\",\"PoW\",\"PoW\",\"PoW\",\"PoW/PoS\",\"PoW/PoS\",\"PoW/PoS\",\"PoW\",\"PoS\",\"PoW\",\"PoS\",\"PoS\",\"PoW/PoS\",\"DPoS\",\"PoW\",\"PoW/PoS\",\"PoS\",\"PoW\",\"PoS\",\"PoW/PoS\",\"PoW\",\"PoW\",\"PoS/PoW\",\"PoW\",\"PoS\",\"PoW\",\"PoW\",\"PoW\",\"PoW\",\"PoW/PoS\",\"PoS\",\"PoW\",\"PoW/PoS\",\"PoW\",\"PoW/PoS\",\"PoS\",\"HPoW\",\"PoS\",\"PoS\",\"PoS\",\"PoW\",\"PoW\",\"PoW\",\"PoW/PoS\",\"PoS\",\"PoW/PoS\",\"PoS\",\"PoW/PoS\",\"PoS\",\"PoW\",\"PoW/PoS\",\"PoW\",\"PoW\",\"PoW\",\"PoW\",\"PoS\",\"PoW/PoS\",\"PoS\",\"PoS\",\"PoW\",\"PoW/PoS\",\"PoS\",\"PoW\",\"PoW/PoS\",\"Zero-Knowledge Proof\",\"PoW\",\"DPOS\",\"PoW\",\"PoS\",\"PoW\",\"PoW\",\"Pos\",\"PoS\",\"PoW\",\"PoW/PoS\",\"PoW\",\"PoW\",\"PoS\",\"PoW\",\"PoW\",\"PoW/PoS\",\"PoW\",\"PoW/PoS\",\"PoW\",\"PoS\",\"PoW/PoS\",\"PoW\",\"PoS\",\"PoW/PoS\",\"PoW/PoS\",\"PoW/PoS\",\"PoW/PoS\",\"PoW\",\"PoW\",\"PoW\",\"PoW/PoS\",\"DPoS\",\"PoW/PoS\",\"PoW\",\"PoW/PoS\",\"PoW\",\"PoW/PoS\",\"PoW\",\"PoW/PoS\",\"PoS\",\"PoW/PoS\",\"PoW/PoS\",\"PoW\",\"PoW/PoS\",\"PoW/PoS\",\"PoW/PoS\",\"PoW\",\"PoW/PoS\",\"PoW\",\"PoW/PoS\",\"PoW\",\"PoW/PoS\",\"PoW/PoS\",\"PoS\",\"PoW\",\"PoW\",\"Proof of Trust\",\"PoW/PoS\",\"DPoS\",\"PoS\",\"PoW/PoS\",\"PoW/PoS\",\"PoW\",\"PoW/PoS\",\"PoW\",\"DPoS\",\"PoW\",\"DPoS\",\"PoS\",\"LPoS\",\"PoS\",\"DPoS\",\"PoS/LPoS\",\"DPoS\",\"PoW/PoS\",\"PoW\",\"PoW\",\"PoS\"],\"TotalCoinSupply\":[\"42\",\"532000000\",\"314159265359\",\"21000000\",\"0\",\"84000000\",\"22000000\",\"0\",\"210000000\",\"21000000\",\"3600570502\",\"21000000000\",\"22000000\",\"12500000\",\"21000000\",\"350000000\",\"20000000\",\"64000000\",\"16768584\",\"0\",\"2000000000\",\"384000000000\",\"169795588\",\"250000000\",\"100000000\",\"0\",\"247000000\",\"84000000\",\"48166000\",\"500000\",\"21000000 \",\"1000000\",\"13140000\",\"18000000\",\"40000000000\",\"4380000\",\"16555000000\",\"21000000000\",\"13500000000\",\"21000000 \",\"299792458\",\"32000000\",\"0\",\"0\",\"11235813\",\"336000000\",\"1420609614\",\"70000000\",\"72245700\",\"120000000\",\"0\",\"90600000000\",\"22000000\",\"21000000\",\"265420800\",\"20000000\",\"1350000\",\"100000000\",\"42000000\",\"200000000\",\"0\",\"10000000\",\"2419200000\",\"16180000\",\"0\",\"15000000000\",\"21000000\",\"337000000\",\"0\",\"3770000\",\"420000000\",\"98000000\",\"0\",\"21000000\",\"250000000\",\"51200000\",\"0\",\"1000\",\"888000000\",\"100000000\",\"47011968\",\"2300000000\",\"10000000\",\"42000000\",\"80000000\",\"250000\",\"0\",\"1600000000\",\"100000000\",\"23000000\",\"0\",\"84000000\",\"265420800\",\"5500000\",\"0\",\"45000000\",\"0\",\"1000000000\",\"184467440735\",\"10000000000\",\"2158812800\",\"500000000\",\"105120000\",\"68000000\",\"0\",\"1680000000\",\"0\",\"166386000\",\"12000000\",\"2628000\",\"500000000\",\"160000000\",\"0\",\"10000000\",\"1000000000\",\"1000000000\",\"20000000\",\"0\",\"0\",\"3371337\",\"20000000\",\"10000000000\",\"1840000000\",\"619478\",\"21000000\",\"92000000000\",\"0\",\"78000000\",\"33000000\",\"65789100\",\"53760000\",\"5060000\",\"21000000\",\"0\",\"210240000\",\"250000000\",\"100000000\",\"16906397\",\"50000000\",\"0\",\"1000000000\",\"26298000\",\"16000000\",\"21000000\",\"21000000\",\"210000000\",\"81962100\",\"22000000\",\"26550000000\",\"84000000\",\"10500000\",\"21626280000 \",\"0\",\"42000000\",\"221052632\",\"84000000\",\"30000000\",\"168351300\",\"24000000\",\"384000000\",\" 99000000000\",\"40000000\",\"2147483647\",\"20000000\",\"20000000\",\"25000000\",\"75000000\",\"222725000\",\"525000000\",\"90000000\",\"139000000\",\"616448\",\"33500000\",\"2000000000\",\"44333333\",\"100000000\",\"200000000\",\"25000000\",\"657000000\",\"200000000\",\"50000000\",\"90000000\",\"10000000\",\"21000000\",\"9736000\",\"3000000\",\"21000000\",\"1200000000\",\"0\",\"200000000\",\"0\",\"10638298\",\"3100000000\",\"30000000\",\"20000000000\",\"74000000\",\"0\",\"1500000000\",\"21400000\",\"39999898\",\"2500124\",\"100000000\",\"301000000\",\"7506000000\",\"26205539\",\"21000000\",\"125000000\",\"30000000\",\"10000000000\",\"500000000\",\"850000000\",\"3853326.77707314\",\"50000000\",\"38540000 \",\"42000000\",\"228000000\",\"20000000\",\"60000000\",\"20000000\",\"33000000\",\"76500000\",\"28000000\",\"650659833\",\"5000000\",\"21000000\",\"144000000\",\"32514916898\",\"13000000\",\"3315789\",\"15000000\",\"78835200\",\"2714286\",\"25000000\",\"9999999\",\"500000000\",\"21000000\",\"9354000\",\"20000000\",\"100000000000\",\"21933333\",\"185000000\",\"55000000\",\"110000000\",\"3360000\",\"14524851.4827\",\"1000000000\",\"17000000\",\"1000000000\",\"100000000 \",\"21000000\",\"34426423\",\"2232901\",\"100000000\",\"36900000\",\"110000000\",\"4000000000\",\"110290030\",\"100000000\",\"48252000\",\"400000000\",\"500000000\",\"21212121\",\"28600000\",\"1000000000\",\"75000000000\",\"40000000\",\"35520400\",\"2000000000\",\"2500000000\",\"30000000\",\"105000000\",\"90000000000\",\"200084200\",\"72000000\",\"100000000\",\"105000000\",\"50000000000\",\"0\",\"340282367\",\"30000000\",\"2000000000\",\"10000000\",\"100000000\",\"120000000\",\"100000000\",\"19276800\",\"30000000\",\" 75000000\",\"60000000\",\"18900000\",\"50000000000\",\"54000000\",\"18898187.6216583\",\"21000000\",\"200000000000\",\"5000000000\",\"137500000\",\"1100000000\",\"100000000\",\"21000000\",\"9507271\",\"17405891.19707116\",\"86712634466\",\"10500000000\",\"61599965\",\"0\",\"20000000\",\"84000000\",\"100000000\",\"100000000\",\"48252000\",\"4200000\",\"88888888\",\"91388946\",\"45000000000\",\"27000000\",\"21000000000\",\"400000000\",\"1800000000\",\"15733333\",\"27000000\",\"24000000\",\"21000000\",\"25000000000\",\"100000000\",\"1200000000\",\"60000000\",\"156306732.71\",\"21000000\",\"200000000\",\"100000000\",\"21000000\",\"14788275.991\",\"9000000000\",\"350000000\",\"45000000\",\"280000000\",\"31800000\",\"144000000\",\"500000000\",\"30000000000\",\"210000000\",\"660000000\",\"210000000\",\"85000000000\",\"12500000\",\"10000000000\",\"27716121\",\"20000000\",\"550000000\",\"999481516\",\"50000000000\",\"150000000\",\"4999999999\",\"50000000\",\" 90000000000\",\"19800000\",\"21000000\",\"120000000\",\"500000000\",\"64000000\",\"900000000\",\"4000000\",\"21000000\",\"23000000\",\"20166000\",\"23000000\",\"25000000\",\"1618033\",\"30000000\",\"1000000000000\",\"16600000\",\"232000000\",\"336000000\",\"10000000000\",\"100000000\",\"1100000000\",\"800000000\",\"5200000000\",\"840000000\",\"40000000\",\"18406979840\",\"500000000\",\"19340594\",\"252460800\",\"25000000\",\"60000000\",\"124000000\",\"1000000000\",\"6500000000\",\"1000000000\",\"21000000\",\"25000000\",\"50000000\",\"3000000\",\"5000000\",\"70000000\",\"500000000\",\"300000000\",\"21000000\",\"88000000\",\"30000000\",\"100000000\",\"100000000\",\"200000000\",\"80000000\",\"18400000\",\"45000000\",\"5121951220\",\"21000000\",\"26280000\",\"21000000\",\"18000000\",\"26000000\",\"10500000\",\"600000518\",\"150000000\",\"184000000000\",\"10200000000\",\"44000000\",\"168000000\",\"100000000\",\"1000000000\",\"84000000\",\"90000000\",\"92000000000\",\"650000000 \",\"100262205\",\"18081806 \",\"22075700\",\"21000000\",\"21000000\",\"82546564\",\"21000000\",\"5151000\",\"16880000000\",\"52500000\",\"100000000\",\"22105263\",\"1000000000\",\"1750000000\",\"88188888\",\"210000000\",\"184470000000\",\"55000000\",\"50000000\",\"260000000\",\"210000000\",\"2100000000\",\"366000000\",\"100000000\",\"25000000\",\"18000000000\",\"1000000000\",\"100000000\",\"1000000000\",\"7600000000\",\"50000000\",\"84000000\",\"21000000\",\"70000000000\",\"0\",\"8080000000\",\"54000000\",\"105120001.44\",\"25228800\",\"105000000\",\"21000000\",\"120000000\",\"21000000\",\"262800000\",\"19035999\",\"30886000\",\"13370000\",\"74800000000\",\"100000000\",\"19700000\",\"84000000\",\"500000000\",\"5000000000\",\"420000000\",\"64000000\",\"2100000\",\"168000000\",\"30000000\",\"1000000000\",\"35000000000\",\"98100000000\",\"0\",\"4000000000\",\"200000000\",\"7000000000\",\"54256119\",\"21000000\",\"0\",\"500000000\",\"1000000000\",\"10500000000\",\"190000000\",\"1000000000\",\"42000000\",\"15000000\",\"50000000000\",\"400000000\",\"105000000\",\"208000000\",\"160000000\",\"9000000\",\"5000000\",\"182000000\",\"16504333\",\"105000000\",\"159918400\",\"10008835635\",\"300000000\",\"60168145\",\"2800000\",\"120000\",\"2100000000\",\"0\",\"24487944\",\"0\",\"1000000000\",\"100000000\",\"8634140\",\"990000000000\",\"1000000000\",\"2000000000\",\"250000000\",\"1400222610\",\"21000000\",\"1000000\"],\"TotalCoinsMined\":{\"__ndarray__\":\"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\",\"dtype\":\"float64\",\"order\":\"little\",\"shape\":[532]}},\"selected\":{\"id\":\"2167\"},\"selection_policy\":{\"id\":\"2201\"}},\"id\":\"2166\",\"type\":\"ColumnDataSource\"},{\"attributes\":{},\"id\":\"2178\",\"type\":\"StringFormatter\"},{\"attributes\":{},\"id\":\"2174\",\"type\":\"StringEditor\"},{\"attributes\":{\"editor\":{\"id\":\"2189\"},\"field\":\"TotalCoinsMined\",\"formatter\":{\"id\":\"2188\"},\"title\":\"TotalCoinsMined\"},\"id\":\"2190\",\"type\":\"TableColumn\"},{\"attributes\":{},\"id\":\"2201\",\"type\":\"UnionRenderers\"},{\"attributes\":{},\"id\":\"2167\",\"type\":\"Selection\"},{\"attributes\":{},\"id\":\"2168\",\"type\":\"StringFormatter\"},{\"attributes\":{\"editor\":{\"id\":\"2179\"},\"field\":\"ProofType\",\"formatter\":{\"id\":\"2178\"},\"title\":\"ProofType\"},\"id\":\"2180\",\"type\":\"TableColumn\"},{\"attributes\":{\"editor\":{\"id\":\"2184\"},\"field\":\"TotalCoinSupply\",\"formatter\":{\"id\":\"2183\"},\"title\":\"TotalCoinSupply\"},\"id\":\"2185\",\"type\":\"TableColumn\"},{\"attributes\":{},\"id\":\"2189\",\"type\":\"NumberEditor\"},{\"attributes\":{},\"id\":\"2183\",\"type\":\"StringFormatter\"},{\"attributes\":{},\"id\":\"2194\",\"type\":\"IntEditor\"}],\"root_ids\":[\"2165\"]},\"title\":\"Bokeh Application\",\"version\":\"2.4.3\"}};\n",
       "    var render_items = [{\"docid\":\"544b11b4-d5ce-4bc3-b8c5-323da7167a51\",\"root_ids\":[\"2165\"],\"roots\":{\"2165\":\"cb1ca8a9-4a82-4c53-bbc7-0b117fcfbe7c\"}}];\n",
       "    root.Bokeh.embed.embed_items_notebook(docs_json, render_items);\n",
       "    for (const render_item of render_items) {\n",
       "      for (const root_id of render_item.root_ids) {\n",
       "\tconst id_el = document.getElementById(root_id)\n",
       "\tif (id_el.children.length && (id_el.children[0].className === 'bk-root')) {\n",
       "\t  const root_el = id_el.children[0]\n",
       "\t  root_el.id = root_el.id + '-rendered'\n",
       "\t}\n",
       "      }\n",
       "    }\n",
       "  }\n",
       "  if (root.Bokeh !== undefined && root.Bokeh.Panel !== undefined) {\n",
       "    embed_document(root);\n",
       "  } else {\n",
       "    var attempts = 0;\n",
       "    var timer = setInterval(function(root) {\n",
       "      if (root.Bokeh !== undefined && root.Bokeh.Panel !== undefined) {\n",
       "        clearInterval(timer);\n",
       "        embed_document(root);\n",
       "      } else if (document.readyState == \"complete\") {\n",
       "        attempts++;\n",
       "        if (attempts > 200) {\n",
       "          clearInterval(timer);\n",
       "          console.log(\"Bokeh: ERROR: Unable to run BokehJS code because BokehJS library is missing\");\n",
       "        }\n",
       "      }\n",
       "    }, 25, root)\n",
       "  }\n",
       "})(window);</script>"
      ],
      "text/plain": [
       ":Table   [CoinName,Algorithm,ProofType,TotalCoinSupply,TotalCoinsMined,Class]"
      ]
     },
     "execution_count": 65,
     "metadata": {
      "application/vnd.holoviews_exec.v0+json": {
       "id": "2165"
      }
     },
     "output_type": "execute_result"
    }
   ],
   "source": [
    "# Create a table with tradable cryptocurrencies.\n",
    "clustered_df_table = clustered_df.hvplot.table(columns=[\"CoinName\",\"Algorithm\",\"ProofType\",\"TotalCoinSupply\",\"TotalCoinsMined\",\"Class\"])\n",
    "clustered_df_table"
   ]
  },
  {
   "cell_type": "code",
   "execution_count": 66,
   "metadata": {},
   "outputs": [
    {
     "name": "stdout",
     "output_type": "stream",
     "text": [
      "There are 532 tradable cryptocurrencies.\n"
     ]
    }
   ],
   "source": [
    "# Print the total number of tradable cryptocurrencies.\n",
    "print(f'There are {len(clustered_df_table[\"CoinName\"])} tradable cryptocurrencies.')"
   ]
  },
  {
   "cell_type": "code",
   "execution_count": 67,
   "metadata": {},
   "outputs": [
    {
     "data": {
      "text/plain": [
       "array([[4.20000000e-11, 0.00000000e+00],\n",
       "       [5.32000000e-04, 1.06585544e-03],\n",
       "       [3.14159265e-01, 2.95755135e-02],\n",
       "       ...,\n",
       "       [1.40022261e-03, 9.90135079e-04],\n",
       "       [2.10000000e-05, 7.37028150e-06],\n",
       "       [1.00000000e-06, 1.29582282e-07]])"
      ]
     },
     "execution_count": 67,
     "metadata": {},
     "output_type": "execute_result"
    }
   ],
   "source": [
    "# Scaling data to create the scatter plot with tradable cryptocurrencies.\n",
    "totalcoinsupply_totalcoinsmined = pd.DataFrame(clustered_df[\"TotalCoinSupply\"],columns=[\"TotalCoinSupply\"])\n",
    "totalcoinsupply_totalcoinsmined[\"TotalCoinsMined\"] = clustered_df[\"TotalCoinsMined\"]\n",
    "totalcoinsupply_totalcoinsmined_scaled = MinMaxScaler().fit_transform(totalcoinsupply_totalcoinsmined)\n",
    "totalcoinsupply_totalcoinsmined_scaled"
   ]
  },
  {
   "cell_type": "code",
   "execution_count": 68,
   "metadata": {},
   "outputs": [
    {
     "data": {
      "text/html": [
       "<div>\n",
       "<style scoped>\n",
       "    .dataframe tbody tr th:only-of-type {\n",
       "        vertical-align: middle;\n",
       "    }\n",
       "\n",
       "    .dataframe tbody tr th {\n",
       "        vertical-align: top;\n",
       "    }\n",
       "\n",
       "    .dataframe thead th {\n",
       "        text-align: right;\n",
       "    }\n",
       "</style>\n",
       "<table border=\"1\" class=\"dataframe\">\n",
       "  <thead>\n",
       "    <tr style=\"text-align: right;\">\n",
       "      <th></th>\n",
       "      <th>TotalCoinSupply</th>\n",
       "      <th>TotalCoinsMined</th>\n",
       "      <th>CoinName</th>\n",
       "      <th>Class</th>\n",
       "    </tr>\n",
       "  </thead>\n",
       "  <tbody>\n",
       "    <tr>\n",
       "      <th>42</th>\n",
       "      <td>4.200000e-11</td>\n",
       "      <td>0.000000</td>\n",
       "      <td>42 Coin</td>\n",
       "      <td>0</td>\n",
       "    </tr>\n",
       "    <tr>\n",
       "      <th>404</th>\n",
       "      <td>5.320000e-04</td>\n",
       "      <td>0.001066</td>\n",
       "      <td>404Coin</td>\n",
       "      <td>0</td>\n",
       "    </tr>\n",
       "    <tr>\n",
       "      <th>1337</th>\n",
       "      <td>3.141593e-01</td>\n",
       "      <td>0.029576</td>\n",
       "      <td>EliteCoin</td>\n",
       "      <td>0</td>\n",
       "    </tr>\n",
       "    <tr>\n",
       "      <th>BTC</th>\n",
       "      <td>2.100000e-05</td>\n",
       "      <td>0.000018</td>\n",
       "      <td>Bitcoin</td>\n",
       "      <td>3</td>\n",
       "    </tr>\n",
       "    <tr>\n",
       "      <th>ETH</th>\n",
       "      <td>0.000000e+00</td>\n",
       "      <td>0.000109</td>\n",
       "      <td>Ethereum</td>\n",
       "      <td>3</td>\n",
       "    </tr>\n",
       "    <tr>\n",
       "      <th>LTC</th>\n",
       "      <td>8.400000e-05</td>\n",
       "      <td>0.000064</td>\n",
       "      <td>Litecoin</td>\n",
       "      <td>3</td>\n",
       "    </tr>\n",
       "    <tr>\n",
       "      <th>DASH</th>\n",
       "      <td>2.200000e-05</td>\n",
       "      <td>0.000009</td>\n",
       "      <td>Dash</td>\n",
       "      <td>0</td>\n",
       "    </tr>\n",
       "    <tr>\n",
       "      <th>XMR</th>\n",
       "      <td>0.000000e+00</td>\n",
       "      <td>0.000017</td>\n",
       "      <td>Monero</td>\n",
       "      <td>3</td>\n",
       "    </tr>\n",
       "    <tr>\n",
       "      <th>ETC</th>\n",
       "      <td>2.100000e-04</td>\n",
       "      <td>0.000115</td>\n",
       "      <td>Ethereum Classic</td>\n",
       "      <td>3</td>\n",
       "    </tr>\n",
       "    <tr>\n",
       "      <th>ZEC</th>\n",
       "      <td>2.100000e-05</td>\n",
       "      <td>0.000007</td>\n",
       "      <td>ZCash</td>\n",
       "      <td>3</td>\n",
       "    </tr>\n",
       "  </tbody>\n",
       "</table>\n",
       "</div>"
      ],
      "text/plain": [
       "      TotalCoinSupply  TotalCoinsMined          CoinName  Class\n",
       "42       4.200000e-11         0.000000           42 Coin      0\n",
       "404      5.320000e-04         0.001066           404Coin      0\n",
       "1337     3.141593e-01         0.029576         EliteCoin      0\n",
       "BTC      2.100000e-05         0.000018           Bitcoin      3\n",
       "ETH      0.000000e+00         0.000109          Ethereum      3\n",
       "LTC      8.400000e-05         0.000064          Litecoin      3\n",
       "DASH     2.200000e-05         0.000009              Dash      0\n",
       "XMR      0.000000e+00         0.000017            Monero      3\n",
       "ETC      2.100000e-04         0.000115  Ethereum Classic      3\n",
       "ZEC      2.100000e-05         0.000007             ZCash      3"
      ]
     },
     "execution_count": 68,
     "metadata": {},
     "output_type": "execute_result"
    }
   ],
   "source": [
    "# Create a new DataFrame that has the scaled data with the clustered_df DataFrame index.\n",
    "plots_df = pd.DataFrame(data =totalcoinsupply_totalcoinsmined_scaled, columns=[\"TotalCoinSupply\",\"TotalCoinsMined\"], index = clustered_df.index)\n",
    "\n",
    "# Add the \"CoinName\" column from the clustered_df DataFrame to the new DataFrame.\n",
    "plots_df[\"CoinName\"] = clustered_df[\"CoinName\"]\n",
    "\n",
    "# Add the \"Class\" column from the clustered_df DataFrame to the new DataFrame. \n",
    "plots_df[\"Class\"] = clustered_df[\"Class\"]\n",
    "\n",
    "plots_df.head(10)"
   ]
  },
  {
   "cell_type": "code",
   "execution_count": 69,
   "metadata": {},
   "outputs": [
    {
     "data": {},
     "metadata": {},
     "output_type": "display_data"
    },
    {
     "data": {
      "application/vnd.holoviews_exec.v0+json": "",
      "text/html": [
       "<div id='2214'>\n",
       "  <div class=\"bk-root\" id=\"599e89c9-d167-4449-b507-3d9cb48092e8\" data-root-id=\"2214\"></div>\n",
       "</div>\n",
       "<script type=\"application/javascript\">(function(root) {\n",
       "  function embed_document(root) {\n",
       "    var docs_json = {\"3dfbcfbb-51dd-4b3a-b032-e9375278258c\":{\"defs\":[{\"extends\":null,\"module\":null,\"name\":\"ReactiveHTML1\",\"overrides\":[],\"properties\":[]},{\"extends\":null,\"module\":null,\"name\":\"FlexBox1\",\"overrides\":[],\"properties\":[{\"default\":\"flex-start\",\"kind\":null,\"name\":\"align_content\"},{\"default\":\"flex-start\",\"kind\":null,\"name\":\"align_items\"},{\"default\":\"row\",\"kind\":null,\"name\":\"flex_direction\"},{\"default\":\"wrap\",\"kind\":null,\"name\":\"flex_wrap\"},{\"default\":\"flex-start\",\"kind\":null,\"name\":\"justify_content\"}]},{\"extends\":null,\"module\":null,\"name\":\"GridStack1\",\"overrides\":[],\"properties\":[{\"default\":\"warn\",\"kind\":null,\"name\":\"mode\"},{\"default\":null,\"kind\":null,\"name\":\"ncols\"},{\"default\":null,\"kind\":null,\"name\":\"nrows\"},{\"default\":true,\"kind\":null,\"name\":\"allow_resize\"},{\"default\":true,\"kind\":null,\"name\":\"allow_drag\"},{\"default\":[],\"kind\":null,\"name\":\"state\"}]},{\"extends\":null,\"module\":null,\"name\":\"click1\",\"overrides\":[],\"properties\":[{\"default\":\"\",\"kind\":null,\"name\":\"terminal_output\"},{\"default\":\"\",\"kind\":null,\"name\":\"debug_name\"},{\"default\":0,\"kind\":null,\"name\":\"clears\"}]},{\"extends\":null,\"module\":null,\"name\":\"NotificationAreaBase1\",\"overrides\":[],\"properties\":[{\"default\":\"bottom-right\",\"kind\":null,\"name\":\"position\"},{\"default\":0,\"kind\":null,\"name\":\"_clear\"}]},{\"extends\":null,\"module\":null,\"name\":\"NotificationArea1\",\"overrides\":[],\"properties\":[{\"default\":[],\"kind\":null,\"name\":\"notifications\"},{\"default\":\"bottom-right\",\"kind\":null,\"name\":\"position\"},{\"default\":0,\"kind\":null,\"name\":\"_clear\"},{\"default\":[{\"background\":\"#ffc107\",\"icon\":{\"className\":\"fas fa-exclamation-triangle\",\"color\":\"white\",\"tagName\":\"i\"},\"type\":\"warning\"},{\"background\":\"#007bff\",\"icon\":{\"className\":\"fas fa-info-circle\",\"color\":\"white\",\"tagName\":\"i\"},\"type\":\"info\"}],\"kind\":null,\"name\":\"types\"}]},{\"extends\":null,\"module\":null,\"name\":\"Notification\",\"overrides\":[],\"properties\":[{\"default\":null,\"kind\":null,\"name\":\"background\"},{\"default\":3000,\"kind\":null,\"name\":\"duration\"},{\"default\":null,\"kind\":null,\"name\":\"icon\"},{\"default\":\"\",\"kind\":null,\"name\":\"message\"},{\"default\":null,\"kind\":null,\"name\":\"notification_type\"},{\"default\":false,\"kind\":null,\"name\":\"_destroyed\"}]},{\"extends\":null,\"module\":null,\"name\":\"TemplateActions1\",\"overrides\":[],\"properties\":[{\"default\":0,\"kind\":null,\"name\":\"open_modal\"},{\"default\":0,\"kind\":null,\"name\":\"close_modal\"}]},{\"extends\":null,\"module\":null,\"name\":\"MaterialTemplateActions1\",\"overrides\":[],\"properties\":[{\"default\":0,\"kind\":null,\"name\":\"open_modal\"},{\"default\":0,\"kind\":null,\"name\":\"close_modal\"}]}],\"roots\":{\"references\":[{\"attributes\":{},\"id\":\"2252\",\"type\":\"BasicTickFormatter\"},{\"attributes\":{\"children\":[{\"id\":\"2221\"}],\"height\":300,\"margin\":[0,0,0,0],\"name\":\"Row02275\",\"sizing_mode\":\"fixed\",\"tags\":[\"embedded\"],\"width\":700},\"id\":\"2214\",\"type\":\"Row\"},{\"attributes\":{},\"id\":\"2258\",\"type\":\"Selection\"},{\"attributes\":{\"bottom_units\":\"screen\",\"coordinates\":null,\"fill_alpha\":0.5,\"fill_color\":\"lightgrey\",\"group\":null,\"left_units\":\"screen\",\"level\":\"overlay\",\"line_alpha\":1.0,\"line_color\":\"black\",\"line_dash\":[4,4],\"line_width\":2,\"right_units\":\"screen\",\"syncable\":false,\"top_units\":\"screen\"},\"id\":\"2243\",\"type\":\"BoxAnnotation\"},{\"attributes\":{\"angle\":{\"value\":0.0},\"fill_alpha\":{\"value\":1.0},\"fill_color\":{\"value\":\"#e5ae38\"},\"hatch_alpha\":{\"value\":1.0},\"hatch_color\":{\"value\":\"#e5ae38\"},\"hatch_scale\":{\"value\":12.0},\"hatch_weight\":{\"value\":1.0},\"line_alpha\":{\"value\":1.0},\"line_cap\":{\"value\":\"butt\"},\"line_color\":{\"value\":\"#e5ae38\"},\"line_dash\":{\"value\":[]},\"line_dash_offset\":{\"value\":0},\"line_join\":{\"value\":\"bevel\"},\"line_width\":{\"value\":1},\"marker\":{\"value\":\"circle\"},\"size\":{\"value\":5.477225575051661},\"x\":{\"field\":\"TotalCoinsMined\"},\"y\":{\"field\":\"TotalCoinSupply\"}},\"id\":\"2323\",\"type\":\"Scatter\"},{\"attributes\":{\"active_drag\":{\"id\":\"2239\"},\"active_scroll\":{\"id\":\"2240\"},\"tools\":[{\"id\":\"2217\"},{\"id\":\"2238\"},{\"id\":\"2239\"},{\"id\":\"2240\"},{\"id\":\"2241\"},{\"id\":\"2242\"}]},\"id\":\"2244\",\"type\":\"Toolbar\"},{\"attributes\":{\"fill_alpha\":{\"value\":0.2},\"fill_color\":{\"value\":\"#30a2da\"},\"hatch_alpha\":{\"value\":0.2},\"hatch_color\":{\"value\":\"#30a2da\"},\"line_alpha\":{\"value\":0.2},\"line_color\":{\"value\":\"#30a2da\"},\"size\":{\"value\":5.477225575051661},\"x\":{\"field\":\"TotalCoinsMined\"},\"y\":{\"field\":\"TotalCoinSupply\"}},\"id\":\"2262\",\"type\":\"Scatter\"},{\"attributes\":{\"source\":{\"id\":\"2324\"}},\"id\":\"2331\",\"type\":\"CDSView\"},{\"attributes\":{},\"id\":\"2253\",\"type\":\"AllLabels\"},{\"attributes\":{},\"id\":\"2255\",\"type\":\"BasicTickFormatter\"},{\"attributes\":{},\"id\":\"2256\",\"type\":\"AllLabels\"},{\"attributes\":{\"angle\":{\"value\":0.0},\"fill_alpha\":{\"value\":1.0},\"fill_color\":{\"value\":\"#fc4f30\"},\"hatch_alpha\":{\"value\":1.0},\"hatch_color\":{\"value\":\"#fc4f30\"},\"hatch_scale\":{\"value\":12.0},\"hatch_weight\":{\"value\":1.0},\"line_alpha\":{\"value\":1.0},\"line_cap\":{\"value\":\"butt\"},\"line_color\":{\"value\":\"#fc4f30\"},\"line_dash\":{\"value\":[]},\"line_dash_offset\":{\"value\":0},\"line_join\":{\"value\":\"bevel\"},\"line_width\":{\"value\":1},\"marker\":{\"value\":\"circle\"},\"size\":{\"value\":5.477225575051661},\"x\":{\"field\":\"TotalCoinsMined\"},\"y\":{\"field\":\"TotalCoinSupply\"}},\"id\":\"2299\",\"type\":\"Scatter\"},{\"attributes\":{\"callback\":null,\"renderers\":[{\"id\":\"2263\"},{\"id\":\"2284\"},{\"id\":\"2306\"},{\"id\":\"2330\"}],\"tags\":[\"hv_created\"],\"tooltips\":[[\"Class\",\"@{Class}\"],[\"TotalCoinsMined\",\"@{TotalCoinsMined}\"],[\"TotalCoinSupply\",\"@{TotalCoinSupply}\"],[\"CoinName\",\"@{CoinName}\"]]},\"id\":\"2217\",\"type\":\"HoverTool\"},{\"attributes\":{\"fill_alpha\":{\"value\":0.1},\"fill_color\":{\"value\":\"#6d904f\"},\"hatch_alpha\":{\"value\":0.1},\"hatch_color\":{\"value\":\"#6d904f\"},\"line_alpha\":{\"value\":0.1},\"line_color\":{\"value\":\"#6d904f\"},\"size\":{\"value\":5.477225575051661},\"x\":{\"field\":\"TotalCoinsMined\"},\"y\":{\"field\":\"TotalCoinSupply\"}},\"id\":\"2328\",\"type\":\"Scatter\"},{\"attributes\":{\"click_policy\":\"mute\",\"coordinates\":null,\"group\":null,\"items\":[{\"id\":\"2276\"},{\"id\":\"2298\"},{\"id\":\"2322\"},{\"id\":\"2348\"}],\"location\":[0,0],\"title\":\"Class\"},\"id\":\"2275\",\"type\":\"Legend\"},{\"attributes\":{},\"id\":\"2226\",\"type\":\"LinearScale\"},{\"attributes\":{\"source\":{\"id\":\"2300\"}},\"id\":\"2307\",\"type\":\"CDSView\"},{\"attributes\":{\"end\":1.1,\"reset_end\":1.1,\"reset_start\":-0.1,\"start\":-0.1,\"tags\":[[[\"TotalCoinSupply\",\"TotalCoinSupply\",null]]]},\"id\":\"2216\",\"type\":\"Range1d\"},{\"attributes\":{\"data\":{\"Class\":[1,1,1,1,1],\"CoinName\":[\"Vechain\",\"LitecoinCash\",\"Poa Network\",\"Acute Angle Cloud\",\"Waves\"],\"TotalCoinSupply\":{\"__ndarray__\":\"+nQumcwytj+8eapDboZLP4RaKOGWizA//Knx0k1iUD8sQxzr4jYaPw==\",\"dtype\":\"float64\",\"order\":\"little\",\"shape\":[5]},\"TotalCoinsMined\":{\"__ndarray__\":\"zaDgBxGurD+QpMXySiFFP5wZJXiPEis/ekNDBbiMUD/7RX5gv3oaPw==\",\"dtype\":\"float64\",\"order\":\"little\",\"shape\":[5]}},\"selected\":{\"id\":\"2279\"},\"selection_policy\":{\"id\":\"2295\"}},\"id\":\"2278\",\"type\":\"ColumnDataSource\"},{\"attributes\":{\"fill_alpha\":{\"value\":0.1},\"fill_color\":{\"value\":\"#e5ae38\"},\"hatch_alpha\":{\"value\":0.1},\"hatch_color\":{\"value\":\"#e5ae38\"},\"line_alpha\":{\"value\":0.1},\"line_color\":{\"value\":\"#e5ae38\"},\"size\":{\"value\":5.477225575051661},\"x\":{\"field\":\"TotalCoinsMined\"},\"y\":{\"field\":\"TotalCoinSupply\"}},\"id\":\"2304\",\"type\":\"Scatter\"},{\"attributes\":{},\"id\":\"2345\",\"type\":\"UnionRenderers\"},{\"attributes\":{},\"id\":\"2319\",\"type\":\"UnionRenderers\"},{\"attributes\":{\"fill_alpha\":{\"value\":0.1},\"fill_color\":{\"value\":\"#30a2da\"},\"hatch_alpha\":{\"value\":0.1},\"hatch_color\":{\"value\":\"#30a2da\"},\"line_alpha\":{\"value\":0.1},\"line_color\":{\"value\":\"#30a2da\"},\"size\":{\"value\":5.477225575051661},\"x\":{\"field\":\"TotalCoinsMined\"},\"y\":{\"field\":\"TotalCoinSupply\"}},\"id\":\"2261\",\"type\":\"Scatter\"},{\"attributes\":{\"end\":1.042857142857143,\"reset_end\":1.042857142857143,\"reset_start\":-0.04285714285714286,\"start\":-0.04285714285714286,\"tags\":[[[\"TotalCoinsMined\",\"TotalCoinsMined\",null]]]},\"id\":\"2215\",\"type\":\"Range1d\"},{\"attributes\":{\"data\":{\"Class\":[0,0,0,0,0,0,0,0,0,0,0,0,0,0,0,0,0,0,0,0,0,0,0,0,0,0,0,0,0,0,0,0,0,0,0,0,0,0,0,0,0,0,0,0,0,0,0,0,0,0,0,0,0,0,0,0,0,0,0,0,0,0,0,0,0,0,0,0,0,0,0,0,0,0,0,0,0,0,0,0,0,0,0,0,0,0,0,0,0,0,0,0,0,0,0,0,0,0,0,0,0,0,0,0,0,0,0,0,0,0,0,0,0,0,0,0,0,0,0,0,0,0,0,0,0,0,0,0,0,0,0,0,0,0,0,0,0,0,0,0,0,0,0,0,0,0,0,0,0,0,0,0,0,0,0,0,0,0,0,0,0,0,0,0,0,0,0,0,0,0,0,0,0,0,0,0,0,0,0,0,0,0,0,0,0,0,0,0,0,0,0,0,0,0,0,0,0,0,0,0,0,0,0,0,0,0,0,0,0,0,0,0,0,0,0,0,0,0,0,0,0,0,0,0,0,0,0,0,0,0,0,0,0,0,0,0,0,0,0,0,0,0,0,0,0,0,0,0,0,0,0,0,0,0,0,0,0,0,0,0,0,0,0,0,0,0,0,0,0,0,0,0,0,0,0,0,0,0,0,0,0,0,0,0,0,0,0],\"CoinName\":[\"42 Coin\",\"404Coin\",\"EliteCoin\",\"Dash\",\"Bitshares\",\"BitcoinDark\",\"PayCoin\",\"KoboCoin\",\"Aurora Coin\",\"BlueCoin\",\"EnergyCoin\",\"BitBar\",\"CryptoBullion\",\"CasinoCoin\",\"Diamond\",\"Exclusive Coin\",\"FlutterCoin\",\"HoboNickels\",\"HyperStake\",\"IOCoin\",\"MaxCoin\",\"MintCoin\",\"MazaCoin\",\"Nautilus Coin\",\"NavCoin\",\"OpalCoin\",\"Orbitcoin\",\"PotCoin\",\"PhoenixCoin\",\"Reddcoin\",\"SuperCoin\",\"SyncCoin\",\"TeslaCoin\",\"TittieCoin\",\"TorCoin\",\"UnitaryStatus Dollar\",\"UltraCoin\",\"VeriCoin\",\"X11 Coin\",\"Crypti\",\"StealthCoin\",\"ZCC Coin\",\"BurstCoin\",\"StorjCoin\",\"Neutron\",\"FairCoin\",\"RubyCoin\",\"Kore\",\"Dnotes\",\"8BIT Coin\",\"Sativa Coin\",\"Ucoin\",\"Vtorrent\",\"IslaCoin\",\"Nexus\",\"Droidz\",\"Squall Coin\",\"Diggits\",\"Paycon\",\"Emercoin\",\"EverGreenCoin\",\"Decred\",\"EDRCoin\",\"Hitcoin\",\"DubaiCoin\",\"PWR Coin\",\"BillaryCoin\",\"GPU Coin\",\"EuropeCoin\",\"ZeitCoin\",\"SwingCoin\",\"SafeExchangeCoin\",\"Nebuchadnezzar\",\"Ratecoin\",\"Revenu\",\"Clockcoin\",\"VIP Tokens\",\"BitSend\",\"Let it Ride\",\"PutinCoin\",\"iBankCoin\",\"Frankywillcoin\",\"MudraCoin\",\"Lutetium Coin\",\"GoldBlocks\",\"CarterCoin\",\"BitTokens\",\"MustangCoin\",\"ZoneCoin\",\"RootCoin\",\"BitCurrency\",\"Swiscoin\",\"BuzzCoin\",\"Opair\",\"PesoBit\",\"Halloween Coin\",\"CoffeeCoin\",\"RoyalCoin\",\"GanjaCoin V2\",\"TeamUP\",\"LanaCoin\",\"ARK\",\"InsaneCoin\",\"EmberCoin\",\"XenixCoin\",\"FreeCoin\",\"PLNCoin\",\"AquariusCoin\",\"Creatio\",\"Eternity\",\"Eurocoin\",\"BitcoinFast\",\"Stakenet\",\"BitConnect Coin\",\"MoneyCoin\",\"Enigma\",\"Russiacoin\",\"PandaCoin\",\"GameUnits\",\"GAKHcoin\",\"Allsafe\",\"LiteCreed\",\"Klingon Empire Darsek\",\"Internet of People\",\"KushCoin\",\"Printerium\",\"Impeach\",\"Zilbercoin\",\"FirstCoin\",\"FindCoin\",\"OpenChat\",\"RenosCoin\",\"VirtacoinPlus\",\"TajCoin\",\"Impact\",\"Atmos\",\"HappyCoin\",\"MacronCoin\",\"Condensate\",\"Independent Money System\",\"ArgusCoin\",\"LomoCoin\",\"ProCurrency\",\"GoldReserve\",\"GrowthCoin\",\"Phreak\",\"Degas Coin\",\"HTML5 Coin\",\"Ultimate Secure Cash\",\"QTUM\",\"Espers\",\"Denarius\",\"Virta Unique Coin\",\"Bitcoin Planet\",\"BritCoin\",\"Linda\",\"DeepOnion\",\"Signatum\",\"Cream\",\"Monoeci\",\"Draftcoin\",\"Stakecoin\",\"CoinonatX\",\"Ethereum Dark\",\"Obsidian\",\"Cardano\",\"Regalcoin\",\"TrezarCoin\",\"TerraNovaCoin\",\"Rupee\",\"WomenCoin\",\"Theresa May Coin\",\"NamoCoin\",\"LUXCoin\",\"Xios\",\"Bitcloud 2.0\",\"KekCoin\",\"BlackholeCoin\",\"Infinity Economics\",\"Magnet\",\"Lamden Tau\",\"Electra\",\"Bitcoin Diamond\",\"Cash & Back Coin\",\"Bulwark\",\"Kalkulus\",\"GermanCoin\",\"LiteCoin Ultra\",\"PhantomX\",\"Digiwage\",\"Trollcoin\",\"Litecoin Plus\",\"Monkey Project\",\"TokenPay\",\"1717 Masonic Commemorative Token\",\"My Big Coin\",\"Unified Society USDEX\",\"Tokyo Coin\",\"BiblePay\",\"Stipend\",\"Pushi\",\"Ellerium\",\"Velox\",\"Ontology\",\"Bitspace\",\"Briacoin\",\"Ignition\",\"MedicCoin\",\"Bitcoin Green\",\"Deviant Coin\",\"Abjcoin\",\"Semux\",\"Carebit\",\"Zealium\",\"Proton\",\"iDealCash\",\"Bitcoin Incognito\",\"HollyWoodCoin\",\"Swisscoin\",\"Xt3ch\",\"TheVig\",\"EmaratCoin\",\"Dekado\",\"Lynx\",\"Poseidon Quark\",\"BitcoinWSpectrum\",\"Muse\",\"Trivechain\",\"Dystem\",\"Giant\",\"Peony Coin\",\"Absolute Coin\",\"Vitae\",\"TPCash\",\"ARENON\",\"EUNO\",\"MMOCoin\",\"Ketan\",\"XDNA\",\"PAXEX\",\"ThunderStake\",\"Kcash\",\"Bettex coin\",\"BitMoney\",\"Junson Ming Chan Coin\",\"HerbCoin\",\"Oduwa\",\"Galilel\",\"Crypto Sports\",\"Credit\",\"Dash Platinum\",\"Nasdacoin\",\"Beetle Coin\",\"Titan Coin\",\"Award\",\"Insane Coin\",\"ALAX\",\"LiteDoge\",\"TruckCoin\",\"OrangeCoin\",\"BitstarCoin\",\"NeosCoin\",\"HyperCoin\",\"PinkCoin\",\"AudioCoin\",\"IncaKoin\",\"Piggy Coin\",\"Genstake\",\"XiaoMiCoin\",\"CapriCoin\",\" ClubCoin\",\"Radium\",\"Creditbit \",\"OKCash\",\"Lisk\",\"HiCoin\",\"WhiteCoin\",\"FriendshipCoin\",\"Triangles Coin\",\"EOS\",\"Oxycoin\",\"TigerCash\",\"Particl\",\"Nxt\",\"ZEPHYR\",\"Gapcoin\",\"BitcoinPlus\"],\"TotalCoinSupply\":{\"__ndarray__\":\"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\",\"dtype\":\"float64\",\"order\":\"little\",\"shape\":[287]},\"TotalCoinsMined\":{\"__ndarray__\":\"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\",\"dtype\":\"float64\",\"order\":\"little\",\"shape\":[287]}},\"selected\":{\"id\":\"2258\"},\"selection_policy\":{\"id\":\"2272\"}},\"id\":\"2257\",\"type\":\"ColumnDataSource\"},{\"attributes\":{\"fill_color\":{\"value\":\"#fc4f30\"},\"hatch_color\":{\"value\":\"#fc4f30\"},\"line_color\":{\"value\":\"#fc4f30\"},\"size\":{\"value\":5.477225575051661},\"x\":{\"field\":\"TotalCoinsMined\"},\"y\":{\"field\":\"TotalCoinSupply\"}},\"id\":\"2281\",\"type\":\"Scatter\"},{\"attributes\":{\"coordinates\":null,\"data_source\":{\"id\":\"2324\"},\"glyph\":{\"id\":\"2327\"},\"group\":null,\"hover_glyph\":null,\"muted_glyph\":{\"id\":\"2329\"},\"nonselection_glyph\":{\"id\":\"2328\"},\"selection_glyph\":{\"id\":\"2349\"},\"view\":{\"id\":\"2331\"}},\"id\":\"2330\",\"type\":\"GlyphRenderer\"},{\"attributes\":{\"label\":{\"value\":\"0\"},\"renderers\":[{\"id\":\"2263\"}]},\"id\":\"2276\",\"type\":\"LegendItem\"},{\"attributes\":{},\"id\":\"2279\",\"type\":\"Selection\"},{\"attributes\":{\"angle\":{\"value\":0.0},\"fill_alpha\":{\"value\":1.0},\"fill_color\":{\"value\":\"#30a2da\"},\"hatch_alpha\":{\"value\":1.0},\"hatch_color\":{\"value\":\"#30a2da\"},\"hatch_scale\":{\"value\":12.0},\"hatch_weight\":{\"value\":1.0},\"line_alpha\":{\"value\":1.0},\"line_cap\":{\"value\":\"butt\"},\"line_color\":{\"value\":\"#30a2da\"},\"line_dash\":{\"value\":[]},\"line_dash_offset\":{\"value\":0},\"line_join\":{\"value\":\"bevel\"},\"line_width\":{\"value\":1},\"marker\":{\"value\":\"circle\"},\"size\":{\"value\":5.477225575051661},\"x\":{\"field\":\"TotalCoinsMined\"},\"y\":{\"field\":\"TotalCoinSupply\"}},\"id\":\"2277\",\"type\":\"Scatter\"},{\"attributes\":{},\"id\":\"2325\",\"type\":\"Selection\"},{\"attributes\":{\"coordinates\":null,\"data_source\":{\"id\":\"2257\"},\"glyph\":{\"id\":\"2260\"},\"group\":null,\"hover_glyph\":null,\"muted_glyph\":{\"id\":\"2262\"},\"nonselection_glyph\":{\"id\":\"2261\"},\"selection_glyph\":{\"id\":\"2277\"},\"view\":{\"id\":\"2264\"}},\"id\":\"2263\",\"type\":\"GlyphRenderer\"},{\"attributes\":{\"label\":{\"value\":\"3\"},\"renderers\":[{\"id\":\"2330\"}]},\"id\":\"2348\",\"type\":\"LegendItem\"},{\"attributes\":{},\"id\":\"2228\",\"type\":\"LinearScale\"},{\"attributes\":{\"data\":{\"Class\":[2],\"CoinName\":[\"BitTorrent\"],\"TotalCoinSupply\":{\"__ndarray__\":\"rkfhehSu7z8=\",\"dtype\":\"float64\",\"order\":\"little\",\"shape\":[1]},\"TotalCoinsMined\":{\"__ndarray__\":\"AAAAAAAA8D8=\",\"dtype\":\"float64\",\"order\":\"little\",\"shape\":[1]}},\"selected\":{\"id\":\"2301\"},\"selection_policy\":{\"id\":\"2319\"}},\"id\":\"2300\",\"type\":\"ColumnDataSource\"},{\"attributes\":{\"fill_alpha\":{\"value\":0.2},\"fill_color\":{\"value\":\"#6d904f\"},\"hatch_alpha\":{\"value\":0.2},\"hatch_color\":{\"value\":\"#6d904f\"},\"line_alpha\":{\"value\":0.2},\"line_color\":{\"value\":\"#6d904f\"},\"size\":{\"value\":5.477225575051661},\"x\":{\"field\":\"TotalCoinsMined\"},\"y\":{\"field\":\"TotalCoinSupply\"}},\"id\":\"2329\",\"type\":\"Scatter\"},{\"attributes\":{},\"id\":\"2301\",\"type\":\"Selection\"},{\"attributes\":{\"below\":[{\"id\":\"2230\"}],\"center\":[{\"id\":\"2233\"},{\"id\":\"2237\"}],\"height\":300,\"left\":[{\"id\":\"2234\"}],\"margin\":[5,5,5,5],\"min_border_bottom\":10,\"min_border_left\":10,\"min_border_right\":10,\"min_border_top\":10,\"renderers\":[{\"id\":\"2263\"},{\"id\":\"2284\"},{\"id\":\"2306\"},{\"id\":\"2330\"}],\"right\":[{\"id\":\"2275\"}],\"sizing_mode\":\"fixed\",\"title\":{\"id\":\"2222\"},\"toolbar\":{\"id\":\"2244\"},\"width\":700,\"x_range\":{\"id\":\"2215\"},\"x_scale\":{\"id\":\"2226\"},\"y_range\":{\"id\":\"2216\"},\"y_scale\":{\"id\":\"2228\"}},\"id\":\"2221\",\"subtype\":\"Figure\",\"type\":\"Plot\"},{\"attributes\":{\"source\":{\"id\":\"2278\"}},\"id\":\"2285\",\"type\":\"CDSView\"},{\"attributes\":{\"coordinates\":null,\"group\":null,\"text_color\":\"black\",\"text_font_size\":\"12pt\"},\"id\":\"2222\",\"type\":\"Title\"},{\"attributes\":{\"axis_label\":\"TotalCoinsMined\",\"coordinates\":null,\"formatter\":{\"id\":\"2252\"},\"group\":null,\"major_label_policy\":{\"id\":\"2253\"},\"ticker\":{\"id\":\"2231\"}},\"id\":\"2230\",\"type\":\"LinearAxis\"},{\"attributes\":{\"label\":{\"value\":\"1\"},\"renderers\":[{\"id\":\"2284\"}]},\"id\":\"2298\",\"type\":\"LegendItem\"},{\"attributes\":{},\"id\":\"2231\",\"type\":\"BasicTicker\"},{\"attributes\":{\"fill_color\":{\"value\":\"#6d904f\"},\"hatch_color\":{\"value\":\"#6d904f\"},\"line_color\":{\"value\":\"#6d904f\"},\"size\":{\"value\":5.477225575051661},\"x\":{\"field\":\"TotalCoinsMined\"},\"y\":{\"field\":\"TotalCoinSupply\"}},\"id\":\"2327\",\"type\":\"Scatter\"},{\"attributes\":{\"axis\":{\"id\":\"2230\"},\"coordinates\":null,\"grid_line_color\":null,\"group\":null,\"ticker\":null},\"id\":\"2233\",\"type\":\"Grid\"},{\"attributes\":{\"source\":{\"id\":\"2257\"}},\"id\":\"2264\",\"type\":\"CDSView\"},{\"attributes\":{\"coordinates\":null,\"data_source\":{\"id\":\"2300\"},\"glyph\":{\"id\":\"2303\"},\"group\":null,\"hover_glyph\":null,\"muted_glyph\":{\"id\":\"2305\"},\"nonselection_glyph\":{\"id\":\"2304\"},\"selection_glyph\":{\"id\":\"2323\"},\"view\":{\"id\":\"2307\"}},\"id\":\"2306\",\"type\":\"GlyphRenderer\"},{\"attributes\":{},\"id\":\"2239\",\"type\":\"PanTool\"},{\"attributes\":{\"angle\":{\"value\":0.0},\"fill_alpha\":{\"value\":1.0},\"fill_color\":{\"value\":\"#6d904f\"},\"hatch_alpha\":{\"value\":1.0},\"hatch_color\":{\"value\":\"#6d904f\"},\"hatch_scale\":{\"value\":12.0},\"hatch_weight\":{\"value\":1.0},\"line_alpha\":{\"value\":1.0},\"line_cap\":{\"value\":\"butt\"},\"line_color\":{\"value\":\"#6d904f\"},\"line_dash\":{\"value\":[]},\"line_dash_offset\":{\"value\":0},\"line_join\":{\"value\":\"bevel\"},\"line_width\":{\"value\":1},\"marker\":{\"value\":\"circle\"},\"size\":{\"value\":5.477225575051661},\"x\":{\"field\":\"TotalCoinsMined\"},\"y\":{\"field\":\"TotalCoinSupply\"}},\"id\":\"2349\",\"type\":\"Scatter\"},{\"attributes\":{\"axis_label\":\"TotalCoinSupply\",\"coordinates\":null,\"formatter\":{\"id\":\"2255\"},\"group\":null,\"major_label_policy\":{\"id\":\"2256\"},\"ticker\":{\"id\":\"2235\"}},\"id\":\"2234\",\"type\":\"LinearAxis\"},{\"attributes\":{\"axis\":{\"id\":\"2234\"},\"coordinates\":null,\"dimension\":1,\"grid_line_color\":null,\"group\":null,\"ticker\":null},\"id\":\"2237\",\"type\":\"Grid\"},{\"attributes\":{},\"id\":\"2235\",\"type\":\"BasicTicker\"},{\"attributes\":{\"label\":{\"value\":\"2\"},\"renderers\":[{\"id\":\"2306\"}]},\"id\":\"2322\",\"type\":\"LegendItem\"},{\"attributes\":{\"fill_color\":{\"value\":\"#30a2da\"},\"hatch_color\":{\"value\":\"#30a2da\"},\"line_color\":{\"value\":\"#30a2da\"},\"size\":{\"value\":5.477225575051661},\"x\":{\"field\":\"TotalCoinsMined\"},\"y\":{\"field\":\"TotalCoinSupply\"}},\"id\":\"2260\",\"type\":\"Scatter\"},{\"attributes\":{\"fill_alpha\":{\"value\":0.2},\"fill_color\":{\"value\":\"#e5ae38\"},\"hatch_alpha\":{\"value\":0.2},\"hatch_color\":{\"value\":\"#e5ae38\"},\"line_alpha\":{\"value\":0.2},\"line_color\":{\"value\":\"#e5ae38\"},\"size\":{\"value\":5.477225575051661},\"x\":{\"field\":\"TotalCoinsMined\"},\"y\":{\"field\":\"TotalCoinSupply\"}},\"id\":\"2305\",\"type\":\"Scatter\"},{\"attributes\":{},\"id\":\"2240\",\"type\":\"WheelZoomTool\"},{\"attributes\":{\"fill_alpha\":{\"value\":0.1},\"fill_color\":{\"value\":\"#fc4f30\"},\"hatch_alpha\":{\"value\":0.1},\"hatch_color\":{\"value\":\"#fc4f30\"},\"line_alpha\":{\"value\":0.1},\"line_color\":{\"value\":\"#fc4f30\"},\"size\":{\"value\":5.477225575051661},\"x\":{\"field\":\"TotalCoinsMined\"},\"y\":{\"field\":\"TotalCoinSupply\"}},\"id\":\"2282\",\"type\":\"Scatter\"},{\"attributes\":{},\"id\":\"2272\",\"type\":\"UnionRenderers\"},{\"attributes\":{},\"id\":\"2238\",\"type\":\"SaveTool\"},{\"attributes\":{\"overlay\":{\"id\":\"2243\"}},\"id\":\"2241\",\"type\":\"BoxZoomTool\"},{\"attributes\":{\"fill_alpha\":{\"value\":0.2},\"fill_color\":{\"value\":\"#fc4f30\"},\"hatch_alpha\":{\"value\":0.2},\"hatch_color\":{\"value\":\"#fc4f30\"},\"line_alpha\":{\"value\":0.2},\"line_color\":{\"value\":\"#fc4f30\"},\"size\":{\"value\":5.477225575051661},\"x\":{\"field\":\"TotalCoinsMined\"},\"y\":{\"field\":\"TotalCoinSupply\"}},\"id\":\"2283\",\"type\":\"Scatter\"},{\"attributes\":{},\"id\":\"2242\",\"type\":\"ResetTool\"},{\"attributes\":{\"fill_color\":{\"value\":\"#e5ae38\"},\"hatch_color\":{\"value\":\"#e5ae38\"},\"line_color\":{\"value\":\"#e5ae38\"},\"size\":{\"value\":5.477225575051661},\"x\":{\"field\":\"TotalCoinsMined\"},\"y\":{\"field\":\"TotalCoinSupply\"}},\"id\":\"2303\",\"type\":\"Scatter\"},{\"attributes\":{\"coordinates\":null,\"data_source\":{\"id\":\"2278\"},\"glyph\":{\"id\":\"2281\"},\"group\":null,\"hover_glyph\":null,\"muted_glyph\":{\"id\":\"2283\"},\"nonselection_glyph\":{\"id\":\"2282\"},\"selection_glyph\":{\"id\":\"2299\"},\"view\":{\"id\":\"2285\"}},\"id\":\"2284\",\"type\":\"GlyphRenderer\"},{\"attributes\":{\"data\":{\"Class\":[3,3,3,3,3,3,3,3,3,3,3,3,3,3,3,3,3,3,3,3,3,3,3,3,3,3,3,3,3,3,3,3,3,3,3,3,3,3,3,3,3,3,3,3,3,3,3,3,3,3,3,3,3,3,3,3,3,3,3,3,3,3,3,3,3,3,3,3,3,3,3,3,3,3,3,3,3,3,3,3,3,3,3,3,3,3,3,3,3,3,3,3,3,3,3,3,3,3,3,3,3,3,3,3,3,3,3,3,3,3,3,3,3,3,3,3,3,3,3,3,3,3,3,3,3,3,3,3,3,3,3,3,3,3,3,3,3,3,3,3,3,3,3,3,3,3,3,3,3,3,3,3,3,3,3,3,3,3,3,3,3,3,3,3,3,3,3,3,3,3,3,3,3,3,3,3,3,3,3,3,3,3,3,3,3,3,3,3,3,3,3,3,3,3,3,3,3,3,3,3,3,3,3,3,3,3,3,3,3,3,3,3,3,3,3,3,3,3,3,3,3,3,3,3,3,3,3,3,3,3,3,3,3,3,3,3,3,3,3],\"CoinName\":[\"Bitcoin\",\"Ethereum\",\"Litecoin\",\"Monero\",\"Ethereum Classic\",\"ZCash\",\"DigiByte\",\"ProsperCoin\",\"Spreadcoin\",\"Argentum\",\"MyriadCoin\",\"MoonCoin\",\"ZetaCoin\",\"SexCoin\",\"Quatloo\",\"QuarkCoin\",\"Riecoin\",\"Digitalcoin \",\"Catcoin\",\"CannaCoin\",\"CryptCoin\",\"Verge\",\"DevCoin\",\"EarthCoin\",\"E-Gulden\",\"Einsteinium\",\"Emerald\",\"Franko\",\"FeatherCoin\",\"GrandCoin\",\"GlobalCoin\",\"GoldCoin\",\"Infinite Coin\",\"IXcoin\",\"KrugerCoin\",\"LuckyCoin\",\"Litebar \",\"MegaCoin\",\"MediterraneanCoin\",\"MinCoin\",\"NobleCoin\",\"Namecoin\",\"NyanCoin\",\"RonPaulCoin\",\"StableCoin\",\"SmartCoin\",\"SysCoin\",\"TigerCoin\",\"TerraCoin\",\"UnbreakableCoin\",\"Unobtanium\",\"UroCoin\",\"ViaCoin\",\"Vertcoin\",\"WorldCoin\",\"JouleCoin\",\"ByteCoin\",\"DigitalNote \",\"MonaCoin\",\"Gulden\",\"PesetaCoin\",\"Wild Beast Coin\",\"Flo\",\"ArtByte\",\"Folding Coin\",\"Unitus\",\"CypherPunkCoin\",\"OmniCron\",\"GreenCoin\",\"Cryptonite\",\"MasterCoin\",\"SoonCoin\",\"1Credit\",\"MarsCoin \",\"Crypto\",\"Anarchists Prime\",\"BowsCoin\",\"Song Coin\",\"BitZeny\",\"Expanse\",\"Siacoin\",\"MindCoin\",\"I0coin\",\"Revolution VR\",\"HOdlcoin\",\"Gamecredits\",\"CarpeDiemCoin\",\"Adzcoin\",\"SoilCoin\",\"YoCoin\",\"SibCoin\",\"Francs\",\"BolivarCoin\",\"Omni\",\"PizzaCoin\",\"Komodo\",\"Karbo\",\"ZayedCoin\",\"Circuits of Value\",\"DopeCoin\",\"DollarCoin\",\"Shilling\",\"ZCoin\",\"Elementrem\",\"ZClassic\",\"KiloCoin\",\"ArtexCoin\",\"Kurrent\",\"Cannabis Industry Coin\",\"OsmiumCoin\",\"Bikercoins\",\"HexxCoin\",\"PacCoin\",\"Citadel\",\"BeaverCoin\",\"VaultCoin\",\"Zero\",\"Canada eCoin\",\"Zoin\",\"DubaiCoin\",\"EB3coin\",\"Coinonat\",\"BenjiRolls\",\"ILCoin\",\"EquiTrader\",\"Quantum Resistant Ledger\",\"Dynamic\",\"Nano\",\"ChanCoin\",\"Dinastycoin\",\"DigitalPrice\",\"Unify\",\"SocialCoin\",\"ArcticCoin\",\"DAS\",\"LeviarCoin\",\"Bitcore\",\"gCn Coin\",\"SmartCash\",\"Onix\",\"Bitcoin Cash\",\"Sojourn Coin\",\"NewYorkCoin\",\"FrazCoin\",\"Kronecoin\",\"AdCoin\",\"Linx\",\"Sumokoin\",\"BitcoinZ\",\"Elements\",\"VIVO Coin\",\"Bitcoin Gold\",\"Pirl\",\"eBoost\",\"Pura\",\"Innova\",\"Ellaism\",\"GoByte\",\"SHIELD\",\"UltraNote\",\"BitCoal\",\"DaxxCoin\",\"AC3\",\"Lethean\",\"PopularCoin\",\"Photon\",\"Sucre\",\"SparksPay\",\"GunCoin\",\"IrishCoin\",\"Pioneer Coin\",\"UnitedBitcoin\",\"Interzone\",\"TurtleCoin\",\"MUNcoin\",\"Niobio Cash\",\"ShareChain\",\"Travelflex\",\"KREDS\",\"BitFlip\",\"LottoCoin\",\"Crypto Improvement Fund\",\"Callisto Network\",\"BitTube\",\"Poseidon\",\"Aidos Kuneen\",\"Bitrolium\",\"Alpenschillling\",\"FuturoCoin\",\"Monero Classic\",\"Jumpcoin\",\"Infinex\",\"KEYCO\",\"GINcoin\",\"PlatinCoin\",\"Loki\",\"Newton Coin\",\"MassGrid\",\"PluraCoin\",\"Motion\",\"PlusOneCoin\",\"Axe\",\"HexCoin\",\"Webchain\",\"Ryo\",\"Urals Coin\",\"Qwertycoin\",\"Project Pai\",\"Azart\",\"Xchange\",\"CrypticCoin\",\"Actinium\",\"Bitcoin SV\",\"FREDEnergy\",\"Universal Molecule\",\"Lithium\",\"PirateCash\",\"Exosis\",\"Block-Logic\",\"Beam\",\"Bithereum\",\"SLICE\",\"BLAST\",\"Bitcoin Rhodium\",\"GlobalToken\",\"SolarCoin\",\"UFO Coin\",\"BlakeCoin\",\"Crypto Escudo\",\"Crown Coin\",\"SmileyCoin\",\"Groestlcoin\",\"Bata\",\"Pakcoin\",\"JoinCoin\",\"Vollar\",\"Reality Clash\",\"Beldex\",\"Horizen\"],\"TotalCoinSupply\":{\"__ndarray__\":\"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\",\"dtype\":\"float64\",\"order\":\"little\",\"shape\":[239]},\"TotalCoinsMined\":{\"__ndarray__\":\"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\",\"dtype\":\"float64\",\"order\":\"little\",\"shape\":[239]}},\"selected\":{\"id\":\"2325\"},\"selection_policy\":{\"id\":\"2345\"}},\"id\":\"2324\",\"type\":\"ColumnDataSource\"},{\"attributes\":{},\"id\":\"2295\",\"type\":\"UnionRenderers\"}],\"root_ids\":[\"2214\"]},\"title\":\"Bokeh Application\",\"version\":\"2.4.3\"}};\n",
       "    var render_items = [{\"docid\":\"3dfbcfbb-51dd-4b3a-b032-e9375278258c\",\"root_ids\":[\"2214\"],\"roots\":{\"2214\":\"599e89c9-d167-4449-b507-3d9cb48092e8\"}}];\n",
       "    root.Bokeh.embed.embed_items_notebook(docs_json, render_items);\n",
       "    for (const render_item of render_items) {\n",
       "      for (const root_id of render_item.root_ids) {\n",
       "\tconst id_el = document.getElementById(root_id)\n",
       "\tif (id_el.children.length && (id_el.children[0].className === 'bk-root')) {\n",
       "\t  const root_el = id_el.children[0]\n",
       "\t  root_el.id = root_el.id + '-rendered'\n",
       "\t}\n",
       "      }\n",
       "    }\n",
       "  }\n",
       "  if (root.Bokeh !== undefined && root.Bokeh.Panel !== undefined) {\n",
       "    embed_document(root);\n",
       "  } else {\n",
       "    var attempts = 0;\n",
       "    var timer = setInterval(function(root) {\n",
       "      if (root.Bokeh !== undefined && root.Bokeh.Panel !== undefined) {\n",
       "        clearInterval(timer);\n",
       "        embed_document(root);\n",
       "      } else if (document.readyState == \"complete\") {\n",
       "        attempts++;\n",
       "        if (attempts > 200) {\n",
       "          clearInterval(timer);\n",
       "          console.log(\"Bokeh: ERROR: Unable to run BokehJS code because BokehJS library is missing\");\n",
       "        }\n",
       "      }\n",
       "    }, 25, root)\n",
       "  }\n",
       "})(window);</script>"
      ],
      "text/plain": [
       ":NdOverlay   [Class]\n",
       "   :Scatter   [TotalCoinsMined]   (TotalCoinSupply,CoinName)"
      ]
     },
     "execution_count": 69,
     "metadata": {
      "application/vnd.holoviews_exec.v0+json": {
       "id": "2214"
      }
     },
     "output_type": "execute_result"
    }
   ],
   "source": [
    "# Create a hvplot.scatter plot using x=\"TotalCoinsMined\" and y=\"TotalCoinSupply\".\n",
    "plots_df.hvplot.scatter(\n",
    "    x=\"TotalCoinsMined\",\n",
    "    y=\"TotalCoinSupply\",\n",
    "    by = \"Class\",\n",
    "    hover_cols = \"CoinName\"\n",
    ")\n",
    "\n"
   ]
  },
  {
   "cell_type": "code",
   "execution_count": null,
   "metadata": {},
   "outputs": [],
   "source": []
  }
 ],
 "metadata": {
  "file_extension": ".py",
  "kernelspec": {
   "display_name": "Python 3 (ipykernel)",
   "language": "python",
   "name": "python3"
  },
  "language_info": {
   "codemirror_mode": {
    "name": "ipython",
    "version": 3
   },
   "file_extension": ".py",
   "mimetype": "text/x-python",
   "name": "python",
   "nbconvert_exporter": "python",
   "pygments_lexer": "ipython3",
   "version": "3.9.16"
  },
  "latex_envs": {
   "LaTeX_envs_menu_present": true,
   "autoclose": false,
   "autocomplete": true,
   "bibliofile": "biblio.bib",
   "cite_by": "apalike",
   "current_citInitial": 1,
   "eqLabelWithNumbers": true,
   "eqNumInitial": 1,
   "hotkeys": {
    "equation": "Ctrl-E",
    "itemize": "Ctrl-I"
   },
   "labels_anchors": false,
   "latex_user_defs": false,
   "report_style_numbering": false,
   "user_envs_cfg": false
  },
  "mimetype": "text/x-python",
  "name": "python",
  "npconvert_exporter": "python",
  "pygments_lexer": "ipython3",
  "version": 3
 },
 "nbformat": 4,
 "nbformat_minor": 2
}
